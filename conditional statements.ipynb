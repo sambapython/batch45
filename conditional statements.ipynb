{
 "cells": [
  {
   "cell_type": "code",
   "execution_count": 1,
   "metadata": {},
   "outputs": [
    {
     "name": "stdout",
     "output_type": "stream",
     "text": [
      "program started\n",
      "Enter a value:12\n",
      "enter b value:56\n",
      "a is big\n",
      "b is big\n",
      "other statements in program\n",
      "program ended\n"
     ]
    }
   ],
   "source": [
    "print \"program started\"\n",
    "a=raw_input(\"Enter a value:\")\n",
    "b=raw_input(\"enter b value:\")\n",
    "a=int(a)\n",
    "b=int(b)\n",
    "print \"a is big\"\n",
    "print \"b is big\"\n",
    "\n",
    "\n",
    "print \"other statements in program\"\n",
    "print \"program ended\""
   ]
  },
  {
   "cell_type": "code",
   "execution_count": 2,
   "metadata": {},
   "outputs": [
    {
     "name": "stdout",
     "output_type": "stream",
     "text": [
      "program started\n",
      "Enter a value:23\n",
      "enter b value:45\n",
      "False\n",
      "b is big\n",
      "other statements in program\n",
      "program ended\n"
     ]
    }
   ],
   "source": [
    "print \"program started\"\n",
    "a=raw_input(\"Enter a value:\")\n",
    "b=raw_input(\"enter b value:\")\n",
    "a=int(a)\n",
    "b=int(b)\n",
    "print a>b\n",
    "if a>b:\n",
    "    print \"a is big\"\n",
    "else:\n",
    "    print \"b is big\"\n",
    "print \"other statements in program\"\n",
    "print \"program ended\""
   ]
  },
  {
   "cell_type": "code",
   "execution_count": 3,
   "metadata": {},
   "outputs": [
    {
     "name": "stdout",
     "output_type": "stream",
     "text": [
      "program started\n",
      "Enter a value:12\n",
      "enter b value:34\n",
      "False\n",
      "b is big\n",
      "other statements in program\n",
      "program ended\n"
     ]
    }
   ],
   "source": [
    "print \"program started\"\n",
    "a=raw_input(\"Enter a value:\")\n",
    "b=raw_input(\"enter b value:\")\n",
    "a=int(a)\n",
    "b=int(b)\n",
    "print a>b\n",
    "if a>b:\n",
    " print \"a is big\"\n",
    "else:\n",
    " print \"b is big\"\n",
    "print \"other statements in program\"\n",
    "print \"program ended\""
   ]
  },
  {
   "cell_type": "code",
   "execution_count": 4,
   "metadata": {},
   "outputs": [
    {
     "name": "stdout",
     "output_type": "stream",
     "text": [
      "program started\n",
      "Enter a value:34\n",
      "enter b value:12\n",
      "True\n",
      "a is big\n",
      "other statements in program\n",
      "program ended\n"
     ]
    }
   ],
   "source": [
    "print \"program started\"\n",
    "a=raw_input(\"Enter a value:\")\n",
    "b=raw_input(\"enter b value:\")\n",
    "a=int(a)\n",
    "b=int(b)\n",
    "print a>b\n",
    "if a>b:\n",
    "  print \"a is big\"\n",
    "else:\n",
    "  print \"b is big\"\n",
    "print \"other statements in program\"\n",
    "print \"program ended\""
   ]
  },
  {
   "cell_type": "code",
   "execution_count": 5,
   "metadata": {},
   "outputs": [
    {
     "name": "stdout",
     "output_type": "stream",
     "text": [
      "program started\n",
      "Enter a value:12\n",
      "enter b value:34\n",
      "False\n",
      "else block evaluated\n",
      "b is big\n",
      "else block ended\n",
      "other statements in program\n",
      "program ended\n"
     ]
    }
   ],
   "source": [
    "print \"program started\"\n",
    "a=raw_input(\"Enter a value:\")\n",
    "b=raw_input(\"enter b value:\")\n",
    "a=int(a)\n",
    "b=int(b)\n",
    "print a>b\n",
    "if a>b:\n",
    "    print \"if block evaluatiing\"\n",
    "    print \"a is big\"\n",
    "    print \"if block ended\"\n",
    "else:\n",
    "    print \"else block evaluated\"\n",
    "    print \"b is big\"\n",
    "    print \"else block ended\"\n",
    "print \"other statements in program\"\n",
    "print \"program ended\""
   ]
  },
  {
   "cell_type": "code",
   "execution_count": 6,
   "metadata": {},
   "outputs": [
    {
     "ename": "IndentationError",
     "evalue": "unexpected indent (<ipython-input-6-054613b23d94>, line 9)",
     "output_type": "error",
     "traceback": [
      "\u001b[0;36m  File \u001b[0;32m\"<ipython-input-6-054613b23d94>\"\u001b[0;36m, line \u001b[0;32m9\u001b[0m\n\u001b[0;31m    print \"a is big\"\u001b[0m\n\u001b[0m    ^\u001b[0m\n\u001b[0;31mIndentationError\u001b[0m\u001b[0;31m:\u001b[0m unexpected indent\n"
     ]
    }
   ],
   "source": [
    "print \"program started\"\n",
    "a=raw_input(\"Enter a value:\")\n",
    "b=raw_input(\"enter b value:\")\n",
    "a=int(a)\n",
    "b=int(b)\n",
    "print a>b\n",
    "if a>b:\n",
    " print \"if block evaluatiing\"\n",
    "    print \"a is big\"\n",
    "    print \"if block ended\"\n",
    "else:\n",
    "    print \"else block evaluated\"\n",
    "    print \"b is big\"\n",
    "    print \"else block ended\"\n",
    "print \"other statements in program\"\n",
    "print \"program ended\""
   ]
  },
  {
   "cell_type": "code",
   "execution_count": 7,
   "metadata": {},
   "outputs": [
    {
     "name": "stdout",
     "output_type": "stream",
     "text": [
      "program started\n",
      "Enter a value:12\n",
      "enter b value:34\n",
      "False\n",
      "else block evaluated\n",
      "b is big\n",
      "else block ended\n",
      "other statements in program\n",
      "program ended\n"
     ]
    }
   ],
   "source": [
    "print \"program started\"\n",
    "a=raw_input(\"Enter a value:\")\n",
    "b=raw_input(\"enter b value:\")\n",
    "a=int(a)\n",
    "b=int(b)\n",
    "print a>b\n",
    "if a>b:\n",
    " print \"if block evaluatiing\"\n",
    " print \"a is big\"\n",
    " print \"if block ended\"\n",
    "else:\n",
    "    print \"else block evaluated\"\n",
    "    print \"b is big\"\n",
    "    print \"else block ended\"\n",
    "print \"other statements in program\"\n",
    "print \"program ended\""
   ]
  },
  {
   "cell_type": "code",
   "execution_count": 8,
   "metadata": {},
   "outputs": [
    {
     "name": "stdout",
     "output_type": "stream",
     "text": [
      "program started\n",
      "Enter a value:12\n",
      "enter b value:34\n",
      "False\n",
      "else block evaluated\n",
      "b is big\n",
      "else block ended\n",
      "other statements in program\n",
      "program ended\n"
     ]
    }
   ],
   "source": [
    "print \"program started\"\n",
    "a=raw_input(\"Enter a value:\")\n",
    "b=raw_input(\"enter b value:\")\n",
    "a=int(a)\n",
    "b=int(b)\n",
    "print a>b\n",
    "if a>b:\n",
    "    print \"if block evaluatiing\"\n",
    "    print \"a is big\"\n",
    "    print \"if block ended\"\n",
    "else:\n",
    "    print \"else block evaluated\"\n",
    "    print \"b is big\"\n",
    "    print \"else block ended\"\n",
    "print \"other statements in program\"\n",
    "print \"program ended\""
   ]
  },
  {
   "cell_type": "code",
   "execution_count": 9,
   "metadata": {},
   "outputs": [
    {
     "name": "stdout",
     "output_type": "stream",
     "text": [
      "program started\n",
      "Enter a value:34\n",
      "enter b value:12\n",
      "True\n",
      "if block evaluatiing\n",
      "a is big\n",
      "if block ended\n",
      "other statements in program\n",
      "program ended\n"
     ]
    }
   ],
   "source": [
    "print \"program started\"\n",
    "a=raw_input(\"Enter a value:\")\n",
    "b=raw_input(\"enter b value:\")\n",
    "a=int(a)\n",
    "b=int(b)\n",
    "print a>b\n",
    "if a>b:\n",
    "    print \"if block evaluatiing\"\n",
    "    print \"a is big\"\n",
    "    print \"if block ended\"\n",
    "\n",
    "print \"other statements in program\"\n",
    "print \"program ended\""
   ]
  },
  {
   "cell_type": "code",
   "execution_count": 10,
   "metadata": {},
   "outputs": [
    {
     "name": "stdout",
     "output_type": "stream",
     "text": [
      "program started\n",
      "Enter a value:12\n",
      "enter b value:34\n",
      "False\n",
      "other statements in program\n",
      "program ended\n"
     ]
    }
   ],
   "source": [
    "print \"program started\"\n",
    "a=raw_input(\"Enter a value:\")\n",
    "b=raw_input(\"enter b value:\")\n",
    "a=int(a)\n",
    "b=int(b)\n",
    "print a>b\n",
    "if a>b:\n",
    "    print \"if block evaluatiing\"\n",
    "    print \"a is big\"\n",
    "    print \"if block ended\"\n",
    "\n",
    "print \"other statements in program\"\n",
    "print \"program ended\""
   ]
  },
  {
   "cell_type": "code",
   "execution_count": 11,
   "metadata": {},
   "outputs": [
    {
     "ename": "SyntaxError",
     "evalue": "invalid syntax (<ipython-input-11-e8ba5839b327>, line 7)",
     "output_type": "error",
     "traceback": [
      "\u001b[0;36m  File \u001b[0;32m\"<ipython-input-11-e8ba5839b327>\"\u001b[0;36m, line \u001b[0;32m7\u001b[0m\n\u001b[0;31m    else:\u001b[0m\n\u001b[0m       ^\u001b[0m\n\u001b[0;31mSyntaxError\u001b[0m\u001b[0;31m:\u001b[0m invalid syntax\n"
     ]
    }
   ],
   "source": [
    "print \"program started\"\n",
    "a=raw_input(\"Enter a value:\")\n",
    "b=raw_input(\"enter b value:\")\n",
    "a=int(a)\n",
    "b=int(b)\n",
    "print a>b\n",
    "else:\n",
    "    print \"else block evaluated\"\n",
    "    print \"b is big\"\n",
    "    print \"else block ended\"\n",
    "print \"other statements in program\"\n",
    "print \"program ended\""
   ]
  },
  {
   "cell_type": "code",
   "execution_count": 12,
   "metadata": {},
   "outputs": [
    {
     "ename": "SyntaxError",
     "evalue": "invalid syntax (<ipython-input-12-ec624d3b6ca7>, line 11)",
     "output_type": "error",
     "traceback": [
      "\u001b[0;36m  File \u001b[0;32m\"<ipython-input-12-ec624d3b6ca7>\"\u001b[0;36m, line \u001b[0;32m11\u001b[0m\n\u001b[0;31m    else:\u001b[0m\n\u001b[0m       ^\u001b[0m\n\u001b[0;31mSyntaxError\u001b[0m\u001b[0;31m:\u001b[0m invalid syntax\n"
     ]
    }
   ],
   "source": [
    "print \"program started\"\n",
    "a=raw_input(\"Enter a value:\")\n",
    "b=raw_input(\"enter b value:\")\n",
    "a=int(a)\n",
    "b=int(b)\n",
    "print a>b\n",
    "if a>b:\n",
    "    print \"if block evaluatiing\"\n",
    "    print \"a is big\"\n",
    "print \"if block ended\"\n",
    "\n",
    "else:\n",
    "    print \"else block evaluated\"\n",
    "    print \"b is big\"\n",
    "    print \"else block ended\"\n",
    "print \"other statements in program\"\n",
    "print \"program ended\""
   ]
  },
  {
   "cell_type": "code",
   "execution_count": 13,
   "metadata": {},
   "outputs": [
    {
     "ename": "IndentationError",
     "evalue": "unexpected indent (<ipython-input-13-33b16e5c6d28>, line 7)",
     "output_type": "error",
     "traceback": [
      "\u001b[0;36m  File \u001b[0;32m\"<ipython-input-13-33b16e5c6d28>\"\u001b[0;36m, line \u001b[0;32m7\u001b[0m\n\u001b[0;31m    if a>b:\u001b[0m\n\u001b[0m    ^\u001b[0m\n\u001b[0;31mIndentationError\u001b[0m\u001b[0;31m:\u001b[0m unexpected indent\n"
     ]
    }
   ],
   "source": [
    "print \"program started\"\n",
    "a=raw_input(\"Enter a value:\")\n",
    "b=raw_input(\"enter b value:\")\n",
    "a=int(a)\n",
    "b=int(b)\n",
    "print a>b\n",
    "    if a>b:\n",
    "        print \"if block evaluatiing\"\n",
    "        print \"a is big\"\n",
    "        print \"if block ended\"\n",
    "    else:\n",
    "        print \"else block evaluated\"\n",
    "        print \"b is big\"\n",
    "        print \"else block ended\"\n",
    "print \"other statements in program\"\n",
    "print \"program ended\""
   ]
  },
  {
   "cell_type": "code",
   "execution_count": 14,
   "metadata": {},
   "outputs": [
    {
     "name": "stdout",
     "output_type": "stream",
     "text": [
      "sdfdsf\n"
     ]
    }
   ],
   "source": [
    "    print \"sdfdsf\""
   ]
  },
  {
   "cell_type": "code",
   "execution_count": 15,
   "metadata": {},
   "outputs": [
    {
     "ename": "IndentationError",
     "evalue": "unexpected indent (<ipython-input-15-64d316cd9d61>, line 2)",
     "output_type": "error",
     "traceback": [
      "\u001b[0;36m  File \u001b[0;32m\"<ipython-input-15-64d316cd9d61>\"\u001b[0;36m, line \u001b[0;32m2\u001b[0m\n\u001b[0;31m    print \"dsafsdfdsfsd\"\u001b[0m\n\u001b[0m    ^\u001b[0m\n\u001b[0;31mIndentationError\u001b[0m\u001b[0;31m:\u001b[0m unexpected indent\n"
     ]
    }
   ],
   "source": [
    "print \"sdfdsfsd\"\n",
    "    print \"dsafsdfdsfsd\"\n",
    "print \"sdafsdfsdf\""
   ]
  },
  {
   "cell_type": "code",
   "execution_count": 16,
   "metadata": {},
   "outputs": [
    {
     "name": "stdout",
     "output_type": "stream",
     "text": [
      "sdfdsf\n",
      "sdfdsf\n"
     ]
    }
   ],
   "source": [
    "    print \"sdfdsf\"\n",
    "    print \"sdfdsf\""
   ]
  },
  {
   "cell_type": "code",
   "execution_count": 17,
   "metadata": {},
   "outputs": [
    {
     "name": "stdout",
     "output_type": "stream",
     "text": [
      "program started\n",
      "Enter a value:12\n",
      "enter b value:34\n",
      "Enter c value:24\n",
      "b is big\n",
      "other statements in program\n",
      "program ended\n"
     ]
    }
   ],
   "source": [
    "print \"program started\"\n",
    "a=raw_input(\"Enter a value:\")\n",
    "b=raw_input(\"enter b value:\")\n",
    "c=raw_input(\"Enter c value:\")\n",
    "a=int(a)\n",
    "b=int(b)\n",
    "c=int(c)\n",
    "if a>b and a>c:\n",
    "    print \" a is big\"\n",
    "if b>c and b>a:\n",
    "    print \"b is big\"\n",
    "if c>a and c>b:\n",
    "    print \"c is big\"\n",
    "\n",
    "print \"other statements in program\"\n",
    "print \"program ended\""
   ]
  },
  {
   "cell_type": "code",
   "execution_count": 18,
   "metadata": {},
   "outputs": [
    {
     "name": "stdout",
     "output_type": "stream",
     "text": [
      "Fruits menu:\n",
      "1. Mango\n",
      "2. apple\n",
      "3. abnana\n"
     ]
    }
   ],
   "source": [
    "\"\"\"\n",
    "Fruits menu:\n",
    "1. Mango\n",
    "2. apple\n",
    "3. abnana\n",
    "\"\"\"\n",
    "print \"Fruits menu:\\n1. Mango\\n2. apple\\n3. abnana\""
   ]
  },
  {
   "cell_type": "code",
   "execution_count": 19,
   "metadata": {},
   "outputs": [
    {
     "name": "stdout",
     "output_type": "stream",
     "text": [
      "\n",
      "Fruits menu:\n",
      "1. Mango\n",
      "2. apple\n",
      "3. abnana\n",
      "\n"
     ]
    }
   ],
   "source": [
    "print \"\"\"\n",
    "Fruits menu:\n",
    "1. Mango\n",
    "2. apple\n",
    "3. abnana\n",
    "\"\"\""
   ]
  },
  {
   "cell_type": "code",
   "execution_count": 20,
   "metadata": {},
   "outputs": [
    {
     "name": "stdout",
     "output_type": "stream",
     "text": [
      "\n",
      "Fruits menu:\n",
      "1. Mango\n",
      "2. apple\n",
      "3. abnana\n",
      "\n"
     ]
    }
   ],
   "source": [
    "print '''\n",
    "Fruits menu:\n",
    "1. Mango\n",
    "2. apple\n",
    "3. abnana\n",
    "'''"
   ]
  },
  {
   "cell_type": "code",
   "execution_count": 21,
   "metadata": {},
   "outputs": [
    {
     "name": "stdout",
     "output_type": "stream",
     "text": [
      "\n",
      "Fruits menu:\n",
      "\n",
      "1. Mango\n",
      "2. apple\n",
      "3. abnana\n",
      "\n"
     ]
    }
   ],
   "source": [
    "print '''\n",
    "Fruits menu:\\n\n",
    "1. Mango\n",
    "2. apple\n",
    "3. abnana\n",
    "'''"
   ]
  },
  {
   "cell_type": "code",
   "execution_count": 22,
   "metadata": {},
   "outputs": [
    {
     "name": "stdout",
     "output_type": "stream",
     "text": [
      "\n",
      "Fruits menu:\n",
      "\n",
      "1. Mango\n",
      "2. apple\n",
      "3. abnana: 1234\n",
      "\n"
     ]
    }
   ],
   "source": [
    "print '''\n",
    "Fruits menu:\\n\n",
    "1. Mango\n",
    "2. apple\n",
    "3. abnana: %s\n",
    "'''%1234"
   ]
  },
  {
   "cell_type": "code",
   "execution_count": 23,
   "metadata": {},
   "outputs": [
    {
     "ename": "SyntaxError",
     "evalue": "EOL while scanning string literal (<ipython-input-23-b32687b3981c>, line 7)",
     "output_type": "error",
     "traceback": [
      "\u001b[0;36m  File \u001b[0;32m\"<ipython-input-23-b32687b3981c>\"\u001b[0;36m, line \u001b[0;32m7\u001b[0m\n\u001b[0;31m    print \"Fruits menu:\u001b[0m\n\u001b[0m                      ^\u001b[0m\n\u001b[0;31mSyntaxError\u001b[0m\u001b[0;31m:\u001b[0m EOL while scanning string literal\n"
     ]
    }
   ],
   "source": [
    "\"\"\"\n",
    "Fruits menu:\n",
    "1. Mango\n",
    "2. apple\n",
    "3. abnana\n",
    "\"\"\"\n",
    "print \"Fruits menu:\n",
    "1. Mango\n",
    "2. apple\n",
    "3. abnana\""
   ]
  },
  {
   "cell_type": "code",
   "execution_count": 24,
   "metadata": {},
   "outputs": [
    {
     "name": "stdout",
     "output_type": "stream",
     "text": [
      "Fruits menu:1. Mango2. apple3. abnana\n"
     ]
    }
   ],
   "source": [
    "\"\"\"\n",
    "Fruits menu:\n",
    "1. Mango\n",
    "2. apple\n",
    "3. abnana\n",
    "\"\"\"\n",
    "print \"Fruits menu:\\\n",
    "1. Mango\\\n",
    "2. apple\\\n",
    "3. abnana\""
   ]
  },
  {
   "cell_type": "code",
   "execution_count": 25,
   "metadata": {},
   "outputs": [
    {
     "name": "stdout",
     "output_type": "stream",
     "text": [
      "Fruits menu:\n",
      "1. Mango\n",
      "2. apple\n",
      "3. abnana\n"
     ]
    }
   ],
   "source": [
    "\"\"\"\n",
    "Fruits menu:\n",
    "1. Mango\n",
    "2. apple\n",
    "3. abnana\n",
    "\"\"\"\n",
    "print \"Fruits menu:\\n\\\n",
    "1. Mango\\n\\\n",
    "2. apple\\n\\\n",
    "3. abnana\""
   ]
  },
  {
   "cell_type": "code",
   "execution_count": 27,
   "metadata": {},
   "outputs": [
    {
     "name": "stdout",
     "output_type": "stream",
     "text": [
      "Fruits menu:\n",
      "1. Mango\n",
      "2. apple\n",
      "3. abnana\n",
      "Enter an option:2\n",
      "2\n"
     ]
    }
   ],
   "source": [
    "print \"Fruits menu:\\n1. Mango\\n2. apple\\n3. abnana\"\n",
    "opt=raw_input(\"Enter an option:\")\n",
    "print opt"
   ]
  },
  {
   "cell_type": "code",
   "execution_count": 28,
   "metadata": {},
   "outputs": [
    {
     "name": "stdout",
     "output_type": "stream",
     "text": [
      "Fruits menu:\n",
      "1. Mango\n",
      "2. apple\n",
      "3. abnana\n",
      "Enter an option:1\n",
      "other statements in program \n",
      "program ended\n"
     ]
    }
   ],
   "source": [
    "print \"Fruits menu:\\n1. Mango\\n2. apple\\n3. abnana\"\n",
    "opt=raw_input(\"Enter an option:\")\n",
    "if opt==1:\n",
    "    print \"Mango: 1kg=162\"\n",
    "if opt==2:\n",
    "    print \"Apple: pack of 4: 129\"\n",
    "if opt==3:\n",
    "    print \"banana: one dozen: 45\"\n",
    "print \"other statements in program \"\n",
    "print \"program ended\""
   ]
  },
  {
   "cell_type": "code",
   "execution_count": 29,
   "metadata": {},
   "outputs": [
    {
     "data": {
      "text/plain": [
       "False"
      ]
     },
     "execution_count": 29,
     "metadata": {},
     "output_type": "execute_result"
    }
   ],
   "source": [
    "\"1\"==1"
   ]
  },
  {
   "cell_type": "code",
   "execution_count": 31,
   "metadata": {},
   "outputs": [
    {
     "name": "stdout",
     "output_type": "stream",
     "text": [
      "Fruits menu:\n",
      "1. Mango\n",
      "2. apple\n",
      "3. abnana\n",
      "Enter an option:1\n",
      "Mango: 1kg=162\n",
      "other statements in program \n",
      "program ended\n"
     ]
    }
   ],
   "source": [
    "print \"Fruits menu:\\n1. Mango\\n2. apple\\n3. abnana\"\n",
    "opt=raw_input(\"Enter an option:\")\n",
    "opt=int(opt)\n",
    "if opt==1:\n",
    "    print \"Mango: 1kg=162\"\n",
    "if opt==2:\n",
    "    print \"Apple: pack of 4: 129\"\n",
    "if opt==3:\n",
    "    print \"banana: one dozen: 45\"\n",
    "print \"other statements in program \"\n",
    "print \"program ended\""
   ]
  },
  {
   "cell_type": "code",
   "execution_count": 32,
   "metadata": {},
   "outputs": [
    {
     "name": "stdout",
     "output_type": "stream",
     "text": [
      "Fruits menu:\n",
      "1. Mango\n",
      "2. apple\n",
      "3. abnana\n",
      "Enter an option:2\n",
      "Apple: pack of 4: 129\n",
      "other statements in program \n",
      "program ended\n"
     ]
    }
   ],
   "source": [
    "print \"Fruits menu:\\n1. Mango\\n2. apple\\n3. abnana\"\n",
    "opt=raw_input(\"Enter an option:\")\n",
    "opt=int(opt)\n",
    "if opt==1:\n",
    "    print \"Mango: 1kg=162\"\n",
    "if opt==2:\n",
    "    print \"Apple: pack of 4: 129\"\n",
    "if opt==3:\n",
    "    print \"banana: one dozen: 45\"\n",
    "print \"other statements in program \"\n",
    "print \"program ended\""
   ]
  },
  {
   "cell_type": "code",
   "execution_count": 33,
   "metadata": {},
   "outputs": [
    {
     "name": "stdout",
     "output_type": "stream",
     "text": [
      "Fruits menu:\n",
      "1. Mango\n",
      "2. apple\n",
      "3. abnana\n",
      "Enter an option:3\n",
      "banana: one dozen: 45\n",
      "other statements in program \n",
      "program ended\n"
     ]
    }
   ],
   "source": [
    "print \"Fruits menu:\\n1. Mango\\n2. apple\\n3. abnana\"\n",
    "opt=raw_input(\"Enter an option:\")\n",
    "opt=int(opt)\n",
    "if opt==1:\n",
    "    print \"Mango: 1kg=162\"\n",
    "if opt==2:\n",
    "    print \"Apple: pack of 4: 129\"\n",
    "if opt==3:\n",
    "    print \"banana: one dozen: 45\"\n",
    "print \"other statements in program \"\n",
    "print \"program ended\""
   ]
  },
  {
   "cell_type": "code",
   "execution_count": 34,
   "metadata": {},
   "outputs": [
    {
     "name": "stdout",
     "output_type": "stream",
     "text": [
      "Fruits menu:\n",
      "1. Mango\n",
      "2. apple\n",
      "3. abnana\n",
      "Enter an option:4\n",
      "other statements in program \n",
      "program ended\n"
     ]
    }
   ],
   "source": [
    "print \"Fruits menu:\\n1. Mango\\n2. apple\\n3. abnana\"\n",
    "opt=raw_input(\"Enter an option:\")\n",
    "opt=int(opt)\n",
    "if opt==1:\n",
    "    print \"Mango: 1kg=162\"\n",
    "if opt==2:\n",
    "    print \"Apple: pack of 4: 129\"\n",
    "if opt==3:\n",
    "    print \"banana: one dozen: 45\"\n",
    "print \"other statements in program \"\n",
    "print \"program ended\""
   ]
  },
  {
   "cell_type": "code",
   "execution_count": 35,
   "metadata": {},
   "outputs": [
    {
     "name": "stdout",
     "output_type": "stream",
     "text": [
      "Fruits menu:\n",
      "1. Mango\n",
      "2. apple\n",
      "3. abnana\n",
      "Enter an option:4\n",
      "Selling only three kinds of fruits today.\n",
      " Select 1 or 2 or 3\n",
      "other statements in program \n",
      "program ended\n"
     ]
    }
   ],
   "source": [
    "print \"Fruits menu:\\n1. Mango\\n2. apple\\n3. abnana\"\n",
    "opt=raw_input(\"Enter an option:\")\n",
    "opt=int(opt)\n",
    "if opt>3:\n",
    "    print \"Selling only three kinds of fruits today.\\n Select 1 or 2 or 3\"\n",
    "if opt==1:\n",
    "    print \"Mango: 1kg=162\"\n",
    "if opt==2:\n",
    "    print \"Apple: pack of 4: 129\"\n",
    "if opt==3:\n",
    "    print \"banana: one dozen: 45\"\n",
    "print \"other statements in program \"\n",
    "print \"program ended\""
   ]
  },
  {
   "cell_type": "code",
   "execution_count": 36,
   "metadata": {},
   "outputs": [
    {
     "name": "stdout",
     "output_type": "stream",
     "text": [
      "Fruits menu:\n",
      "1. Mango\n",
      "2. apple\n",
      "3. abnana\n",
      "Enter an option:4\n",
      "Selling only three kinds of fruits today.\n",
      " Select 1 or 2 or 3\n",
      "THANK YOU\n"
     ]
    }
   ],
   "source": [
    "print \"Fruits menu:\\n1. Mango\\n2. apple\\n3. abnana\"\n",
    "opt=raw_input(\"Enter an option:\")\n",
    "opt=int(opt)\n",
    "if opt>3:\n",
    "    print \"Selling only three kinds of fruits today.\\n Select 1 or 2 or 3\"\n",
    "if opt==1:\n",
    "    print \"Mango: 1kg=162\"\n",
    "if opt==2:\n",
    "    print \"Apple: pack of 4: 129\"\n",
    "if opt==3:\n",
    "    print \"banana: one dozen: 45\"\n",
    "print \"THANK YOU\""
   ]
  },
  {
   "cell_type": "code",
   "execution_count": 37,
   "metadata": {},
   "outputs": [
    {
     "name": "stdout",
     "output_type": "stream",
     "text": [
      "Fruits menu:\n",
      "1. Mango\n",
      "2. apple\n",
      "3. abnana\n",
      "Enter an option:4\n",
      "Selling only three kinds of fruits today.\n",
      " Select 1 or 2 or 3\n",
      "THANK YOU\n"
     ]
    }
   ],
   "source": [
    "print \"Fruits menu:\\n1. Mango\\n2. apple\\n3. abnana\"\n",
    "opt=raw_input(\"Enter an option:\")\n",
    "opt=int(opt)\n",
    "if opt==1:\n",
    "    print \"Mango: 1kg=162\"\n",
    "if opt==2:\n",
    "    print \"Apple: pack of 4: 129\"\n",
    "if opt==3:\n",
    "    print \"banana: one dozen: 45\"\n",
    "else:\n",
    "    print \"Selling only three kinds of fruits today.\\n Select 1 or 2 or 3\"\n",
    "print \"THANK YOU\""
   ]
  },
  {
   "cell_type": "code",
   "execution_count": 38,
   "metadata": {},
   "outputs": [
    {
     "name": "stdout",
     "output_type": "stream",
     "text": [
      "Fruits menu:\n",
      "1. Mango\n",
      "2. apple\n",
      "3. abnana\n",
      "Enter an option:3\n",
      "banana: one dozen: 45\n",
      "THANK YOU\n"
     ]
    }
   ],
   "source": [
    "print \"Fruits menu:\\n1. Mango\\n2. apple\\n3. abnana\"\n",
    "opt=raw_input(\"Enter an option:\")\n",
    "opt=int(opt)\n",
    "if opt==1:\n",
    "    print \"Mango: 1kg=162\"\n",
    "if opt==2:\n",
    "    print \"Apple: pack of 4: 129\"\n",
    "if opt==3:\n",
    "    print \"banana: one dozen: 45\"\n",
    "else:\n",
    "    print \"Selling only three kinds of fruits today.\\n Select 1 or 2 or 3\"\n",
    "print \"THANK YOU\""
   ]
  },
  {
   "cell_type": "code",
   "execution_count": 39,
   "metadata": {},
   "outputs": [
    {
     "name": "stdout",
     "output_type": "stream",
     "text": [
      "Fruits menu:\n",
      "1. Mango\n",
      "2. apple\n",
      "3. abnana\n",
      "Enter an option:2\n",
      "Apple: pack of 4: 129\n",
      "Selling only three kinds of fruits today.\n",
      " Select 1 or 2 or 3\n",
      "THANK YOU\n"
     ]
    }
   ],
   "source": [
    "print \"Fruits menu:\\n1. Mango\\n2. apple\\n3. abnana\"\n",
    "opt=raw_input(\"Enter an option:\")\n",
    "opt=int(opt)\n",
    "if opt==1:\n",
    "    print \"Mango: 1kg=162\"\n",
    "if opt==2:\n",
    "    print \"Apple: pack of 4: 129\"\n",
    "if opt==3:\n",
    "    print \"banana: one dozen: 45\"\n",
    "else:\n",
    "    print \"Selling only three kinds of fruits today.\\n Select 1 or 2 or 3\"\n",
    "print \"THANK YOU\""
   ]
  },
  {
   "cell_type": "code",
   "execution_count": 40,
   "metadata": {},
   "outputs": [
    {
     "name": "stdout",
     "output_type": "stream",
     "text": [
      "Fruits menu:\n",
      "1. Mango\n",
      "2. apple\n",
      "3. abnana\n",
      "Enter an option:2\n",
      "Apple: pack of 4: 129\n",
      "THANK YOU\n"
     ]
    }
   ],
   "source": [
    "print \"Fruits menu:\\n1. Mango\\n2. apple\\n3. abnana\"\n",
    "opt=raw_input(\"Enter an option:\")\n",
    "opt=int(opt)\n",
    "if opt==1:\n",
    "    print \"Mango: 1kg=162\"\n",
    "elif opt==2:\n",
    "    print \"Apple: pack of 4: 129\"\n",
    "elif opt==3:\n",
    "    print \"banana: one dozen: 45\"\n",
    "else:\n",
    "    print \"Selling only three kinds of fruits today.\\n Select 1 or 2 or 3\"\n",
    "print \"THANK YOU\""
   ]
  },
  {
   "cell_type": "code",
   "execution_count": 41,
   "metadata": {},
   "outputs": [
    {
     "name": "stdout",
     "output_type": "stream",
     "text": [
      "program started\n",
      "Enter a value:12\n",
      "enter b value:23\n",
      "Enter c value:45\n",
      "c is big\n",
      "other statements in program\n",
      "program ended\n"
     ]
    }
   ],
   "source": [
    "print \"program started\"\n",
    "a=raw_input(\"Enter a value:\")\n",
    "b=raw_input(\"enter b value:\")\n",
    "c=raw_input(\"Enter c value:\")\n",
    "a=int(a)\n",
    "b=int(b)\n",
    "c=int(c)\n",
    "if a>b:\n",
    "    if a>c:\n",
    "        print \"a is big\"\n",
    "else:\n",
    "    if b>c:\n",
    "        print \"b is big\"\n",
    "    else:\n",
    "        print \"c is big\"\n",
    "print \"other statements in program\"\n",
    "print \"program ended\""
   ]
  },
  {
   "cell_type": "code",
   "execution_count": 42,
   "metadata": {},
   "outputs": [
    {
     "name": "stdout",
     "output_type": "stream",
     "text": [
      "program started\n",
      "Enter a value:23\n",
      "enter b value:12\n",
      "Enter c value:45\n",
      "other statements in program\n",
      "program ended\n"
     ]
    }
   ],
   "source": [
    "print \"program started\"\n",
    "a=raw_input(\"Enter a value:\")\n",
    "b=raw_input(\"enter b value:\")\n",
    "c=raw_input(\"Enter c value:\")\n",
    "a=int(a)\n",
    "b=int(b)\n",
    "c=int(c)\n",
    "if a>b:\n",
    "    if a>c:\n",
    "        print \"a is big\"\n",
    "else:\n",
    "    if b>c:\n",
    "        print \"b is big\"\n",
    "    else:\n",
    "        print \"c is big\"\n",
    "print \"other statements in program\"\n",
    "print \"program ended\""
   ]
  },
  {
   "cell_type": "code",
   "execution_count": 43,
   "metadata": {},
   "outputs": [
    {
     "name": "stdout",
     "output_type": "stream",
     "text": [
      "program started\n",
      "Enter a value:45\n",
      "enter b value:23\n",
      "Enter c value:12\n",
      "a is big\n",
      "other statements in program\n",
      "program ended\n"
     ]
    }
   ],
   "source": [
    "print \"program started\"\n",
    "a=raw_input(\"Enter a value:\")\n",
    "b=raw_input(\"enter b value:\")\n",
    "c=raw_input(\"Enter c value:\")\n",
    "a=int(a)\n",
    "b=int(b)\n",
    "c=int(c)\n",
    "if a>b:\n",
    "    if a>c:\n",
    "        print \"a is big\"\n",
    "else:\n",
    "    if b>c:\n",
    "        print \"b is big\"\n",
    "    else:\n",
    "        print \"c is big\"\n",
    "print \"other statements in program\"\n",
    "print \"program ended\""
   ]
  },
  {
   "cell_type": "code",
   "execution_count": 44,
   "metadata": {},
   "outputs": [
    {
     "name": "stdout",
     "output_type": "stream",
     "text": [
      "program started\n",
      "Enter a value:23\n",
      "enter b value:45\n",
      "Enter c value:12\n",
      "b is big\n",
      "other statements in program\n",
      "program ended\n"
     ]
    }
   ],
   "source": [
    "print \"program started\"\n",
    "a=raw_input(\"Enter a value:\")\n",
    "b=raw_input(\"enter b value:\")\n",
    "c=raw_input(\"Enter c value:\")\n",
    "a=int(a)\n",
    "b=int(b)\n",
    "c=int(c)\n",
    "if a>b:\n",
    "    if a>c:\n",
    "        print \"a is big\"\n",
    "else:\n",
    "    if b>c:\n",
    "        print \"b is big\"\n",
    "    else:\n",
    "        print \"c is big\"\n",
    "print \"other statements in program\"\n",
    "print \"program ended\""
   ]
  },
  {
   "cell_type": "code",
   "execution_count": 45,
   "metadata": {},
   "outputs": [
    {
     "name": "stdout",
     "output_type": "stream",
     "text": [
      "Enter s:ffdgf\n"
     ]
    }
   ],
   "source": [
    "s=raw_input(\"Enter s:\")"
   ]
  },
  {
   "cell_type": "code",
   "execution_count": 46,
   "metadata": {},
   "outputs": [
    {
     "name": "stdout",
     "output_type": "stream",
     "text": [
      "Enter s:\n"
     ]
    }
   ],
   "source": [
    "s=raw_input(\"Enter s:\")"
   ]
  },
  {
   "cell_type": "code",
   "execution_count": null,
   "metadata": {
    "collapsed": true
   },
   "outputs": [],
   "source": []
  }
 ],
 "metadata": {
  "kernelspec": {
   "display_name": "Python 2",
   "language": "python",
   "name": "python2"
  },
  "language_info": {
   "codemirror_mode": {
    "name": "ipython",
    "version": 2
   },
   "file_extension": ".py",
   "mimetype": "text/x-python",
   "name": "python",
   "nbconvert_exporter": "python",
   "pygments_lexer": "ipython2",
   "version": "2.7.14"
  }
 },
 "nbformat": 4,
 "nbformat_minor": 2
}
