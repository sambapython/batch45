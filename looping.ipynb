{
 "cells": [
  {
   "cell_type": "code",
   "execution_count": 1,
   "metadata": {},
   "outputs": [
    {
     "name": "stdout",
     "output_type": "stream",
     "text": [
      "hello\n",
      "other statements in program\n",
      "program ended\n"
     ]
    }
   ],
   "source": [
    "# while and for\n",
    "i=0\n",
    "if i<10:\n",
    "    print \"hello\"\n",
    "    i=i+1\n",
    "print \"other statements in program\"\n",
    "print \"program ended\""
   ]
  },
  {
   "cell_type": "code",
   "execution_count": 2,
   "metadata": {},
   "outputs": [
    {
     "name": "stdout",
     "output_type": "stream",
     "text": [
      "hello\n",
      "hello\n",
      "hello\n",
      "hello\n",
      "hello\n",
      "hello\n",
      "hello\n",
      "hello\n",
      "hello\n",
      "hello\n",
      "other statements in program\n",
      "program ended\n"
     ]
    }
   ],
   "source": [
    "# while and for\n",
    "i=0\n",
    "while i<10:\n",
    "    print \"hello\"\n",
    "    i=i+1\n",
    "print \"other statements in program\"\n",
    "print \"program ended\""
   ]
  },
  {
   "cell_type": "code",
   "execution_count": null,
   "metadata": {
    "collapsed": true
   },
   "outputs": [],
   "source": [
    "# while and for\n",
    "i=0\n",
    "while i<10:\n",
    "    print \"hello\"\n",
    "    \n",
    "print \"other statements in program\"\n",
    "print \"program ended\""
   ]
  },
  {
   "cell_type": "code",
   "execution_count": 3,
   "metadata": {},
   "outputs": [
    {
     "name": "stdout",
     "output_type": "stream",
     "text": [
      "program started\n",
      "other statements in program\n",
      "program ended\n"
     ]
    }
   ],
   "source": [
    "# while and for\n",
    "print \"program started\"\n",
    "i=0\n",
    "while i>10:\n",
    "    print \"hello\"\n",
    "print \"other statements in program\"\n",
    "print \"program ended\""
   ]
  },
  {
   "cell_type": "code",
   "execution_count": 4,
   "metadata": {},
   "outputs": [
    {
     "name": "stdout",
     "output_type": "stream",
     "text": [
      "program started\n",
      "hello\n",
      "hello\n",
      "hello\n",
      "hello\n",
      "hello\n",
      "hello\n",
      "hello\n",
      "hello\n",
      "hello\n",
      "hello\n",
      "other statements in program\n",
      "program ended\n"
     ]
    }
   ],
   "source": [
    "# while and for\n",
    "print \"program started\"\n",
    "i=0\n",
    "while i<10:\n",
    "    print \"hello\"\n",
    "    i=i+1\n",
    "print \"other statements in program\"\n",
    "print \"program ended\""
   ]
  },
  {
   "cell_type": "code",
   "execution_count": 5,
   "metadata": {},
   "outputs": [
    {
     "name": "stdout",
     "output_type": "stream",
     "text": [
      "program started\n",
      "p\n",
      "y\n",
      "t\n",
      "h\n",
      "o\n",
      "n\n",
      "other statements in program\n",
      "program ended\n"
     ]
    }
   ],
   "source": [
    "print \"program started\"\n",
    "#s=\"python\"\n",
    "# for(int i=0, s[i]!=\"\\n\",i=i+1)\n",
    "for i in \"python\":\n",
    "    print i\n",
    "print \"other statements in program\"\n",
    "print \"program ended\""
   ]
  },
  {
   "cell_type": "code",
   "execution_count": 6,
   "metadata": {},
   "outputs": [
    {
     "name": "stdout",
     "output_type": "stream",
     "text": [
      "program started\n",
      "anil\n",
      "ashok\n",
      "pavan\n",
      "rqajesh\n",
      "other statements in program\n",
      "program ended\n"
     ]
    }
   ],
   "source": [
    "print \"program started\"\n",
    "for i in [\"anil\",\"ashok\",\"pavan\",\"rqajesh\"]:\n",
    "    print i\n",
    "print \"other statements in program\"\n",
    "print \"program ended\""
   ]
  },
  {
   "cell_type": "code",
   "execution_count": 7,
   "metadata": {},
   "outputs": [
    {
     "name": "stdout",
     "output_type": "stream",
     "text": [
      "program started\n",
      "iteration started: for anil\n",
      "processing:  anil\n",
      "iteration end for: anil\n",
      "iteration started: for ashok\n",
      "processing:  ashok\n",
      "iteration end for: ashok\n",
      "iteration started: for pavan\n",
      "processing:  pavan\n",
      "iteration end for: pavan\n",
      "iteration started: for rqajesh\n",
      "processing:  rqajesh\n",
      "iteration end for: rqajesh\n",
      "other statements in program\n",
      "program ended\n"
     ]
    }
   ],
   "source": [
    "print \"program started\"\n",
    "for i in [\"anil\",\"ashok\",\"pavan\",\"rqajesh\"]:\n",
    "    print \"iteration started: for %s\"%i\n",
    "    print \"processing: \",i\n",
    "    print \"iteration end for:\",i\n",
    "print \"other statements in program\"\n",
    "print \"program ended\""
   ]
  },
  {
   "cell_type": "code",
   "execution_count": 8,
   "metadata": {},
   "outputs": [
    {
     "name": "stdout",
     "output_type": "stream",
     "text": [
      "program started\n",
      "Enter a value:5\n",
      "hello\n",
      "hello\n",
      "hello\n",
      "hello\n",
      "hello\n",
      "other statements in program\n",
      "program ended\n"
     ]
    }
   ],
   "source": [
    "# while and for\n",
    "print \"program started\"\n",
    "i=0\n",
    "num=int(raw_input(\"Enter a value:\"))\n",
    "while i<num:\n",
    "    print \"hello\"\n",
    "    i=i+1\n",
    "print \"other statements in program\"\n",
    "print \"program ended\""
   ]
  },
  {
   "cell_type": "code",
   "execution_count": 9,
   "metadata": {},
   "outputs": [
    {
     "name": "stdout",
     "output_type": "stream",
     "text": [
      "program started\n",
      "Enter a value:6\n",
      "hello\n",
      "hello\n",
      "hello\n",
      "hello\n",
      "hello\n",
      "hello\n",
      "other statements in program\n",
      "program ended\n"
     ]
    }
   ],
   "source": [
    "# while and for\n",
    "print \"program started\"\n",
    "i=0\n",
    "num=int(raw_input(\"Enter a value:\"))\n",
    "while i<num:\n",
    "    print \"hello\"\n",
    "    i=i+1\n",
    "print \"other statements in program\"\n",
    "print \"program ended\""
   ]
  },
  {
   "cell_type": "code",
   "execution_count": 11,
   "metadata": {},
   "outputs": [
    {
     "name": "stdout",
     "output_type": "stream",
     "text": [
      "program started\n",
      "Enter a value:abcd\n",
      "iteration started: for a\n",
      "processing:  a\n",
      "iteration end for: a\n",
      "iteration started: for b\n",
      "processing:  b\n",
      "iteration end for: b\n",
      "iteration started: for c\n",
      "processing:  c\n",
      "iteration end for: c\n",
      "iteration started: for d\n",
      "processing:  d\n",
      "iteration end for: d\n",
      "other statements in program\n",
      "program ended\n"
     ]
    }
   ],
   "source": [
    "# looping control statements: break continue\n",
    "print \"program started\"\n",
    "s=raw_input(\"Enter a value:\")\n",
    "for i in s:\n",
    "    print \"iteration started: for %s\"%i\n",
    "    print \"processing: \",i\n",
    "    print \"iteration end for:\",i\n",
    "print \"other statements in program\"\n",
    "print \"program ended\""
   ]
  },
  {
   "cell_type": "code",
   "execution_count": 12,
   "metadata": {},
   "outputs": [
    {
     "name": "stdout",
     "output_type": "stream",
     "text": [
      "program started\n",
      "Enter a value:a b c\n",
      "iteration started: for a\n",
      "processing:  a\n",
      "iteration end for: a\n",
      "iteration started: for  \n",
      "processing:   \n",
      "iteration end for:  \n",
      "iteration started: for b\n",
      "processing:  b\n",
      "iteration end for: b\n",
      "iteration started: for  \n",
      "processing:   \n",
      "iteration end for:  \n",
      "iteration started: for c\n",
      "processing:  c\n",
      "iteration end for: c\n",
      "other statements in program\n",
      "program ended\n"
     ]
    }
   ],
   "source": [
    "# looping control statements: break continue\n",
    "print \"program started\"\n",
    "s=raw_input(\"Enter a value:\")\n",
    "for i in s:\n",
    "    print \"iteration started: for %s\"%i\n",
    "    print \"processing: \",i\n",
    "    print \"iteration end for:\",i\n",
    "print \"other statements in program\"\n",
    "print \"program ended\""
   ]
  },
  {
   "cell_type": "code",
   "execution_count": 13,
   "metadata": {},
   "outputs": [
    {
     "name": "stdout",
     "output_type": "stream",
     "text": [
      "program started\n",
      "Enter a value:a b c\n",
      "iteration started: for a\n",
      "processing:  a\n",
      "iteration end for: a\n",
      "iteration started: for <SPACE>\n",
      "processing:  <SPACE>\n",
      "iteration end for: <SPACE>\n",
      "iteration started: for b\n",
      "processing:  b\n",
      "iteration end for: b\n",
      "iteration started: for <SPACE>\n",
      "processing:  <SPACE>\n",
      "iteration end for: <SPACE>\n",
      "iteration started: for c\n",
      "processing:  c\n",
      "iteration end for: c\n",
      "other statements in program\n",
      "program ended\n"
     ]
    }
   ],
   "source": [
    "#<SPACE>\n",
    "# looping control statements: break continue\n",
    "print \"program started\"\n",
    "s=raw_input(\"Enter a value:\")\n",
    "for i in s:\n",
    "    if i==\" \":\n",
    "        i=\"<SPACE>\"\n",
    "        \n",
    "    print \"iteration started: for %s\"%i\n",
    "    print \"processing: \",i\n",
    "    print \"iteration end for:\",i\n",
    "print \"other statements in program\"\n",
    "print \"program ended\""
   ]
  },
  {
   "cell_type": "code",
   "execution_count": 14,
   "metadata": {},
   "outputs": [
    {
     "name": "stdout",
     "output_type": "stream",
     "text": [
      "program started\n",
      "Enter a value:abcd\n",
      "iteration started: for a\n",
      "processing:  a\n",
      "iteration end for: a\n",
      "iteration started: for b\n",
      "processing:  b\n",
      "iteration end for: b\n",
      "iteration started: for c\n",
      "processing:  c\n",
      "iteration end for: c\n",
      "iteration started: for d\n",
      "processing:  d\n",
      "iteration end for: d\n",
      "other statements in program\n",
      "program ended\n"
     ]
    }
   ],
   "source": [
    "#<SPACE>\n",
    "# looping control statements: break continue\n",
    "print \"program started\"\n",
    "s=raw_input(\"Enter a value:\")\n",
    "for i in s:\n",
    "    if i==\" \":\n",
    "        break\n",
    "    print \"iteration started: for %s\"%i\n",
    "    print \"processing: \",i\n",
    "    print \"iteration end for:\",i\n",
    "print \"other statements in program\"\n",
    "print \"program ended\""
   ]
  },
  {
   "cell_type": "code",
   "execution_count": 16,
   "metadata": {},
   "outputs": [
    {
     "name": "stdout",
     "output_type": "stream",
     "text": [
      "program started\n",
      "Enter a value:ab cd\n",
      "iteration started: for a\n",
      "processing:  a\n",
      "iteration end for: a\n",
      "iteration started: for b\n",
      "processing:  b\n",
      "iteration end for: b\n",
      "other statements in program\n",
      "program ended\n"
     ]
    }
   ],
   "source": [
    "#<SPACE>\n",
    "# looping control statements: break continue\n",
    "print \"program started\"\n",
    "s=raw_input(\"Enter a value:\")\n",
    "for i in s:\n",
    "    if i==\" \":\n",
    "        break\n",
    "    print \"iteration started: for %s\"%i\n",
    "    print \"processing: \",i\n",
    "    print \"iteration end for:\",i\n",
    "    \n",
    "print \"other statements in program\"\n",
    "print \"program ended\""
   ]
  },
  {
   "cell_type": "code",
   "execution_count": 17,
   "metadata": {},
   "outputs": [
    {
     "name": "stdout",
     "output_type": "stream",
     "text": [
      "program started\n",
      "Enter a value:ab cd\n",
      "iteration started: for a\n",
      "processing:  a\n",
      "iteration end for: a\n",
      "iteration started: for b\n",
      "processing:  b\n",
      "iteration end for: b\n",
      "iteration started: for  \n",
      "other statements in program\n",
      "program ended\n"
     ]
    }
   ],
   "source": [
    "#<SPACE>\n",
    "# looping control statements: break continue\n",
    "print \"program started\"\n",
    "s=raw_input(\"Enter a value:\")\n",
    "\n",
    "for i in s:\n",
    "    print \"iteration started: for %s\"%i\n",
    "    if i==\" \":\n",
    "        break\n",
    "    print \"processing: \",i\n",
    "    print \"iteration end for:\",i\n",
    "    \n",
    "print \"other statements in program\"\n",
    "print \"program ended\""
   ]
  },
  {
   "cell_type": "code",
   "execution_count": 18,
   "metadata": {},
   "outputs": [
    {
     "name": "stdout",
     "output_type": "stream",
     "text": [
      "program started\n",
      "Enter a value:ab cd\n",
      "iteration started: for a\n",
      "processing:  a\n",
      "iteration end for: a\n",
      "iteration started: for b\n",
      "processing:  b\n",
      "iteration end for: b\n",
      "iteration started: for  \n",
      "iteration started: for c\n",
      "processing:  c\n",
      "iteration end for: c\n",
      "iteration started: for d\n",
      "processing:  d\n",
      "iteration end for: d\n",
      "other statements in program\n",
      "program ended\n"
     ]
    }
   ],
   "source": [
    "#<SPACE>\n",
    "# looping control statements: break continue\n",
    "print \"program started\"\n",
    "s=raw_input(\"Enter a value:\")\n",
    "\n",
    "for i in s:\n",
    "    print \"iteration started: for %s\"%i\n",
    "    if i==\" \":\n",
    "        continue\n",
    "    print \"processing: \",i\n",
    "    print \"iteration end for:\",i\n",
    "    \n",
    "print \"other statements in program\"\n",
    "print \"program ended\""
   ]
  },
  {
   "cell_type": "code",
   "execution_count": 20,
   "metadata": {},
   "outputs": [
    {
     "name": "stdout",
     "output_type": "stream",
     "text": [
      "program started\n",
      "Enter a value:a b c d\n",
      "iteration started: for a\n",
      "processing:  a\n",
      "iteration end for: a\n",
      "iteration started: for <SPACE>\n",
      "iteration started: for b\n",
      "processing:  b\n",
      "iteration end for: b\n",
      "iteration started: for <SPACE>\n",
      "iteration started: for c\n",
      "processing:  c\n",
      "iteration end for: c\n",
      "iteration started: for <SPACE>\n",
      "iteration started: for d\n",
      "processing:  d\n",
      "iteration end for: d\n",
      "other statements in program\n",
      "program ended\n"
     ]
    }
   ],
   "source": [
    "#<SPACE>\n",
    "# looping control statements: break continue\n",
    "print \"program started\"\n",
    "s=raw_input(\"Enter a value:\")\n",
    "\n",
    "for i in s:\n",
    "    if i==\" \":\n",
    "        print \"iteration started: for <SPACE>\"\n",
    "    else:\n",
    "        print \"iteration started: for %s\"%i\n",
    "    if i==\" \":\n",
    "        continue\n",
    "    print \"processing: \",i\n",
    "    print \"iteration end for:\",i\n",
    "    \n",
    "print \"other statements in program\"\n",
    "print \"program ended\""
   ]
  },
  {
   "cell_type": "code",
   "execution_count": 21,
   "metadata": {},
   "outputs": [
    {
     "name": "stdout",
     "output_type": "stream",
     "text": [
      "program started\n",
      "i outside loop 0\n",
      "other statements in program\n",
      "program ended\n"
     ]
    }
   ],
   "source": [
    "print \"program started\"\n",
    "i=0\n",
    "while i<10:\n",
    "    break\n",
    "    print \"i inside loop:\",i\n",
    "print \"i outside loop\",i\n",
    "print \"other statements in program\"\n",
    "print \"program ended\""
   ]
  },
  {
   "cell_type": "code",
   "execution_count": 22,
   "metadata": {},
   "outputs": [
    {
     "name": "stdout",
     "output_type": "stream",
     "text": [
      "program started\n",
      "i outside loop 1\n",
      "other statements in program\n",
      "program ended\n"
     ]
    }
   ],
   "source": [
    "print \"program started\"\n",
    "i=0\n",
    "while i<10:\n",
    "    i=i+1\n",
    "    break\n",
    "    print \"i inside loop:\",i\n",
    "print \"i outside loop\",i\n",
    "print \"other statements in program\"\n",
    "print \"program ended\""
   ]
  },
  {
   "cell_type": "code",
   "execution_count": 23,
   "metadata": {},
   "outputs": [
    {
     "name": "stdout",
     "output_type": "stream",
     "text": [
      "program started\n",
      "i outside loop 3\n",
      "other statements in program\n",
      "program ended\n"
     ]
    }
   ],
   "source": [
    "print \"program started\"\n",
    "i=0\n",
    "while i<3:\n",
    "    i=i+1\n",
    "    continue\n",
    "    print \"i inside loop:\",i\n",
    "print \"i outside loop\",i\n",
    "print \"other statements in program\"\n",
    "print \"program ended\""
   ]
  },
  {
   "cell_type": "code",
   "execution_count": null,
   "metadata": {
    "collapsed": true
   },
   "outputs": [],
   "source": [
    "print \"program started\"\n",
    "i=0\n",
    "while i<3:\n",
    "    continue\n",
    "    i=i+1\n",
    "    print \"i inside loop:\",i\n",
    "print \"i outside loop\",i\n",
    "print \"other statements in program\"\n",
    "print \"program ended\""
   ]
  },
  {
   "cell_type": "code",
   "execution_count": 24,
   "metadata": {},
   "outputs": [
    {
     "name": "stdout",
     "output_type": "stream",
     "text": [
      "Enter number:23\n",
      "ODD\n",
      "Thanks.. USE ME AGAIN\n"
     ]
    }
   ],
   "source": [
    "num=int(raw_input(\"Enter number:\"))\n",
    "if num%2==0:\n",
    "    print \"EVEN\"\n",
    "else:\n",
    "    print \"ODD\"\n",
    "print \"Thanks.. USE ME AGAIN\"\n"
   ]
  },
  {
   "cell_type": "code",
   "execution_count": 25,
   "metadata": {},
   "outputs": [
    {
     "name": "stdout",
     "output_type": "stream",
     "text": [
      "\n",
      "1. Enter a number\n",
      "2. quit\n",
      "\n",
      "enter an option:1\n",
      "Enter number:12\n",
      "EVEN\n",
      "Thanks.. USE ME AGAIN\n"
     ]
    }
   ],
   "source": [
    "print \"\"\"\n",
    "1. Enter a number\n",
    "2. quit\n",
    "\"\"\"\n",
    "opt=raw_input(\"enter an option:\")\n",
    "if opt==\"1\":\n",
    "    num=int(raw_input(\"Enter number:\"))\n",
    "    if num%2==0:\n",
    "        print \"EVEN\"\n",
    "    else:\n",
    "        print \"ODD\"\n",
    "else:\n",
    "    print \"quiting\"\n",
    "print \"Thanks.. USE ME AGAIN\"\n"
   ]
  },
  {
   "cell_type": "code",
   "execution_count": 26,
   "metadata": {},
   "outputs": [
    {
     "name": "stdout",
     "output_type": "stream",
     "text": [
      "\n",
      "    1. Enter a number\n",
      "    2. quit\n",
      "    \n",
      "enter an option:1\n",
      "Enter number:12\n",
      "EVEN\n",
      "\n",
      "    1. Enter a number\n",
      "    2. quit\n",
      "    \n",
      "enter an option:1\n",
      "Enter number:45\n",
      "ODD\n",
      "\n",
      "    1. Enter a number\n",
      "    2. quit\n",
      "    \n",
      "enter an option:2\n",
      "quiting\n",
      "Thanks.. USE ME AGAIN\n"
     ]
    }
   ],
   "source": [
    "\n",
    "while True:\n",
    "    print \"\"\"\n",
    "    1. Enter a number\n",
    "    2. quit\n",
    "    \"\"\"\n",
    "    opt=raw_input(\"enter an option:\")\n",
    "    if opt==\"2\":\n",
    "        print \"quiting\"\n",
    "        break\n",
    "    elif opt==\"1\":\n",
    "        num=int(raw_input(\"Enter number:\"))\n",
    "        if num%2==0:\n",
    "            print \"EVEN\"\n",
    "        else:\n",
    "            print \"ODD\"\n",
    "    else:\n",
    "        print \"WRONG OPTIN\"\n",
    "        \n",
    "        \n",
    "print \"Thanks.. USE ME AGAIN\"\n"
   ]
  },
  {
   "cell_type": "code",
   "execution_count": 27,
   "metadata": {},
   "outputs": [
    {
     "data": {
      "text/plain": [
       "97"
      ]
     },
     "execution_count": 27,
     "metadata": {},
     "output_type": "execute_result"
    }
   ],
   "source": [
    "ord(\"a\")"
   ]
  },
  {
   "cell_type": "code",
   "execution_count": 28,
   "metadata": {},
   "outputs": [
    {
     "data": {
      "text/plain": [
       "122"
      ]
     },
     "execution_count": 28,
     "metadata": {},
     "output_type": "execute_result"
    }
   ],
   "source": [
    "ord(\"z\")"
   ]
  },
  {
   "cell_type": "code",
   "execution_count": 29,
   "metadata": {},
   "outputs": [
    {
     "data": {
      "text/plain": [
       "65"
      ]
     },
     "execution_count": 29,
     "metadata": {},
     "output_type": "execute_result"
    }
   ],
   "source": [
    "ord(\"A\")"
   ]
  },
  {
   "cell_type": "code",
   "execution_count": 30,
   "metadata": {},
   "outputs": [
    {
     "data": {
      "text/plain": [
       "90"
      ]
     },
     "execution_count": 30,
     "metadata": {},
     "output_type": "execute_result"
    }
   ],
   "source": [
    "ord(\"Z\")"
   ]
  },
  {
   "cell_type": "code",
   "execution_count": 31,
   "metadata": {},
   "outputs": [
    {
     "data": {
      "text/plain": [
       "49"
      ]
     },
     "execution_count": 31,
     "metadata": {},
     "output_type": "execute_result"
    }
   ],
   "source": [
    "ord(\"1\")"
   ]
  },
  {
   "cell_type": "code",
   "execution_count": 32,
   "metadata": {},
   "outputs": [
    {
     "data": {
      "text/plain": [
       "57"
      ]
     },
     "execution_count": 32,
     "metadata": {},
     "output_type": "execute_result"
    }
   ],
   "source": [
    "ord(\"9\")"
   ]
  },
  {
   "cell_type": "code",
   "execution_count": null,
   "metadata": {
    "collapsed": true
   },
   "outputs": [],
   "source": [
    "# boundary valu check\n",
    "#a, z\n"
   ]
  }
 ],
 "metadata": {
  "kernelspec": {
   "display_name": "Python 2",
   "language": "python",
   "name": "python2"
  },
  "language_info": {
   "codemirror_mode": {
    "name": "ipython",
    "version": 2
   },
   "file_extension": ".py",
   "mimetype": "text/x-python",
   "name": "python",
   "nbconvert_exporter": "python",
   "pygments_lexer": "ipython2",
   "version": "2.7.14"
  }
 },
 "nbformat": 4,
 "nbformat_minor": 2
}
