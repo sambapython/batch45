{
 "cells": [
  {
   "cell_type": "code",
   "execution_count": 1,
   "metadata": {
    "collapsed": true
   },
   "outputs": [],
   "source": [
    "a=10\n",
    "b=20\n",
    "c=a+b\n",
    "d=a\n",
    "s=\"python\""
   ]
  },
  {
   "cell_type": "code",
   "execution_count": 2,
   "metadata": {
    "collapsed": true
   },
   "outputs": [],
   "source": [
    "s=range(100)"
   ]
  },
  {
   "cell_type": "code",
   "execution_count": 3,
   "metadata": {},
   "outputs": [
    {
     "ename": "MemoryError",
     "evalue": "",
     "output_type": "error",
     "traceback": [
      "\u001b[0;31m---------------------------------------------------------------------------\u001b[0m",
      "\u001b[0;31mMemoryError\u001b[0m                               Traceback (most recent call last)",
      "\u001b[0;32m<ipython-input-3-45438d353fff>\u001b[0m in \u001b[0;36m<module>\u001b[0;34m()\u001b[0m\n\u001b[0;32m----> 1\u001b[0;31m \u001b[0ms\u001b[0m\u001b[0;34m=\u001b[0m\u001b[0mrange\u001b[0m\u001b[0;34m(\u001b[0m\u001b[0;36m1320000000\u001b[0m\u001b[0;34m)\u001b[0m\u001b[0;34m\u001b[0m\u001b[0m\n\u001b[0m",
      "\u001b[0;31mMemoryError\u001b[0m: "
     ]
    }
   ],
   "source": [
    "s=range(1320000000)"
   ]
  },
  {
   "cell_type": "code",
   "execution_count": 4,
   "metadata": {
    "collapsed": true
   },
   "outputs": [],
   "source": [
    "a=1000"
   ]
  },
  {
   "cell_type": "code",
   "execution_count": 5,
   "metadata": {},
   "outputs": [
    {
     "name": "stdout",
     "output_type": "stream",
     "text": [
      "1000\n"
     ]
    }
   ],
   "source": [
    "print a"
   ]
  },
  {
   "cell_type": "code",
   "execution_count": 6,
   "metadata": {},
   "outputs": [
    {
     "name": "stdout",
     "output_type": "stream",
     "text": [
      "st1\n",
      "st2\n",
      "st3\n",
      "st4\n"
     ]
    }
   ],
   "source": [
    "# conditional statements\n",
    "# if if else elif pass\n",
    "print \"st1\"\n",
    "print \"st2\"\n",
    "print \"st3\"\n",
    "print \"st4\""
   ]
  },
  {
   "cell_type": "code",
   "execution_count": 7,
   "metadata": {},
   "outputs": [
    {
     "name": "stdout",
     "output_type": "stream",
     "text": [
      "Enter a value:12\n",
      "Enter b value:34\n",
      "a is big\n",
      "b is big\n"
     ]
    }
   ],
   "source": [
    "a=raw_input(\"Enter a value:\")\n",
    "b=raw_input(\"Enter b value:\")\n",
    "print \"a is big\"\n",
    "print \"b is big\""
   ]
  },
  {
   "cell_type": "code",
   "execution_count": 8,
   "metadata": {},
   "outputs": [
    {
     "name": "stdout",
     "output_type": "stream",
     "text": [
      "Enter a value:12\n",
      "Enter b value:34\n",
      "b is big\n"
     ]
    }
   ],
   "source": [
    "a=raw_input(\"Enter a value:\")\n",
    "b=raw_input(\"Enter b value:\")\n",
    "if a>b:\n",
    "    print \"a is big\"\n",
    "else:\n",
    "    print \"b is big\""
   ]
  },
  {
   "cell_type": "code",
   "execution_count": 11,
   "metadata": {},
   "outputs": [
    {
     "name": "stdout",
     "output_type": "stream",
     "text": [
      "False\n",
      "False\n",
      "True\n",
      "False\n",
      "False\n"
     ]
    }
   ],
   "source": [
    "# looping statements\n",
    "# for while,   break continue : else. \n",
    "l=[\"a\",\"b\",\"c\",\"d\",\"e\"]\n",
    "print \"c\"==l[0]\n",
    "print \"c\"==l[1]\n",
    "print \"c\"==l[2]\n",
    "print \"c\"==l[3]\n",
    "print \"c\"==l[4]"
   ]
  },
  {
   "cell_type": "code",
   "execution_count": 12,
   "metadata": {},
   "outputs": [
    {
     "name": "stdout",
     "output_type": "stream",
     "text": [
      "False\n",
      "False\n",
      "True\n",
      "False\n",
      "False\n"
     ]
    }
   ],
   "source": [
    "# looping statements\n",
    "# for while,   break continue : else. \n",
    "l=[\"a\",\"b\",\"c\",\"d\",\"e\"]\n",
    "for  i in l:\n",
    "    print i==\"c\""
   ]
  },
  {
   "cell_type": "code",
   "execution_count": 1,
   "metadata": {
    "collapsed": true
   },
   "outputs": [],
   "source": [
    "#functions\n",
    "# furnction block of statements to do perticualr job\n",
    "# why? to reduce the number of lines fo code\n",
    "# to make your program structure\n",
    "# if you got any fuctional changes from customer, can complete in less number of lines of code modifications.\n",
    "\n"
   ]
  },
  {
   "cell_type": "code",
   "execution_count": 3,
   "metadata": {},
   "outputs": [
    {
     "name": "stdout",
     "output_type": "stream",
     "text": [
      "program started\n",
      "a=10,b=20\n",
      "result=30\n",
      "some statements\n",
      "a=100,b=200\n",
      "result=300\n",
      "some more statements\n",
      "a=1000,b=2000\n",
      "result=3000\n",
      "some more other statements\n",
      "a=10000,b=20000\n",
      "result=30000\n"
     ]
    }
   ],
   "source": [
    "print \"program started\"\n",
    "a=10\n",
    "b=20\n",
    "print \"a=%s,b=%s\"%(a,b)\n",
    "res=a+b\n",
    "print \"result=%s\"%res\n",
    "print \"some statements\"\n",
    "a=100\n",
    "b=200\n",
    "print \"a=%s,b=%s\"%(a,b)\n",
    "res=a+b\n",
    "print \"result=%s\"%res\n",
    "print \"some more statements\"\n",
    "a=1000\n",
    "b=2000\n",
    "print \"a=%s,b=%s\"%(a,b)\n",
    "res=a+b\n",
    "print \"result=%s\"%res\n",
    "print \"some more other statements\"\n",
    "a=10000\n",
    "b=20000\n",
    "print \"a=%s,b=%s\"%(a,b)\n",
    "res=a+b\n",
    "print \"result=%s\"%res"
   ]
  },
  {
   "cell_type": "code",
   "execution_count": 4,
   "metadata": {},
   "outputs": [
    {
     "name": "stdout",
     "output_type": "stream",
     "text": [
      "program started\n",
      "a=10,b=20\n",
      "result=30\n",
      "some statements\n",
      "a=100,b=200\n",
      "result=300\n",
      "some more statements\n",
      "a=1000,b=2000\n",
      "result=3000\n",
      "some more other statements\n",
      "a=10000,b=20000\n",
      "result=30000\n"
     ]
    }
   ],
   "source": [
    "def fun(a,b):\n",
    "    print \"a=%s,b=%s\"%(a,b)\n",
    "    res=a+b\n",
    "    print \"result=%s\"%res\n",
    "    \n",
    "print \"program started\"\n",
    "fun(10,20)\n",
    "print \"some statements\"\n",
    "fun(100,200)\n",
    "print \"some more statements\"\n",
    "fun(1000,2000)\n",
    "print \"some more other statements\"\n",
    "fun(10000,20000)"
   ]
  },
  {
   "cell_type": "code",
   "execution_count": 5,
   "metadata": {},
   "outputs": [
    {
     "name": "stdout",
     "output_type": "stream",
     "text": [
      "program started\n",
      "a=10,b=20\n",
      "result=30\n",
      "some statements\n",
      "a=100,b=200\n",
      "result=300\n",
      "some more statements\n",
      "a=1000,b=2000\n",
      "result=3000\n",
      "some more other statements\n",
      "a=10000,b=20000\n",
      "result=30000\n"
     ]
    }
   ],
   "source": [
    "print \"program started\"\n",
    "a=10\n",
    "b=20\n",
    "print \"a=%s,b=%s\"%(a,b)\n",
    "res=a+b\n",
    "print \"result=%s\"%res\n",
    "print \"some statements\"\n",
    "a=100\n",
    "b=200\n",
    "print \"a=%s,b=%s\"%(a,b)\n",
    "res=a+b\n",
    "print \"result=%s\"%res\n",
    "print \"some more statements\"\n",
    "a=1000\n",
    "b=2000\n",
    "print \"a=%s,b=%s\"%(a,b)\n",
    "res=a+b\n",
    "print \"result=%s\"%res\n",
    "print \"some more other statements\"\n",
    "a=10000\n",
    "b=20000\n",
    "print \"a=%s,b=%s\"%(a,b)\n",
    "res=a+b\n",
    "print \"result=%s\"%res"
   ]
  },
  {
   "cell_type": "code",
   "execution_count": 6,
   "metadata": {},
   "outputs": [
    {
     "name": "stdout",
     "output_type": "stream",
     "text": [
      "program started\n",
      "a=10,b=20\n",
      "sum=30\n",
      "some statements\n",
      "a=100,b=200\n",
      "sum=300\n",
      "some more statements\n",
      "a=1000,b=2000\n",
      "sum=3000\n",
      "some more other statements\n",
      "a=10000,b=20000\n",
      "sum=30000\n"
     ]
    }
   ],
   "source": [
    "print \"program started\"\n",
    "a=10\n",
    "b=20\n",
    "print \"a=%s,b=%s\"%(a,b)\n",
    "res=a+b\n",
    "print \"sum=%s\"%res\n",
    "print \"some statements\"\n",
    "a=100\n",
    "b=200\n",
    "print \"a=%s,b=%s\"%(a,b)\n",
    "res=a+b\n",
    "print \"sum=%s\"%res\n",
    "print \"some more statements\"\n",
    "a=1000\n",
    "b=2000\n",
    "print \"a=%s,b=%s\"%(a,b)\n",
    "res=a+b\n",
    "print \"sum=%s\"%res\n",
    "print \"some more other statements\"\n",
    "a=10000\n",
    "b=20000\n",
    "print \"a=%s,b=%s\"%(a,b)\n",
    "res=a+b\n",
    "print \"sum=%s\"%res"
   ]
  },
  {
   "cell_type": "code",
   "execution_count": 8,
   "metadata": {},
   "outputs": [
    {
     "name": "stdout",
     "output_type": "stream",
     "text": [
      "program started\n",
      "a= 10 b= 20\n",
      "sum=30\n",
      "some statements\n",
      "a= 100 b= 200\n",
      "sum=300\n",
      "some more statements\n",
      "a= 1000 b= 2000\n",
      "sum=3000\n",
      "some more other statements\n",
      "a= 10000 b= 20000\n",
      "sum=30000\n"
     ]
    }
   ],
   "source": [
    "def fun(a,b):\n",
    "    #print \"a=%s,b=%s\"%(a,b)\n",
    "    print \"a=\",a,\"b=\",b\n",
    "    res=a+b\n",
    "    print \"sum=%s\"%res\n",
    "    \n",
    "print \"program started\"\n",
    "fun(10,20)\n",
    "print \"some statements\"\n",
    "fun(100,200)\n",
    "print \"some more statements\"\n",
    "fun(1000,2000)\n",
    "print \"some more other statements\"\n",
    "fun(10000,20000)"
   ]
  },
  {
   "cell_type": "code",
   "execution_count": 10,
   "metadata": {
    "collapsed": true
   },
   "outputs": [],
   "source": [
    "# datastructures\n",
    "# int, complex, float, string, boolean,\n",
    "# list, tuple, dict, set, (numpy array, DF)\n",
    "persons=\"anil,23,23456:ajay,24,23456:pavan,34,23456\"\n",
    "persons_l = [\"anil,23,23456\",\"ajay,24,23456\",\"pavan,34,23456\"]\n",
    "persons_d=[{\"name\":\"anil\",\"age\":23,\"sal\":23456},{\"name\":\"ajay\",\"age\":24,\"sal\":23456},{\"name\":\"pavan\",\"age\":34,\"sal\":23456}]\n",
    "persons_t = (\"anil,23,23456\",\"ajay,24,23456\",\"pavan,34,23456\")\n",
    "persons_set={\"anil,23,23456\",\"ajay,24,23456\",\"pavan,34,23456\"}\n"
   ]
  },
  {
   "cell_type": "code",
   "execution_count": 11,
   "metadata": {
    "collapsed": true
   },
   "outputs": [],
   "source": [
    "persons=[23,\"name1\",23456]\n",
    "per_age=23\n",
    "per_sal=234567\n",
    "per_name=\"name1\""
   ]
  },
  {
   "cell_type": "code",
   "execution_count": null,
   "metadata": {
    "collapsed": true
   },
   "outputs": [],
   "source": [
    "# modules"
   ]
  }
 ],
 "metadata": {
  "kernelspec": {
   "display_name": "Python 2",
   "language": "python",
   "name": "python2"
  },
  "language_info": {
   "codemirror_mode": {
    "name": "ipython",
    "version": 2
   },
   "file_extension": ".py",
   "mimetype": "text/x-python",
   "name": "python",
   "nbconvert_exporter": "python",
   "pygments_lexer": "ipython2",
   "version": "2.7.14"
  }
 },
 "nbformat": 4,
 "nbformat_minor": 2
}
