{
 "cells": [
  {
   "cell_type": "code",
   "execution_count": 1,
   "metadata": {},
   "outputs": [
    {
     "data": {
      "text/plain": [
       "<sqlite3.Cursor at 0x7f8f113ec500>"
      ]
     },
     "execution_count": 1,
     "metadata": {},
     "output_type": "execute_result"
    }
   ],
   "source": [
    "import sqlite3\n",
    "con=sqlite3.connect(\"db1.db\")\n",
    "cur=con.cursor()\n",
    "q=\"create table customer(id int,name varchar(250))\"\n",
    "cur.execute(q)"
   ]
  },
  {
   "cell_type": "code",
   "execution_count": 2,
   "metadata": {},
   "outputs": [
    {
     "data": {
      "text/plain": [
       "<sqlite3.Cursor at 0x7f8f113ec500>"
      ]
     },
     "execution_count": 2,
     "metadata": {},
     "output_type": "execute_result"
    }
   ],
   "source": [
    "q=\"insert into customer(id,name) values(1,'pavan')\"\n",
    "cur.execute(q)"
   ]
  },
  {
   "cell_type": "code",
   "execution_count": 3,
   "metadata": {
    "collapsed": true
   },
   "outputs": [],
   "source": [
    "con.commit()"
   ]
  },
  {
   "cell_type": "code",
   "execution_count": 6,
   "metadata": {},
   "outputs": [],
   "source": [
    "import random\n",
    "names=[\"anil\",\"jayaram\",\"Dhanush\",\"ramesh\",\"Ravi\"]\n",
    "for i in range(2,100):\n",
    "    q= \"insert into customer(id, name) values(%s,'%s')\"%(i,random.choice(names))\n",
    "    cur.execute(q)\n",
    "con.commit()"
   ]
  },
  {
   "cell_type": "code",
   "execution_count": 7,
   "metadata": {},
   "outputs": [
    {
     "data": {
      "text/plain": [
       "<sqlite3.Cursor at 0x7f8f113ec500>"
      ]
     },
     "execution_count": 7,
     "metadata": {},
     "output_type": "execute_result"
    }
   ],
   "source": [
    "q=\"select * from customer\"\n",
    "cur.execute(q)"
   ]
  },
  {
   "cell_type": "code",
   "execution_count": 8,
   "metadata": {
    "collapsed": true
   },
   "outputs": [],
   "source": [
    "data=cur.fetchall()"
   ]
  },
  {
   "cell_type": "code",
   "execution_count": 9,
   "metadata": {},
   "outputs": [
    {
     "name": "stdout",
     "output_type": "stream",
     "text": [
      "[(1, u'pavan'), (2, u'Dhanush'), (3, u'jayaram'), (4, u'Ravi'), (5, u'Ravi'), (6, u'jayaram'), (7, u'Ravi'), (8, u'Dhanush'), (9, u'Ravi'), (10, u'Ravi'), (11, u'Dhanush'), (12, u'anil'), (13, u'Dhanush'), (14, u'ramesh'), (15, u'ramesh'), (16, u'anil'), (17, u'Dhanush'), (18, u'Dhanush'), (19, u'Dhanush'), (20, u'ramesh'), (21, u'Dhanush'), (22, u'Dhanush'), (23, u'ramesh'), (24, u'Ravi'), (25, u'Dhanush'), (26, u'Ravi'), (27, u'jayaram'), (28, u'Dhanush'), (29, u'ramesh'), (30, u'ramesh'), (31, u'Ravi'), (32, u'Ravi'), (33, u'anil'), (34, u'anil'), (35, u'Dhanush'), (36, u'anil'), (37, u'ramesh'), (38, u'Ravi'), (39, u'anil'), (40, u'Ravi'), (41, u'jayaram'), (42, u'anil'), (43, u'Dhanush'), (44, u'Dhanush'), (45, u'Ravi'), (46, u'ramesh'), (47, u'Dhanush'), (48, u'ramesh'), (49, u'anil'), (50, u'jayaram'), (51, u'ramesh'), (52, u'Ravi'), (53, u'ramesh'), (54, u'anil'), (55, u'Dhanush'), (56, u'ramesh'), (57, u'ramesh'), (58, u'jayaram'), (59, u'ramesh'), (60, u'Ravi'), (61, u'ramesh'), (62, u'anil'), (63, u'Dhanush'), (64, u'ramesh'), (65, u'anil'), (66, u'Ravi'), (67, u'Dhanush'), (68, u'anil'), (69, u'Dhanush'), (70, u'Dhanush'), (71, u'jayaram'), (72, u'Dhanush'), (73, u'Dhanush'), (74, u'Ravi'), (75, u'Ravi'), (76, u'Ravi'), (77, u'Ravi'), (78, u'ramesh'), (79, u'ramesh'), (80, u'ramesh'), (81, u'Ravi'), (82, u'ramesh'), (83, u'Ravi'), (84, u'Ravi'), (85, u'ramesh'), (86, u'Dhanush'), (87, u'Dhanush'), (88, u'Dhanush'), (89, u'Ravi'), (90, u'Dhanush'), (91, u'ramesh'), (92, u'Dhanush'), (93, u'Dhanush'), (94, u'ramesh'), (95, u'jayaram'), (96, u'jayaram'), (97, u'jayaram'), (98, u'Dhanush'), (99, u'ramesh')]\n"
     ]
    }
   ],
   "source": [
    "print data"
   ]
  },
  {
   "cell_type": "code",
   "execution_count": 10,
   "metadata": {
    "collapsed": true
   },
   "outputs": [],
   "source": [
    "data_dict=map(lambda x:dict(zip(x,['id','name'])),data)"
   ]
  },
  {
   "cell_type": "code",
   "execution_count": 11,
   "metadata": {},
   "outputs": [
    {
     "name": "stdout",
     "output_type": "stream",
     "text": [
      "[{1: 'id', u'pavan': 'name'}, {2: 'id', u'Dhanush': 'name'}, {u'jayaram': 'name', 3: 'id'}, {u'Ravi': 'name', 4: 'id'}, {u'Ravi': 'name', 5: 'id'}, {u'jayaram': 'name', 6: 'id'}, {u'Ravi': 'name', 7: 'id'}, {8: 'id', u'Dhanush': 'name'}, {9: 'id', u'Ravi': 'name'}, {10: 'id', u'Ravi': 'name'}, {11: 'id', u'Dhanush': 'name'}, {u'anil': 'name', 12: 'id'}, {u'Dhanush': 'name', 13: 'id'}, {u'ramesh': 'name', 14: 'id'}, {u'ramesh': 'name', 15: 'id'}, {16: 'id', u'anil': 'name'}, {17: 'id', u'Dhanush': 'name'}, {18: 'id', u'Dhanush': 'name'}, {19: 'id', u'Dhanush': 'name'}, {u'ramesh': 'name', 20: 'id'}, {u'Dhanush': 'name', 21: 'id'}, {u'Dhanush': 'name', 22: 'id'}, {u'ramesh': 'name', 23: 'id'}, {24: 'id', u'Ravi': 'name'}, {25: 'id', u'Dhanush': 'name'}, {26: 'id', u'Ravi': 'name'}, {u'jayaram': 'name', 27: 'id'}, {u'Dhanush': 'name', 28: 'id'}, {u'ramesh': 'name', 29: 'id'}, {u'ramesh': 'name', 30: 'id'}, {u'Ravi': 'name', 31: 'id'}, {32: 'id', u'Ravi': 'name'}, {33: 'id', u'anil': 'name'}, {34: 'id', u'anil': 'name'}, {35: 'id', u'Dhanush': 'name'}, {u'anil': 'name', 36: 'id'}, {u'ramesh': 'name', 37: 'id'}, {u'Ravi': 'name', 38: 'id'}, {u'anil': 'name', 39: 'id'}, {40: 'id', u'Ravi': 'name'}, {u'jayaram': 'name', 41: 'id'}, {42: 'id', u'anil': 'name'}, {43: 'id', u'Dhanush': 'name'}, {u'Dhanush': 'name', 44: 'id'}, {u'Ravi': 'name', 45: 'id'}, {u'ramesh': 'name', 46: 'id'}, {u'Dhanush': 'name', 47: 'id'}, {48: 'id', u'ramesh': 'name'}, {49: 'id', u'anil': 'name'}, {u'jayaram': 'name', 50: 'id'}, {u'ramesh': 'name', 51: 'id'}, {u'Ravi': 'name', 52: 'id'}, {u'ramesh': 'name', 53: 'id'}, {u'anil': 'name', 54: 'id'}, {u'Dhanush': 'name', 55: 'id'}, {56: 'id', u'ramesh': 'name'}, {57: 'id', u'ramesh': 'name'}, {u'jayaram': 'name', 58: 'id'}, {u'ramesh': 'name', 59: 'id'}, {u'Ravi': 'name', 60: 'id'}, {u'ramesh': 'name', 61: 'id'}, {u'anil': 'name', 62: 'id'}, {u'Dhanush': 'name', 63: 'id'}, {64: 'id', u'ramesh': 'name'}, {65: 'id', u'anil': 'name'}, {66: 'id', u'Ravi': 'name'}, {67: 'id', u'Dhanush': 'name'}, {u'anil': 'name', 68: 'id'}, {u'Dhanush': 'name', 69: 'id'}, {u'Dhanush': 'name', 70: 'id'}, {u'jayaram': 'name', 71: 'id'}, {72: 'id', u'Dhanush': 'name'}, {73: 'id', u'Dhanush': 'name'}, {74: 'id', u'Ravi': 'name'}, {75: 'id', u'Ravi': 'name'}, {u'Ravi': 'name', 76: 'id'}, {u'Ravi': 'name', 77: 'id'}, {u'ramesh': 'name', 78: 'id'}, {u'ramesh': 'name', 79: 'id'}, {80: 'id', u'ramesh': 'name'}, {81: 'id', u'Ravi': 'name'}, {82: 'id', u'ramesh': 'name'}, {83: 'id', u'Ravi': 'name'}, {u'Ravi': 'name', 84: 'id'}, {u'ramesh': 'name', 85: 'id'}, {u'Dhanush': 'name', 86: 'id'}, {u'Dhanush': 'name', 87: 'id'}, {88: 'id', u'Dhanush': 'name'}, {89: 'id', u'Ravi': 'name'}, {90: 'id', u'Dhanush': 'name'}, {u'ramesh': 'name', 91: 'id'}, {u'Dhanush': 'name', 92: 'id'}, {u'Dhanush': 'name', 93: 'id'}, {u'ramesh': 'name', 94: 'id'}, {u'jayaram': 'name', 95: 'id'}, {96: 'id', u'jayaram': 'name'}, {u'jayaram': 'name', 97: 'id'}, {98: 'id', u'Dhanush': 'name'}, {u'ramesh': 'name', 99: 'id'}]\n"
     ]
    }
   ],
   "source": [
    "print data_dict"
   ]
  },
  {
   "cell_type": "code",
   "execution_count": 12,
   "metadata": {},
   "outputs": [
    {
     "name": "stdout",
     "output_type": "stream",
     "text": [
      "Enter id:5\n",
      "(5, u'Ravi')\n"
     ]
    }
   ],
   "source": [
    "cust_id=raw_input(\"Enter id:\")\n",
    "q=\"select * from customer where id=%s\"%cust_id\n",
    "cur.execute(q)\n",
    "print cur.fetchone()"
   ]
  },
  {
   "cell_type": "code",
   "execution_count": 13,
   "metadata": {},
   "outputs": [
    {
     "name": "stdout",
     "output_type": "stream",
     "text": [
      "Enter id:6\n",
      "(6, u'jayaram')\n"
     ]
    }
   ],
   "source": [
    "cust_id=raw_input(\"Enter id:\")\n",
    "q=\"select * from customer where id=%s\"%cust_id\n",
    "cur.execute(q)\n",
    "print cur.fetchone()"
   ]
  },
  {
   "cell_type": "code",
   "execution_count": 14,
   "metadata": {},
   "outputs": [
    {
     "name": "stdout",
     "output_type": "stream",
     "text": [
      "Enter id:170\n",
      "None\n"
     ]
    }
   ],
   "source": [
    "cust_id=raw_input(\"Enter id:\")\n",
    "q=\"select * from customer where id=%s\"%cust_id\n",
    "cur.execute(q)\n",
    "print cur.fetchone()"
   ]
  },
  {
   "cell_type": "code",
   "execution_count": 15,
   "metadata": {},
   "outputs": [
    {
     "name": "stdout",
     "output_type": "stream",
     "text": [
      "Enter id:\n"
     ]
    },
    {
     "ename": "OperationalError",
     "evalue": "near \"=\": syntax error",
     "output_type": "error",
     "traceback": [
      "\u001b[0;31m---------------------------------------------------------------------------\u001b[0m",
      "\u001b[0;31mOperationalError\u001b[0m                          Traceback (most recent call last)",
      "\u001b[0;32m<ipython-input-15-e5da0f24ac85>\u001b[0m in \u001b[0;36m<module>\u001b[0;34m()\u001b[0m\n\u001b[1;32m      1\u001b[0m \u001b[0mcust_id\u001b[0m\u001b[0;34m=\u001b[0m\u001b[0mraw_input\u001b[0m\u001b[0;34m(\u001b[0m\u001b[0;34m\"Enter id:\"\u001b[0m\u001b[0;34m)\u001b[0m\u001b[0;34m\u001b[0m\u001b[0m\n\u001b[1;32m      2\u001b[0m \u001b[0mq\u001b[0m\u001b[0;34m=\u001b[0m\u001b[0;34m\"select * from customer where id=%s\"\u001b[0m\u001b[0;34m%\u001b[0m\u001b[0mcust_id\u001b[0m\u001b[0;34m\u001b[0m\u001b[0m\n\u001b[0;32m----> 3\u001b[0;31m \u001b[0mcur\u001b[0m\u001b[0;34m.\u001b[0m\u001b[0mexecute\u001b[0m\u001b[0;34m(\u001b[0m\u001b[0mq\u001b[0m\u001b[0;34m)\u001b[0m\u001b[0;34m\u001b[0m\u001b[0m\n\u001b[0m\u001b[1;32m      4\u001b[0m \u001b[0;32mprint\u001b[0m \u001b[0mcur\u001b[0m\u001b[0;34m.\u001b[0m\u001b[0mfetchone\u001b[0m\u001b[0;34m(\u001b[0m\u001b[0;34m)\u001b[0m\u001b[0;34m\u001b[0m\u001b[0m\n",
      "\u001b[0;31mOperationalError\u001b[0m: near \"=\": syntax error"
     ]
    }
   ],
   "source": [
    "cust_id=raw_input(\"Enter id:\")\n",
    "q=\"select * from customer where id=%s\"%cust_id\n",
    "cur.execute(q)\n",
    "print cur.fetchone()"
   ]
  },
  {
   "cell_type": "code",
   "execution_count": 16,
   "metadata": {},
   "outputs": [
    {
     "name": "stdout",
     "output_type": "stream",
     "text": [
      "Enter id:\n",
      "enter proper id\n"
     ]
    }
   ],
   "source": [
    "cust_id=raw_input(\"Enter id:\")\n",
    "if cust_id:\n",
    "    q=\"select * from customer where id=%s\"%cust_id\n",
    "    cur.execute(q)\n",
    "    print cur.fetchone()\n",
    "else:\n",
    "    print \"enter proper id\""
   ]
  },
  {
   "cell_type": "code",
   "execution_count": 17,
   "metadata": {},
   "outputs": [
    {
     "name": "stdout",
     "output_type": "stream",
     "text": [
      "Enter id:3\n",
      "(3, u'jayaram')\n",
      "Enter name to modify:jay\n"
     ]
    }
   ],
   "source": [
    "cust_id=raw_input(\"Enter id:\")\n",
    "if cust_id:\n",
    "    q=\"select * from customer where id=%s\"%cust_id\n",
    "    cur.execute(q)\n",
    "    print cur.fetchone()\n",
    "    name=raw_input(\"Enter name to modify:\")\n",
    "    if name:\n",
    "        q=\"update customer set name='%s' where id=%s\"%(name,cust_id)\n",
    "        cur.execute(q)\n",
    "        con.commit()\n",
    "    else:\n",
    "        print \"invalid name\"\n",
    "else:\n",
    "    print \"enter proper id\""
   ]
  },
  {
   "cell_type": "code",
   "execution_count": 18,
   "metadata": {},
   "outputs": [
    {
     "name": "stdout",
     "output_type": "stream",
     "text": [
      "Enter id:3\n",
      "(3, u'jay')\n"
     ]
    }
   ],
   "source": [
    "cust_id=raw_input(\"Enter id:\")\n",
    "if cust_id:\n",
    "    q=\"select * from customer where id=%s\"%cust_id\n",
    "    cur.execute(q)\n",
    "    print cur.fetchone()\n",
    "else:\n",
    "    print \"enter proper id\""
   ]
  },
  {
   "cell_type": "code",
   "execution_count": 19,
   "metadata": {},
   "outputs": [
    {
     "name": "stdout",
     "output_type": "stream",
     "text": [
      "Enter id:4\n",
      "(4, u'Ravi')\n",
      "Enter name to modify:Ravi kumar\n",
      "(4, u'Ravi kumar')\n"
     ]
    }
   ],
   "source": [
    "cust_id=raw_input(\"Enter id:\")\n",
    "if cust_id:\n",
    "    q=\"select * from customer where id=%s\"%cust_id\n",
    "    cur.execute(q)\n",
    "    print cur.fetchone()\n",
    "    name=raw_input(\"Enter name to modify:\")\n",
    "    if name:\n",
    "        q=\"update customer set name='%s' where id=%s\"%(name,cust_id)\n",
    "        cur.execute(q)\n",
    "        con.commit()\n",
    "        q=\"select * from customer where id=%s\"%cust_id\n",
    "        cur.execute(q)\n",
    "        print cur.fetchone()\n",
    "    else:\n",
    "        print \"invalid name\"\n",
    "else:\n",
    "    print \"enter proper id\""
   ]
  },
  {
   "cell_type": "code",
   "execution_count": null,
   "metadata": {
    "collapsed": true
   },
   "outputs": [],
   "source": [
    "def browse(cust_id=None):\n",
    "    if cust_id:\n",
    "        q=\"select * from customer where id=%s\"%cust_id\n",
    "        cur.execute(q)\n",
    "        return cur.fetchone()\n",
    "    else:\n",
    "        q=\"select * from customer\"\n",
    "        cur.execute(q)\n",
    "        return cur.fetchall()\n",
    "        \n",
    "cust_id=raw_input(\"Enter id:\")\n",
    "if cust_id:\n",
    "    q=\"select * from customer where id=%s\"%cust_id\n",
    "    cur.execute(q)\n",
    "    print cur.fetchone()\n",
    "    name=raw_input(\"Enter name to modify:\")\n",
    "    if name:\n",
    "        q=\"update customer set name='%s' where id=%s\"%(name,cust_id)\n",
    "        cur.execute(q)\n",
    "        con.commit()\n",
    "        q=\"select * from customer where id=%s\"%cust_id\n",
    "        cur.execute(q)\n",
    "        print cur.fetchone()\n",
    "    else:\n",
    "        print \"invalid name\"\n",
    "else:\n",
    "    print \"enter proper id\""
   ]
  }
 ],
 "metadata": {
  "kernelspec": {
   "display_name": "Python 2",
   "language": "python",
   "name": "python2"
  },
  "language_info": {
   "codemirror_mode": {
    "name": "ipython",
    "version": 2
   },
   "file_extension": ".py",
   "mimetype": "text/x-python",
   "name": "python",
   "nbconvert_exporter": "python",
   "pygments_lexer": "ipython2",
   "version": "2.7.14"
  }
 },
 "nbformat": 4,
 "nbformat_minor": 2
}
