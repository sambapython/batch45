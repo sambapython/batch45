{
 "cells": [
  {
   "cell_type": "code",
   "execution_count": 1,
   "metadata": {
    "collapsed": true
   },
   "outputs": [],
   "source": [
    "d={\"name\":\"Ani\",\"age\":23,\"height\":45}"
   ]
  },
  {
   "cell_type": "code",
   "execution_count": 2,
   "metadata": {},
   "outputs": [
    {
     "name": "stdout",
     "output_type": "stream",
     "text": [
      "age\n",
      "name\n",
      "height\n"
     ]
    }
   ],
   "source": [
    "for i in d:\n",
    "    print i"
   ]
  },
  {
   "cell_type": "code",
   "execution_count": 3,
   "metadata": {},
   "outputs": [
    {
     "name": "stdout",
     "output_type": "stream",
     "text": [
      "age 23\n",
      "name Ani\n",
      "height 45\n"
     ]
    }
   ],
   "source": [
    "for i in d:\n",
    "    print i,d[i]"
   ]
  },
  {
   "cell_type": "code",
   "execution_count": 4,
   "metadata": {},
   "outputs": [
    {
     "data": {
      "text/plain": [
       "['age', 'name', 'height']"
      ]
     },
     "execution_count": 4,
     "metadata": {},
     "output_type": "execute_result"
    }
   ],
   "source": [
    "d.keys()"
   ]
  },
  {
   "cell_type": "code",
   "execution_count": 5,
   "metadata": {},
   "outputs": [
    {
     "data": {
      "text/plain": [
       "[23, 'Ani', 45]"
      ]
     },
     "execution_count": 5,
     "metadata": {},
     "output_type": "execute_result"
    }
   ],
   "source": [
    "d.values()"
   ]
  },
  {
   "cell_type": "code",
   "execution_count": 6,
   "metadata": {},
   "outputs": [
    {
     "data": {
      "text/plain": [
       "True"
      ]
     },
     "execution_count": 6,
     "metadata": {},
     "output_type": "execute_result"
    }
   ],
   "source": [
    "\"age\" in d"
   ]
  },
  {
   "cell_type": "code",
   "execution_count": 7,
   "metadata": {},
   "outputs": [
    {
     "data": {
      "text/plain": [
       "True"
      ]
     },
     "execution_count": 7,
     "metadata": {},
     "output_type": "execute_result"
    }
   ],
   "source": [
    "\"age\" in d.keys()"
   ]
  },
  {
   "cell_type": "code",
   "execution_count": 8,
   "metadata": {},
   "outputs": [
    {
     "data": {
      "text/plain": [
       "False"
      ]
     },
     "execution_count": 8,
     "metadata": {},
     "output_type": "execute_result"
    }
   ],
   "source": [
    "d={\"name\":\"Ani\",\"age\":23,\"height\":45}\n",
    "23 in d"
   ]
  },
  {
   "cell_type": "code",
   "execution_count": 9,
   "metadata": {},
   "outputs": [
    {
     "data": {
      "text/plain": [
       "True"
      ]
     },
     "execution_count": 9,
     "metadata": {},
     "output_type": "execute_result"
    }
   ],
   "source": [
    "d={\"name\":\"Ani\",\"age\":23,\"height\":45}\n",
    "23 in d.values()"
   ]
  },
  {
   "cell_type": "code",
   "execution_count": 11,
   "metadata": {},
   "outputs": [
    {
     "name": "stdout",
     "output_type": "stream",
     "text": [
      "True\n"
     ]
    }
   ],
   "source": [
    "d={\"name\":\"Ani\",\"age\":23,\"height\":45}\n",
    "print d.has_key(\"age\")"
   ]
  },
  {
   "cell_type": "code",
   "execution_count": 12,
   "metadata": {},
   "outputs": [
    {
     "name": "stdout",
     "output_type": "stream",
     "text": [
      "[('age', 23), ('name', 'Ani'), ('height', 45)]\n"
     ]
    }
   ],
   "source": [
    "d={\"name\":\"Ani\",\"age\":23,\"height\":45}\n",
    "print d.items()"
   ]
  },
  {
   "cell_type": "code",
   "execution_count": 13,
   "metadata": {},
   "outputs": [
    {
     "name": "stdout",
     "output_type": "stream",
     "text": [
      "('age', 23)\n",
      "('name', 'Ani')\n",
      "('height', 45)\n"
     ]
    }
   ],
   "source": [
    "for item in d.items():\n",
    "    print item"
   ]
  },
  {
   "cell_type": "code",
   "execution_count": 14,
   "metadata": {},
   "outputs": [
    {
     "name": "stdout",
     "output_type": "stream",
     "text": [
      "age 23\n",
      "name Ani\n",
      "height 45\n"
     ]
    }
   ],
   "source": [
    "for item in d.items():\n",
    "    print item[0],item[1]"
   ]
  },
  {
   "cell_type": "code",
   "execution_count": 15,
   "metadata": {},
   "outputs": [
    {
     "name": "stdout",
     "output_type": "stream",
     "text": [
      "age 23\n",
      "name Ani\n",
      "height 45\n"
     ]
    }
   ],
   "source": [
    "for key,value in d.items():\n",
    "    print key, value"
   ]
  },
  {
   "cell_type": "code",
   "execution_count": 16,
   "metadata": {},
   "outputs": [
    {
     "name": "stdout",
     "output_type": "stream",
     "text": [
      "0 age\n",
      "1 name\n",
      "2 height\n"
     ]
    }
   ],
   "source": [
    "for item in enumerate(d):\n",
    "    print item[0],item[1]"
   ]
  },
  {
   "cell_type": "code",
   "execution_count": 17,
   "metadata": {},
   "outputs": [
    {
     "name": "stdout",
     "output_type": "stream",
     "text": [
      "['age', 'name', 'height']\n"
     ]
    }
   ],
   "source": [
    "print d.keys()"
   ]
  },
  {
   "cell_type": "code",
   "execution_count": 18,
   "metadata": {},
   "outputs": [
    {
     "name": "stdout",
     "output_type": "stream",
     "text": [
      "(0, 'age')\n",
      "(1, 'name')\n",
      "(2, 'height')\n"
     ]
    }
   ],
   "source": [
    "for i in enumerate(d.keys()):\n",
    "    print i"
   ]
  },
  {
   "cell_type": "code",
   "execution_count": 19,
   "metadata": {},
   "outputs": [
    {
     "name": "stdout",
     "output_type": "stream",
     "text": [
      "{}\n"
     ]
    }
   ],
   "source": [
    "d={\"name\":\"Ani\",\"age\":23,\"height\":45}\n",
    "d.clear()\n",
    "print d"
   ]
  },
  {
   "cell_type": "code",
   "execution_count": 20,
   "metadata": {},
   "outputs": [
    {
     "ename": "TypeError",
     "evalue": "pop expected at least 1 arguments, got 0",
     "output_type": "error",
     "traceback": [
      "\u001b[0;31m---------------------------------------------------------------------------\u001b[0m",
      "\u001b[0;31mTypeError\u001b[0m                                 Traceback (most recent call last)",
      "\u001b[0;32m<ipython-input-20-665313f8542e>\u001b[0m in \u001b[0;36m<module>\u001b[0;34m()\u001b[0m\n\u001b[1;32m      1\u001b[0m \u001b[0md\u001b[0m\u001b[0;34m=\u001b[0m\u001b[0;34m{\u001b[0m\u001b[0;34m\"name\"\u001b[0m\u001b[0;34m:\u001b[0m\u001b[0;34m\"Ani\"\u001b[0m\u001b[0;34m,\u001b[0m\u001b[0;34m\"age\"\u001b[0m\u001b[0;34m:\u001b[0m\u001b[0;36m23\u001b[0m\u001b[0;34m,\u001b[0m\u001b[0;34m\"height\"\u001b[0m\u001b[0;34m:\u001b[0m\u001b[0;36m45\u001b[0m\u001b[0;34m}\u001b[0m\u001b[0;34m\u001b[0m\u001b[0m\n\u001b[0;32m----> 2\u001b[0;31m \u001b[0md\u001b[0m\u001b[0;34m.\u001b[0m\u001b[0mpop\u001b[0m\u001b[0;34m(\u001b[0m\u001b[0;34m)\u001b[0m\u001b[0;34m\u001b[0m\u001b[0m\n\u001b[0m\u001b[1;32m      3\u001b[0m \u001b[0;32mprint\u001b[0m \u001b[0md\u001b[0m\u001b[0;34m\u001b[0m\u001b[0m\n",
      "\u001b[0;31mTypeError\u001b[0m: pop expected at least 1 arguments, got 0"
     ]
    }
   ],
   "source": [
    "d={\"name\":\"Ani\",\"age\":23,\"height\":45}\n",
    "d.pop()\n",
    "print d"
   ]
  },
  {
   "cell_type": "code",
   "execution_count": 21,
   "metadata": {},
   "outputs": [
    {
     "name": "stdout",
     "output_type": "stream",
     "text": [
      "{'name': 'Ani', 'height': 45}\n"
     ]
    }
   ],
   "source": [
    "d={\"name\":\"Ani\",\"age\":23,\"height\":45}\n",
    "d.pop(\"age\")\n",
    "print d"
   ]
  },
  {
   "cell_type": "code",
   "execution_count": 22,
   "metadata": {},
   "outputs": [
    {
     "name": "stdout",
     "output_type": "stream",
     "text": [
      "{'name': 'Ani', 'height': 45}\n"
     ]
    }
   ],
   "source": [
    "d={\"name\":\"Ani\",\"age\":23,\"height\":45}\n",
    "d.popitem()\n",
    "print d"
   ]
  },
  {
   "cell_type": "code",
   "execution_count": 23,
   "metadata": {},
   "outputs": [
    {
     "name": "stdout",
     "output_type": "stream",
     "text": [
      "{'height': 45}\n"
     ]
    }
   ],
   "source": [
    "d={\"name\":\"Ani\",\"age\":23,\"height\":45}\n",
    "del d[\"name\"],d[\"age\"]\n",
    "print d"
   ]
  },
  {
   "cell_type": "code",
   "execution_count": 24,
   "metadata": {},
   "outputs": [
    {
     "ename": "AttributeError",
     "evalue": "'dict' object has no attribute 'remove'",
     "output_type": "error",
     "traceback": [
      "\u001b[0;31m---------------------------------------------------------------------------\u001b[0m",
      "\u001b[0;31mAttributeError\u001b[0m                            Traceback (most recent call last)",
      "\u001b[0;32m<ipython-input-24-3ea2d8707dfc>\u001b[0m in \u001b[0;36m<module>\u001b[0;34m()\u001b[0m\n\u001b[0;32m----> 1\u001b[0;31m \u001b[0md\u001b[0m\u001b[0;34m.\u001b[0m\u001b[0mremove\u001b[0m\u001b[0;34m(\u001b[0m\u001b[0;34m\"age\"\u001b[0m\u001b[0;34m)\u001b[0m\u001b[0;34m\u001b[0m\u001b[0m\n\u001b[0m",
      "\u001b[0;31mAttributeError\u001b[0m: 'dict' object has no attribute 'remove'"
     ]
    }
   ],
   "source": [
    "d.remove(\"age\")"
   ]
  },
  {
   "cell_type": "code",
   "execution_count": 25,
   "metadata": {},
   "outputs": [
    {
     "name": "stdout",
     "output_type": "stream",
     "text": [
      "[1000, 2000]\n"
     ]
    }
   ],
   "source": [
    "l1=[1000,2000,3000]\n",
    "l2=l1\n",
    "l1.pop()\n",
    "print l2"
   ]
  },
  {
   "cell_type": "code",
   "execution_count": 26,
   "metadata": {},
   "outputs": [
    {
     "ename": "NameError",
     "evalue": "name 'copy' is not defined",
     "output_type": "error",
     "traceback": [
      "\u001b[0;31m---------------------------------------------------------------------------\u001b[0m",
      "\u001b[0;31mNameError\u001b[0m                                 Traceback (most recent call last)",
      "\u001b[0;32m<ipython-input-26-2041e6c7155a>\u001b[0m in \u001b[0;36m<module>\u001b[0;34m()\u001b[0m\n\u001b[1;32m      1\u001b[0m \u001b[0ml1\u001b[0m\u001b[0;34m=\u001b[0m\u001b[0;34m[\u001b[0m\u001b[0;36m1000\u001b[0m\u001b[0;34m,\u001b[0m\u001b[0;36m2000\u001b[0m\u001b[0;34m,\u001b[0m\u001b[0;36m3000\u001b[0m\u001b[0;34m]\u001b[0m\u001b[0;34m\u001b[0m\u001b[0m\n\u001b[0;32m----> 2\u001b[0;31m \u001b[0ml2\u001b[0m\u001b[0;34m=\u001b[0m\u001b[0mcopy\u001b[0m\u001b[0;34m(\u001b[0m\u001b[0ml1\u001b[0m\u001b[0;34m)\u001b[0m\u001b[0;34m\u001b[0m\u001b[0m\n\u001b[0m\u001b[1;32m      3\u001b[0m \u001b[0ml1\u001b[0m\u001b[0;34m.\u001b[0m\u001b[0mpop\u001b[0m\u001b[0;34m(\u001b[0m\u001b[0;34m)\u001b[0m\u001b[0;34m\u001b[0m\u001b[0m\n\u001b[1;32m      4\u001b[0m \u001b[0;32mprint\u001b[0m \u001b[0ml2\u001b[0m\u001b[0;34m\u001b[0m\u001b[0m\n",
      "\u001b[0;31mNameError\u001b[0m: name 'copy' is not defined"
     ]
    }
   ],
   "source": [
    "l1=[1000,2000,3000]\n",
    "l2=copy(l1)\n",
    "l1.pop()\n",
    "print l2"
   ]
  },
  {
   "cell_type": "code",
   "execution_count": 29,
   "metadata": {},
   "outputs": [
    {
     "name": "stdout",
     "output_type": "stream",
     "text": [
      "140277153528360\n",
      "140277153528360\n",
      "[1000, 2000]\n"
     ]
    }
   ],
   "source": [
    "l1=[1000,2000,3000]\n",
    "l2=l1\n",
    "print id(l1)\n",
    "print id(l2)\n",
    "l1.pop()\n",
    "print l2"
   ]
  },
  {
   "cell_type": "code",
   "execution_count": 30,
   "metadata": {},
   "outputs": [
    {
     "name": "stdout",
     "output_type": "stream",
     "text": [
      "[1000, 2000, 3000]\n",
      "[1000, 2000, 3000]\n",
      "140277153571760\n",
      "140277153527784\n",
      "[1000, 2000, 3000]\n"
     ]
    }
   ],
   "source": [
    "l1=[1000,2000,3000]\n",
    "l2=l1[:]\n",
    "print l1\n",
    "print l2\n",
    "print id(l1)\n",
    "print id(l2)\n",
    "l1.pop()\n",
    "print l2"
   ]
  },
  {
   "cell_type": "code",
   "execution_count": 31,
   "metadata": {},
   "outputs": [
    {
     "name": "stdout",
     "output_type": "stream",
     "text": [
      "{'name': 'Ani', 'height': 45}\n"
     ]
    }
   ],
   "source": [
    "d={\"name\":\"Ani\",\"age\":23,\"height\":45}\n",
    "d1=d\n",
    "d.pop(\"age\")\n",
    "print d1"
   ]
  },
  {
   "cell_type": "code",
   "execution_count": 32,
   "metadata": {},
   "outputs": [
    {
     "name": "stdout",
     "output_type": "stream",
     "text": [
      "{'age': 23, 'name': 'Ani', 'height': 45}\n"
     ]
    }
   ],
   "source": [
    "d={\"name\":\"Ani\",\"age\":23,\"height\":45}\n",
    "d1=d.copy()\n",
    "d.pop(\"age\")\n",
    "print d1"
   ]
  },
  {
   "cell_type": "code",
   "execution_count": 33,
   "metadata": {},
   "outputs": [
    {
     "name": "stdout",
     "output_type": "stream",
     "text": [
      "{'age': 23, 'name': 'Ani', 'height': 45}\n",
      "{'age': 23, 'name': 'Ani', 'height': 45}\n",
      "140277154695160\n",
      "140277154695160\n",
      "{'name': 'Ani', 'height': 45}\n"
     ]
    }
   ],
   "source": [
    "d={\"name\":\"Ani\",\"age\":23,\"height\":45}\n",
    "d1=d\n",
    "print d\n",
    "print d1\n",
    "print id(d)\n",
    "print id(d1)\n",
    "d.pop(\"age\")\n",
    "print d1"
   ]
  },
  {
   "cell_type": "code",
   "execution_count": 34,
   "metadata": {},
   "outputs": [
    {
     "name": "stdout",
     "output_type": "stream",
     "text": [
      "{'age': 23, 'name': 'Ani', 'height': 45}\n",
      "{'age': 23, 'name': 'Ani', 'height': 45}\n",
      "140277154695440\n",
      "140277153584864\n",
      "{'age': 23, 'name': 'Ani', 'height': 45}\n"
     ]
    }
   ],
   "source": [
    "d={\"name\":\"Ani\",\"age\":23,\"height\":45}\n",
    "d1=d.copy()\n",
    "print d\n",
    "print d1\n",
    "print id(d)\n",
    "print id(d1)\n",
    "d.pop(\"age\")\n",
    "print d1"
   ]
  },
  {
   "cell_type": "code",
   "execution_count": 35,
   "metadata": {
    "collapsed": true
   },
   "outputs": [],
   "source": [
    "d={}"
   ]
  },
  {
   "cell_type": "code",
   "execution_count": 36,
   "metadata": {},
   "outputs": [
    {
     "name": "stdout",
     "output_type": "stream",
     "text": [
      "age 23\n",
      "name Ani\n",
      "height 45\n"
     ]
    }
   ],
   "source": [
    "d={\"name\":\"Ani\",\"age\":23,\"height\":45}\n",
    "for k,v in d.items():\n",
    "    print k,v"
   ]
  },
  {
   "cell_type": "code",
   "execution_count": 37,
   "metadata": {},
   "outputs": [
    {
     "name": "stdout",
     "output_type": "stream",
     "text": [
      "{'age': 23, 'name': 'Ani'}\n"
     ]
    }
   ],
   "source": [
    "d={\"name\":\"Ani\",\"age\":23,\"height\":45}\n",
    "for k,v in d.items():\n",
    "    if v==45:\n",
    "        d.pop(k)\n",
    "print d"
   ]
  },
  {
   "cell_type": "code",
   "execution_count": 38,
   "metadata": {},
   "outputs": [
    {
     "name": "stdout",
     "output_type": "stream",
     "text": [
      "{}\n",
      "{0: 'v1', 1: 'v1', 2: 'v1', 3: 'v1', 4: 'v1', 5: 'v1', 6: 'v1', 7: 'v1', 8: 'v1', 9: 'v1'}\n"
     ]
    }
   ],
   "source": [
    "d={}\n",
    "keys=xrange(10)\n",
    "d1=d.fromkeys(keys,\"v1\")\n",
    "print d\n",
    "print d1\n"
   ]
  },
  {
   "cell_type": "code",
   "execution_count": 39,
   "metadata": {},
   "outputs": [
    {
     "name": "stdout",
     "output_type": "stream",
     "text": [
      "{'age': 23, 'name': 'Anil kumar', 'height': 45}\n"
     ]
    }
   ],
   "source": [
    "d={\"name\":\"Ani\",\"age\":23,\"height\":45}\n",
    "d[\"name\"]=\"Anil kumar\"\n",
    "print d"
   ]
  },
  {
   "cell_type": "code",
   "execution_count": 41,
   "metadata": {},
   "outputs": [
    {
     "name": "stdout",
     "output_type": "stream",
     "text": [
      "{'age': 23, 'name': 'Anil kumar1', 'height': 45}\n",
      "{'age': 23, 'name': 'Anil kumar2', 'height': 45}\n"
     ]
    }
   ],
   "source": [
    "d={\"name\":\"Ani\",\"age\":23,\"height\":45}\n",
    "d[\"name\"]=\"Anil kumar1\"\n",
    "print d\n",
    "d.update({\"name\":\"Anil kumar2\"})\n",
    "print d\n"
   ]
  },
  {
   "cell_type": "code",
   "execution_count": 42,
   "metadata": {},
   "outputs": [
    {
     "name": "stdout",
     "output_type": "stream",
     "text": [
      "{'age': 23, 'name2': 'Anilkumar3', 'name': 'Anil kumar2', 'height': 45}\n"
     ]
    }
   ],
   "source": [
    "d.setdefault(\"name2\",\"Anilkumar3\")\n",
    "print d"
   ]
  },
  {
   "cell_type": "code",
   "execution_count": 44,
   "metadata": {},
   "outputs": [
    {
     "name": "stdout",
     "output_type": "stream",
     "text": [
      "{'age': 23, 'name': 'Ani', 'height': 45}\n"
     ]
    }
   ],
   "source": [
    "d={\"name\":\"Ani\",\"age\":23,\"height\":45}\n",
    "d.setdefault(\"name\",\"anil kumar\")\n",
    "print d"
   ]
  },
  {
   "cell_type": "code",
   "execution_count": 45,
   "metadata": {},
   "outputs": [
    {
     "name": "stdout",
     "output_type": "stream",
     "text": [
      "{'age': 23, 'name2': 'anil kumar', 'name': 'Ani', 'height': 45}\n"
     ]
    }
   ],
   "source": [
    "d={\"name\":\"Ani\",\"age\":23,\"height\":45}\n",
    "d.setdefault(\"name2\",\"anil kumar\")\n",
    "print d"
   ]
  },
  {
   "cell_type": "code",
   "execution_count": 46,
   "metadata": {},
   "outputs": [
    {
     "name": "stdout",
     "output_type": "stream",
     "text": [
      "{'age': 23, 'name': 'Ani', 'pan': 'BRCPR244556', 'height': 45}\n",
      "{'age': 23, 'passport': 'fdgrw324235', 'name': 'Ani', 'pan': 'BRCPR244556', 'height': 45}\n",
      "{'name': 'Ani', 'age': 23, 'height': 45, 'adhar': '1423wert4352345', 'passport': 'fdgrw324235', 'pan': 'BRCPR244556'}\n"
     ]
    }
   ],
   "source": [
    "d={\"name\":\"Ani\",\"age\":23,\"height\":45}\n",
    "d[\"pan\"]=\"BRCPR244556\"\n",
    "print d\n",
    "d.update({\"passport\":\"fdgrw324235\"})\n",
    "print d\n",
    "d.setdefault(\"adhar\",\"1423wert4352345\")\n",
    "print d"
   ]
  },
  {
   "cell_type": "code",
   "execution_count": 47,
   "metadata": {},
   "outputs": [
    {
     "name": "stdout",
     "output_type": "stream",
     "text": [
      "23\n"
     ]
    }
   ],
   "source": [
    "d={'name': 'Ani', 'age': 23, 'height': 45, 'adhar': '1423wert4352345', 'passport': 'fdgrw324235', 'pan': 'BRCPR244556'}\n",
    "print d[\"age\"]"
   ]
  },
  {
   "cell_type": "code",
   "execution_count": 48,
   "metadata": {},
   "outputs": [
    {
     "ename": "KeyError",
     "evalue": "'phone'",
     "output_type": "error",
     "traceback": [
      "\u001b[0;31m---------------------------------------------------------------------------\u001b[0m",
      "\u001b[0;31mKeyError\u001b[0m                                  Traceback (most recent call last)",
      "\u001b[0;32m<ipython-input-48-e858f3ca92b8>\u001b[0m in \u001b[0;36m<module>\u001b[0;34m()\u001b[0m\n\u001b[1;32m      1\u001b[0m \u001b[0md\u001b[0m\u001b[0;34m=\u001b[0m\u001b[0;34m{\u001b[0m\u001b[0;34m'name'\u001b[0m\u001b[0;34m:\u001b[0m \u001b[0;34m'Ani'\u001b[0m\u001b[0;34m,\u001b[0m \u001b[0;34m'age'\u001b[0m\u001b[0;34m:\u001b[0m \u001b[0;36m23\u001b[0m\u001b[0;34m,\u001b[0m \u001b[0;34m'height'\u001b[0m\u001b[0;34m:\u001b[0m \u001b[0;36m45\u001b[0m\u001b[0;34m,\u001b[0m \u001b[0;34m'adhar'\u001b[0m\u001b[0;34m:\u001b[0m \u001b[0;34m'1423wert4352345'\u001b[0m\u001b[0;34m,\u001b[0m \u001b[0;34m'passport'\u001b[0m\u001b[0;34m:\u001b[0m \u001b[0;34m'fdgrw324235'\u001b[0m\u001b[0;34m,\u001b[0m \u001b[0;34m'pan'\u001b[0m\u001b[0;34m:\u001b[0m \u001b[0;34m'BRCPR244556'\u001b[0m\u001b[0;34m}\u001b[0m\u001b[0;34m\u001b[0m\u001b[0m\n\u001b[0;32m----> 2\u001b[0;31m \u001b[0;32mprint\u001b[0m \u001b[0md\u001b[0m\u001b[0;34m[\u001b[0m\u001b[0;34m\"phone\"\u001b[0m\u001b[0;34m]\u001b[0m\u001b[0;34m\u001b[0m\u001b[0m\n\u001b[0m",
      "\u001b[0;31mKeyError\u001b[0m: 'phone'"
     ]
    }
   ],
   "source": [
    "d={'name': 'Ani', 'age': 23, 'height': 45, 'adhar': '1423wert4352345', 'passport': 'fdgrw324235', 'pan': 'BRCPR244556'}\n",
    "print d[\"phone\"]"
   ]
  },
  {
   "cell_type": "code",
   "execution_count": 50,
   "metadata": {},
   "outputs": [
    {
     "name": "stdout",
     "output_type": "stream",
     "text": [
      " None\n"
     ]
    }
   ],
   "source": [
    "d={'name': 'Ani', 'age': 23, 'height': 45, 'adhar': '1423wert4352345', 'passport': 'fdgrw324235', 'pan': 'BRCPR244556'}\n",
    "print d.get(\"phone\")"
   ]
  },
  {
   "cell_type": "code",
   "execution_count": 51,
   "metadata": {},
   "outputs": [
    {
     "name": "stdout",
     "output_type": "stream",
     "text": [
      "00000000\n"
     ]
    }
   ],
   "source": [
    "d={'name': 'Ani', 'age': 23, 'height': 45, 'adhar': '1423wert4352345', 'passport': 'fdgrw324235', 'pan': 'BRCPR244556'}\n",
    "print d.get(\"phone\",\"00000000\")"
   ]
  },
  {
   "cell_type": "code",
   "execution_count": 52,
   "metadata": {},
   "outputs": [
    {
     "name": "stdout",
     "output_type": "stream",
     "text": [
      "23\n"
     ]
    }
   ],
   "source": [
    "d={'name': 'Ani', 'age': 23, 'height': 45, 'adhar': '1423wert4352345', 'passport': 'fdgrw324235', 'pan': 'BRCPR244556'}\n",
    "print d.get(\"age\",\"00000000\")"
   ]
  },
  {
   "cell_type": "code",
   "execution_count": 53,
   "metadata": {},
   "outputs": [
    {
     "name": "stdout",
     "output_type": "stream",
     "text": [
      "23\n"
     ]
    }
   ],
   "source": [
    "d={'name': 'Ani', 'age': 23, 'height': 45, 'adhar': '1423wert4352345', 'passport': 'fdgrw324235', 'pan': 'BRCPR244556'}\n",
    "print d.pop(\"age\")"
   ]
  },
  {
   "cell_type": "code",
   "execution_count": 54,
   "metadata": {},
   "outputs": [
    {
     "ename": "KeyError",
     "evalue": "'phone'",
     "output_type": "error",
     "traceback": [
      "\u001b[0;31m---------------------------------------------------------------------------\u001b[0m",
      "\u001b[0;31mKeyError\u001b[0m                                  Traceback (most recent call last)",
      "\u001b[0;32m<ipython-input-54-c6d348ec46ba>\u001b[0m in \u001b[0;36m<module>\u001b[0;34m()\u001b[0m\n\u001b[1;32m      1\u001b[0m \u001b[0md\u001b[0m\u001b[0;34m=\u001b[0m\u001b[0;34m{\u001b[0m\u001b[0;34m'name'\u001b[0m\u001b[0;34m:\u001b[0m \u001b[0;34m'Ani'\u001b[0m\u001b[0;34m,\u001b[0m \u001b[0;34m'age'\u001b[0m\u001b[0;34m:\u001b[0m \u001b[0;36m23\u001b[0m\u001b[0;34m,\u001b[0m \u001b[0;34m'height'\u001b[0m\u001b[0;34m:\u001b[0m \u001b[0;36m45\u001b[0m\u001b[0;34m,\u001b[0m \u001b[0;34m'adhar'\u001b[0m\u001b[0;34m:\u001b[0m \u001b[0;34m'1423wert4352345'\u001b[0m\u001b[0;34m,\u001b[0m \u001b[0;34m'passport'\u001b[0m\u001b[0;34m:\u001b[0m \u001b[0;34m'fdgrw324235'\u001b[0m\u001b[0;34m,\u001b[0m \u001b[0;34m'pan'\u001b[0m\u001b[0;34m:\u001b[0m \u001b[0;34m'BRCPR244556'\u001b[0m\u001b[0;34m}\u001b[0m\u001b[0;34m\u001b[0m\u001b[0m\n\u001b[0;32m----> 2\u001b[0;31m \u001b[0;32mprint\u001b[0m \u001b[0md\u001b[0m\u001b[0;34m.\u001b[0m\u001b[0mpop\u001b[0m\u001b[0;34m(\u001b[0m\u001b[0;34m\"phone\"\u001b[0m\u001b[0;34m)\u001b[0m\u001b[0;34m\u001b[0m\u001b[0m\n\u001b[0m",
      "\u001b[0;31mKeyError\u001b[0m: 'phone'"
     ]
    }
   ],
   "source": [
    "d={'name': 'Ani', 'age': 23, 'height': 45, 'adhar': '1423wert4352345', 'passport': 'fdgrw324235', 'pan': 'BRCPR244556'}\n",
    "print d.pop(\"phone\")"
   ]
  },
  {
   "cell_type": "code",
   "execution_count": 55,
   "metadata": {},
   "outputs": [
    {
     "name": "stdout",
     "output_type": "stream",
     "text": [
      "000000\n"
     ]
    }
   ],
   "source": [
    "d={'name': 'Ani', 'age': 23, 'height': 45, 'adhar': '1423wert4352345', 'passport': 'fdgrw324235', 'pan': 'BRCPR244556'}\n",
    "print d.pop(\"phone\",\"000000\")"
   ]
  },
  {
   "cell_type": "code",
   "execution_count": 58,
   "metadata": {},
   "outputs": [
    {
     "name": "stdout",
     "output_type": "stream",
     "text": [
      "ITEMSSSS ********************\n",
      "name Ani\n",
      "age 23\n",
      "height 45\n",
      "adhar 1423wert4352345\n",
      "passport fdgrw324235\n",
      "pan BRCPR244556\n",
      "ITER ITEMSSSS ********************\n",
      "name Ani\n",
      "age 23\n",
      "height 45\n",
      "adhar 1423wert4352345\n",
      "passport fdgrw324235\n",
      "pan BRCPR244556\n",
      " VIEW  ITEMSSSS ********************\n",
      "name Ani\n",
      "age 23\n",
      "height 45\n",
      "adhar 1423wert4352345\n",
      "passport fdgrw324235\n",
      "pan BRCPR244556\n"
     ]
    }
   ],
   "source": [
    "# normal, iter, view\n",
    "d={'name': 'Ani', 'age': 23, 'height': 45, 'adhar': '1423wert4352345', 'passport': 'fdgrw324235', 'pan': 'BRCPR244556'}\n",
    "print \"ITEMSSSS\",\"*\"*20\n",
    "for k,v in d.items():\n",
    "    print k,v\n",
    "print \"ITER ITEMSSSS\",\"*\"*20\n",
    "for k,v in d.iteritems():\n",
    "    print k,v\n",
    "print \" VIEW  ITEMSSSS\",\"*\"*20\n",
    "for k,v in d.viewitems():\n",
    "    print k,v"
   ]
  },
  {
   "cell_type": "code",
   "execution_count": 59,
   "metadata": {},
   "outputs": [
    {
     "name": "stdout",
     "output_type": "stream",
     "text": [
      "[('name', 'Ani'), ('age', 23), ('height', 45), ('adhar', '1423wert4352345'), ('passport', 'fdgrw324235'), ('pan', 'BRCPR244556')]\n",
      "<dictionary-itemiterator object at 0x7f94d1f04e68>\n",
      "dict_items([('name', 'Ani'), ('age', 23), ('height', 45), ('adhar', '1423wert4352345'), ('passport', 'fdgrw324235'), ('pan', 'BRCPR244556')])\n"
     ]
    }
   ],
   "source": [
    "d={'name': 'Ani', 'age': 23, 'height': 45, 'adhar': '1423wert4352345', 'passport': 'fdgrw324235', 'pan': 'BRCPR244556'}\n",
    "print d.items()\n",
    "print d.iteritems()\n",
    "print d.viewitems()"
   ]
  },
  {
   "cell_type": "code",
   "execution_count": 61,
   "metadata": {},
   "outputs": [
    {
     "name": "stdout",
     "output_type": "stream",
     "text": [
      "('name', 'Ani')\n",
      "('age', 23)\n",
      "('height', 45)\n",
      "('adhar', '1423wert4352345')\n",
      "('passport', 'fdgrw324235')\n",
      "('pan', 'BRCPR244556')\n"
     ]
    }
   ],
   "source": [
    "d={'name': 'Ani', 'age': 23, 'height': 45, 'adhar': '1423wert4352345', 'passport': 'fdgrw324235', 'pan': 'BRCPR244556'}\n",
    "for i in d.items():\n",
    "    print i"
   ]
  },
  {
   "cell_type": "code",
   "execution_count": 62,
   "metadata": {},
   "outputs": [
    {
     "name": "stdout",
     "output_type": "stream",
     "text": [
      "('name', 'Ani')\n",
      "('age', 23)\n",
      "('height', 45)\n",
      "('adhar', '1423wert4352345')\n",
      "('passport', 'fdgrw324235')\n",
      "('pan', 'BRCPR244556')\n"
     ]
    }
   ],
   "source": [
    "d={'name': 'Ani', 'age': 23, 'height': 45, 'adhar': '1423wert4352345', 'passport': 'fdgrw324235', 'pan': 'BRCPR244556'}\n",
    "for i in d.iteritems():\n",
    "    print i"
   ]
  },
  {
   "cell_type": "code",
   "execution_count": 63,
   "metadata": {},
   "outputs": [
    {
     "name": "stdout",
     "output_type": "stream",
     "text": [
      "Ani\n",
      "23\n",
      "45\n",
      "1423wert4352345\n",
      "fdgrw324235\n",
      "BRCPR244556\n"
     ]
    }
   ],
   "source": [
    "d={'name': 'Ani', 'age': 23, 'height': 45, 'adhar': '1423wert4352345', 'passport': 'fdgrw324235', 'pan': 'BRCPR244556'}\n",
    "for i in d.keys():\n",
    "    print d[i]"
   ]
  },
  {
   "cell_type": "code",
   "execution_count": 64,
   "metadata": {},
   "outputs": [
    {
     "name": "stdout",
     "output_type": "stream",
     "text": [
      "Ani\n",
      "23\n",
      "45\n",
      "1423wert4352345\n",
      "fdgrw324235\n",
      "BRCPR244556\n"
     ]
    }
   ],
   "source": [
    "d={'name': 'Ani', 'age': 23, 'height': 45, 'adhar': '1423wert4352345', 'passport': 'fdgrw324235', 'pan': 'BRCPR244556'}\n",
    "for i in d:\n",
    "    print d[i]"
   ]
  },
  {
   "cell_type": "code",
   "execution_count": 65,
   "metadata": {},
   "outputs": [
    {
     "name": "stdout",
     "output_type": "stream",
     "text": [
      "('name', 'Ani')\n",
      "('age', 23)\n",
      "('height', 45)\n",
      "('adhar', '1423wert4352345')\n",
      "('passport', 'fdgrw324235')\n",
      "('pan', 'BRCPR244556')\n"
     ]
    }
   ],
   "source": [
    "d={'name': 'Ani', 'age': 23, 'height': 45, 'adhar': '1423wert4352345', 'passport': 'fdgrw324235', 'pan': 'BRCPR244556'}\n",
    "di = d.iteritems()\n",
    "for i in di:\n",
    "    print i"
   ]
  },
  {
   "cell_type": "code",
   "execution_count": 66,
   "metadata": {},
   "outputs": [
    {
     "name": "stdout",
     "output_type": "stream",
     "text": [
      "('name', 'Ani')\n",
      "('age', 23)\n",
      "('height', 45)\n",
      "('adhar', '1423wert4352345')\n",
      "('passport', 'fdgrw324235')\n",
      "('pan', 'BRCPR244556')\n",
      "iterating second time\n"
     ]
    }
   ],
   "source": [
    "d={'name': 'Ani', 'age': 23, 'height': 45, 'adhar': '1423wert4352345', 'passport': 'fdgrw324235', 'pan': 'BRCPR244556'}\n",
    "di = d.iteritems()\n",
    "for i in di:\n",
    "    print i\n",
    "print \"iterating second time\"\n",
    "for j in di:\n",
    "    print j"
   ]
  },
  {
   "cell_type": "code",
   "execution_count": 67,
   "metadata": {},
   "outputs": [
    {
     "name": "stdout",
     "output_type": "stream",
     "text": [
      "('name', 'Ani')\n",
      "('age', 23)\n",
      "('height', 45)\n",
      "('adhar', '1423wert4352345')\n",
      "('passport', 'fdgrw324235')\n",
      "('pan', 'BRCPR244556')\n",
      "iterating second time\n",
      "iterating third time\n",
      "('name', 'Ani')\n",
      "('age', 23)\n",
      "('height', 45)\n",
      "('adhar', '1423wert4352345')\n",
      "('passport', 'fdgrw324235')\n",
      "('pan', 'BRCPR244556')\n"
     ]
    }
   ],
   "source": [
    "d={'name': 'Ani', 'age': 23, 'height': 45, 'adhar': '1423wert4352345', 'passport': 'fdgrw324235', 'pan': 'BRCPR244556'}\n",
    "di = d.iteritems()\n",
    "for i in di:\n",
    "    print i\n",
    "print \"iterating second time\"\n",
    "for j in di:\n",
    "    print j\n",
    "di1=d.iteritems()\n",
    "print \"iterating third time\"\n",
    "for j in di1:\n",
    "    print j"
   ]
  },
  {
   "cell_type": "code",
   "execution_count": 68,
   "metadata": {},
   "outputs": [
    {
     "ename": "RuntimeError",
     "evalue": "dictionary changed size during iteration",
     "output_type": "error",
     "traceback": [
      "\u001b[0;31m---------------------------------------------------------------------------\u001b[0m",
      "\u001b[0;31mRuntimeError\u001b[0m                              Traceback (most recent call last)",
      "\u001b[0;32m<ipython-input-68-4160c78ab1ec>\u001b[0m in \u001b[0;36m<module>\u001b[0;34m()\u001b[0m\n\u001b[1;32m      2\u001b[0m \u001b[0mdi\u001b[0m \u001b[0;34m=\u001b[0m \u001b[0md\u001b[0m\u001b[0;34m.\u001b[0m\u001b[0miteritems\u001b[0m\u001b[0;34m(\u001b[0m\u001b[0;34m)\u001b[0m\u001b[0;34m\u001b[0m\u001b[0m\n\u001b[1;32m      3\u001b[0m \u001b[0md\u001b[0m\u001b[0;34m.\u001b[0m\u001b[0mpop\u001b[0m\u001b[0;34m(\u001b[0m\u001b[0;34m\"adhar\"\u001b[0m\u001b[0;34m)\u001b[0m\u001b[0;34m\u001b[0m\u001b[0m\n\u001b[0;32m----> 4\u001b[0;31m \u001b[0;32mfor\u001b[0m \u001b[0mi\u001b[0m \u001b[0;32min\u001b[0m \u001b[0mdi\u001b[0m\u001b[0;34m:\u001b[0m\u001b[0;34m\u001b[0m\u001b[0m\n\u001b[0m\u001b[1;32m      5\u001b[0m     \u001b[0;32mprint\u001b[0m \u001b[0mi\u001b[0m\u001b[0;34m\u001b[0m\u001b[0m\n",
      "\u001b[0;31mRuntimeError\u001b[0m: dictionary changed size during iteration"
     ]
    }
   ],
   "source": [
    "d={'name': 'Ani', 'age': 23, 'height': 45, 'adhar': '1423wert4352345', 'passport': 'fdgrw324235', 'pan': 'BRCPR244556'}\n",
    "di = d.iteritems()\n",
    "d.pop(\"adhar\")\n",
    "for i in di:\n",
    "    print i\n"
   ]
  },
  {
   "cell_type": "code",
   "execution_count": 69,
   "metadata": {},
   "outputs": [
    {
     "name": "stdout",
     "output_type": "stream",
     "text": [
      "('name', 'Ani')\n",
      "('age', 23)\n",
      "('height', 45)\n",
      "('passport', 'fdgrw324235')\n",
      "('pan', 'BRCPR244556')\n"
     ]
    }
   ],
   "source": [
    "d={'name': 'Ani', 'age': 23, 'height': 45, 'adhar': '1423wert4352345', 'passport': 'fdgrw324235', 'pan': 'BRCPR244556'}\n",
    "di = d.iteritems()\n",
    "d.pop(\"adhar\")\n",
    "di=d.iteritems()\n",
    "for i in di:\n",
    "    print i\n"
   ]
  },
  {
   "cell_type": "code",
   "execution_count": 71,
   "metadata": {},
   "outputs": [
    {
     "name": "stdout",
     "output_type": "stream",
     "text": [
      "('name', 'Ani')\n",
      "('age', 23)\n",
      "('height', 45)\n",
      "('passport', 'fdgrw324235')\n",
      "('pan', 'BRCPR244556')\n"
     ]
    }
   ],
   "source": [
    "d={'name': 'Ani', 'age': 23, 'height': 45, 'adhar': '1423wert4352345', 'passport': 'fdgrw324235', 'pan': 'BRCPR244556'}\n",
    "dv = d.viewitems()\n",
    "d.pop(\"adhar\")\n",
    "for i in dv:\n",
    "    print i\n"
   ]
  },
  {
   "cell_type": "code",
   "execution_count": 72,
   "metadata": {},
   "outputs": [
    {
     "name": "stdout",
     "output_type": "stream",
     "text": [
      "('name', 'Ani')\n",
      "('age', 23)\n",
      "('height', 45)\n",
      "('passport', 'fdgrw324235')\n",
      "('pan', 'BRCPR244556')\n",
      "iterating second time\n",
      "('name', 'Ani')\n",
      "('age', 23)\n",
      "('height', 45)\n",
      "('passport', 'fdgrw324235')\n",
      "('pan', 'BRCPR244556')\n"
     ]
    }
   ],
   "source": [
    "d={'name': 'Ani', 'age': 23, 'height': 45, 'adhar': '1423wert4352345', 'passport': 'fdgrw324235', 'pan': 'BRCPR244556'}\n",
    "dv = d.viewitems()\n",
    "d.pop(\"adhar\")\n",
    "for i in dv:\n",
    "    print i\n",
    "print \"iterating second time\"\n",
    "for i in dv:\n",
    "    print i"
   ]
  },
  {
   "cell_type": "code",
   "execution_count": 74,
   "metadata": {},
   "outputs": [
    {
     "name": "stdout",
     "output_type": "stream",
     "text": [
      "('name', 'Ani')\n",
      "('age', 23)\n",
      "('height', 45)\n",
      "('passport', 'fdgrw324235')\n",
      "('pan', 'BRCPR244556')\n",
      "iterating second time\n",
      "('name', 'Ani')\n",
      "('age', 23)\n",
      "('height', 45)\n",
      "('passport', 'fdgrw324235')\n",
      "('pan', 'BRCPR244556')\n",
      "Iterating after removing three keys\n",
      "('age', 23)\n",
      "('passport', 'fdgrw324235')\n",
      "('pan', 'BRCPR244556')\n"
     ]
    }
   ],
   "source": [
    "d={'name': 'Ani', 'age': 23, 'height': 45, 'adhar': '1423wert4352345', 'passport': 'fdgrw324235', 'pan': 'BRCPR244556'}\n",
    "dv = d.viewitems()\n",
    "d.pop(\"adhar\")\n",
    "for i in dv:\n",
    "    print i\n",
    "print \"iterating second time\"\n",
    "for i in dv:\n",
    "    print i\n",
    "d.pop(\"name\")\n",
    "d.pop(\"height\")\n",
    "print \"Iterating after removing three keys\"\n",
    "for i in dv:\n",
    "    print i"
   ]
  },
  {
   "cell_type": "code",
   "execution_count": 75,
   "metadata": {
    "collapsed": true
   },
   "outputs": [],
   "source": [
    "d={1:2,3:4,1:10}"
   ]
  },
  {
   "cell_type": "code",
   "execution_count": 77,
   "metadata": {},
   "outputs": [
    {
     "name": "stdout",
     "output_type": "stream",
     "text": [
      "{1: 10, 3: 4}\n"
     ]
    }
   ],
   "source": [
    "d={1:2,3:4,1:10}\n",
    "print d\n"
   ]
  },
  {
   "cell_type": "code",
   "execution_count": 78,
   "metadata": {},
   "outputs": [
    {
     "name": "stdout",
     "output_type": "stream",
     "text": [
      "{1: 50, 3: 4}\n"
     ]
    }
   ],
   "source": [
    "d={1:2,3:4,1:10,1:20,1:30,1:40,1:50}\n",
    "print d\n"
   ]
  },
  {
   "cell_type": "code",
   "execution_count": 79,
   "metadata": {},
   "outputs": [
    {
     "name": "stdout",
     "output_type": "stream",
     "text": [
      "[60, 80, 100, 120]\n"
     ]
    }
   ],
   "source": [
    "l1=[10,20,30,40]\n",
    "l2=[50,60,70,80]\n",
    "print [i+j for i,j in zip(l1,l2)]"
   ]
  },
  {
   "cell_type": "code",
   "execution_count": 80,
   "metadata": {},
   "outputs": [
    {
     "name": "stdout",
     "output_type": "stream",
     "text": [
      "[60, 80, 100, 120]\n",
      "<generator object <genexpr> at 0x7f94d1f5a320>\n"
     ]
    }
   ],
   "source": [
    "l1=[10,20,30,40]\n",
    "l2=[50,60,70,80]\n",
    "print [i+j for i,j in zip(l1,l2)]\n",
    "print (i+j for i,j in zip(l1,l2))\n"
   ]
  },
  {
   "cell_type": "code",
   "execution_count": 81,
   "metadata": {},
   "outputs": [
    {
     "name": "stdout",
     "output_type": "stream",
     "text": [
      "60\n",
      "80\n",
      "100\n",
      "120\n"
     ]
    }
   ],
   "source": [
    "l1=[10,20,30,40]\n",
    "l2=[50,60,70,80]\n",
    "lc=[i+j for i,j in zip(l1,l2)]\n",
    "tc=(i+j for i,j in zip(l1,l2))\n",
    "for i in lc:\n",
    "    print i\n"
   ]
  },
  {
   "cell_type": "code",
   "execution_count": 83,
   "metadata": {},
   "outputs": [
    {
     "name": "stdout",
     "output_type": "stream",
     "text": [
      "[60, 80, 100, 120]\n",
      "<generator object <genexpr> at 0x7f94d1f5a690>\n",
      "60\n",
      "80\n",
      "100\n",
      "120\n",
      "******************************\n",
      "60\n",
      "80\n",
      "100\n",
      "120\n"
     ]
    }
   ],
   "source": [
    "l1=[10,20,30,40]\n",
    "l2=[50,60,70,80]\n",
    "lc=[i+j for i,j in zip(l1,l2)]\n",
    "tc=(i+j for i,j in zip(l1,l2))\n",
    "print lc\n",
    "print tc\n",
    "for i in lc:\n",
    "    print i\n",
    "print \"*\"*30\n",
    "for i in tc:\n",
    "    print i\n"
   ]
  },
  {
   "cell_type": "code",
   "execution_count": 84,
   "metadata": {},
   "outputs": [
    {
     "name": "stdout",
     "output_type": "stream",
     "text": [
      "[0, 1, 2, 3, 4, 5, 6, 7, 8, 9]\n",
      "[0, 1, 4, 9, 16, 25, 36, 49, 64, 81]\n"
     ]
    }
   ],
   "source": [
    "keys=range(10)\n",
    "values=map(lambda x:x**2,keys)\n",
    "print keys\n",
    "print values"
   ]
  },
  {
   "cell_type": "code",
   "execution_count": 85,
   "metadata": {},
   "outputs": [
    {
     "data": {
      "text/plain": [
       "100"
      ]
     },
     "execution_count": 85,
     "metadata": {},
     "output_type": "execute_result"
    }
   ],
   "source": [
    "f=lambda x:x**2\n",
    "f(10)"
   ]
  },
  {
   "cell_type": "code",
   "execution_count": 86,
   "metadata": {},
   "outputs": [
    {
     "name": "stdout",
     "output_type": "stream",
     "text": [
      "100\n",
      "100\n"
     ]
    }
   ],
   "source": [
    "def fun(x):\n",
    "    return x**2\n",
    "f=lambda x:x**2\n",
    "print f(10)\n",
    "print fun(10)"
   ]
  },
  {
   "cell_type": "code",
   "execution_count": 87,
   "metadata": {},
   "outputs": [
    {
     "name": "stdout",
     "output_type": "stream",
     "text": [
      "[0, 1, 2, 3, 4, 5, 6, 7, 8, 9]\n",
      "[0, 1, 4, 9, 16, 25, 36, 49, 64, 81]\n"
     ]
    }
   ],
   "source": [
    "keys=range(10)\n",
    "def fun(x):\n",
    "    return x**2\n",
    "values=map(fun,keys)\n",
    "print keys\n",
    "print values"
   ]
  },
  {
   "cell_type": "code",
   "execution_count": 88,
   "metadata": {},
   "outputs": [
    {
     "name": "stdout",
     "output_type": "stream",
     "text": [
      "[0, 1, 2, 3, 4, 5, 6, 7, 8, 9]\n",
      "[0, 1, 4, 9, 16, 25, 36, 49, 64, 81]\n"
     ]
    }
   ],
   "source": [
    "keys=range(10)\n",
    "fun=lambda x:x**2\n",
    "values=map(fun,keys)\n",
    "print keys\n",
    "print values"
   ]
  },
  {
   "cell_type": "code",
   "execution_count": 89,
   "metadata": {},
   "outputs": [
    {
     "name": "stdout",
     "output_type": "stream",
     "text": [
      "['EVEN', 'ODD', 'EVEN', 'ODD', 'EVEN', 'ODD', 'EVEN', 'ODD', 'EVEN', 'ODD']\n"
     ]
    }
   ],
   "source": [
    "def fun(x):\n",
    "    if x%2==0:\n",
    "        return \"EVEN\"\n",
    "    else:\n",
    "        return \"ODD\"\n",
    "print map(fun,range(10))"
   ]
  },
  {
   "cell_type": "code",
   "execution_count": 90,
   "metadata": {},
   "outputs": [
    {
     "name": "stdout",
     "output_type": "stream",
     "text": [
      "['EVEN', 'ODD', 'EVEN', 'ODD', 'EVEN', 'ODD', 'EVEN', 'ODD', 'EVEN', 'ODD']\n"
     ]
    }
   ],
   "source": [
    "def fun(x):\n",
    "    return \"EVEN\" if x%2==0 else \"ODD\"\n",
    "print map(fun,range(10))"
   ]
  },
  {
   "cell_type": "code",
   "execution_count": 91,
   "metadata": {},
   "outputs": [
    {
     "name": "stdout",
     "output_type": "stream",
     "text": [
      "['EVEN', 'ODD', 'EVEN', 'ODD', 'EVEN', 'ODD', 'EVEN', 'ODD', 'EVEN', 'ODD']\n"
     ]
    }
   ],
   "source": [
    "fun=lambda x: \"EVEN\" if x%2==0 else \"ODD\"\n",
    "print map(fun,range(10))"
   ]
  },
  {
   "cell_type": "code",
   "execution_count": 92,
   "metadata": {},
   "outputs": [
    {
     "name": "stdout",
     "output_type": "stream",
     "text": [
      "['EVEN', 'ODD', 'EVEN', 'ODD', 'EVEN', 'ODD', 'EVEN', 'ODD', 'EVEN', 'ODD']\n"
     ]
    }
   ],
   "source": [
    "print map(lambda x: \"EVEN\" if x%2==0 else \"ODD\",range(10))"
   ]
  },
  {
   "cell_type": "code",
   "execution_count": 93,
   "metadata": {},
   "outputs": [
    {
     "name": "stdout",
     "output_type": "stream",
     "text": [
      "['and', 'as', 'assert', 'break', 'class', 'continue', 'def', 'del', 'elif', 'else', 'except', 'exec', 'finally', 'for', 'from', 'global', 'if', 'import', 'in', 'is', 'lambda', 'not', 'or', 'pass', 'print', 'raise', 'return', 'try', 'while', 'with', 'yield']\n"
     ]
    }
   ],
   "source": [
    "import keyword\n",
    "print keyword.kwlist"
   ]
  },
  {
   "cell_type": "code",
   "execution_count": 94,
   "metadata": {},
   "outputs": [
    {
     "name": "stdout",
     "output_type": "stream",
     "text": [
      "hi\n",
      "['EVEN', 'ODD', 'EVEN', 'ODD', 'EVEN', 'ODD', 'EVEN', 'ODD', 'EVEN', 'ODD']\n"
     ]
    }
   ],
   "source": [
    "fun=lambda x: \"EVEN\" if x%2==0 else \"ODD\";print \"hi\"\n",
    "print map(fun,range(10))"
   ]
  },
  {
   "cell_type": "code",
   "execution_count": 96,
   "metadata": {},
   "outputs": [
    {
     "ename": "NameError",
     "evalue": "name 'a' is not defined",
     "output_type": "error",
     "traceback": [
      "\u001b[0;31m---------------------------------------------------------------------------\u001b[0m",
      "\u001b[0;31mNameError\u001b[0m                                 Traceback (most recent call last)",
      "\u001b[0;32m<ipython-input-96-80e1badbdb16>\u001b[0m in \u001b[0;36m<module>\u001b[0;34m()\u001b[0m\n\u001b[0;32m----> 1\u001b[0;31m \u001b[0mfun\u001b[0m\u001b[0;34m=\u001b[0m\u001b[0;32mlambda\u001b[0m \u001b[0ma\u001b[0m\u001b[0;34m,\u001b[0m\u001b[0mb\u001b[0m\u001b[0;34m:\u001b[0m\u001b[0;34m\"odd\"\u001b[0m\u001b[0;34m;\u001b[0m\u001b[0md\u001b[0m\u001b[0;34m=\u001b[0m\u001b[0ma\u001b[0m\u001b[0;34m+\u001b[0m\u001b[0mb\u001b[0m\u001b[0;34m;\u001b[0m\u001b[0me\u001b[0m\u001b[0;34m=\u001b[0m\u001b[0ma\u001b[0m\u001b[0;34m-\u001b[0m\u001b[0mb\u001b[0m\u001b[0;34m;\u001b[0m\u001b[0mf\u001b[0m\u001b[0;34m=\u001b[0m\u001b[0ma\u001b[0m\u001b[0;34m*\u001b[0m\u001b[0mb\u001b[0m\u001b[0;34m\u001b[0m\u001b[0m\n\u001b[0m\u001b[1;32m      2\u001b[0m \u001b[0;32mprint\u001b[0m \u001b[0mmap\u001b[0m\u001b[0;34m(\u001b[0m\u001b[0mfun\u001b[0m\u001b[0;34m,\u001b[0m\u001b[0mrange\u001b[0m\u001b[0;34m(\u001b[0m\u001b[0;36m10\u001b[0m\u001b[0;34m)\u001b[0m\u001b[0;34m,\u001b[0m\u001b[0mramge\u001b[0m\u001b[0;34m(\u001b[0m\u001b[0;36m10\u001b[0m\u001b[0;34m,\u001b[0m\u001b[0;36m20\u001b[0m\u001b[0;34m)\u001b[0m\u001b[0;34m)\u001b[0m\u001b[0;34m\u001b[0m\u001b[0m\n",
      "\u001b[0;31mNameError\u001b[0m: name 'a' is not defined"
     ]
    }
   ],
   "source": [
    "fun=lambda a,b:\"odd\";d=a+b;e=a-b;f=a*b\n",
    "print map(fun,range(10),ramge(10,20))"
   ]
  },
  {
   "cell_type": "code",
   "execution_count": 98,
   "metadata": {},
   "outputs": [
    {
     "ename": "NameError",
     "evalue": "name 'x' is not defined",
     "output_type": "error",
     "traceback": [
      "\u001b[0;31m---------------------------------------------------------------------------\u001b[0m",
      "\u001b[0;31mNameError\u001b[0m                                 Traceback (most recent call last)",
      "\u001b[0;32m<ipython-input-98-e5c6391fa346>\u001b[0m in \u001b[0;36m<module>\u001b[0;34m()\u001b[0m\n\u001b[0;32m----> 1\u001b[0;31m \u001b[0mfun\u001b[0m\u001b[0;34m=\u001b[0m\u001b[0;32mlambda\u001b[0m \u001b[0mx\u001b[0m\u001b[0;34m:\u001b[0m \u001b[0;34m\"EVEN\"\u001b[0m \u001b[0;32mif\u001b[0m \u001b[0mx\u001b[0m\u001b[0;34m%\u001b[0m\u001b[0;36m2\u001b[0m\u001b[0;34m==\u001b[0m\u001b[0;36m0\u001b[0m \u001b[0;32melse\u001b[0m \u001b[0;34m\"ODD\"\u001b[0m\u001b[0;34m;\u001b[0m\u001b[0mx\u001b[0m\u001b[0;34m+\u001b[0m\u001b[0;36m20\u001b[0m\u001b[0;34m\u001b[0m\u001b[0m\n\u001b[0m\u001b[1;32m      2\u001b[0m \u001b[0;32mprint\u001b[0m \u001b[0mmap\u001b[0m\u001b[0;34m(\u001b[0m\u001b[0mfun\u001b[0m\u001b[0;34m,\u001b[0m\u001b[0mrange\u001b[0m\u001b[0;34m(\u001b[0m\u001b[0;36m10\u001b[0m\u001b[0;34m)\u001b[0m\u001b[0;34m)\u001b[0m\u001b[0;34m\u001b[0m\u001b[0m\n",
      "\u001b[0;31mNameError\u001b[0m: name 'x' is not defined"
     ]
    }
   ],
   "source": [
    "fun=lambda x: \"EVEN\" if x%2==0 else \"ODD\";x+20\n",
    "print map(fun,range(10))"
   ]
  },
  {
   "cell_type": "code",
   "execution_count": 99,
   "metadata": {},
   "outputs": [
    {
     "name": "stdout",
     "output_type": "stream",
     "text": [
      "hi\n",
      "['EVEN', 'ODD', 'EVEN', 'ODD', 'EVEN', 'ODD', 'EVEN', 'ODD', 'EVEN', 'ODD']\n"
     ]
    }
   ],
   "source": [
    "fun=lambda x: \"EVEN\" if x%2==0 else \"ODD\"\n",
    "print \"hi\"\n",
    "print map(fun,range(10))"
   ]
  },
  {
   "cell_type": "code",
   "execution_count": 100,
   "metadata": {},
   "outputs": [
    {
     "name": "stdout",
     "output_type": "stream",
     "text": [
      "['EVEN', 'ODD', 'EVEN', 'ODD', 'EVEN', 'ODD', 'EVEN', 'ODD', 'EVEN', 'ODD']\n"
     ]
    }
   ],
   "source": [
    "fun=lambda x: \"EVEN\" if x%2==0 else \"ODD\"\n",
    "print map(fun,range(10))"
   ]
  },
  {
   "cell_type": "code",
   "execution_count": 101,
   "metadata": {},
   "outputs": [
    {
     "name": "stdout",
     "output_type": "stream",
     "text": [
      "EVEN\n",
      "ODD\n",
      "EVEN\n",
      "ODD\n",
      "EVEN\n",
      "ODD\n",
      "EVEN\n",
      "ODD\n",
      "EVEN\n",
      "ODD\n"
     ]
    }
   ],
   "source": [
    "fun=lambda x: \"EVEN\" if x%2==0 else \"ODD\"\n",
    "for i in range(10):\n",
    "    print fun(i)"
   ]
  },
  {
   "cell_type": "code",
   "execution_count": 102,
   "metadata": {},
   "outputs": [
    {
     "name": "stdout",
     "output_type": "stream",
     "text": [
      "['EVEN', 'ODD', 'EVEN', 'ODD', 'EVEN', 'ODD', 'EVEN', 'ODD', 'EVEN', 'ODD']\n"
     ]
    }
   ],
   "source": [
    "fun=lambda x: \"EVEN\" if x%2==0 else \"ODD\"\n",
    "print map(fun,range(10))"
   ]
  },
  {
   "cell_type": "code",
   "execution_count": 105,
   "metadata": {},
   "outputs": [
    {
     "name": "stdout",
     "output_type": "stream",
     "text": [
      "['EVEN', 'EVEN', 'EVEN', 'EVEN', 'EVEN', 'EVEN', 'EVEN', 'EVEN', 'EVEN', 'EVEN']\n"
     ]
    }
   ],
   "source": [
    "def fun(x):\n",
    "    return \"EVEN\"\n",
    "print map(fun,range(10))"
   ]
  },
  {
   "cell_type": "code",
   "execution_count": 107,
   "metadata": {},
   "outputs": [
    {
     "name": "stdout",
     "output_type": "stream",
     "text": [
      "[10, 12, 14, 16, 18, 20, 22, 24, 26, 28]\n",
      "[10, 12, 14, 16, 18, 20, 22, 24, 26, 28]\n",
      "[10, 12, 14, 16, 18, 20, 22, 24, 26, 28]\n",
      "[10, 12, 14, 16, 18, 20, 22, 24, 26, 28]\n",
      "[10, 12, 14, 16, 18, 20, 22, 24, 26, 28]\n"
     ]
    }
   ],
   "source": [
    "l1=range(10)\n",
    "l2=range(10,20)\n",
    "res=[]\n",
    "for i,j in zip(l1,l2):\n",
    "    res.append(i+j)\n",
    "print res\n",
    "\n",
    "print [i+j for i,j in zip(l1,l2)]\n",
    "def fun(x,y):\n",
    "    return x+y\n",
    "res=[]\n",
    "for i,j in zip(l1,l2):\n",
    "    res.append(fun(i,j))\n",
    "print res\n",
    "print map(fun,l1,l2)\n",
    "print map(lambda x,y:x+y,l1,l2)"
   ]
  },
  {
   "cell_type": "code",
   "execution_count": 108,
   "metadata": {},
   "outputs": [
    {
     "name": "stdout",
     "output_type": "stream",
     "text": [
      "[10, 12, 14, 16, 18, 20, 22, 24, 26, 28]\n",
      "[10, 12, 14, 16, 18, 20, 22, 24, 26, 28]\n",
      "[10, 12, 14, 16, 18, 20, 22, 24, 26, 28]\n",
      "[10, 12, 14, 16, 18, 20, 22, 24, 26, 28]\n",
      "[10, 12, 14, 16, 18, 20, 22, 24, 26, 28]\n",
      "10\n",
      "12\n",
      "14\n",
      "16\n",
      "18\n",
      "20\n",
      "22\n",
      "24\n",
      "26\n",
      "28\n"
     ]
    }
   ],
   "source": [
    "l1=range(10)\n",
    "l2=range(10,20)\n",
    "res=[]\n",
    "for i,j in zip(l1,l2):\n",
    "    res.append(i+j)\n",
    "print res\n",
    "\n",
    "print [i+j for i,j in zip(l1,l2)]\n",
    "def fun(x,y):\n",
    "    return x+y\n",
    "res=[]\n",
    "for i,j in zip(l1,l2):\n",
    "    res.append(fun(i,j))\n",
    "print res\n",
    "print map(fun,l1,l2)\n",
    "print map(lambda x,y:x+y,l1,l2)\n",
    "for k in (i+j for i,j in zip(l1,l2)):\n",
    "    print k"
   ]
  },
  {
   "cell_type": "code",
   "execution_count": 109,
   "metadata": {},
   "outputs": [
    {
     "name": "stdout",
     "output_type": "stream",
     "text": [
      "23\n",
      "45\n",
      "24\n",
      "26\n",
      "45\n",
      "37\n"
     ]
    }
   ],
   "source": [
    "l=[\"23\",\"45\",\"24\",\"26\",\"45\",\"37\"]\n",
    "# find the second max element form the list\n",
    "for i in l:\n",
    "    print i"
   ]
  },
  {
   "cell_type": "code",
   "execution_count": 110,
   "metadata": {},
   "outputs": [
    {
     "name": "stdout",
     "output_type": "stream",
     "text": [
      "6\n"
     ]
    }
   ],
   "source": [
    "l=[\"23\",\"45\",\"24\",\"26\",\"37\",\"6\"]\n",
    "# find the second max element form the list\n",
    "print max(l)"
   ]
  },
  {
   "cell_type": "code",
   "execution_count": 111,
   "metadata": {},
   "outputs": [
    {
     "ename": "TypeError",
     "evalue": "int() argument must be a string or a number, not 'list'",
     "output_type": "error",
     "traceback": [
      "\u001b[0;31m---------------------------------------------------------------------------\u001b[0m",
      "\u001b[0;31mTypeError\u001b[0m                                 Traceback (most recent call last)",
      "\u001b[0;32m<ipython-input-111-977fc1358774>\u001b[0m in \u001b[0;36m<module>\u001b[0;34m()\u001b[0m\n\u001b[1;32m      1\u001b[0m \u001b[0ml\u001b[0m\u001b[0;34m=\u001b[0m\u001b[0;34m[\u001b[0m\u001b[0;34m\"23\"\u001b[0m\u001b[0;34m,\u001b[0m\u001b[0;34m\"45\"\u001b[0m\u001b[0;34m,\u001b[0m\u001b[0;34m\"24\"\u001b[0m\u001b[0;34m,\u001b[0m\u001b[0;34m\"26\"\u001b[0m\u001b[0;34m,\u001b[0m\u001b[0;34m\"37\"\u001b[0m\u001b[0;34m,\u001b[0m\u001b[0;34m\"6\"\u001b[0m\u001b[0;34m]\u001b[0m\u001b[0;34m\u001b[0m\u001b[0m\n\u001b[1;32m      2\u001b[0m \u001b[0;31m# find the second max element form the list\u001b[0m\u001b[0;34m\u001b[0m\u001b[0;34m\u001b[0m\u001b[0m\n\u001b[0;32m----> 3\u001b[0;31m \u001b[0ml1\u001b[0m\u001b[0;34m=\u001b[0m\u001b[0mint\u001b[0m\u001b[0;34m(\u001b[0m\u001b[0ml\u001b[0m\u001b[0;34m)\u001b[0m\u001b[0;34m\u001b[0m\u001b[0m\n\u001b[0m\u001b[1;32m      4\u001b[0m \u001b[0;32mprint\u001b[0m \u001b[0mmax\u001b[0m\u001b[0;34m(\u001b[0m\u001b[0ml\u001b[0m\u001b[0;34m)\u001b[0m\u001b[0;34m\u001b[0m\u001b[0m\n",
      "\u001b[0;31mTypeError\u001b[0m: int() argument must be a string or a number, not 'list'"
     ]
    }
   ],
   "source": [
    "l=[\"23\",\"45\",\"24\",\"26\",\"37\",\"6\"]\n",
    "# find the second max element form the list\n",
    "l1=int(l)\n",
    "print max(l)"
   ]
  },
  {
   "cell_type": "code",
   "execution_count": 112,
   "metadata": {},
   "outputs": [
    {
     "name": "stdout",
     "output_type": "stream",
     "text": [
      "45\n"
     ]
    }
   ],
   "source": [
    "l=[\"23\",\"45\",\"24\",\"26\",\"37\",\"6\"]\n",
    "# find the second max element form the list\n",
    "res=[]\n",
    "for i in l:\n",
    "    res.append(int(i))\n",
    "print max(res)"
   ]
  },
  {
   "cell_type": "code",
   "execution_count": 113,
   "metadata": {},
   "outputs": [
    {
     "name": "stdout",
     "output_type": "stream",
     "text": [
      "45\n"
     ]
    }
   ],
   "source": [
    "l=[\"23\",\"45\",\"24\",\"26\",\"37\",\"6\"]\n",
    "# find the second max element form the list\n",
    "res=[int(i) for i in l]\n",
    "print max(res)"
   ]
  },
  {
   "cell_type": "code",
   "execution_count": 114,
   "metadata": {},
   "outputs": [
    {
     "name": "stdout",
     "output_type": "stream",
     "text": [
      "45\n"
     ]
    }
   ],
   "source": [
    "l=[\"23\",\"45\",\"24\",\"26\",\"37\",\"6\"]\n",
    "# find the second max element form the list\n",
    "res=(int(i) for i in l)\n",
    "print max(res)"
   ]
  },
  {
   "cell_type": "code",
   "execution_count": 115,
   "metadata": {},
   "outputs": [
    {
     "name": "stdout",
     "output_type": "stream",
     "text": [
      "['23', '45', '24', '26', '37', '6']\n",
      "[23, 45, 24, 26, 37, 6]\n",
      "45\n"
     ]
    }
   ],
   "source": [
    "l=[\"23\",\"45\",\"24\",\"26\",\"37\",\"6\"]\n",
    "# find the second max element form the list\n",
    "res=[int(i) for i in l]\n",
    "print l\n",
    "print res\n",
    "print max(res)\n"
   ]
  },
  {
   "cell_type": "code",
   "execution_count": 116,
   "metadata": {},
   "outputs": [
    {
     "name": "stdout",
     "output_type": "stream",
     "text": [
      "['23', '45', '24', '26', '37', '6']\n",
      "[23, 45, 24, 26, 37, 6]\n",
      "45\n"
     ]
    }
   ],
   "source": [
    "l=[\"23\",\"45\",\"24\",\"26\",\"37\",\"6\"]\n",
    "# find the second max element form the list\n",
    "res=map(lambda x:int(x),l)\n",
    "print l\n",
    "print res\n",
    "print max(res)\n"
   ]
  },
  {
   "cell_type": "code",
   "execution_count": 117,
   "metadata": {},
   "outputs": [
    {
     "name": "stdout",
     "output_type": "stream",
     "text": [
      "45\n"
     ]
    }
   ],
   "source": [
    "l=[\"23\",\"45\",\"24\",\"26\",\"37\",\"6\"]\n",
    "# find the second max element form the list\n",
    "print max(map(lambda x:int(x),l))"
   ]
  },
  {
   "cell_type": "code",
   "execution_count": 118,
   "metadata": {},
   "outputs": [
    {
     "name": "stdout",
     "output_type": "stream",
     "text": [
      "<type 'int'>\n"
     ]
    }
   ],
   "source": [
    "#map(fun_ref,sequence,..,..,..)\n",
    "print int"
   ]
  },
  {
   "cell_type": "code",
   "execution_count": 119,
   "metadata": {},
   "outputs": [
    {
     "name": "stdout",
     "output_type": "stream",
     "text": [
      "45\n"
     ]
    }
   ],
   "source": [
    "l=[\"23\",\"45\",\"24\",\"26\",\"37\",\"6\"]\n",
    "# find the second max element form the list\n",
    "print max(map(int,l))"
   ]
  },
  {
   "cell_type": "code",
   "execution_count": 120,
   "metadata": {},
   "outputs": [
    {
     "ename": "TypeError",
     "evalue": "fun() takes exactly 2 arguments (1 given)",
     "output_type": "error",
     "traceback": [
      "\u001b[0;31m---------------------------------------------------------------------------\u001b[0m",
      "\u001b[0;31mTypeError\u001b[0m                                 Traceback (most recent call last)",
      "\u001b[0;32m<ipython-input-120-9c977c684fff>\u001b[0m in \u001b[0;36m<module>\u001b[0;34m()\u001b[0m\n\u001b[1;32m      1\u001b[0m \u001b[0;32mdef\u001b[0m \u001b[0mfun\u001b[0m\u001b[0;34m(\u001b[0m\u001b[0mx\u001b[0m\u001b[0;34m,\u001b[0m\u001b[0my\u001b[0m\u001b[0;34m)\u001b[0m\u001b[0;34m:\u001b[0m\u001b[0;34m\u001b[0m\u001b[0m\n\u001b[1;32m      2\u001b[0m     \u001b[0;32mreturn\u001b[0m \u001b[0mx\u001b[0m\u001b[0;34m+\u001b[0m\u001b[0my\u001b[0m\u001b[0;34m\u001b[0m\u001b[0m\n\u001b[0;32m----> 3\u001b[0;31m \u001b[0;32mprint\u001b[0m \u001b[0mmap\u001b[0m\u001b[0;34m(\u001b[0m\u001b[0mfun\u001b[0m\u001b[0;34m,\u001b[0m\u001b[0;34m[\u001b[0m\u001b[0;36m10\u001b[0m\u001b[0;34m,\u001b[0m\u001b[0;36m20\u001b[0m\u001b[0;34m]\u001b[0m\u001b[0;34m)\u001b[0m\u001b[0;34m\u001b[0m\u001b[0m\n\u001b[0m",
      "\u001b[0;31mTypeError\u001b[0m: fun() takes exactly 2 arguments (1 given)"
     ]
    }
   ],
   "source": [
    "def fun(x,y):\n",
    "    return x+y\n",
    "print map(fun,[10,20])"
   ]
  },
  {
   "cell_type": "code",
   "execution_count": 121,
   "metadata": {},
   "outputs": [
    {
     "name": "stdout",
     "output_type": "stream",
     "text": [
      "[110, 220]\n"
     ]
    }
   ],
   "source": [
    "def fun(x,y):\n",
    "    return x+y\n",
    "print map(fun,[10,20],(100,200))"
   ]
  },
  {
   "cell_type": "code",
   "execution_count": 122,
   "metadata": {},
   "outputs": [
    {
     "name": "stdout",
     "output_type": "stream",
     "text": [
      "['ag', 'bh', 'ci', 'dk']\n"
     ]
    }
   ],
   "source": [
    "def fun(x,y):\n",
    "    return x+y\n",
    "print map(fun,\"abcd\",\"ghik\")"
   ]
  },
  {
   "cell_type": "code",
   "execution_count": 123,
   "metadata": {},
   "outputs": [
    {
     "name": "stdout",
     "output_type": "stream",
     "text": [
      "[None, None, None, None]\n"
     ]
    }
   ],
   "source": [
    "def fun(x,y):\n",
    "    c= x+y\n",
    "print map(fun,\"abcd\",\"ghik\")"
   ]
  },
  {
   "cell_type": "code",
   "execution_count": 124,
   "metadata": {},
   "outputs": [
    {
     "ename": "TypeError",
     "evalue": "'str' object is not callable",
     "output_type": "error",
     "traceback": [
      "\u001b[0;31m---------------------------------------------------------------------------\u001b[0m",
      "\u001b[0;31mTypeError\u001b[0m                                 Traceback (most recent call last)",
      "\u001b[0;32m<ipython-input-124-04d3751a6a6f>\u001b[0m in \u001b[0;36m<module>\u001b[0;34m()\u001b[0m\n\u001b[1;32m      1\u001b[0m \u001b[0;32mdef\u001b[0m \u001b[0mfun\u001b[0m\u001b[0;34m(\u001b[0m\u001b[0mx\u001b[0m\u001b[0;34m,\u001b[0m\u001b[0my\u001b[0m\u001b[0;34m)\u001b[0m\u001b[0;34m:\u001b[0m\u001b[0;34m\u001b[0m\u001b[0m\n\u001b[1;32m      2\u001b[0m     \u001b[0mc\u001b[0m\u001b[0;34m=\u001b[0m \u001b[0mx\u001b[0m\u001b[0;34m+\u001b[0m\u001b[0my\u001b[0m\u001b[0;34m\u001b[0m\u001b[0m\n\u001b[0;32m----> 3\u001b[0;31m \u001b[0;32mprint\u001b[0m \u001b[0mmap\u001b[0m\u001b[0;34m(\u001b[0m\u001b[0;34m\"abcd\"\u001b[0m\u001b[0;34m,\u001b[0m\u001b[0;34m\"ghik\"\u001b[0m\u001b[0;34m)\u001b[0m\u001b[0;34m\u001b[0m\u001b[0m\n\u001b[0m",
      "\u001b[0;31mTypeError\u001b[0m: 'str' object is not callable"
     ]
    }
   ],
   "source": [
    "def fun(x,y):\n",
    "    c= x+y\n",
    "print map(\"abcd\",\"ghik\")"
   ]
  },
  {
   "cell_type": "code",
   "execution_count": 126,
   "metadata": {},
   "outputs": [
    {
     "ename": "TypeError",
     "evalue": "'str' object is not callable",
     "output_type": "error",
     "traceback": [
      "\u001b[0;31m---------------------------------------------------------------------------\u001b[0m",
      "\u001b[0;31mTypeError\u001b[0m                                 Traceback (most recent call last)",
      "\u001b[0;32m<ipython-input-126-d76a0ca82042>\u001b[0m in \u001b[0;36m<module>\u001b[0;34m()\u001b[0m\n\u001b[0;32m----> 1\u001b[0;31m \u001b[0;34m\"abcd\"\u001b[0m\u001b[0;34m(\u001b[0m\u001b[0;34m'g'\u001b[0m\u001b[0;34m)\u001b[0m\u001b[0;34m\u001b[0m\u001b[0m\n\u001b[0m",
      "\u001b[0;31mTypeError\u001b[0m: 'str' object is not callable"
     ]
    }
   ],
   "source": [
    "\"abcd\"('g')"
   ]
  },
  {
   "cell_type": "code",
   "execution_count": 127,
   "metadata": {},
   "outputs": [
    {
     "name": "stdout",
     "output_type": "stream",
     "text": [
      "[None, None, None, None]\n"
     ]
    }
   ],
   "source": [
    "def fun(x,y):\n",
    "    c= x+y\n",
    "print map(fun,\"abcd\",\"ghik\")"
   ]
  },
  {
   "cell_type": "code",
   "execution_count": 130,
   "metadata": {},
   "outputs": [
    {
     "name": "stdout",
     "output_type": "stream",
     "text": [
      "37\n"
     ]
    }
   ],
   "source": [
    "l=[\"23\",\"45\",\"24\",\"26\",\"37\",\"6\"]\n",
    "# find the second max element form the list\n",
    "res=map(int,l)\n",
    "res.remove(max(res))\n",
    "print max(res)"
   ]
  },
  {
   "cell_type": "code",
   "execution_count": 131,
   "metadata": {},
   "outputs": [
    {
     "name": "stdout",
     "output_type": "stream",
     "text": [
      "45\n"
     ]
    }
   ],
   "source": [
    "l=[\"23\",\"45\",\"24\",\"26\",\"37\",\"6\",\"45\",\"45\"]\n",
    "# find the second max element form the list\n",
    "res=map(int,l)\n",
    "res.remove(max(res))\n",
    "print max(res)"
   ]
  },
  {
   "cell_type": "code",
   "execution_count": 132,
   "metadata": {},
   "outputs": [
    {
     "name": "stdout",
     "output_type": "stream",
     "text": [
      "['23', '24', '26', '37', '6', '45', '45']\n"
     ]
    }
   ],
   "source": [
    "l=[\"23\",\"45\",\"24\",\"26\",\"37\",\"6\",\"45\",\"45\"]\n",
    "l.remove(\"45\")\n",
    "print l"
   ]
  },
  {
   "cell_type": "code",
   "execution_count": 133,
   "metadata": {},
   "outputs": [
    {
     "name": "stdout",
     "output_type": "stream",
     "text": [
      "37\n"
     ]
    }
   ],
   "source": [
    "l=[\"23\",\"45\",\"24\",\"26\",\"37\",\"6\",\"45\",\"45\"]\n",
    "# find the second max element form the list\n",
    "res=map(int,l)\n",
    "max_value=max(res)\n",
    "while res.count(max_value)>0:\n",
    "    res.remove(max_value)\n",
    "print max(res)"
   ]
  },
  {
   "cell_type": "code",
   "execution_count": 135,
   "metadata": {},
   "outputs": [
    {
     "name": "stdout",
     "output_type": "stream",
     "text": [
      "[6, 23, 24, 26, 37, 45, 45, 45]\n",
      "45\n"
     ]
    }
   ],
   "source": [
    "l=[\"23\",\"45\",\"24\",\"26\",\"37\",\"6\",\"45\",\"45\"]\n",
    "# find the second max element form the list\n",
    "res=map(int,l)\n",
    "res.sort()\n",
    "print res\n",
    "print res[-2]"
   ]
  },
  {
   "cell_type": "code",
   "execution_count": 136,
   "metadata": {},
   "outputs": [
    {
     "name": "stdout",
     "output_type": "stream",
     "text": [
      "set([37, 6, 45, 23, 24, 26])\n",
      "[6, 23, 24, 26, 37, 45, 45, 45]\n",
      "45\n"
     ]
    }
   ],
   "source": [
    "l=[\"23\",\"45\",\"24\",\"26\",\"37\",\"6\",\"45\",\"45\"]\n",
    "# find the second max element form the list\n",
    "res=map(int,l)\n",
    "s=set(res)\n",
    "print s\n",
    "res.sort()\n",
    "print res\n",
    "print res[-2]"
   ]
  },
  {
   "cell_type": "code",
   "execution_count": 137,
   "metadata": {},
   "outputs": [
    {
     "name": "stdout",
     "output_type": "stream",
     "text": [
      "[37, 6, 45, 23, 24, 26]\n",
      "[6, 23, 24, 26, 37, 45, 45, 45]\n",
      "45\n"
     ]
    }
   ],
   "source": [
    "l=[\"23\",\"45\",\"24\",\"26\",\"37\",\"6\",\"45\",\"45\"]\n",
    "# find the second max element form the list\n",
    "res=map(int,l)\n",
    "s=list(set(res))\n",
    "print s\n",
    "res.sort()\n",
    "print res\n",
    "print res[-2]"
   ]
  },
  {
   "cell_type": "code",
   "execution_count": 139,
   "metadata": {},
   "outputs": [
    {
     "name": "stdout",
     "output_type": "stream",
     "text": [
      "[37, 6, 45, 23, 24, 26]\n",
      "37\n"
     ]
    }
   ],
   "source": [
    "l=[\"23\",\"45\",\"24\",\"26\",\"37\",\"6\",\"45\",\"45\"]\n",
    "# find the second max element form the list\n",
    "res=map(int,l)\n",
    "s=list(set(res))\n",
    "print s\n",
    "s.sort()\n",
    "print s[-2]"
   ]
  },
  {
   "cell_type": "code",
   "execution_count": 140,
   "metadata": {},
   "outputs": [
    {
     "name": "stdout",
     "output_type": "stream",
     "text": [
      "[0, 1, 2, 3, 4, 5, 6, 7, 8, 9]\n",
      "[0, 1, 4, 9, 16, 25, 36, 49, 64, 81]\n"
     ]
    }
   ],
   "source": [
    "keys=range(10)\n",
    "values=map(lambda x:x**2,keys)\n",
    "print keys\n",
    "print values"
   ]
  },
  {
   "cell_type": "code",
   "execution_count": 142,
   "metadata": {},
   "outputs": [
    {
     "name": "stdout",
     "output_type": "stream",
     "text": [
      "[0, 1, 2, 3, 4, 5, 6, 7, 8, 9]\n",
      "[0, 1, 4, 9, 16, 25, 36, 49, 64, 81]\n",
      "{0: 0, 1: 1, 2: 4, 3: 9, 4: 16, 5: 25, 6: 36, 7: 49, 8: 64, 9: 81}\n"
     ]
    }
   ],
   "source": [
    "keys=range(10)\n",
    "values=map(lambda x:x**2,keys)\n",
    "print keys\n",
    "print values\n",
    "d={}\n",
    "for k,v in zip(keys,values):\n",
    "    d.update({k:v})\n",
    "print d"
   ]
  },
  {
   "cell_type": "code",
   "execution_count": 143,
   "metadata": {},
   "outputs": [
    {
     "name": "stdout",
     "output_type": "stream",
     "text": [
      "[0, 1, 2, 3, 4, 5, 6, 7, 8, 9]\n",
      "[0, 1, 4, 9, 16, 25, 36, 49, 64, 81]\n",
      "{0: 0, 1: 1, 2: 4, 3: 9, 4: 16, 5: 25, 6: 36, 7: 49, 8: 64, 9: 81}\n"
     ]
    }
   ],
   "source": [
    "keys=range(10)\n",
    "values=map(lambda x:x**2,keys)\n",
    "print keys\n",
    "print values\n",
    "d={}\n",
    "[d.update({k:v}) for k,v in zip(keys,values)]\n",
    "print d"
   ]
  },
  {
   "cell_type": "code",
   "execution_count": 144,
   "metadata": {},
   "outputs": [
    {
     "name": "stdout",
     "output_type": "stream",
     "text": [
      "[0, 1, 2, 3, 4, 5, 6, 7, 8, 9]\n",
      "[0, 1, 4, 9, 16, 25, 36, 49, 64, 81]\n",
      "{0: 0, 1: 1, 2: 4, 3: 9, 4: 16, 5: 25, 6: 36, 7: 49, 8: 64, 9: 81}\n",
      "[None, None, None, None, None, None, None, None, None, None]\n"
     ]
    }
   ],
   "source": [
    "keys=range(10)\n",
    "values=map(lambda x:x**2,keys)\n",
    "print keys\n",
    "print values\n",
    "d={}\n",
    "res=[d.update({k:v}) for k,v in zip(keys,values)]\n",
    "print d\n",
    "print res"
   ]
  },
  {
   "cell_type": "code",
   "execution_count": 147,
   "metadata": {},
   "outputs": [
    {
     "name": "stdout",
     "output_type": "stream",
     "text": [
      "{0: 0, 1: 1, 2: 4, 3: 9, 4: 16, 5: 25, 6: 36, 7: 49, 8: 64, 9: 81}\n"
     ]
    }
   ],
   "source": [
    "keys=range(10)\n",
    "values=map(lambda x:x**2,keys)\n",
    "\n",
    "d={}\n",
    "map(lambda x,y:d.update({x:y}),keys,values)\n",
    "print d"
   ]
  },
  {
   "cell_type": "code",
   "execution_count": 148,
   "metadata": {},
   "outputs": [
    {
     "name": "stdout",
     "output_type": "stream",
     "text": [
      "{0: 0, 1: 1, 2: 4, 3: 9, 4: 16, 5: 25, 6: 36, 7: 49, 8: 64, 9: 81}\n",
      "[None, None, None, None, None, None, None, None, None, None]\n"
     ]
    }
   ],
   "source": [
    "keys=range(10)\n",
    "values=map(lambda x:x**2,keys)\n",
    "\n",
    "d={}\n",
    "res=map(lambda x,y:d.update({x:y}),keys,values)\n",
    "print d\n",
    "print res"
   ]
  },
  {
   "cell_type": "code",
   "execution_count": 149,
   "metadata": {},
   "outputs": [
    {
     "name": "stdout",
     "output_type": "stream",
     "text": [
      "{'k2': 'v2', 'k1': 'v1'}\n"
     ]
    }
   ],
   "source": [
    "keys=range(10)\n",
    "values=map(lambda x:x**2,keys)\n",
    "print dict([(\"k1\",\"v1\"),(\"k2\",\"v2\")])"
   ]
  },
  {
   "cell_type": "code",
   "execution_count": 150,
   "metadata": {},
   "outputs": [
    {
     "name": "stdout",
     "output_type": "stream",
     "text": [
      "[(0, 0), (1, 1), (2, 4), (3, 9), (4, 16), (5, 25), (6, 36), (7, 49), (8, 64), (9, 81)]\n",
      "{'k2': 'v2', 'k1': 'v1'}\n"
     ]
    }
   ],
   "source": [
    "keys=range(10)\n",
    "values=map(lambda x:x**2,keys)\n",
    "print zip(keys, values)\n",
    "print dict([(\"k1\",\"v1\"),(\"k2\",\"v2\")])"
   ]
  },
  {
   "cell_type": "code",
   "execution_count": 151,
   "metadata": {},
   "outputs": [
    {
     "name": "stdout",
     "output_type": "stream",
     "text": [
      "{0: 0, 1: 1, 2: 4, 3: 9, 4: 16, 5: 25, 6: 36, 7: 49, 8: 64, 9: 81}\n",
      "{'k2': 'v2', 'k1': 'v1'}\n"
     ]
    }
   ],
   "source": [
    "keys=range(10)\n",
    "values=map(lambda x:x**2,keys)\n",
    "print dict(zip(keys, values))\n",
    "print dict([(\"k1\",\"v1\"),(\"k2\",\"v2\")])"
   ]
  },
  {
   "cell_type": "code",
   "execution_count": null,
   "metadata": {
    "collapsed": true
   },
   "outputs": [],
   "source": []
  }
 ],
 "metadata": {
  "kernelspec": {
   "display_name": "Python 2",
   "language": "python",
   "name": "python2"
  },
  "language_info": {
   "codemirror_mode": {
    "name": "ipython",
    "version": 2
   },
   "file_extension": ".py",
   "mimetype": "text/x-python",
   "name": "python",
   "nbconvert_exporter": "python",
   "pygments_lexer": "ipython2",
   "version": "2.7.14"
  }
 },
 "nbformat": 4,
 "nbformat_minor": 2
}
