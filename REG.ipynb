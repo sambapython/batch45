{
 "cells": [
  {
   "cell_type": "code",
   "execution_count": 1,
   "metadata": {},
   "outputs": [
    {
     "name": "stdout",
     "output_type": "stream",
     "text": [
      "anil,9676622023,1,23,Anil@GMAIL.COM\n",
      "2,9676622024,samba,samba@yahoo.com,45\n",
      "3,ashok,67,ashok@rediff.com,9676622025\n",
      "paVAN@gmail.com,4,9676622026,pavan,28\n",
      "\n",
      "\n"
     ]
    }
   ],
   "source": [
    "\n",
    "data=open(\"data.txt\").read()\n",
    "print data"
   ]
  },
  {
   "cell_type": "code",
   "execution_count": 2,
   "metadata": {},
   "outputs": [
    {
     "name": "stdout",
     "output_type": "stream",
     "text": [
      "['anil', '9676622023', '1', '23', 'Anil@GMAIL.COM']\n",
      "['2', '9676622024', 'samba', 'samba@yahoo.com', '45']\n",
      "['3', 'ashok', '67', 'ashok@rediff.com', '9676622025']\n",
      "['paVAN@gmail.com', '4', '9676622026', 'pavan', '28']\n",
      "['']\n"
     ]
    }
   ],
   "source": [
    "for i in data.splitlines():\n",
    "    print i.split(\",\")"
   ]
  },
  {
   "cell_type": "code",
   "execution_count": 6,
   "metadata": {},
   "outputs": [
    {
     "name": "stdout",
     "output_type": "stream",
     "text": [
      "1\n",
      "samba\n",
      "67\n",
      "9676622026\n"
     ]
    }
   ],
   "source": [
    "for i in data.splitlines():\n",
    "    if i:\n",
    "        print i.split(\",\")[2]"
   ]
  },
  {
   "cell_type": "code",
   "execution_count": 7,
   "metadata": {},
   "outputs": [
    {
     "name": "stdout",
     "output_type": "stream",
     "text": [
      "anil,9676622023,1,23,Anil@GMAIL.COM\n",
      "2,9676622024,samba,samba@yahoo.com,45\n",
      "3,ashok,67,ashok@rediff.com,9676622025\n",
      "paVAN@gmail.com,4,9676622026,pavan,28\n",
      "\n",
      "\n",
      "['9676622023', '9676622024', '9676622025', '9676622026']\n"
     ]
    }
   ],
   "source": [
    "data=open(\"data.txt\").read()\n",
    "print data\n",
    "print re.findall(\"[0-9]{10}\",data)"
   ]
  },
  {
   "cell_type": "code",
   "execution_count": 8,
   "metadata": {},
   "outputs": [
    {
     "name": "stdout",
     "output_type": "stream",
     "text": [
      "anil,9676622023,1,23,Anil@GMAIL.COM\n",
      "2,9676622024,samba,samba@yahoo.com,45\n",
      "3,ashok,67,ashok@rediff.com,9676622025\n",
      "paVAN@gmail.com,4,9676622026,pavan,28\n",
      "\n",
      "\n",
      "['a', 'a', 'b', 'a', 'a', 'b', 'a', 'a', 'c', 'a', 'a', 'd', 'c', 'a', 'a', 'c', 'a', 'a']\n"
     ]
    }
   ],
   "source": [
    "data=open(\"data.txt\").read()\n",
    "print data\n",
    "print re.findall(\"[abcd]\",data)"
   ]
  },
  {
   "cell_type": "code",
   "execution_count": 9,
   "metadata": {},
   "outputs": [
    {
     "name": "stdout",
     "output_type": "stream",
     "text": [
      "anil,9676622023,1,23,Anil@GMAIL.COM\n",
      "2,9676622024,samba,samba@yahoo.com,45\n",
      "3,ashok,67,ashok@rediff.com,9676622025\n",
      "paVAN@gmail.com,4,9676622026,pavan,28\n",
      "\n",
      "\n",
      "['a', 'n', 'i', 'l', 'n', 'i', 'l', 's', 'a', 'm', 'b', 'a', 's', 'a', 'm', 'b', 'a', 'y', 'a', 'h', 'o', 'o', 'c', 'o', 'm', 'a', 's', 'h', 'o', 'k', 'a', 's', 'h', 'o', 'k', 'r', 'e', 'd', 'i', 'f', 'f', 'c', 'o', 'm', 'p', 'a', 'g', 'm', 'a', 'i', 'l', 'c', 'o', 'm', 'p', 'a', 'v', 'a', 'n']\n"
     ]
    }
   ],
   "source": [
    "data=open(\"data.txt\").read()\n",
    "print data\n",
    "print re.findall(\"[a-z]\",data)"
   ]
  },
  {
   "cell_type": "code",
   "execution_count": 10,
   "metadata": {},
   "outputs": [
    {
     "name": "stdout",
     "output_type": "stream",
     "text": [
      "anil,9676622023,1,23,Anil@GMAIL.COM\n",
      "2,9676622024,samba,samba@yahoo.com,45\n",
      "3,ashok,67,ashok@rediff.com,9676622025\n",
      "paVAN@gmail.com,4,9676622026,pavan,28\n",
      "\n",
      "\n",
      "['a', 'n', 'i', 'l', 'A', 'n', 'i', 'l', 'G', 'M', 'A', 'I', 'L', 'C', 'O', 'M', 's', 'a', 'm', 'b', 'a', 's', 'a', 'm', 'b', 'a', 'y', 'a', 'h', 'o', 'o', 'c', 'o', 'm', 'a', 's', 'h', 'o', 'k', 'a', 's', 'h', 'o', 'k', 'r', 'e', 'd', 'i', 'f', 'f', 'c', 'o', 'm', 'p', 'a', 'V', 'A', 'N', 'g', 'm', 'a', 'i', 'l', 'c', 'o', 'm', 'p', 'a', 'v', 'a', 'n']\n"
     ]
    }
   ],
   "source": [
    "data=open(\"data.txt\").read()\n",
    "print data\n",
    "print re.findall(\"[a-z]\",data,re.I)"
   ]
  },
  {
   "cell_type": "code",
   "execution_count": 11,
   "metadata": {},
   "outputs": [
    {
     "name": "stdout",
     "output_type": "stream",
     "text": [
      "anil,9676622023,1,23,Anil@GMAIL.COM\n",
      "2,9676622024,samba,samba@yahoo.com,45\n",
      "3,ashok,67,ashok@rediff.com,9676622025\n",
      "paVAN@gmail.com,4,9676622026,pavan,28\n",
      "\n",
      "\n",
      "[]\n"
     ]
    }
   ],
   "source": [
    "data=open(\"data.txt\").read()\n",
    "print data\n",
    "print re.findall(\"[0-9][a-z]\",data,re.I)"
   ]
  },
  {
   "cell_type": "code",
   "execution_count": 13,
   "metadata": {},
   "outputs": [
    {
     "name": "stdout",
     "output_type": "stream",
     "text": [
      "anil1,9676622023,1,23,Anil1@GMAIL.COM\n",
      "2,9676622024,samba1,samba1@yahoo.com,45\n",
      "3,ashok1,67,ashok1@rediff.com,9676622025\n",
      "paVAN@gmail.com,4,9676622026,pavan,28\n",
      "\n",
      "\n",
      "['l1', 'l1', 'a1', 'a1', 'k1', 'k1']\n"
     ]
    }
   ],
   "source": [
    "data=open(\"data.txt\").read()\n",
    "print data\n",
    "print re.findall(\"[a-z][0-9]\",data,re.I)"
   ]
  },
  {
   "cell_type": "code",
   "execution_count": 14,
   "metadata": {},
   "outputs": [
    {
     "name": "stdout",
     "output_type": "stream",
     "text": [
      "anil1,9676622023,1,23,Anil1@GMAIL.COM\n",
      "2,9676622024,samba1,samba1@yahoo.com,45\n",
      "3,ashok1,67,ashok1@rediff.com,9676622025\n",
      "paVAN@gmail.com,4,9676622026,pavan,28\n",
      "\n",
      "\n",
      "['ani', 'Ani', 'GMA', 'COM', 'sam', 'sam', 'yah', 'com', 'ash', 'ash', 'red', 'iff', 'com', 'paV', 'gma', 'com', 'pav']\n"
     ]
    }
   ],
   "source": [
    "data=open(\"data.txt\").read()\n",
    "print data\n",
    "print re.findall(\"[a-z][a-z][a-z]\",data,re.I)"
   ]
  },
  {
   "cell_type": "code",
   "execution_count": 15,
   "metadata": {},
   "outputs": [
    {
     "name": "stdout",
     "output_type": "stream",
     "text": [
      "anil1,9676622023,1,23,Anil1@GMAIL.COM\n",
      "2,9676622024,samba1,samba1@yahoo.com,45\n",
      "3,ashok1,67,ashok1@rediff.com,9676622025\n",
      "paVAN@gmail.com,4,9676622026,pavan,28\n",
      "\n",
      "\n",
      "['ani', 'Ani', 'GMA', 'COM', 'sam', 'sam', 'yah', 'com', 'ash', 'ash', 'red', 'iff', 'com', 'paV', 'gma', 'com', 'pav']\n"
     ]
    }
   ],
   "source": [
    "data=open(\"data.txt\").read()\n",
    "print data\n",
    "print re.findall(\"[a-z]{3}\",data,re.I)"
   ]
  },
  {
   "cell_type": "code",
   "execution_count": 16,
   "metadata": {},
   "outputs": [
    {
     "name": "stdout",
     "output_type": "stream",
     "text": [
      "anil1,9676622023,1,23,Anil1@GMAIL.COM\n",
      "2,9676622024,samba1,samba1@yahoo.com,45\n",
      "3,ashok1,67,ashok1@rediff.com,9676622025\n",
      "paVAN@gmail.com,4,9676622026,pavan,28\n",
      "\n",
      "\n",
      "['1', '9', '6', '7', '6', '6', '2', '2', '0', '2', '3', '1', '2', '3', '1', '2', '9', '6', '7', '6', '6', '2', '2', '0', '2', '4', '1', '1', '4', '5', '3', '1', '6', '7', '1', '9', '6', '7', '6', '6', '2', '2', '0', '2', '5', '4', '9', '6', '7', '6', '6', '2', '2', '0', '2', '6', '2', '8']\n"
     ]
    }
   ],
   "source": [
    "data=open(\"data.txt\").read()\n",
    "print data\n",
    "print re.findall(\"[0-9]\",data,re.I)"
   ]
  },
  {
   "cell_type": "code",
   "execution_count": 17,
   "metadata": {},
   "outputs": [
    {
     "name": "stdout",
     "output_type": "stream",
     "text": [
      "anil1,9676622023,1,23,Anil1@GMAIL.COM\n",
      "2,9676622024,samba1,samba1@yahoo.com,45\n",
      "3,ashok1,67,ashok1@rediff.com,9676622025\n",
      "paVAN@gmail.com,4,9676622026,pavan,28\n",
      "\n",
      "\n",
      "['9676622023', '9676622024', '9676622025', '9676622026']\n"
     ]
    }
   ],
   "source": [
    "data=open(\"data.txt\").read()\n",
    "print data\n",
    "print re.findall(\"[0-9][0-9][0-9][0-9][0-9][0-9][0-9][0-9][0-9][0-9]\",data,re.I)"
   ]
  },
  {
   "cell_type": "code",
   "execution_count": 18,
   "metadata": {},
   "outputs": [
    {
     "name": "stdout",
     "output_type": "stream",
     "text": [
      "anil1,9676622023,1,23,Anil1@GMAIL.COM\n",
      "2,9676622024,samba1,samba1@yahoo.com,45\n",
      "3,ashok1,67,ashok1@rediff.com,9676622025\n",
      "paVAN@gmail.com,4,9676622026,pavan,28\n",
      "\n",
      "\n",
      "['9676622023', '9676622024', '9676622025', '9676622026']\n"
     ]
    }
   ],
   "source": [
    "data=open(\"data.txt\").read()\n",
    "print data\n",
    "print re.findall(\"[0-9]{10}\",data,re.I)"
   ]
  },
  {
   "cell_type": "code",
   "execution_count": 19,
   "metadata": {},
   "outputs": [
    {
     "name": "stdout",
     "output_type": "stream",
     "text": [
      "anil1,9676622023,1,23,Anil1@GMAIL.COM\n",
      "2,9676622024,samba1,samba1@yahoo.com,45\n",
      "3,ashok1,67,ashok1@rediff.com,9676622025\n",
      "paVAN@gmail.com,4,9676622026,pavan,28\n",
      "\n",
      "\n",
      "['9676622023', '9676622024', '9676622025', '9676622026']\n"
     ]
    }
   ],
   "source": [
    "data=open(\"data.txt\").read()\n",
    "print data\n",
    "print re.findall(\"[0-9]{5,10}\",data,re.I)"
   ]
  },
  {
   "cell_type": "code",
   "execution_count": 20,
   "metadata": {},
   "outputs": [
    {
     "name": "stdout",
     "output_type": "stream",
     "text": [
      "anil1,9676622023,1,23,Anil1@GMAIL.COM\n",
      "2,9676622024,samba1,samba1@yahoo.com,45\n",
      "3,ashok1,67,ashok1@rediff.com,9676622025\n",
      "paVAN@gmail.com,4,9676622026,pavan,28\n",
      "\n",
      "\n",
      "['9676622023', '23', '9676622024', '45', '67', '9676622025', '9676622026', '28']\n"
     ]
    }
   ],
   "source": [
    "data=open(\"data.txt\").read()\n",
    "print data\n",
    "print re.findall(\"[0-9]{2,10}\",data,re.I)"
   ]
  },
  {
   "cell_type": "code",
   "execution_count": 21,
   "metadata": {},
   "outputs": [
    {
     "name": "stdout",
     "output_type": "stream",
     "text": [
      "anil1,9676622023,1,23,Anil1@GMAIL.COM\n",
      "2,9676622024,samba1,samba1@yahoo.com,45\n",
      "3,ashok1,67,ashok1@rediff.com,9676622025\n",
      "paVAN@gmail.com,4,9676622026,pavan,28\n",
      "\n",
      "\n",
      "['1', '9676622023', '1', '23', '1', '2', '9676622024', '1', '1', '45', '3', '1', '67', '1', '9676622025', '4', '9676622026', '28']\n"
     ]
    }
   ],
   "source": [
    "data=open(\"data.txt\").read()\n",
    "print data\n",
    "print re.findall(\"[0-9]{1,10}\",data,re.I)"
   ]
  },
  {
   "cell_type": "code",
   "execution_count": 22,
   "metadata": {},
   "outputs": [
    {
     "name": "stdout",
     "output_type": "stream",
     "text": [
      "anil1,9676622023,1,23,Anil1@GMAIL.COM\n",
      "2,9676622024,samba1,samba1@yahoo.com,45\n",
      "3,ashok1,67,ashok1@rediff.com,9676622025\n",
      "paVAN@gmail.com,4,9676622026,pavan,28\n",
      "\n",
      "\n",
      "['ani', 'nil', 'sam', 'sam', 'yah', 'com', 'ash', 'ash', 'red', 'iff', 'com', 'gma', 'com', 'pav']\n"
     ]
    }
   ],
   "source": [
    "data=open(\"data.txt\").read()\n",
    "print data\n",
    "print re.findall(\"[a-z]{3}\",data,)"
   ]
  },
  {
   "cell_type": "code",
   "execution_count": 23,
   "metadata": {},
   "outputs": [
    {
     "name": "stdout",
     "output_type": "stream",
     "text": [
      "anil1,9676622023,1,23,Anil1@GMAIL.COM\n",
      "2,9676622024,samba1,samba1@yahoo.com,45\n",
      "3,ashok1,67,ashok1@rediff.com,9676622025\n",
      "paVAN@gmail.com,4,9676622026,pavan,28\n",
      "\n",
      "\n",
      "['ani', 'Ani', 'GMA', 'COM', 'sam', 'sam', 'yah', 'com', 'ash', 'ash', 'red', 'iff', 'com', 'paV', 'gma', 'com', 'pav']\n"
     ]
    }
   ],
   "source": [
    "data=open(\"data.txt\").read()\n",
    "print data\n",
    "print re.findall(\"[a-zA-Z]{3}\",data,)"
   ]
  },
  {
   "cell_type": "code",
   "execution_count": 24,
   "metadata": {},
   "outputs": [
    {
     "name": "stdout",
     "output_type": "stream",
     "text": [
      "anil1,9676622023,1,23,Anil1@GMAIL.COM\n",
      "2,9676622024,samba1,samba1@yahoo.com,45\n",
      "3,ashok1,67,ashok1@rediff.com,9676622025\n",
      "paVAN@gmail.com,4,9676622026,pavan,28\n",
      "\n",
      "\n",
      "['ani', 'Ani', 'GMA', 'COM', 'sam', 'sam', 'yah', 'com', 'ash', 'ash', 'red', 'iff', 'com', 'paV', 'gma', 'com', 'pav']\n"
     ]
    }
   ],
   "source": [
    "data=open(\"data.txt\").read()\n",
    "print data\n",
    "print re.findall(\"[a-z]{3}\",data,re.I)"
   ]
  },
  {
   "cell_type": "code",
   "execution_count": 25,
   "metadata": {},
   "outputs": [
    {
     "name": "stdout",
     "output_type": "stream",
     "text": [
      "anil1,9676622023,1,23,Anil1@GMAIL.COM\n",
      "2,9676622024,samba1,samba1@yahoo.com,45\n",
      "3,ashok1,67,ashok1@rediff.com,9676622025\n",
      "paVAN@gmail.com,4,9676622026,pavan,28\n",
      "\n",
      "\n",
      "['ani', '967', '662', '202', 'Ani', 'GMA', 'COM', '967', '662', '202', 'sam', 'ba1', 'sam', 'ba1', 'yah', 'com', 'ash', 'ok1', 'ash', 'ok1', 'red', 'iff', 'com', '967', '662', '202', 'paV', 'gma', 'com', '967', '662', '202', 'pav']\n"
     ]
    }
   ],
   "source": [
    "data=open(\"data.txt\").read()\n",
    "print data\n",
    "print re.findall(\"[a-zA-Z0-9]{3}\",data,)"
   ]
  },
  {
   "cell_type": "code",
   "execution_count": 27,
   "metadata": {},
   "outputs": [
    {
     "name": "stdout",
     "output_type": "stream",
     "text": [
      "anil1,9676622023,1,23,Anil1@GMAIL.COM\n",
      "2,9676622024,samba1,samba1@yahoo.com,45\n",
      "3,ashok1,67,ashok1@rediff.com,9676622025\n",
      "paVAN@gmail.com,4,9676622026,pavan,28\n",
      "\n",
      "\n",
      "['9676622023', '9676622024', '9676622025', '9676622026']\n"
     ]
    }
   ],
   "source": [
    "data=open(\"data.txt\").read()\n",
    "print data\n",
    "print re.findall(\"[a-z0-9]{10}\",data,)"
   ]
  },
  {
   "cell_type": "code",
   "execution_count": 28,
   "metadata": {},
   "outputs": [
    {
     "name": "stdout",
     "output_type": "stream",
     "text": [
      "anil1,9676622023,1,23,Anil1@GMAIL.COM\n",
      "2,9676622024,samba1,samba1@yahoo.com,45\n",
      "3,ashok1,67,ashok1@rediff.com,9676622025\n",
      "paVAN@gmail.com,4,9676622026,pavan,28\n",
      "\n",
      "\n",
      "['anil1', '9676622023', '1', '23', 'nil1', '2', '9676622024', 'samba1', 'samba1', 'yahoo', 'com', '45', '3', 'ashok1', '67', 'ashok1', 'rediff', 'com', '9676622025', 'pa', 'gmail', 'com', '4', '9676622026', 'pavan', '28']\n"
     ]
    }
   ],
   "source": [
    "data=open(\"data.txt\").read()\n",
    "print data\n",
    "print re.findall(\"[a-z0-9]{1,10}\",data,)"
   ]
  },
  {
   "cell_type": "code",
   "execution_count": 30,
   "metadata": {},
   "outputs": [
    {
     "name": "stdout",
     "output_type": "stream",
     "text": [
      "anil1,9676622023,1,23,Anil1@GMAIL.COM\n",
      "2,9676622024,samba1,samba1@yahoo.com,45\n",
      "3,ashok1,67,ashok1@rediff.com,9676622025\n",
      "paVAN@gmail.com,4,9676622026,pavan,28\n",
      "\n",
      "\n",
      "['anil1', '9676622023', '1', '23', 'nil1', '\\n2', '9676622024', 'samba1', 'samba1', 'yahoo', 'com', '45\\n3', 'ashok1', '67', 'ashok1', 'rediff', 'com', '9676622025', '\\npa', 'gmail', 'com', '4', '9676622026', 'pavan', '28\\n\\n']\n"
     ]
    }
   ],
   "source": [
    "data=open(\"data.txt\").read()\n",
    "print data\n",
    "print re.findall(\"[a-z0-9\\s]{1,10}\",data,)"
   ]
  },
  {
   "cell_type": "code",
   "execution_count": 31,
   "metadata": {},
   "outputs": [
    {
     "name": "stdout",
     "output_type": "stream",
     "text": [
      "anil1,9676622023,1,23,Anil1@GMAIL.COM\n",
      "2,9676622024,samba1,samba1@yahoo.com,45\n",
      "3,ashok1,67,ashok1@rediff.com,9676622025\n",
      "paVAN@gmail.com,4,9676622026,pavan,28\n",
      "\n",
      "\n",
      "['anil1', '9676622023', '1', '23', 'Anil1', 'GMAIL', 'COM', '2', '9676622024', 'samba1', 'samba1', 'yahoo', 'com', '45', '3', 'ashok1', '67', 'ashok1', 'rediff', 'com', '9676622025', 'paVAN', 'gmail', 'com', '4', '9676622026', 'pavan', '28']\n"
     ]
    }
   ],
   "source": [
    "data=open(\"data.txt\").read()\n",
    "print data\n",
    "print re.findall(\"[a-z0-9]{1,}\",data,re.I)"
   ]
  },
  {
   "cell_type": "code",
   "execution_count": 32,
   "metadata": {},
   "outputs": [
    {
     "name": "stdout",
     "output_type": "stream",
     "text": [
      "anil1,9676622023,1,23,Anil1@GMAIL.COM\n",
      "2,9676622024,samba1,samba1@yahoo.com,45\n",
      "3,ashok1,67,ashok1@rediff.com,9676622025\n",
      "paVAN@gmail.com,4,9676622026,pavan,28\n",
      "\n",
      "\n",
      "['anil1', '9676622023', '1', '23', 'Anil1', 'GMAIL', 'COM', '2', '9676622024', 'samba1', 'samba1', 'yahoo', 'com', '45', '3', 'ashok1', '67', 'ashok1', 'rediff', 'com', '9676622025', 'paVAN', 'gmail', 'com', '4', '9676622026', 'pavan', '28']\n"
     ]
    }
   ],
   "source": [
    "data=open(\"data.txt\").read()\n",
    "print data\n",
    "print re.findall(\"[a-z0-9]+\",data,re.I)"
   ]
  },
  {
   "cell_type": "code",
   "execution_count": 33,
   "metadata": {},
   "outputs": [
    {
     "name": "stdout",
     "output_type": "stream",
     "text": [
      "anil1,9676622023,1,23,Anil1@GMAIL.COM\n",
      "2,9676622024,samba1,samba1@yahoo.com,45\n",
      "3,ashok1,67,ashok1@rediff.com,9676622025\n",
      "paVAN@gmail.com,4,9676622026,pavan,28\n",
      "\n",
      "\n",
      "['anil1', '', '9676622023', '', '1', '', '23', '', 'Anil1', '', 'GMAIL', '', 'COM', '', '2', '', '9676622024', '', 'samba1', '', 'samba1', '', 'yahoo', '', 'com', '', '45', '', '3', '', 'ashok1', '', '67', '', 'ashok1', '', 'rediff', '', 'com', '', '9676622025', '', 'paVAN', '', 'gmail', '', 'com', '', '4', '', '9676622026', '', 'pavan', '', '28', '', '', '']\n"
     ]
    }
   ],
   "source": [
    "data=open(\"data.txt\").read()\n",
    "print data\n",
    "print re.findall(\"[a-z0-9]{0,}\",data,re.I)"
   ]
  },
  {
   "cell_type": "code",
   "execution_count": 34,
   "metadata": {},
   "outputs": [
    {
     "name": "stdout",
     "output_type": "stream",
     "text": [
      "anil1,9676622023,1,23,Anil1@GMAIL.COM\n",
      "2,9676622024,samba1,samba1@yahoo.com,45\n",
      "3,ashok1,67,ashok1@rediff.com,9676622025\n",
      "paVAN@gmail.com,4,9676622026,pavan,28\n",
      "\n",
      "\n",
      "['anil1', '', '9676622023', '', '1', '', '23', '', 'Anil1', '', 'GMAIL', '', 'COM', '', '2', '', '9676622024', '', 'samba1', '', 'samba1', '', 'yahoo', '', 'com', '', '45', '', '3', '', 'ashok1', '', '67', '', 'ashok1', '', 'rediff', '', 'com', '', '9676622025', '', 'paVAN', '', 'gmail', '', 'com', '', '4', '', '9676622026', '', 'pavan', '', '28', '', '', '']\n"
     ]
    }
   ],
   "source": [
    "data=open(\"data.txt\").read()\n",
    "print data\n",
    "print re.findall(\"[a-z0-9]*\",data,re.I)"
   ]
  },
  {
   "cell_type": "code",
   "execution_count": 35,
   "metadata": {},
   "outputs": [
    {
     "name": "stdout",
     "output_type": "stream",
     "text": [
      "anil1,9676622023,1,23,Anil1@GMAIL.COM\n",
      "2,9676622024,samba1,samba1@yahoo.com,45\n",
      "3,ashok1,67,ashok1@rediff.com,9676622025\n",
      "paVAN@gmail.com,4,9676622026,pavan,28\n",
      "\n",
      "\n",
      "['a', 'n', 'i', 'l', '1', '', '9', '6', '7', '6', '6', '2', '2', '0', '2', '3', '', '1', '', '2', '3', '', 'A', 'n', 'i', 'l', '1', '', 'G', 'M', 'A', 'I', 'L', '', 'C', 'O', 'M', '', '2', '', '9', '6', '7', '6', '6', '2', '2', '0', '2', '4', '', 's', 'a', 'm', 'b', 'a', '1', '', 's', 'a', 'm', 'b', 'a', '1', '', 'y', 'a', 'h', 'o', 'o', '', 'c', 'o', 'm', '', '4', '5', '', '3', '', 'a', 's', 'h', 'o', 'k', '1', '', '6', '7', '', 'a', 's', 'h', 'o', 'k', '1', '', 'r', 'e', 'd', 'i', 'f', 'f', '', 'c', 'o', 'm', '', '9', '6', '7', '6', '6', '2', '2', '0', '2', '5', '', 'p', 'a', 'V', 'A', 'N', '', 'g', 'm', 'a', 'i', 'l', '', 'c', 'o', 'm', '', '4', '', '9', '6', '7', '6', '6', '2', '2', '0', '2', '6', '', 'p', 'a', 'v', 'a', 'n', '', '2', '8', '', '', '']\n"
     ]
    }
   ],
   "source": [
    "data=open(\"data.txt\").read()\n",
    "print data\n",
    "print re.findall(\"[a-z0-9]{0,1}\",data,re.I)"
   ]
  },
  {
   "cell_type": "code",
   "execution_count": 36,
   "metadata": {},
   "outputs": [
    {
     "name": "stdout",
     "output_type": "stream",
     "text": [
      "anil1,9676622023,1,23,Anil1@GMAIL.COM\n",
      "2,9676622024,samba1,samba1@yahoo.com,45\n",
      "3,ashok1,67,ashok1@rediff.com,9676622025\n",
      "paVAN@gmail.com,4,9676622026,pavan,28\n",
      "\n",
      "\n",
      "['a', 'n', 'i', 'l', '1', '', '9', '6', '7', '6', '6', '2', '2', '0', '2', '3', '', '1', '', '2', '3', '', 'A', 'n', 'i', 'l', '1', '', 'G', 'M', 'A', 'I', 'L', '', 'C', 'O', 'M', '', '2', '', '9', '6', '7', '6', '6', '2', '2', '0', '2', '4', '', 's', 'a', 'm', 'b', 'a', '1', '', 's', 'a', 'm', 'b', 'a', '1', '', 'y', 'a', 'h', 'o', 'o', '', 'c', 'o', 'm', '', '4', '5', '', '3', '', 'a', 's', 'h', 'o', 'k', '1', '', '6', '7', '', 'a', 's', 'h', 'o', 'k', '1', '', 'r', 'e', 'd', 'i', 'f', 'f', '', 'c', 'o', 'm', '', '9', '6', '7', '6', '6', '2', '2', '0', '2', '5', '', 'p', 'a', 'V', 'A', 'N', '', 'g', 'm', 'a', 'i', 'l', '', 'c', 'o', 'm', '', '4', '', '9', '6', '7', '6', '6', '2', '2', '0', '2', '6', '', 'p', 'a', 'v', 'a', 'n', '', '2', '8', '', '', '']\n"
     ]
    }
   ],
   "source": [
    "data=open(\"data.txt\").read()\n",
    "print data\n",
    "print re.findall(\"[a-z0-9]?\",data,re.I)"
   ]
  },
  {
   "cell_type": "code",
   "execution_count": 37,
   "metadata": {},
   "outputs": [
    {
     "name": "stdout",
     "output_type": "stream",
     "text": [
      "anil1,9676622023,1,23,Anil1@GMAIL.COM\n",
      "2,9676622024,samba1,samba1@yahoo.com,45\n",
      "3,ashok1,67,ashok1@rediff.com,9676622025\n",
      "paVAN@gmail.com,4,9676622026,pavan,28\n",
      "\n",
      "\n",
      "['a', 'n', 'i', 'l', '1', '9', '6', '7', '6', '6', '2', '2', '0', '2', '3', '1', '2', '3', 'A', 'n', 'i', 'l', '1', 'G', 'M', 'A', 'I', 'L', 'C', 'O', 'M', '2', '9', '6', '7', '6', '6', '2', '2', '0', '2', '4', 's', 'a', 'm', 'b', 'a', '1', 's', 'a', 'm', 'b', 'a', '1', 'y', 'a', 'h', 'o', 'o', 'c', 'o', 'm', '4', '5', '3', 'a', 's', 'h', 'o', 'k', '1', '6', '7', 'a', 's', 'h', 'o', 'k', '1', 'r', 'e', 'd', 'i', 'f', 'f', 'c', 'o', 'm', '9', '6', '7', '6', '6', '2', '2', '0', '2', '5', 'p', 'a', 'V', 'A', 'N', 'g', 'm', 'a', 'i', 'l', 'c', 'o', 'm', '4', '9', '6', '7', '6', '6', '2', '2', '0', '2', '6', 'p', 'a', 'v', 'a', 'n', '2', '8']\n"
     ]
    }
   ],
   "source": [
    "data=open(\"data.txt\").read()\n",
    "print data\n",
    "print re.findall(\"[a-z0-9]{1}\",data,re.I)"
   ]
  },
  {
   "cell_type": "code",
   "execution_count": 38,
   "metadata": {},
   "outputs": [
    {
     "name": "stdout",
     "output_type": "stream",
     "text": [
      "anil1,9676622023,1,23,Anil1@GMAIL.COM\n",
      "2,9676622024,samba1,samba1@yahoo.com,45\n",
      "3,ashok1,67,ashok1@rediff.com,9676622025\n",
      "paVAN@gmail.com,4,9676622026,pavan,28\n",
      "\n",
      "\n",
      "['.', '.', '.', '.']\n"
     ]
    }
   ],
   "source": [
    "data=open(\"data.txt\").read()\n",
    "print data\n",
    "print re.findall(\"[.]\",data,re.I)"
   ]
  },
  {
   "cell_type": "code",
   "execution_count": 39,
   "metadata": {},
   "outputs": [
    {
     "name": "stdout",
     "output_type": "stream",
     "text": [
      "anil1,9676622023,1,23,Anil1@GMAIL.COM\n",
      "2,9676622024,samba1,samba1@yahoo.com,45\n",
      "3,ashok1,67,ashok1@rediff.com,9676622025\n",
      "paVAN@gmail.com,4,9676622026,pavan,28\n",
      "\n",
      "\n",
      "['a', 'n', 'i', 'l', '1', ',', '9', '6', '7', '6', '6', '2', '2', '0', '2', '3', ',', '1', ',', '2', '3', ',', 'A', 'n', 'i', 'l', '1', '@', 'G', 'M', 'A', 'I', 'L', '.', 'C', 'O', 'M', '2', ',', '9', '6', '7', '6', '6', '2', '2', '0', '2', '4', ',', 's', 'a', 'm', 'b', 'a', '1', ',', 's', 'a', 'm', 'b', 'a', '1', '@', 'y', 'a', 'h', 'o', 'o', '.', 'c', 'o', 'm', ',', '4', '5', '3', ',', 'a', 's', 'h', 'o', 'k', '1', ',', '6', '7', ',', 'a', 's', 'h', 'o', 'k', '1', '@', 'r', 'e', 'd', 'i', 'f', 'f', '.', 'c', 'o', 'm', ',', '9', '6', '7', '6', '6', '2', '2', '0', '2', '5', 'p', 'a', 'V', 'A', 'N', '@', 'g', 'm', 'a', 'i', 'l', '.', 'c', 'o', 'm', ',', '4', ',', '9', '6', '7', '6', '6', '2', '2', '0', '2', '6', ',', 'p', 'a', 'v', 'a', 'n', ',', '2', '8']\n"
     ]
    }
   ],
   "source": [
    "data=open(\"data.txt\").read()\n",
    "print data\n",
    "print re.findall(\".\",data,re.I)"
   ]
  },
  {
   "cell_type": "code",
   "execution_count": 40,
   "metadata": {},
   "outputs": [
    {
     "name": "stdout",
     "output_type": "stream",
     "text": [
      "anil1,9676622023,1,23,Anil1@GMAIL.COM\n",
      "2,9676622024,samba1,samba1@yahoo.com,45\n",
      "3,ashok1,67,ashok1@rediff.com,9676622025\n",
      "paVAN@gmail.com,4,9676622026,pavan,28\n",
      "\n",
      "\n",
      "['.', '.', '.', '.']\n"
     ]
    }
   ],
   "source": [
    "data=open(\"data.txt\").read()\n",
    "print data\n",
    "print re.findall(\"\\.\",data,re.I)"
   ]
  },
  {
   "cell_type": "code",
   "execution_count": 41,
   "metadata": {},
   "outputs": [
    {
     "name": "stdout",
     "output_type": "stream",
     "text": [
      "anil1,9676622023,1,23,Anil1@GMAIL.COM\n",
      "2,9676622024,samba1,samba1@yahoo.com,45\n",
      "3,ashok1,67,ashok1@rediff.com,9676622025\n",
      "paVAN@gmail.com,4,9676622026,pavan,28\n",
      "\n",
      "\n",
      "['a', 'n', 'i', 'l', '1', ',', '9', '6', '7', '6', '6', '2', '2', '0', '2', '3', ',', '1', ',', '2', '3', ',', 'A', 'n', 'i', 'l', '1', '@', 'G', 'M', 'A', 'I', 'L', '.', 'C', 'O', 'M', '\\n', '2', ',', '9', '6', '7', '6', '6', '2', '2', '0', '2', '4', ',', 's', 'a', 'm', 'b', 'a', '1', ',', 's', 'a', 'm', 'b', 'a', '1', '@', 'y', 'a', 'h', 'o', 'o', '.', 'c', 'o', 'm', ',', '4', '5', '\\n', '3', ',', 'a', 's', 'h', 'o', 'k', '1', ',', '6', '7', ',', 'a', 's', 'h', 'o', 'k', '1', '@', 'r', 'e', 'd', 'i', 'f', 'f', '.', 'c', 'o', 'm', ',', '9', '6', '7', '6', '6', '2', '2', '0', '2', '5', '\\n', 'p', 'a', 'V', 'A', 'N', '@', 'g', 'm', 'a', 'i', 'l', '.', 'c', 'o', 'm', ',', '4', ',', '9', '6', '7', '6', '6', '2', '2', '0', '2', '6', ',', 'p', 'a', 'v', 'a', 'n', ',', '2', '8', '\\n', '\\n']\n"
     ]
    }
   ],
   "source": [
    "data=open(\"data.txt\").read()\n",
    "print data\n",
    "print re.findall(\".\",data,re.I|re.DOTALL)"
   ]
  },
  {
   "cell_type": "code",
   "execution_count": 42,
   "metadata": {},
   "outputs": [
    {
     "name": "stdout",
     "output_type": "stream",
     "text": [
      "anil1,9676622023,1,23,Anil1@GMAIL.COM\n",
      "2,9676622024,samba1,samba1@yahoo.com,45\n",
      "3,ashok1,67,ashok1@rediff.com,9676622025\n",
      "paVAN@gmail.com,4,9676622026,pavan,28\n",
      "\n",
      "\n",
      "['9676622023', '9676622024', '9676622025', '9676622026']\n"
     ]
    }
   ],
   "source": [
    "data=open(\"data.txt\").read()\n",
    "print data\n",
    "print re.findall(\"[0-9]{10}\",data,re.I|re.DOTALL)"
   ]
  },
  {
   "cell_type": "code",
   "execution_count": 43,
   "metadata": {},
   "outputs": [
    {
     "name": "stdout",
     "output_type": "stream",
     "text": [
      "anil1,9676622023,1,23,Anil1@GMAIL.COM\n",
      "2,9676622024,samba1,samba1@yahoo.com,45\n",
      "3,ashok1,67,ashok1@rediff.com,9676622025\n",
      "paVAN@gmail.com,4,9676622026,pavan,28\n",
      "\n",
      "\n",
      "[',Anil', '@GMAI', 'L.COM', ',samb', ',samb', '@yaho', 'o.com', ',asho', ',asho', '@redi', 'ff.co', '\\npaVA', 'N@gma', 'il.co', ',pava']\n"
     ]
    }
   ],
   "source": [
    "data=open(\"data.txt\").read()\n",
    "print data\n",
    "print re.findall(\"[^0-9]{5}\",data,re.I|re.DOTALL)"
   ]
  },
  {
   "cell_type": "code",
   "execution_count": 44,
   "metadata": {},
   "outputs": [
    {
     "name": "stdout",
     "output_type": "stream",
     "text": [
      "anil1,9676622023,1,23,Anil1@GMAIL.COM\n",
      "2,9676622024,samba1,samba1@yahoo.com,45\n",
      "3,ashok1,67,ashok1@rediff.com,9676622025\n",
      "paVAN@gmail.com,4,9676622026,pavan,28\n",
      "\n",
      "\n",
      "[]\n"
     ]
    }
   ],
   "source": [
    "data=open(\"data.txt\").read()\n",
    "print data\n",
    "print re.findall(\"^[0-9]{5}\",data,re.I|re.DOTALL)"
   ]
  },
  {
   "cell_type": "code",
   "execution_count": 46,
   "metadata": {},
   "outputs": [
    {
     "name": "stdout",
     "output_type": "stream",
     "text": [
      "anil1,9676622023,1,23,Anil1@GMAIL.COM\n",
      "2,9676622024,samba1,samba1@yahoo.com,45\n",
      "3,ashok1,67,ashok1@rediff.com,9676622025\n",
      "paVAN@gmail.com,4,9676622026,pavan,28\n",
      "\n",
      "\n",
      "['anil']\n"
     ]
    }
   ],
   "source": [
    "data=open(\"data.txt\").read()\n",
    "print data\n",
    "print re.findall(\"^[a-z]{4}\",data,re.I|re.DOTALL)"
   ]
  },
  {
   "cell_type": "code",
   "execution_count": 47,
   "metadata": {},
   "outputs": [
    {
     "name": "stdout",
     "output_type": "stream",
     "text": [
      "anil1,9676622023,1,23,Anil1@GMAIL.COM\n",
      "2,9676622024,samba1,samba1@yahoo.com,45\n",
      "3,ashok1,67,ashok1@rediff.com,9676622025\n",
      "paVAN@gmail.com,4,9676622026,pavan,28\n",
      "\n",
      "\n",
      "['1,96', '7662', '2023', ',1,2', '\\n2,9', '6766', '2202', ',45\\n', '1,67', ',967', '6622', '025\\n', ',4,9', '6766', '2202', ',28\\n']\n"
     ]
    }
   ],
   "source": [
    "data=open(\"data.txt\").read()\n",
    "print data\n",
    "print re.findall(\"[^a-z]{4}\",data,re.I|re.DOTALL)"
   ]
  },
  {
   "cell_type": "code",
   "execution_count": 48,
   "metadata": {},
   "outputs": [
    {
     "name": "stdout",
     "output_type": "stream",
     "text": [
      "anil1,9676622023,1,23,Anil1@GMAIL.COM\n",
      "2,9676622024,samba1,samba1@yahoo.com,45\n",
      "3,ashok1,67,ashok1@rediff.com,9676622025\n",
      "paVAN@gmail.com,4,9676622026,pavan,28\n",
      "\n",
      "\n",
      "['anil', 'paVA']\n"
     ]
    }
   ],
   "source": [
    "data=open(\"data.txt\").read()\n",
    "print data\n",
    "print re.findall(\"^[a-z]{4}\",data,re.I|re.DOTALL|re.M)"
   ]
  },
  {
   "cell_type": "code",
   "execution_count": 49,
   "metadata": {},
   "outputs": [
    {
     "name": "stdout",
     "output_type": "stream",
     "text": [
      "anil1,9676622023,1,23,Anil1@GMAIL.COM\n",
      "2,9676622024,samba1,samba1@yahoo.com,45\n",
      "3,ashok1,67,ashok1@rediff.com,9676622025\n",
      "paVAN@gmail.com,4,9676622026,pavan,28\n",
      "\n",
      "\n",
      "[]\n"
     ]
    }
   ],
   "source": [
    "data=open(\"data.txt\").read()\n",
    "print data\n",
    "print re.findall(\"abcd\",data,re.I|re.DOTALL|re.M)"
   ]
  },
  {
   "cell_type": "code",
   "execution_count": 51,
   "metadata": {},
   "outputs": [
    {
     "name": "stdout",
     "output_type": "stream",
     "text": [
      "anil1,9676622023,1,23,Anil1@GMAIL.COM\n",
      "2,9676622024,samba1,samba1@yahoo.com,45\n",
      "3,ashok1,67,ashok1@rediff.com,9676622025\n",
      "paVAN@gmail.com,4,9676622026,pavan,28\n",
      "\n",
      "\n",
      "['COM']\n"
     ]
    }
   ],
   "source": [
    "data=open(\"data.txt\").read()\n",
    "print data\n",
    "print re.findall(\"[a-z]{1,3}$\",data,re.I|re.DOTALL|re.M)"
   ]
  },
  {
   "cell_type": "code",
   "execution_count": 53,
   "metadata": {},
   "outputs": [
    {
     "name": "stdout",
     "output_type": "stream",
     "text": [
      "anil1,9676622023,1,23,Anil1@GMAIL.COM\n",
      "2,9676622024,samba1,samba1@yahoo.com,45\n",
      "3,ashok1,67,ashok1@rediff.com,9676622025\n",
      "paVAN@gmail.com,4,9676622026,pavan,28\n",
      "\n",
      "\n",
      "['a', 'n', 'i', 'l', '1', ',', '9', '6', '7', '6', '6', '2', '2', '0', '2', '3', ',', '1', ',', '2', '3', ',', 'A', 'n', 'i', 'l', '1', '@', 'G', 'M', 'A', 'I', 'L', '.', 'C', 'O', 'M', '2', ',', '9', '6', '7', '6', '6', '2', '2', '0', '2', '4', ',', 's', 'a', 'm', 'b', 'a', '1', ',', 's', 'a', 'm', 'b', 'a', '1', '@', 'y', 'a', 'h', 'o', 'o', '.', 'c', 'o', 'm', ',', '4', '5', '3', ',', 'a', 's', 'h', 'o', 'k', '1', ',', '6', '7', ',', 'a', 's', 'h', 'o', 'k', '1', '@', 'r', 'e', 'd', 'i', 'f', 'f', '.', 'c', 'o', 'm', ',', '9', '6', '7', '6', '6', '2', '2', '0', '2', '5', 'p', 'a', 'V', 'A', 'N', '@', 'g', 'm', 'a', 'i', 'l', '.', 'c', 'o', 'm', ',', '4', ',', '9', '6', '7', '6', '6', '2', '2', '0', '2', '6', ',', 'p', 'a', 'v', 'a', 'n', ',', '2', '8']\n"
     ]
    }
   ],
   "source": [
    "data=open(\"data.txt\").read()\n",
    "print data\n",
    "print re.findall(\".\",data)"
   ]
  },
  {
   "cell_type": "code",
   "execution_count": 54,
   "metadata": {},
   "outputs": [
    {
     "name": "stdout",
     "output_type": "stream",
     "text": [
      "anil1,9676622023,1,23,Anil1@GMAIL.COM\n",
      "2,9676622024,samba1,samba1@yahoo.com,45\n",
      "3,ashok1,67,ashok1@rediff.com,9676622025\n",
      "paVAN@gmail.com,4,9676622026,pavan,28\n",
      "\n",
      "\n",
      "['a', 'n', 'i', 'l', '1', ',', '9', '6', '7', '6', '6', '2', '2', '0', '2', '3', ',', '1', ',', '2', '3', ',', 'A', 'n', 'i', 'l', '1', '@', 'G', 'M', 'A', 'I', 'L', '.', 'C', 'O', 'M', '\\n', '2', ',', '9', '6', '7', '6', '6', '2', '2', '0', '2', '4', ',', 's', 'a', 'm', 'b', 'a', '1', ',', 's', 'a', 'm', 'b', 'a', '1', '@', 'y', 'a', 'h', 'o', 'o', '.', 'c', 'o', 'm', ',', '4', '5', '\\n', '3', ',', 'a', 's', 'h', 'o', 'k', '1', ',', '6', '7', ',', 'a', 's', 'h', 'o', 'k', '1', '@', 'r', 'e', 'd', 'i', 'f', 'f', '.', 'c', 'o', 'm', ',', '9', '6', '7', '6', '6', '2', '2', '0', '2', '5', '\\n', 'p', 'a', 'V', 'A', 'N', '@', 'g', 'm', 'a', 'i', 'l', '.', 'c', 'o', 'm', ',', '4', ',', '9', '6', '7', '6', '6', '2', '2', '0', '2', '6', ',', 'p', 'a', 'v', 'a', 'n', ',', '2', '8', '\\n', '\\n']\n"
     ]
    }
   ],
   "source": [
    "data=open(\"data.txt\").read()\n",
    "print data\n",
    "print re.findall(\".\",data,re.DOTALL)"
   ]
  },
  {
   "cell_type": "code",
   "execution_count": 55,
   "metadata": {},
   "outputs": [
    {
     "name": "stdout",
     "output_type": "stream",
     "text": [
      "anil1,9676622023,1,23,Anil1@GMAIL.COM\n",
      "2,9676622024,samba1,\\tsamba1@yahoo.com,45\n",
      "3,ashok1,67,\\tashok1@rediff.com,9676622025\n",
      "paVAN@gmail.com,4,9676622026,pavan,28\n",
      "\n",
      "\n",
      "['a', 'n', 'i', 'l', '1', ',', '9', '6', '7', '6', '6', '2', '2', '0', '2', '3', ',', '1', ',', '2', '3', ',', 'A', 'n', 'i', 'l', '1', '@', 'G', 'M', 'A', 'I', 'L', '.', 'C', 'O', 'M', '\\n', '2', ',', '9', '6', '7', '6', '6', '2', '2', '0', '2', '4', ',', 's', 'a', 'm', 'b', 'a', '1', ',', '\\\\', 't', 's', 'a', 'm', 'b', 'a', '1', '@', 'y', 'a', 'h', 'o', 'o', '.', 'c', 'o', 'm', ',', '4', '5', '\\n', '3', ',', 'a', 's', 'h', 'o', 'k', '1', ',', '6', '7', ',', '\\\\', 't', 'a', 's', 'h', 'o', 'k', '1', '@', 'r', 'e', 'd', 'i', 'f', 'f', '.', 'c', 'o', 'm', ',', '9', '6', '7', '6', '6', '2', '2', '0', '2', '5', '\\n', 'p', 'a', 'V', 'A', 'N', '@', 'g', 'm', 'a', 'i', 'l', '.', 'c', 'o', 'm', ',', '4', ',', '9', '6', '7', '6', '6', '2', '2', '0', '2', '6', ',', 'p', 'a', 'v', 'a', 'n', ',', '2', '8', '\\n', '\\n']\n"
     ]
    }
   ],
   "source": [
    "data=open(\"data.txt\").read()\n",
    "print data\n",
    "print re.findall(\".\",data,re.DOTALL)"
   ]
  },
  {
   "cell_type": "code",
   "execution_count": 56,
   "metadata": {},
   "outputs": [
    {
     "name": "stdout",
     "output_type": "stream",
     "text": [
      "anil1,9676622023,1,23,Anil1@GMAIL.COM\n",
      "2,9676622024,samba1,\\tsamba1@yahoo.com,45\n",
      "3,ashok1,67,\\tashok1@rediff.com,9676622025\n",
      "paVAN@gmail.com,4,9676622026,pavan,28\n",
      "\n",
      "\n",
      "['a', 'n', 'i', 'l', '1', ',', '9', '6', '7', '6', '6', '2', '2', '0', '2', '3', ',', '1', ',', '2', '3', ',', 'A', 'n', 'i', 'l', '1', '@', 'G', 'M', 'A', 'I', 'L', '.', 'C', 'O', 'M', '2', ',', '9', '6', '7', '6', '6', '2', '2', '0', '2', '4', ',', 's', 'a', 'm', 'b', 'a', '1', ',', '\\\\', 't', 's', 'a', 'm', 'b', 'a', '1', '@', 'y', 'a', 'h', 'o', 'o', '.', 'c', 'o', 'm', ',', '4', '5', '3', ',', 'a', 's', 'h', 'o', 'k', '1', ',', '6', '7', ',', '\\\\', 't', 'a', 's', 'h', 'o', 'k', '1', '@', 'r', 'e', 'd', 'i', 'f', 'f', '.', 'c', 'o', 'm', ',', '9', '6', '7', '6', '6', '2', '2', '0', '2', '5', 'p', 'a', 'V', 'A', 'N', '@', 'g', 'm', 'a', 'i', 'l', '.', 'c', 'o', 'm', ',', '4', ',', '9', '6', '7', '6', '6', '2', '2', '0', '2', '6', ',', 'p', 'a', 'v', 'a', 'n', ',', '2', '8']\n"
     ]
    }
   ],
   "source": [
    "data=open(\"data.txt\").read()\n",
    "print data\n",
    "print re.findall(\".\",data)"
   ]
  },
  {
   "cell_type": "code",
   "execution_count": 57,
   "metadata": {},
   "outputs": [
    {
     "name": "stdout",
     "output_type": "stream",
     "text": [
      "anil1,9676622023,1,23,Anil1@GMAIL.COM\n",
      "2,9676622024,samba1,\tsamba1@yahoo.com,45\n",
      "3,ashok1,67,\tashok1@rediff.com,9676622025\n",
      "paVAN@gmail.com,4,9676622026,pavan,28\n",
      "\n",
      "\n",
      "['a', 'n', 'i', 'l', '1', ',', '9', '6', '7', '6', '6', '2', '2', '0', '2', '3', ',', '1', ',', '2', '3', ',', 'A', 'n', 'i', 'l', '1', '@', 'G', 'M', 'A', 'I', 'L', '.', 'C', 'O', 'M', '2', ',', '9', '6', '7', '6', '6', '2', '2', '0', '2', '4', ',', 's', 'a', 'm', 'b', 'a', '1', ',', '\\t', 's', 'a', 'm', 'b', 'a', '1', '@', 'y', 'a', 'h', 'o', 'o', '.', 'c', 'o', 'm', ',', '4', '5', '3', ',', 'a', 's', 'h', 'o', 'k', '1', ',', '6', '7', ',', '\\t', 'a', 's', 'h', 'o', 'k', '1', '@', 'r', 'e', 'd', 'i', 'f', 'f', '.', 'c', 'o', 'm', ',', '9', '6', '7', '6', '6', '2', '2', '0', '2', '5', 'p', 'a', 'V', 'A', 'N', '@', 'g', 'm', 'a', 'i', 'l', '.', 'c', 'o', 'm', ',', '4', ',', '9', '6', '7', '6', '6', '2', '2', '0', '2', '6', ',', 'p', 'a', 'v', 'a', 'n', ',', '2', '8']\n"
     ]
    }
   ],
   "source": [
    "data=open(\"data.txt\").read()\n",
    "print data\n",
    "print re.findall(\".\",data)"
   ]
  },
  {
   "cell_type": "code",
   "execution_count": 58,
   "metadata": {},
   "outputs": [
    {
     "name": "stdout",
     "output_type": "stream",
     "text": [
      "anil1,9676622023,1,23, Anil1@GMAIL.COM\n",
      "2,9676622024,samba1,\tsamba1@yahoo.com,45\n",
      "3,ashok1,67,\tashok1@rediff.com, 9676622025\n",
      "paVAN@gmail.com,4,9676622026, pavan,28\n",
      "\n",
      "\n",
      "['a', 'n', 'i', 'l', '1', ',', '9', '6', '7', '6', '6', '2', '2', '0', '2', '3', ',', '1', ',', '2', '3', ',', ' ', 'A', 'n', 'i', 'l', '1', '@', 'G', 'M', 'A', 'I', 'L', '.', 'C', 'O', 'M', '2', ',', '9', '6', '7', '6', '6', '2', '2', '0', '2', '4', ',', 's', 'a', 'm', 'b', 'a', '1', ',', '\\t', 's', 'a', 'm', 'b', 'a', '1', '@', 'y', 'a', 'h', 'o', 'o', '.', 'c', 'o', 'm', ',', '4', '5', '3', ',', 'a', 's', 'h', 'o', 'k', '1', ',', '6', '7', ',', '\\t', 'a', 's', 'h', 'o', 'k', '1', '@', 'r', 'e', 'd', 'i', 'f', 'f', '.', 'c', 'o', 'm', ',', ' ', '9', '6', '7', '6', '6', '2', '2', '0', '2', '5', 'p', 'a', 'V', 'A', 'N', '@', 'g', 'm', 'a', 'i', 'l', '.', 'c', 'o', 'm', ',', '4', ',', '9', '6', '7', '6', '6', '2', '2', '0', '2', '6', ',', ' ', 'p', 'a', 'v', 'a', 'n', ',', '2', '8']\n"
     ]
    }
   ],
   "source": [
    "data=open(\"data.txt\").read()\n",
    "print data\n",
    "print re.findall(\".\",data)"
   ]
  },
  {
   "cell_type": "code",
   "execution_count": 59,
   "metadata": {},
   "outputs": [
    {
     "name": "stdout",
     "output_type": "stream",
     "text": [
      "anil1,9676622023,1,23, Anil1@GMAIL.COM\n",
      "2,9676622024,samba1,\tsamba1@yahoo.com,45\n",
      "3,ashok1,67,\tashok1@rediff.com, 9676622025\n",
      "paVAN@gmail.com,4,9676622026, pavan,28\n",
      "\n",
      "\n",
      "['a', 'n', 'i', 'l', '1', ',', '9', '6', '7', '6', '6', '2', '2', '0', '2', '3', ',', '1', ',', '2', '3', ',', ' ', 'A', 'n', 'i', 'l', '1', '@', 'G', 'M', 'A', 'I', 'L', '.', 'C', 'O', 'M', '\\n', '2', ',', '9', '6', '7', '6', '6', '2', '2', '0', '2', '4', ',', 's', 'a', 'm', 'b', 'a', '1', ',', '\\t', 's', 'a', 'm', 'b', 'a', '1', '@', 'y', 'a', 'h', 'o', 'o', '.', 'c', 'o', 'm', ',', '4', '5', '\\n', '3', ',', 'a', 's', 'h', 'o', 'k', '1', ',', '6', '7', ',', '\\t', 'a', 's', 'h', 'o', 'k', '1', '@', 'r', 'e', 'd', 'i', 'f', 'f', '.', 'c', 'o', 'm', ',', ' ', '9', '6', '7', '6', '6', '2', '2', '0', '2', '5', '\\n', 'p', 'a', 'V', 'A', 'N', '@', 'g', 'm', 'a', 'i', 'l', '.', 'c', 'o', 'm', ',', '4', ',', '9', '6', '7', '6', '6', '2', '2', '0', '2', '6', ',', ' ', 'p', 'a', 'v', 'a', 'n', ',', '2', '8', '\\n', '\\n']\n"
     ]
    }
   ],
   "source": [
    "data=open(\"data.txt\").read()\n",
    "print data\n",
    "print re.findall(\".\",data,re.DOTALL)"
   ]
  },
  {
   "cell_type": "code",
   "execution_count": 60,
   "metadata": {},
   "outputs": [
    {
     "name": "stdout",
     "output_type": "stream",
     "text": [
      "anil1,9676622023,1,23, Anil1@GMAIL.COM\n",
      "2,9676622024,samba1,\tsamba1@yahoo.com,45\n",
      "3,ashok1,67,\tashok1@rediff.com, 9676622025\n",
      "paVAN@gmail.com,4,9676622026, pavan,28\n",
      "\n",
      "\n",
      "['anil1', '9676622023', '1', '23', 'nil1', '2', '9676622024', 'samba1', 'samba1', 'yahoo', 'com', '45', '3', 'ashok1', '67', 'ashok1', 'rediff', 'com', '9676622025', 'pa', 'gmail', 'com', '4', '9676622026', 'pavan', '28']\n"
     ]
    }
   ],
   "source": [
    "# username  @ domain name .  com  co.in, .org\n",
    "data=open(\"data.txt\").read()\n",
    "print data\n",
    "print re.findall(\"[a-z0-9]+\",data)"
   ]
  },
  {
   "cell_type": "code",
   "execution_count": 61,
   "metadata": {},
   "outputs": [
    {
     "name": "stdout",
     "output_type": "stream",
     "text": [
      "anil1,9676622023,1,23, Anil1@GMAIL.COM\n",
      "2,9676622024,samba1,\tsamba1@yahoo.com,45\n",
      "3,ashok1,67,\tashok1@rediff.com, 9676622025\n",
      "paVAN@gmail.com,4,9676622026, pavan,28\n",
      "\n",
      "\n",
      "['anil1', '9676622023', '1', '23', 'Anil1', 'GMAIL', 'COM', '2', '9676622024', 'samba1', 'samba1', 'yahoo', 'com', '45', '3', 'ashok1', '67', 'ashok1', 'rediff', 'com', '9676622025', 'paVAN', 'gmail', 'com', '4', '9676622026', 'pavan', '28']\n"
     ]
    }
   ],
   "source": [
    "# username  @ domain name .  com  co.in, .org\n",
    "data=open(\"data.txt\").read()\n",
    "print data\n",
    "print re.findall(\"[a-z0-9]+\",data,re.I)"
   ]
  },
  {
   "cell_type": "code",
   "execution_count": 62,
   "metadata": {},
   "outputs": [
    {
     "name": "stdout",
     "output_type": "stream",
     "text": [
      "anil1,9676622023,1,23, Anil1@GMAIL.COM\n",
      "2,9676622024,samba1,\tsamba1@yahoo.com,45\n",
      "3,ashok1,67,\tashok1@rediff.com, 9676622025\n",
      "paVAN@gmail.com,4,9676622026, pavan,28\n",
      "\n",
      "\n",
      "['Anil1@', 'samba1@', 'ashok1@', 'paVAN@']\n"
     ]
    }
   ],
   "source": [
    "# username  @ domain name .  com  co.in, .org\n",
    "data=open(\"data.txt\").read()\n",
    "print data\n",
    "print re.findall(\"[a-z0-9]+@\",data,re.I)"
   ]
  },
  {
   "cell_type": "code",
   "execution_count": 63,
   "metadata": {},
   "outputs": [
    {
     "name": "stdout",
     "output_type": "stream",
     "text": [
      "anil1,9676622023,1,23, Anil1@GMAIL.COM\n",
      "2,9676622024,samba1,\tsamba1@yahoo.com,45\n",
      "3,ashok1,67,\tashok1@rediff.com, 9676622025\n",
      "paVAN@gmail.com,4,9676622026, pavan,28\n",
      "\n",
      "\n",
      "['Anil1@GMAIL', 'samba1@yahoo', 'ashok1@rediff', 'paVAN@gmail']\n"
     ]
    }
   ],
   "source": [
    "# username  @ domain name .  com  co.in, .org\n",
    "data=open(\"data.txt\").read()\n",
    "print data\n",
    "print re.findall(\"[a-z0-9]+@[a-z]+\",data,re.I)"
   ]
  },
  {
   "cell_type": "code",
   "execution_count": 64,
   "metadata": {},
   "outputs": [
    {
     "name": "stdout",
     "output_type": "stream",
     "text": [
      "anil1,9676622023,1,23, Anil1@GMAIL.COM\n",
      "2,9676622024,samba1,\tsamba1@yahoo.com,45\n",
      "3,ashok1,67,\tashok1@rediff.com, 9676622025\n",
      "paVAN@gmail.com,4,9676622026, pavan,28\n",
      "\n",
      "\n",
      "['Anil1@GMAIL.', 'samba1@yahoo.', 'ashok1@rediff.', 'paVAN@gmail.']\n"
     ]
    }
   ],
   "source": [
    "# username  @ domain name .  com  co.in, .org\n",
    "data=open(\"data.txt\").read()\n",
    "print data\n",
    "print re.findall(\"[a-z0-9]+@[a-z]+\\.\",data,re.I)"
   ]
  },
  {
   "cell_type": "code",
   "execution_count": 65,
   "metadata": {},
   "outputs": [
    {
     "name": "stdout",
     "output_type": "stream",
     "text": [
      "anil1,9676622023,1,23, Anil1@GMAIL.COM\n",
      "2,9676622024,samba1,\tsamba1@yahoo.com,45\n",
      "3,ashok1,67,\tashok1@rediff.com, 9676622025\n",
      "paVAN@gmail.com,4,9676622026, pavan,28\n",
      "\n",
      "\n",
      "['Anil1@GMAIL.COM', 'samba1@yahoo.com', 'ashok1@rediff.com', 'paVAN@gmail.com']\n"
     ]
    }
   ],
   "source": [
    "# username  @ domain name .  com  co.in, .org\n",
    "data=open(\"data.txt\").read()\n",
    "print data\n",
    "print re.findall(\"[a-z0-9]+@[a-z]+\\.[.cominrg]{2,6}\",data,re.I)"
   ]
  },
  {
   "cell_type": "code",
   "execution_count": 66,
   "metadata": {},
   "outputs": [
    {
     "name": "stdout",
     "output_type": "stream",
     "text": [
      "anil1,9676622023,1,23, Anil1@GMAIL.COM\n",
      "2,9676622024,samba1,\tsamba1@yahoo.co.in,45\n",
      "3,ashok1,67,\tashok1@rediff.com, 9676622025\n",
      "paVAN@gmail.org,4,9676622026, pavan,28\n",
      "\n",
      "\n",
      "['Anil1@GMAIL.COM', 'samba1@yahoo.co.in', 'ashok1@rediff.com', 'paVAN@gmail.org']\n"
     ]
    }
   ],
   "source": [
    "# username  @ domain name .  com  co.in, .org\n",
    "data=open(\"data.txt\").read()\n",
    "print data\n",
    "print re.findall(\"[a-z0-9]+@[a-z]+\\.[.cominrg]{2,6}\",data,re.I)"
   ]
  },
  {
   "cell_type": "code",
   "execution_count": 67,
   "metadata": {},
   "outputs": [
    {
     "name": "stdout",
     "output_type": "stream",
     "text": [
      "anil1,9676622023,1,23, Anil1@GMAIL.COM\n",
      "2,9676622024,samba1,\tsamba1@yahoo.co.in,45\n",
      "3,ashok1,67,\tashok1@rediff.com, 9676622025\n",
      "paVAN@gmail.org,4,9676622026, pavan,28\n",
      "\n",
      "\n",
      "['Anil1@GMAIL.COM', 'samba1@yahoo.co', 'ashok1@rediff.com', 'paVAN@gmail.org']\n"
     ]
    }
   ],
   "source": [
    "# username  @ domain name .  com  co.in, .org\n",
    "data=open(\"data.txt\").read()\n",
    "print data\n",
    "print re.findall(\"[a-z0-9]+@[a-z]+\\.[cominrg]{2,6}\",data,re.I)"
   ]
  },
  {
   "cell_type": "code",
   "execution_count": 68,
   "metadata": {},
   "outputs": [
    {
     "name": "stdout",
     "output_type": "stream",
     "text": [
      "anil1,9676622023,1,23, Anil1@GMAIL.COM\n",
      "2,9676622024,samba1,\tsamba1@yahoo.co.in,45\n",
      "3,ashok1,67,\tashok1@rediff.com, 9676622025\n",
      "paVAN@gmail.org,4,9676622026, pavan,28\n",
      "\n",
      "\n",
      "['Anil1@GMAIL.COM', 'samba1@yahoo.co.in', 'ashok1@rediff.com', 'paVAN@gmail.org']\n"
     ]
    }
   ],
   "source": [
    "# username  @ domain name .  com  co.in, .org\n",
    "data=open(\"data.txt\").read()\n",
    "print data\n",
    "print re.findall(\"\\w+@[a-z]+\\.[.cominrg]{2,6}\",data,re.I)"
   ]
  },
  {
   "cell_type": "code",
   "execution_count": 69,
   "metadata": {},
   "outputs": [
    {
     "name": "stdout",
     "output_type": "stream",
     "text": [
      "anil1,9676622023,1,23, Anil1@GMAIL.COM\n",
      "2,9676622024,samba1,\tsamba1@yahoo.co.in,45\n",
      "3,ashok1,67,\tashok1@rediff.com, 9676622025\n",
      "paVAN@gmail.org,4,9676622026, pavan,28\n",
      "\n",
      "\n",
      "['Anil1@GMAIL.COM', 'samba1@yahoo.co.in', 'ashok1@rediff.com', 'paVAN@gmail.org']\n"
     ]
    }
   ],
   "source": [
    "# username  @ domain name .  com  co.in, .org\n",
    "data=open(\"data.txt\").read()\n",
    "print data\n",
    "print re.findall(\"\\w+@[a-z]+\\.[.cominrg]{2,6}\",data,re.I)"
   ]
  },
  {
   "cell_type": "code",
   "execution_count": 71,
   "metadata": {},
   "outputs": [
    {
     "name": "stdout",
     "output_type": "stream",
     "text": [
      "{0: 10, 1: 11, 2: 12, 3: 13, 4: 14, 5: 15, 6: 16, 7: 17, 8: 18, 9: 19}\n"
     ]
    }
   ],
   "source": [
    "keys=xrange(10)\n",
    "values=xrange(10,20)\n",
    "print dict(zip(keys, values))"
   ]
  },
  {
   "cell_type": "code",
   "execution_count": 72,
   "metadata": {},
   "outputs": [
    {
     "name": "stdout",
     "output_type": "stream",
     "text": [
      "{0: 10, 1: 11, 2: 12, 3: 13, 4: 14, 5: 15, 6: 16, 7: 17, 8: 18, 9: 19}\n"
     ]
    }
   ],
   "source": [
    "keys=xrange(10)\n",
    "values=xrange(10,20)\n",
    "print dict([(i,j) for i,j in zip(keys,values)])"
   ]
  },
  {
   "cell_type": "code",
   "execution_count": 73,
   "metadata": {},
   "outputs": [
    {
     "name": "stdout",
     "output_type": "stream",
     "text": [
      "{0: 10, 1: 11, 2: 12, 3: 13, 4: 14, 5: 15, 6: 16, 7: 17, 8: 18, 9: 19}\n"
     ]
    }
   ],
   "source": [
    "keys=xrange(10)\n",
    "values=xrange(10,20)\n",
    "print dict((i,j) for i,j in zip(keys,values))"
   ]
  },
  {
   "cell_type": "code",
   "execution_count": 74,
   "metadata": {},
   "outputs": [
    {
     "name": "stdout",
     "output_type": "stream",
     "text": [
      "anil1,9676622023,1,23, Anil1@GMAIL.COM\n",
      "2,9676622024,samba1,\tsamba1@yahoo.co.in,45\n",
      "3,ashok1,67,\tashok1@rediff.com, 9676622025\n",
      "paVAN@gmail.org,4,9676622026, pavan,28\n",
      "\n",
      "\n",
      "<callable-iterator object at 0x7f75dc3f8c50>\n"
     ]
    }
   ],
   "source": [
    "# username  @ domain name .  com  co.in, .org\n",
    "data=open(\"data.txt\").read()\n",
    "print data\n",
    "print re.finditer(\"\\w+@[a-z]+\\.[.cominrg]{2,6}\",data,re.I)"
   ]
  },
  {
   "cell_type": "code",
   "execution_count": 75,
   "metadata": {},
   "outputs": [
    {
     "name": "stdout",
     "output_type": "stream",
     "text": [
      "anil1,9676622023,1,23, Anil1@GMAIL.COM\n",
      "2,9676622024,samba1,\tsamba1@yahoo.co.in,45\n",
      "3,ashok1,67,\tashok1@rediff.com, 9676622025\n",
      "paVAN@gmail.org,4,9676622026, pavan,28\n",
      "\n",
      "\n",
      "['Anil1@GMAIL.COM', 'samba1@yahoo.co.in', 'ashok1@rediff.com', 'paVAN@gmail.org']\n"
     ]
    }
   ],
   "source": [
    "# username  @ domain name .  com  co.in, .org\n",
    "data=open(\"data.txt\").read()\n",
    "print data\n",
    "print re.findall(\"\\w+@[a-z]+\\.[.cominrg]{2,6}\",data,re.I)"
   ]
  },
  {
   "cell_type": "code",
   "execution_count": 76,
   "metadata": {},
   "outputs": [
    {
     "name": "stdout",
     "output_type": "stream",
     "text": [
      "anil1,9676622023,1,23, Anil1@GMAIL.COM\n",
      "2,9676622024,samba1,\tsamba1@yahoo.co.in,45\n",
      "3,ashok1,67,\tashok1@rediff.com, 9676622025\n",
      "paVAN@gmail.org,4,9676622026, pavan,28\n",
      "\n",
      "\n",
      "<callable-iterator object at 0x7f75dc3f8f10>\n"
     ]
    }
   ],
   "source": [
    "# username  @ domain name .  com  co.in, .org\n",
    "data=open(\"data.txt\").read()\n",
    "print data\n",
    "emails=re.finditer(\"\\w+@[a-z]+\\.[.cominrg]{2,6}\",data,re.I)\n",
    "print emails"
   ]
  },
  {
   "cell_type": "code",
   "execution_count": 77,
   "metadata": {},
   "outputs": [
    {
     "name": "stdout",
     "output_type": "stream",
     "text": [
      "anil1,9676622023,1,23, Anil1@GMAIL.COM\n",
      "2,9676622024,samba1,\tsamba1@yahoo.co.in,45\n",
      "3,ashok1,67,\tashok1@rediff.com, 9676622025\n",
      "paVAN@gmail.org,4,9676622026, pavan,28\n",
      "\n",
      "\n",
      "<callable-iterator object at 0x7f75dc3f83d0>\n",
      "<_sre.SRE_Match object at 0x7f75dc315920>\n",
      "<_sre.SRE_Match object at 0x7f75dc315988>\n",
      "<_sre.SRE_Match object at 0x7f75dc315920>\n",
      "<_sre.SRE_Match object at 0x7f75dc315988>\n"
     ]
    }
   ],
   "source": [
    "# username  @ domain name .  com  co.in, .org\n",
    "data=open(\"data.txt\").read()\n",
    "print data\n",
    "emails=re.finditer(\"\\w+@[a-z]+\\.[.cominrg]{2,6}\",data,re.I)\n",
    "print emails\n",
    "for i in emails:\n",
    "    print i"
   ]
  },
  {
   "cell_type": "code",
   "execution_count": 78,
   "metadata": {},
   "outputs": [
    {
     "name": "stdout",
     "output_type": "stream",
     "text": [
      "anil1,9676622023,1,23, Anil1@GMAIL.COM\n",
      "2,9676622024,samba1,\tsamba1@yahoo.co.in,45\n",
      "3,ashok1,67,\tashok1@rediff.com, 9676622025\n",
      "paVAN@gmail.org,4,9676622026, pavan,28\n",
      "\n",
      "\n",
      "<callable-iterator object at 0x7f75dc3f8390>\n",
      "Anil1@GMAIL.COM\n",
      "samba1@yahoo.co.in\n",
      "ashok1@rediff.com\n",
      "paVAN@gmail.org\n"
     ]
    }
   ],
   "source": [
    "# username  @ domain name .  com  co.in, .org\n",
    "data=open(\"data.txt\").read()\n",
    "print data\n",
    "emails=re.finditer(\"\\w+@[a-z]+\\.[.cominrg]{2,6}\",data,re.I)\n",
    "print emails\n",
    "for i in emails:\n",
    "    print i.group(0)"
   ]
  },
  {
   "cell_type": "code",
   "execution_count": 79,
   "metadata": {},
   "outputs": [
    {
     "name": "stdout",
     "output_type": "stream",
     "text": [
      "anil1,9676622023,1,23, Anil1@GMAIL.COM\n",
      "2,9676622024,samba1,\tsamba1@yahoo.co.in,45\n",
      "3,ashok1,67,\tashok1@rediff.com, 9676622025\n",
      "paVAN@gmail.org,4,9676622026, pavan,28\n",
      "\n",
      "\n",
      "<_sre.SRE_Match object at 0x7f75dc315a58>\n"
     ]
    }
   ],
   "source": [
    "data=open(\"data.txt\").read()\n",
    "print data\n",
    "emails=re.search(\"\\w+@[a-z]+\\.[.cominrg]{2,6}\",data,re.I)\n",
    "print emails"
   ]
  },
  {
   "cell_type": "code",
   "execution_count": 80,
   "metadata": {},
   "outputs": [
    {
     "name": "stdout",
     "output_type": "stream",
     "text": [
      "anil1,9676622023,1,23, Anil1@GMAIL.COM\n",
      "2,9676622024,samba1,\tsamba1@yahoo.co.in,45\n",
      "3,ashok1,67,\tashok1@rediff.com, 9676622025\n",
      "paVAN@gmail.org,4,9676622026, pavan,28\n",
      "\n",
      "\n",
      "None\n"
     ]
    }
   ],
   "source": [
    "data=open(\"data.txt\").read()\n",
    "print data\n",
    "emails=re.match(\"\\w+@[a-z]+\\.[.cominrg]{2,6}\",data,re.I)\n",
    "print emails"
   ]
  },
  {
   "cell_type": "code",
   "execution_count": 81,
   "metadata": {},
   "outputs": [
    {
     "name": "stdout",
     "output_type": "stream",
     "text": [
      "anil1,9676622023,1,23, Anil1@GMAIL.COM\n",
      "2,9676622024,samba1,\tsamba1@yahoo.co.in,45\n",
      "3,ashok1,67,\tashok1@rediff.com, 9676622025\n",
      "paVAN@gmail.org,4,9676622026, pavan,28\n",
      "\n",
      "\n",
      "<_sre.SRE_Match object at 0x7f75dc315b28>\n"
     ]
    }
   ],
   "source": [
    "data=open(\"data.txt\").read()\n",
    "print data\n",
    "emails=re.match(\"[a-z]{4}\",data,re.I)\n",
    "print emails"
   ]
  },
  {
   "cell_type": "code",
   "execution_count": 82,
   "metadata": {},
   "outputs": [
    {
     "name": "stdout",
     "output_type": "stream",
     "text": [
      "anil1,9676622023,1,23, Anil1@GMAIL.COM\n",
      "2,9676622024,samba1,\tsamba1@yahoo.co.in,45\n",
      "3,ashok1,67,\tashok1@rediff.com, 9676622025\n",
      "paVAN@gmail.org,4,9676622026, pavan,28\n",
      "\n",
      "\n",
      "anil\n"
     ]
    }
   ],
   "source": [
    "data=open(\"data.txt\").read()\n",
    "print data\n",
    "emails=re.match(\"[a-z]{4}\",data,re.I)\n",
    "print emails.group(0)"
   ]
  },
  {
   "cell_type": "code",
   "execution_count": 83,
   "metadata": {},
   "outputs": [
    {
     "name": "stdout",
     "output_type": "stream",
     "text": [
      "anil1,9676622023,1,23, Anil1@GMAIL.COM\n",
      "2,9676622024,samba1,\tsamba1@yahoo.co.in,45\n",
      "3,ashok1,67,\tashok1@rediff.com, 9676622025\n",
      "paVAN@gmail.org,4,9676622026, pavan,28\n",
      "\n",
      "\n"
     ]
    },
    {
     "ename": "IndexError",
     "evalue": "no such group",
     "output_type": "error",
     "traceback": [
      "\u001b[0;31m---------------------------------------------------------------------------\u001b[0m",
      "\u001b[0;31mIndexError\u001b[0m                                Traceback (most recent call last)",
      "\u001b[0;32m<ipython-input-83-f6667a0e09d6>\u001b[0m in \u001b[0;36m<module>\u001b[0;34m()\u001b[0m\n\u001b[1;32m      2\u001b[0m \u001b[0;32mprint\u001b[0m \u001b[0mdata\u001b[0m\u001b[0;34m\u001b[0m\u001b[0m\n\u001b[1;32m      3\u001b[0m \u001b[0memails\u001b[0m\u001b[0;34m=\u001b[0m\u001b[0mre\u001b[0m\u001b[0;34m.\u001b[0m\u001b[0mmatch\u001b[0m\u001b[0;34m(\u001b[0m\u001b[0;34m\"[a-z]{4}\"\u001b[0m\u001b[0;34m,\u001b[0m\u001b[0mdata\u001b[0m\u001b[0;34m,\u001b[0m\u001b[0mre\u001b[0m\u001b[0;34m.\u001b[0m\u001b[0mI\u001b[0m\u001b[0;34m)\u001b[0m\u001b[0;34m\u001b[0m\u001b[0m\n\u001b[0;32m----> 4\u001b[0;31m \u001b[0;32mprint\u001b[0m \u001b[0memails\u001b[0m\u001b[0;34m.\u001b[0m\u001b[0mgroup\u001b[0m\u001b[0;34m(\u001b[0m\u001b[0;36m1\u001b[0m\u001b[0;34m)\u001b[0m\u001b[0;34m\u001b[0m\u001b[0m\n\u001b[0m",
      "\u001b[0;31mIndexError\u001b[0m: no such group"
     ]
    }
   ],
   "source": [
    "data=open(\"data.txt\").read()\n",
    "print data\n",
    "emails=re.match(\"[a-z]{4}\",data,re.I)\n",
    "print emails.group(1)"
   ]
  },
  {
   "cell_type": "code",
   "execution_count": 84,
   "metadata": {},
   "outputs": [
    {
     "name": "stdout",
     "output_type": "stream",
     "text": [
      "anil1,9676622023,1,23, Anil1@GMAIL.COM\n",
      "2,9676622024,samba1,\tsamba1@yahoo.co.in,45\n",
      "3,ashok1,67,\tashok1@rediff.com, 9676622025\n",
      "paVAN@gmail.org,4,9676622026, pavan,28\n",
      "\n",
      "\n"
     ]
    },
    {
     "ename": "IndexError",
     "evalue": "no such group",
     "output_type": "error",
     "traceback": [
      "\u001b[0;31m---------------------------------------------------------------------------\u001b[0m",
      "\u001b[0;31mIndexError\u001b[0m                                Traceback (most recent call last)",
      "\u001b[0;32m<ipython-input-84-8ca045f8e2d3>\u001b[0m in \u001b[0;36m<module>\u001b[0;34m()\u001b[0m\n\u001b[1;32m      2\u001b[0m \u001b[0;32mprint\u001b[0m \u001b[0mdata\u001b[0m\u001b[0;34m\u001b[0m\u001b[0m\n\u001b[1;32m      3\u001b[0m \u001b[0memails\u001b[0m\u001b[0;34m=\u001b[0m\u001b[0mre\u001b[0m\u001b[0;34m.\u001b[0m\u001b[0msearch\u001b[0m\u001b[0;34m(\u001b[0m\u001b[0;34m\"[a-z]{4}\"\u001b[0m\u001b[0;34m,\u001b[0m\u001b[0mdata\u001b[0m\u001b[0;34m,\u001b[0m\u001b[0mre\u001b[0m\u001b[0;34m.\u001b[0m\u001b[0mI\u001b[0m\u001b[0;34m)\u001b[0m\u001b[0;34m\u001b[0m\u001b[0m\n\u001b[0;32m----> 4\u001b[0;31m \u001b[0;32mprint\u001b[0m \u001b[0memails\u001b[0m\u001b[0;34m.\u001b[0m\u001b[0mgroup\u001b[0m\u001b[0;34m(\u001b[0m\u001b[0;36m1\u001b[0m\u001b[0;34m)\u001b[0m\u001b[0;34m\u001b[0m\u001b[0m\n\u001b[0m",
      "\u001b[0;31mIndexError\u001b[0m: no such group"
     ]
    }
   ],
   "source": [
    "data=open(\"data.txt\").read()\n",
    "print data\n",
    "emails=re.search(\"[a-z]{4}\",data,re.I)\n",
    "print emails.group(1)"
   ]
  },
  {
   "cell_type": "code",
   "execution_count": 85,
   "metadata": {},
   "outputs": [
    {
     "name": "stdout",
     "output_type": "stream",
     "text": [
      "anil1,9676622023,1,23, Anil1@GMAIL.COM\n",
      "2,9676622024,samba1,\tsamba1@yahoo.co.in,45\n",
      "3,ashok1,67,\tashok1@rediff.com, 9676622025\n",
      "paVAN@gmail.org,4,9676622026, pavan,28\n",
      "\n",
      "\n",
      "<callable-iterator object at 0x7f75dc3f8f50>\n",
      "<_sre.SRE_Match object at 0x7f75dc315bf8>\n",
      "<_sre.SRE_Match object at 0x7f75dc315988>\n",
      "<_sre.SRE_Match object at 0x7f75dc315bf8>\n",
      "<_sre.SRE_Match object at 0x7f75dc315988>\n"
     ]
    }
   ],
   "source": [
    "# username  @ domain name .  com  co.in, .org\n",
    "data=open(\"data.txt\").read()\n",
    "print data\n",
    "emails=re.finditer(\"\\w+@[a-z]+\\.[.cominrg]{2,6}\",data,re.I)\n",
    "print emails\n",
    "for i in emails:\n",
    "    print i"
   ]
  },
  {
   "cell_type": "code",
   "execution_count": 86,
   "metadata": {},
   "outputs": [
    {
     "name": "stdout",
     "output_type": "stream",
     "text": [
      "anil1,9676622023,1,23, Anil1@GMAIL.COM\n",
      "2,9676622024,samba1,\tsamba1@yahoo.co.in,45\n",
      "3,ashok1,67,\tashok1@rediff.com, 9676622025\n",
      "paVAN@gmail.org,4,9676622026, pavan,28\n",
      "\n",
      "\n",
      "['samba1@yahoo.co.in', 'ashok1@rediff.com', 'paVAN@gmail.org']\n"
     ]
    }
   ],
   "source": [
    "# username  @ domain name .  com  co.in, .org\n",
    "data=open(\"data.txt\").read()\n",
    "print data\n",
    "email_reg=re.compile(\"\\w+@[a-z]+\\.[.cominrg]{2,6}\")\n",
    "emails=email_reg.findall(data,re.I)\n",
    "print emails\n"
   ]
  },
  {
   "cell_type": "code",
   "execution_count": 90,
   "metadata": {},
   "outputs": [
    {
     "name": "stdout",
     "output_type": "stream",
     "text": [
      "anil1,9676622023,1,23, Anil1@GMAIL.COM\n",
      "2,9676622024,samba1,\tsamba1@yahoo.co.in,45\n",
      "3,ashok1,67,\tashok1@rediff.com, 9676622025\n",
      "paVAN@gmail.org,4,9676622026, pavan,28\n",
      "\n",
      "\n",
      "['samba1@yahoo.co.in', 'ashok1@rediff.com', 'paVAN@gmail.org']\n"
     ]
    }
   ],
   "source": [
    "# username  @ domain name .  com  co.in, .org\n",
    "file_names=[\"data.txt\",]\n",
    "email_reg=re.compile(\"\\w+@[a-z]+\\.[.cominrg]{2,6}\")\n",
    "patterns=[email_reg,]\n",
    "emails=[]\n",
    "for reg,filename in zip(patterns,file_names):\n",
    "    f=open(filename)\n",
    "    data=f.read()\n",
    "    print data\n",
    "    emails_files=reg.findall(data,re.I)\n",
    "    emails.extend(emails_files)\n",
    "    f.close()\n",
    "print emails\n"
   ]
  },
  {
   "cell_type": "code",
   "execution_count": null,
   "metadata": {
    "collapsed": true
   },
   "outputs": [],
   "source": []
  }
 ],
 "metadata": {
  "kernelspec": {
   "display_name": "Python 2",
   "language": "python",
   "name": "python2"
  },
  "language_info": {
   "codemirror_mode": {
    "name": "ipython",
    "version": 2
   },
   "file_extension": ".py",
   "mimetype": "text/x-python",
   "name": "python",
   "nbconvert_exporter": "python",
   "pygments_lexer": "ipython2",
   "version": "2.7.14"
  }
 },
 "nbformat": 4,
 "nbformat_minor": 2
}
