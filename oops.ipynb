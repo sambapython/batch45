{
 "cells": [
  {
   "cell_type": "code",
   "execution_count": 1,
   "metadata": {
    "collapsed": true
   },
   "outputs": [],
   "source": [
    "# inheritance, encapsulation, abstraction, polymorphism, databinding\n",
    "def sal(emp):\n",
    "    print emp\n",
    "    cal_sal=\"\"\n",
    "def leaves(emp):\n",
    "    print emp\n",
    "    \n",
    "def IT(emp):\n",
    "    print emp\n",
    "emp1={\"name\":\"EMP name\",\"age\":23,\"sal\":2345,\"leave\":[]}\n"
   ]
  },
  {
   "cell_type": "code",
   "execution_count": 2,
   "metadata": {},
   "outputs": [
    {
     "name": "stdout",
     "output_type": "stream",
     "text": [
      "this is class\n"
     ]
    }
   ],
   "source": [
    "def fun():\n",
    "    print \"this is function\"\n",
    "class EmpCompany:\n",
    "    print \"this is class\""
   ]
  },
  {
   "cell_type": "code",
   "execution_count": 5,
   "metadata": {},
   "outputs": [
    {
     "name": "stdout",
     "output_type": "stream",
     "text": [
      "this is class\n"
     ]
    }
   ],
   "source": [
    "def fun():\n",
    "    print \"this is function\"\n",
    "    c=100\n",
    "    d=200\n",
    "class EmpCompany:\n",
    "    print \"this is class\"\n",
    "    a=10\n",
    "    b=20"
   ]
  },
  {
   "cell_type": "code",
   "execution_count": 6,
   "metadata": {},
   "outputs": [
    {
     "name": "stdout",
     "output_type": "stream",
     "text": [
      "this is class\n",
      "10\n",
      "20\n"
     ]
    }
   ],
   "source": [
    "def fun():\n",
    "    print \"this is function\"\n",
    "    c=100\n",
    "    d=200\n",
    "class EmpCompany:\n",
    "    print \"this is class\"\n",
    "    a=10\n",
    "    b=20\n",
    "print EmpCompany.a\n",
    "print EmpCompany.b"
   ]
  },
  {
   "cell_type": "code",
   "execution_count": 7,
   "metadata": {},
   "outputs": [
    {
     "name": "stdout",
     "output_type": "stream",
     "text": [
      "this is class\n",
      "10\n",
      "20\n"
     ]
    },
    {
     "ename": "TypeError",
     "evalue": "unbound method sal_cal() must be called with EmpCompany instance as first argument (got dict instance instead)",
     "output_type": "error",
     "traceback": [
      "\u001b[0;31m---------------------------------------------------------------------------\u001b[0m",
      "\u001b[0;31mTypeError\u001b[0m                                 Traceback (most recent call last)",
      "\u001b[0;32m<ipython-input-7-48f1770f7174>\u001b[0m in \u001b[0;36m<module>\u001b[0;34m()\u001b[0m\n\u001b[1;32m     12\u001b[0m \u001b[0;32mprint\u001b[0m \u001b[0mEmpCompany\u001b[0m\u001b[0;34m.\u001b[0m\u001b[0ma\u001b[0m\u001b[0;34m\u001b[0m\u001b[0m\n\u001b[1;32m     13\u001b[0m \u001b[0;32mprint\u001b[0m \u001b[0mEmpCompany\u001b[0m\u001b[0;34m.\u001b[0m\u001b[0mb\u001b[0m\u001b[0;34m\u001b[0m\u001b[0m\n\u001b[0;32m---> 14\u001b[0;31m \u001b[0mEmpCompany\u001b[0m\u001b[0;34m.\u001b[0m\u001b[0msal_cal\u001b[0m\u001b[0;34m(\u001b[0m\u001b[0;34m{\u001b[0m\u001b[0;34m\"emp\"\u001b[0m\u001b[0;34m:\u001b[0m\u001b[0;34m\"details\"\u001b[0m\u001b[0;34m}\u001b[0m\u001b[0;34m)\u001b[0m\u001b[0;34m\u001b[0m\u001b[0m\n\u001b[0m",
      "\u001b[0;31mTypeError\u001b[0m: unbound method sal_cal() must be called with EmpCompany instance as first argument (got dict instance instead)"
     ]
    }
   ],
   "source": [
    "def fun():\n",
    "    print \"this is function\"\n",
    "    c=100\n",
    "    d=200\n",
    "class EmpCompany:\n",
    "    print \"this is class\"\n",
    "    a=10\n",
    "    b=20\n",
    "    def sal_cal(emp):\n",
    "        print \"this is method inside the class\"\n",
    "        print emp\n",
    "print EmpCompany.a\n",
    "print EmpCompany.b\n",
    "EmpCompany.sal_cal({\"emp\":\"details\"})"
   ]
  },
  {
   "cell_type": "code",
   "execution_count": 8,
   "metadata": {},
   "outputs": [
    {
     "name": "stdout",
     "output_type": "stream",
     "text": [
      "this is class\n",
      "10\n",
      "20\n"
     ]
    },
    {
     "ename": "TypeError",
     "evalue": "unbound method sal_cal() must be called with EmpCompany instance as first argument (got dict instance instead)",
     "output_type": "error",
     "traceback": [
      "\u001b[0;31m---------------------------------------------------------------------------\u001b[0m",
      "\u001b[0;31mTypeError\u001b[0m                                 Traceback (most recent call last)",
      "\u001b[0;32m<ipython-input-8-cb4e1385e06e>\u001b[0m in \u001b[0;36m<module>\u001b[0;34m()\u001b[0m\n\u001b[1;32m     13\u001b[0m \u001b[0;32mprint\u001b[0m \u001b[0mEmpCompany\u001b[0m\u001b[0;34m.\u001b[0m\u001b[0mb\u001b[0m\u001b[0;34m\u001b[0m\u001b[0m\n\u001b[1;32m     14\u001b[0m \u001b[0memp_instance\u001b[0m\u001b[0;34m=\u001b[0m\u001b[0mEmpCompany\u001b[0m\u001b[0;34m(\u001b[0m\u001b[0;34m)\u001b[0m\u001b[0;34m\u001b[0m\u001b[0m\n\u001b[0;32m---> 15\u001b[0;31m \u001b[0mEmpCompany\u001b[0m\u001b[0;34m.\u001b[0m\u001b[0msal_cal\u001b[0m\u001b[0;34m(\u001b[0m\u001b[0;34m{\u001b[0m\u001b[0;34m\"emp\"\u001b[0m\u001b[0;34m:\u001b[0m\u001b[0;34m\"details\"\u001b[0m\u001b[0;34m}\u001b[0m\u001b[0;34m)\u001b[0m\u001b[0;34m\u001b[0m\u001b[0m\n\u001b[0m",
      "\u001b[0;31mTypeError\u001b[0m: unbound method sal_cal() must be called with EmpCompany instance as first argument (got dict instance instead)"
     ]
    }
   ],
   "source": [
    "def fun():\n",
    "    print \"this is function\"\n",
    "    c=100\n",
    "    d=200\n",
    "class EmpCompany:\n",
    "    print \"this is class\"\n",
    "    a=10\n",
    "    b=20\n",
    "    def sal_cal(emp):\n",
    "        print \"this is method inside the class\"\n",
    "        print emp\n",
    "print EmpCompany.a\n",
    "print EmpCompany.b\n",
    "emp_instance=EmpCompany()\n",
    "EmpCompany.sal_cal({\"emp\":\"details\"})"
   ]
  },
  {
   "cell_type": "code",
   "execution_count": 9,
   "metadata": {},
   "outputs": [
    {
     "name": "stdout",
     "output_type": "stream",
     "text": [
      "this is class\n",
      "10\n",
      "20\n",
      "this is method inside the class\n",
      "<__main__.EmpCompany instance at 0x7efcd0f63e60>\n"
     ]
    }
   ],
   "source": [
    "def fun():\n",
    "    print \"this is function\"\n",
    "    c=100\n",
    "    d=200\n",
    "class EmpCompany:\n",
    "    print \"this is class\"\n",
    "    a=10\n",
    "    b=20\n",
    "    def sal_cal(emp):\n",
    "        print \"this is method inside the class\"\n",
    "        print emp\n",
    "print EmpCompany.a\n",
    "print EmpCompany.b\n",
    "emp_instance=EmpCompany()\n",
    "EmpCompany.sal_cal(emp_instance)"
   ]
  },
  {
   "cell_type": "code",
   "execution_count": 10,
   "metadata": {},
   "outputs": [
    {
     "name": "stdout",
     "output_type": "stream",
     "text": [
      "this is class\n",
      "10\n",
      "20\n",
      "this is method inside the class\n",
      "<__main__.EmpCompany instance at 0x7efcd0efc098>\n",
      "139624302681320\n",
      "139624302231704\n"
     ]
    }
   ],
   "source": [
    "def fun():\n",
    "    print \"this is function\"\n",
    "    c=100\n",
    "    d=200\n",
    "class EmpCompany:\n",
    "    print \"this is class\"\n",
    "    a=10\n",
    "    b=20\n",
    "    def sal_cal(emp):\n",
    "        print \"this is method inside the class\"\n",
    "        print emp\n",
    "print EmpCompany.a\n",
    "print EmpCompany.b\n",
    "emp_instance=EmpCompany()\n",
    "EmpCompany.sal_cal(emp_instance)\n",
    "print id(EmpCompany)\n",
    "print id(emp_instance)"
   ]
  },
  {
   "cell_type": "code",
   "execution_count": 11,
   "metadata": {},
   "outputs": [
    {
     "name": "stdout",
     "output_type": "stream",
     "text": [
      "this is class\n",
      "10\n",
      "20\n",
      "this is method inside the class\n",
      "<__main__.EmpCompany instance at 0x7efcd0efc368>\n"
     ]
    }
   ],
   "source": [
    "class EmpCompany:\n",
    "    print \"this is class\"\n",
    "    a=10\n",
    "    b=20\n",
    "    def sal_cal(emp):\n",
    "        print \"this is method inside the class\"\n",
    "        print emp\n",
    "print EmpCompany.a\n",
    "print EmpCompany.b\n",
    "emp_instance=EmpCompany()\n",
    "EmpCompany.sal_cal(emp_instance)"
   ]
  },
  {
   "cell_type": "code",
   "execution_count": 12,
   "metadata": {},
   "outputs": [
    {
     "name": "stdout",
     "output_type": "stream",
     "text": [
      "this is class\n",
      "10\n",
      "20\n",
      "this is method inside the class\n",
      "<__main__.EmpCompany instance at 0x7efcd0efc440>\n",
      "10\n",
      "20\n",
      "this is method inside the class\n",
      "<__main__.EmpCompany instance at 0x7efcd0efc440>\n"
     ]
    }
   ],
   "source": [
    "class EmpCompany:\n",
    "    print \"this is class\"\n",
    "    a=10\n",
    "    b=20\n",
    "    def sal_cal(emp):\n",
    "        print \"this is method inside the class\"\n",
    "        print emp\n",
    "print EmpCompany.a\n",
    "print EmpCompany.b\n",
    "emp_instance=EmpCompany()\n",
    "EmpCompany.sal_cal(emp_instance)\n",
    "print emp_instance.a\n",
    "print emp_instance.b\n",
    "emp_instance.sal_cal()\n",
    "#EmpCompany.sal_cal(emp_instance)"
   ]
  },
  {
   "cell_type": "code",
   "execution_count": 13,
   "metadata": {},
   "outputs": [
    {
     "name": "stdout",
     "output_type": "stream",
     "text": [
      "this is class\n",
      "10\n",
      "20\n",
      "this is method inside the class\n",
      "<__main__.EmpCompany instance at 0x7efcd0efc560>\n"
     ]
    }
   ],
   "source": [
    "class EmpCompany:\n",
    "    print \"this is class\"\n",
    "    a=10\n",
    "    b=20\n",
    "    def sal_cal(emp):\n",
    "        print \"this is method inside the class\"\n",
    "        print emp\n",
    "emp_instance=EmpCompany()\n",
    "print emp_instance.a\n",
    "print emp_instance.b\n",
    "emp_instance.sal_cal()\n",
    "#EmpCompany.sal_cal(emp_instance)"
   ]
  },
  {
   "cell_type": "code",
   "execution_count": 14,
   "metadata": {},
   "outputs": [
    {
     "name": "stdout",
     "output_type": "stream",
     "text": [
      "Khyaathi\n",
      "Khyaathi\n",
      "Khyaathi\n"
     ]
    }
   ],
   "source": [
    "class Emp:\n",
    "    company=\"Khyaathi\"\n",
    "    def get(emp):\n",
    "        print emp\n",
    "emp1=Emp()\n",
    "emp1.name=\"Emp1 name\"\n",
    "emp1.age=23\n",
    "emp1.sal=1234567\n",
    "emp2=Emp()\n",
    "emp2.name=\"Emp2 name\"\n",
    "emp2.age=23\n",
    "emp2.sal=4567890765\n",
    "print Emp.company\n",
    "print emp1.company\n",
    "print emp2.company"
   ]
  },
  {
   "cell_type": "code",
   "execution_count": 15,
   "metadata": {},
   "outputs": [
    {
     "name": "stdout",
     "output_type": "stream",
     "text": [
      "Khyaathi\n",
      "Khyaathi\n",
      "Khyaathi\n"
     ]
    },
    {
     "ename": "AttributeError",
     "evalue": "class Emp has no attribute 'name'",
     "output_type": "error",
     "traceback": [
      "\u001b[0;31m---------------------------------------------------------------------------\u001b[0m",
      "\u001b[0;31mAttributeError\u001b[0m                            Traceback (most recent call last)",
      "\u001b[0;32m<ipython-input-15-c6da048ddfcb>\u001b[0m in \u001b[0;36m<module>\u001b[0;34m()\u001b[0m\n\u001b[1;32m     14\u001b[0m \u001b[0;32mprint\u001b[0m \u001b[0memp1\u001b[0m\u001b[0;34m.\u001b[0m\u001b[0mcompany\u001b[0m\u001b[0;34m\u001b[0m\u001b[0m\n\u001b[1;32m     15\u001b[0m \u001b[0;32mprint\u001b[0m \u001b[0memp2\u001b[0m\u001b[0;34m.\u001b[0m\u001b[0mcompany\u001b[0m\u001b[0;34m\u001b[0m\u001b[0m\n\u001b[0;32m---> 16\u001b[0;31m \u001b[0;32mprint\u001b[0m \u001b[0mEmp\u001b[0m\u001b[0;34m.\u001b[0m\u001b[0mname\u001b[0m\u001b[0;34m\u001b[0m\u001b[0m\n\u001b[0m",
      "\u001b[0;31mAttributeError\u001b[0m: class Emp has no attribute 'name'"
     ]
    }
   ],
   "source": [
    "class Emp:\n",
    "    company=\"Khyaathi\"\n",
    "    def get(emp):\n",
    "        print emp\n",
    "emp1=Emp()\n",
    "emp1.name=\"Emp1 name\"\n",
    "emp1.age=23\n",
    "emp1.sal=1234567\n",
    "emp2=Emp()\n",
    "emp2.name=\"Emp2 name\"\n",
    "emp2.age=23\n",
    "emp2.sal=4567890765\n",
    "print Emp.company\n",
    "print emp1.company\n",
    "print emp2.company\n",
    "print Emp.name"
   ]
  },
  {
   "cell_type": "code",
   "execution_count": 16,
   "metadata": {},
   "outputs": [
    {
     "name": "stdout",
     "output_type": "stream",
     "text": [
      "Khyaathi\n",
      "Khyaathi\n",
      "Khyaathi\n",
      "Emp1 name\n",
      "Emp2 name\n"
     ]
    },
    {
     "ename": "AttributeError",
     "evalue": "class Emp has no attribute 'name'",
     "output_type": "error",
     "traceback": [
      "\u001b[0;31m---------------------------------------------------------------------------\u001b[0m",
      "\u001b[0;31mAttributeError\u001b[0m                            Traceback (most recent call last)",
      "\u001b[0;32m<ipython-input-16-1457fb78d39f>\u001b[0m in \u001b[0;36m<module>\u001b[0;34m()\u001b[0m\n\u001b[1;32m     16\u001b[0m \u001b[0;32mprint\u001b[0m \u001b[0memp1\u001b[0m\u001b[0;34m.\u001b[0m\u001b[0mname\u001b[0m\u001b[0;34m\u001b[0m\u001b[0m\n\u001b[1;32m     17\u001b[0m \u001b[0;32mprint\u001b[0m \u001b[0memp2\u001b[0m\u001b[0;34m.\u001b[0m\u001b[0mname\u001b[0m\u001b[0;34m\u001b[0m\u001b[0m\n\u001b[0;32m---> 18\u001b[0;31m \u001b[0;32mprint\u001b[0m \u001b[0mEmp\u001b[0m\u001b[0;34m.\u001b[0m\u001b[0mname\u001b[0m\u001b[0;34m\u001b[0m\u001b[0m\n\u001b[0m",
      "\u001b[0;31mAttributeError\u001b[0m: class Emp has no attribute 'name'"
     ]
    }
   ],
   "source": [
    "class Emp:\n",
    "    company=\"Khyaathi\"\n",
    "    def get(emp):\n",
    "        print emp\n",
    "emp1=Emp()\n",
    "emp1.name=\"Emp1 name\"\n",
    "emp1.age=23\n",
    "emp1.sal=1234567\n",
    "emp2=Emp()\n",
    "emp2.name=\"Emp2 name\"\n",
    "emp2.age=23\n",
    "emp2.sal=4567890765\n",
    "print Emp.company\n",
    "print emp1.company\n",
    "print emp2.company\n",
    "print emp1.name\n",
    "print emp2.name\n",
    "print Emp.name"
   ]
  },
  {
   "cell_type": "code",
   "execution_count": 18,
   "metadata": {},
   "outputs": [
    {
     "name": "stdout",
     "output_type": "stream",
     "text": [
      "Khyaathi\n",
      "Khyaathi\n",
      "Khyaathi\n",
      "Emp1 name\n",
      "Emp2 name\n"
     ]
    },
    {
     "ename": "AttributeError",
     "evalue": "Emp instance has no attribute 'name'",
     "output_type": "error",
     "traceback": [
      "\u001b[0;31m---------------------------------------------------------------------------\u001b[0m",
      "\u001b[0;31mAttributeError\u001b[0m                            Traceback (most recent call last)",
      "\u001b[0;32m<ipython-input-18-b2f7c4c112e7>\u001b[0m in \u001b[0;36m<module>\u001b[0;34m()\u001b[0m\n\u001b[1;32m     17\u001b[0m \u001b[0;32mprint\u001b[0m \u001b[0memp1\u001b[0m\u001b[0;34m.\u001b[0m\u001b[0mname\u001b[0m\u001b[0;34m\u001b[0m\u001b[0m\n\u001b[1;32m     18\u001b[0m \u001b[0;32mprint\u001b[0m \u001b[0memp2\u001b[0m\u001b[0;34m.\u001b[0m\u001b[0mname\u001b[0m\u001b[0;34m\u001b[0m\u001b[0m\n\u001b[0;32m---> 19\u001b[0;31m \u001b[0;32mprint\u001b[0m \u001b[0memp3\u001b[0m\u001b[0;34m.\u001b[0m\u001b[0mname\u001b[0m\u001b[0;34m\u001b[0m\u001b[0m\n\u001b[0m",
      "\u001b[0;31mAttributeError\u001b[0m: Emp instance has no attribute 'name'"
     ]
    }
   ],
   "source": [
    "class Emp:\n",
    "    company=\"Khyaathi\"\n",
    "    def get(emp):\n",
    "        print emp\n",
    "emp1=Emp()\n",
    "emp1.name=\"Emp1 name\"\n",
    "emp1.age=23\n",
    "emp1.sal=1234567\n",
    "emp2=Emp()\n",
    "emp2.name=\"Emp2 name\"\n",
    "emp2.age=23\n",
    "emp2.sal=4567890765\n",
    "emp3=Emp()\n",
    "print Emp.company\n",
    "print emp1.company\n",
    "print emp2.company\n",
    "print emp1.name\n",
    "print emp2.name\n",
    "print emp3.name"
   ]
  },
  {
   "cell_type": "code",
   "execution_count": 19,
   "metadata": {},
   "outputs": [
    {
     "name": "stdout",
     "output_type": "stream",
     "text": [
      "Emp1 name 23 1234567\n"
     ]
    }
   ],
   "source": [
    "class Emp:\n",
    "    company=\"Khyaathi\"\n",
    "    def get(emp):\n",
    "        print emp.name, emp.age, emp.sal\n",
    "emp1=Emp()\n",
    "emp1.name=\"Emp1 name\"\n",
    "emp1.age=23\n",
    "emp1.sal=1234567\n",
    "emp2=Emp()\n",
    "emp2.name=\"Emp2 name\"\n",
    "emp2.age=23\n",
    "emp2.sal=4567890765\n",
    "Emp.get(emp1)"
   ]
  },
  {
   "cell_type": "code",
   "execution_count": 20,
   "metadata": {},
   "outputs": [
    {
     "name": "stdout",
     "output_type": "stream",
     "text": [
      "Emp1 name 23 1234567\n",
      "Emp2 name 23 4567890765\n"
     ]
    }
   ],
   "source": [
    "class Emp:\n",
    "    company=\"Khyaathi\"\n",
    "    def get(emp):\n",
    "        print emp.name, emp.age, emp.sal\n",
    "emp1=Emp()\n",
    "emp1.name=\"Emp1 name\"\n",
    "emp1.age=23\n",
    "emp1.sal=1234567\n",
    "emp2=Emp()\n",
    "emp2.name=\"Emp2 name\"\n",
    "emp2.age=23\n",
    "emp2.sal=4567890765\n",
    "Emp.get(emp1)\n",
    "Emp.get(emp2)"
   ]
  },
  {
   "cell_type": "code",
   "execution_count": 21,
   "metadata": {},
   "outputs": [
    {
     "name": "stdout",
     "output_type": "stream",
     "text": [
      "Emp1 name 23 1234567\n",
      "Emp2 name 23 4567890765\n"
     ]
    }
   ],
   "source": [
    "class Emp:\n",
    "    company=\"Khyaathi\"\n",
    "    def get(emp):\n",
    "        print emp.name, emp.age, emp.sal\n",
    "emp1=Emp()\n",
    "emp1.name=\"Emp1 name\"\n",
    "emp1.age=23\n",
    "emp1.sal=1234567\n",
    "emp2=Emp()\n",
    "emp2.name=\"Emp2 name\"\n",
    "emp2.age=23\n",
    "emp2.sal=4567890765\n",
    "#Emp.get(emp1)\n",
    "emp1.get()\n",
    "#Emp.get(emp2)\n",
    "emp2.get()"
   ]
  },
  {
   "cell_type": "code",
   "execution_count": 22,
   "metadata": {},
   "outputs": [
    {
     "name": "stdout",
     "output_type": "stream",
     "text": [
      "Emp1 name 23 1234567\n",
      "Emp2 name 23 4567890765\n"
     ]
    },
    {
     "ename": "AttributeError",
     "evalue": "Emp instance has no attribute 'name'",
     "output_type": "error",
     "traceback": [
      "\u001b[0;31m---------------------------------------------------------------------------\u001b[0m",
      "\u001b[0;31mAttributeError\u001b[0m                            Traceback (most recent call last)",
      "\u001b[0;32m<ipython-input-22-36c5965012b3>\u001b[0m in \u001b[0;36m<module>\u001b[0;34m()\u001b[0m\n\u001b[1;32m     16\u001b[0m \u001b[0memp2\u001b[0m\u001b[0;34m.\u001b[0m\u001b[0mget\u001b[0m\u001b[0;34m(\u001b[0m\u001b[0;34m)\u001b[0m\u001b[0;34m\u001b[0m\u001b[0m\n\u001b[1;32m     17\u001b[0m \u001b[0memp3\u001b[0m\u001b[0;34m=\u001b[0m\u001b[0mEmp\u001b[0m\u001b[0;34m(\u001b[0m\u001b[0;34m)\u001b[0m\u001b[0;34m\u001b[0m\u001b[0m\n\u001b[0;32m---> 18\u001b[0;31m \u001b[0memp3\u001b[0m\u001b[0;34m.\u001b[0m\u001b[0mget\u001b[0m\u001b[0;34m(\u001b[0m\u001b[0;34m)\u001b[0m\u001b[0;34m\u001b[0m\u001b[0m\n\u001b[0m",
      "\u001b[0;32m<ipython-input-22-36c5965012b3>\u001b[0m in \u001b[0;36mget\u001b[0;34m(emp)\u001b[0m\n\u001b[1;32m      2\u001b[0m     \u001b[0mcompany\u001b[0m\u001b[0;34m=\u001b[0m\u001b[0;34m\"Khyaathi\"\u001b[0m\u001b[0;34m\u001b[0m\u001b[0m\n\u001b[1;32m      3\u001b[0m     \u001b[0;32mdef\u001b[0m \u001b[0mget\u001b[0m\u001b[0;34m(\u001b[0m\u001b[0memp\u001b[0m\u001b[0;34m)\u001b[0m\u001b[0;34m:\u001b[0m\u001b[0;34m\u001b[0m\u001b[0m\n\u001b[0;32m----> 4\u001b[0;31m         \u001b[0;32mprint\u001b[0m \u001b[0memp\u001b[0m\u001b[0;34m.\u001b[0m\u001b[0mname\u001b[0m\u001b[0;34m,\u001b[0m \u001b[0memp\u001b[0m\u001b[0;34m.\u001b[0m\u001b[0mage\u001b[0m\u001b[0;34m,\u001b[0m \u001b[0memp\u001b[0m\u001b[0;34m.\u001b[0m\u001b[0msal\u001b[0m\u001b[0;34m\u001b[0m\u001b[0m\n\u001b[0m\u001b[1;32m      5\u001b[0m \u001b[0memp1\u001b[0m\u001b[0;34m=\u001b[0m\u001b[0mEmp\u001b[0m\u001b[0;34m(\u001b[0m\u001b[0;34m)\u001b[0m\u001b[0;34m\u001b[0m\u001b[0m\n\u001b[1;32m      6\u001b[0m \u001b[0memp1\u001b[0m\u001b[0;34m.\u001b[0m\u001b[0mname\u001b[0m\u001b[0;34m=\u001b[0m\u001b[0;34m\"Emp1 name\"\u001b[0m\u001b[0;34m\u001b[0m\u001b[0m\n",
      "\u001b[0;31mAttributeError\u001b[0m: Emp instance has no attribute 'name'"
     ]
    }
   ],
   "source": [
    "class Emp:\n",
    "    company=\"Khyaathi\"\n",
    "    def get(emp):\n",
    "        print emp.name, emp.age, emp.sal\n",
    "emp1=Emp()\n",
    "emp1.name=\"Emp1 name\"\n",
    "emp1.age=23\n",
    "emp1.sal=1234567\n",
    "emp2=Emp()\n",
    "emp2.name=\"Emp2 name\"\n",
    "emp2.age=23\n",
    "emp2.sal=4567890765\n",
    "#Emp.get(emp1)\n",
    "emp1.get()\n",
    "#Emp.get(emp2)\n",
    "emp2.get()\n",
    "emp3=Emp()\n",
    "emp3.get()"
   ]
  },
  {
   "cell_type": "code",
   "execution_count": 24,
   "metadata": {},
   "outputs": [
    {
     "name": "stdout",
     "output_type": "stream",
     "text": [
      "Emp1 name 23 1234567\n",
      "Emp2 name 23 567890765\n"
     ]
    }
   ],
   "source": [
    "class Emp:\n",
    "    company=\"Khyaathi\"\n",
    "    def set_data(emp,emp_name,emp_age,emp_sal):\n",
    "        emp.name=emp_name\n",
    "        emp.age=emp_age\n",
    "        emp.sal=emp_sal\n",
    "    def get(emp):\n",
    "        print emp.name, emp.age, emp.sal\n",
    "emp1=Emp()\n",
    "Emp.set_data(emp1,\"Emp1 name\",23,1234567)\n",
    "#emp1.name=\"Emp1 name\"\n",
    "#emp1.age=23\n",
    "#emp1.sal=1234567\n",
    "emp2=Emp()\n",
    "#emp2.name=\"Emp2 name\"\n",
    "#emp2.age=23\n",
    "#emp2.sal=4567890765\n",
    "Emp.set_data(emp2,\"Emp2 name\",23,567890765)\n",
    "#Emp.get(emp1)\n",
    "emp1.get()\n",
    "#Emp.get(emp2)\n",
    "emp2.get()\n",
    "\n"
   ]
  },
  {
   "cell_type": "code",
   "execution_count": 25,
   "metadata": {},
   "outputs": [
    {
     "name": "stdout",
     "output_type": "stream",
     "text": [
      "Emp1 name 23 1234567\n",
      "Emp2 name 23 567890765\n"
     ]
    }
   ],
   "source": [
    "class Emp:\n",
    "    company=\"Khyaathi\"\n",
    "    def set_data(emp,emp_name,emp_age,emp_sal):\n",
    "        emp.name=emp_name\n",
    "        emp.age=emp_age\n",
    "        emp.sal=emp_sal\n",
    "    def get(emp):\n",
    "        print emp.name, emp.age, emp.sal\n",
    "emp1=Emp()\n",
    "Emp.set_data(emp1,\"Emp1 name\",23,1234567)\n",
    "emp2=Emp()\n",
    "Emp.set_data(emp2,\"Emp2 name\",23,567890765)\n",
    "emp1.get()\n",
    "emp2.get()\n",
    "\n"
   ]
  },
  {
   "cell_type": "code",
   "execution_count": 26,
   "metadata": {},
   "outputs": [
    {
     "name": "stdout",
     "output_type": "stream",
     "text": [
      "Emp1 name 23 1234567\n",
      "Emp1 name 23 1234567\n"
     ]
    }
   ],
   "source": [
    "class Emp:\n",
    "    company=\"Khyaathi\"\n",
    "    def set_data(emp,emp_name,emp_age,emp_sal):\n",
    "        emp.name=emp_name\n",
    "        emp.age=emp_age\n",
    "        emp.sal=emp_sal\n",
    "    def get(emp):\n",
    "        print emp.name, emp.age, emp.sal\n",
    "emp1=Emp()\n",
    "#Emp.set_data(emp1,\"Emp1 name\",23,1234567)\n",
    "emp1.set_data(\"Emp1 name\",23,1234567)\n",
    "emp2=Emp()\n",
    "#Emp.set_data(emp2,\"Emp2 name\",23,567890765)\n",
    "emp2.set_data(\"Emp1 name\",23,1234567)\n",
    "emp1.get()\n",
    "emp2.get()\n",
    "\n"
   ]
  },
  {
   "cell_type": "code",
   "execution_count": 27,
   "metadata": {},
   "outputs": [
    {
     "name": "stdout",
     "output_type": "stream",
     "text": [
      "Emp1 name 23 1234567\n",
      "Emp1 name 23 1234567\n"
     ]
    }
   ],
   "source": [
    "class Emp:\n",
    "    company=\"Khyaathi\"\n",
    "    def set_data(emp,emp_name,emp_age,emp_sal):\n",
    "        emp.name=emp_name\n",
    "        emp.age=emp_age\n",
    "        emp.sal=emp_sal\n",
    "    def get(emp):\n",
    "        print emp.name, emp.age, emp.sal\n",
    "emp1=Emp()\n",
    "emp1.set_data(\"Emp1 name\",23,1234567)\n",
    "emp2=Emp()\n",
    "emp2.set_data(\"Emp1 name\",23,1234567)\n",
    "emp1.get()\n",
    "emp2.get()"
   ]
  },
  {
   "cell_type": "code",
   "execution_count": 28,
   "metadata": {},
   "outputs": [
    {
     "name": "stdout",
     "output_type": "stream",
     "text": [
      "Emp1 name 23 1234567\n",
      "Emp1 name 23 1234567\n"
     ]
    },
    {
     "ename": "AttributeError",
     "evalue": "Emp instance has no attribute 'name'",
     "output_type": "error",
     "traceback": [
      "\u001b[0;31m---------------------------------------------------------------------------\u001b[0m",
      "\u001b[0;31mAttributeError\u001b[0m                            Traceback (most recent call last)",
      "\u001b[0;32m<ipython-input-28-6cd0308b9215>\u001b[0m in \u001b[0;36m<module>\u001b[0;34m()\u001b[0m\n\u001b[1;32m     14\u001b[0m \u001b[0memp2\u001b[0m\u001b[0;34m.\u001b[0m\u001b[0mget\u001b[0m\u001b[0;34m(\u001b[0m\u001b[0;34m)\u001b[0m\u001b[0;34m\u001b[0m\u001b[0m\n\u001b[1;32m     15\u001b[0m \u001b[0memp3\u001b[0m\u001b[0;34m=\u001b[0m\u001b[0mEmp\u001b[0m\u001b[0;34m(\u001b[0m\u001b[0;34m)\u001b[0m\u001b[0;34m\u001b[0m\u001b[0m\n\u001b[0;32m---> 16\u001b[0;31m \u001b[0memp3\u001b[0m\u001b[0;34m.\u001b[0m\u001b[0mget\u001b[0m\u001b[0;34m(\u001b[0m\u001b[0;34m)\u001b[0m\u001b[0;34m\u001b[0m\u001b[0m\n\u001b[0m",
      "\u001b[0;32m<ipython-input-28-6cd0308b9215>\u001b[0m in \u001b[0;36mget\u001b[0;34m(emp)\u001b[0m\n\u001b[1;32m      6\u001b[0m         \u001b[0memp\u001b[0m\u001b[0;34m.\u001b[0m\u001b[0msal\u001b[0m\u001b[0;34m=\u001b[0m\u001b[0memp_sal\u001b[0m\u001b[0;34m\u001b[0m\u001b[0m\n\u001b[1;32m      7\u001b[0m     \u001b[0;32mdef\u001b[0m \u001b[0mget\u001b[0m\u001b[0;34m(\u001b[0m\u001b[0memp\u001b[0m\u001b[0;34m)\u001b[0m\u001b[0;34m:\u001b[0m\u001b[0;34m\u001b[0m\u001b[0m\n\u001b[0;32m----> 8\u001b[0;31m         \u001b[0;32mprint\u001b[0m \u001b[0memp\u001b[0m\u001b[0;34m.\u001b[0m\u001b[0mname\u001b[0m\u001b[0;34m,\u001b[0m \u001b[0memp\u001b[0m\u001b[0;34m.\u001b[0m\u001b[0mage\u001b[0m\u001b[0;34m,\u001b[0m \u001b[0memp\u001b[0m\u001b[0;34m.\u001b[0m\u001b[0msal\u001b[0m\u001b[0;34m\u001b[0m\u001b[0m\n\u001b[0m\u001b[1;32m      9\u001b[0m \u001b[0memp1\u001b[0m\u001b[0;34m=\u001b[0m\u001b[0mEmp\u001b[0m\u001b[0;34m(\u001b[0m\u001b[0;34m)\u001b[0m\u001b[0;34m\u001b[0m\u001b[0m\n\u001b[1;32m     10\u001b[0m \u001b[0memp1\u001b[0m\u001b[0;34m.\u001b[0m\u001b[0mset_data\u001b[0m\u001b[0;34m(\u001b[0m\u001b[0;34m\"Emp1 name\"\u001b[0m\u001b[0;34m,\u001b[0m\u001b[0;36m23\u001b[0m\u001b[0;34m,\u001b[0m\u001b[0;36m1234567\u001b[0m\u001b[0;34m)\u001b[0m\u001b[0;34m\u001b[0m\u001b[0m\n",
      "\u001b[0;31mAttributeError\u001b[0m: Emp instance has no attribute 'name'"
     ]
    }
   ],
   "source": [
    "class Emp:\n",
    "    company=\"Khyaathi\"\n",
    "    def set_data(emp,emp_name,emp_age,emp_sal):\n",
    "        emp.name=emp_name\n",
    "        emp.age=emp_age\n",
    "        emp.sal=emp_sal\n",
    "    def get(emp):\n",
    "        print emp.name, emp.age, emp.sal\n",
    "emp1=Emp()\n",
    "emp1.set_data(\"Emp1 name\",23,1234567)\n",
    "emp2=Emp()\n",
    "emp2.set_data(\"Emp1 name\",23,1234567)\n",
    "emp1.get()\n",
    "emp2.get()\n",
    "emp3=Emp()\n",
    "emp3.get()"
   ]
  },
  {
   "cell_type": "code",
   "execution_count": 31,
   "metadata": {},
   "outputs": [
    {
     "name": "stdout",
     "output_type": "stream",
     "text": [
      "Emp1 name 23 1234567\n",
      "Emp1 name 23 1234567\n"
     ]
    }
   ],
   "source": [
    "class Emp:\n",
    "    company=\"Khyaathi\"\n",
    "    def set_data(self,emp_name,emp_age,emp_sal):\n",
    "        self.name=emp_name\n",
    "        self.age=emp_age\n",
    "        self.sal=emp_sal\n",
    "    def get(self):\n",
    "        print self.name, self.age, self.sal\n",
    "emp1=Emp()\n",
    "emp1.set_data(\"Emp1 name\",23,1234567)\n",
    "emp2=Emp()\n",
    "emp2.set_data(\"Emp1 name\",23,1234567)\n",
    "emp1.get()\n",
    "emp2.get()\n",
    "\n"
   ]
  },
  {
   "cell_type": "code",
   "execution_count": 32,
   "metadata": {},
   "outputs": [
    {
     "name": "stdout",
     "output_type": "stream",
     "text": [
      "Emp1 name 23 1234567\n",
      "Emp1 name 23 1234567\n"
     ]
    },
    {
     "ename": "AttributeError",
     "evalue": "Emp instance has no attribute 'name'",
     "output_type": "error",
     "traceback": [
      "\u001b[0;31m---------------------------------------------------------------------------\u001b[0m",
      "\u001b[0;31mAttributeError\u001b[0m                            Traceback (most recent call last)",
      "\u001b[0;32m<ipython-input-32-528740172a4f>\u001b[0m in \u001b[0;36m<module>\u001b[0;34m()\u001b[0m\n\u001b[1;32m     14\u001b[0m \u001b[0memp2\u001b[0m\u001b[0;34m.\u001b[0m\u001b[0mget\u001b[0m\u001b[0;34m(\u001b[0m\u001b[0;34m)\u001b[0m\u001b[0;34m\u001b[0m\u001b[0m\n\u001b[1;32m     15\u001b[0m \u001b[0memp3\u001b[0m\u001b[0;34m=\u001b[0m\u001b[0mEmp\u001b[0m\u001b[0;34m(\u001b[0m\u001b[0;34m)\u001b[0m\u001b[0;34m\u001b[0m\u001b[0m\n\u001b[0;32m---> 16\u001b[0;31m \u001b[0memp3\u001b[0m\u001b[0;34m.\u001b[0m\u001b[0mget\u001b[0m\u001b[0;34m(\u001b[0m\u001b[0;34m)\u001b[0m\u001b[0;34m\u001b[0m\u001b[0m\n\u001b[0m",
      "\u001b[0;32m<ipython-input-32-528740172a4f>\u001b[0m in \u001b[0;36mget\u001b[0;34m(self)\u001b[0m\n\u001b[1;32m      6\u001b[0m         \u001b[0mself\u001b[0m\u001b[0;34m.\u001b[0m\u001b[0msal\u001b[0m\u001b[0;34m=\u001b[0m\u001b[0memp_sal\u001b[0m\u001b[0;34m\u001b[0m\u001b[0m\n\u001b[1;32m      7\u001b[0m     \u001b[0;32mdef\u001b[0m \u001b[0mget\u001b[0m\u001b[0;34m(\u001b[0m\u001b[0mself\u001b[0m\u001b[0;34m)\u001b[0m\u001b[0;34m:\u001b[0m\u001b[0;34m\u001b[0m\u001b[0m\n\u001b[0;32m----> 8\u001b[0;31m         \u001b[0;32mprint\u001b[0m \u001b[0mself\u001b[0m\u001b[0;34m.\u001b[0m\u001b[0mname\u001b[0m\u001b[0;34m,\u001b[0m \u001b[0mself\u001b[0m\u001b[0;34m.\u001b[0m\u001b[0mage\u001b[0m\u001b[0;34m,\u001b[0m \u001b[0mself\u001b[0m\u001b[0;34m.\u001b[0m\u001b[0msal\u001b[0m\u001b[0;34m\u001b[0m\u001b[0m\n\u001b[0m\u001b[1;32m      9\u001b[0m \u001b[0memp1\u001b[0m\u001b[0;34m=\u001b[0m\u001b[0mEmp\u001b[0m\u001b[0;34m(\u001b[0m\u001b[0;34m)\u001b[0m\u001b[0;34m\u001b[0m\u001b[0m\n\u001b[1;32m     10\u001b[0m \u001b[0memp1\u001b[0m\u001b[0;34m.\u001b[0m\u001b[0mset_data\u001b[0m\u001b[0;34m(\u001b[0m\u001b[0;34m\"Emp1 name\"\u001b[0m\u001b[0;34m,\u001b[0m\u001b[0;36m23\u001b[0m\u001b[0;34m,\u001b[0m\u001b[0;36m1234567\u001b[0m\u001b[0;34m)\u001b[0m\u001b[0;34m\u001b[0m\u001b[0m\n",
      "\u001b[0;31mAttributeError\u001b[0m: Emp instance has no attribute 'name'"
     ]
    }
   ],
   "source": [
    "class Emp:\n",
    "    company=\"Khyaathi\"\n",
    "    def set_data(self,emp_name,emp_age,emp_sal):\n",
    "        self.name=emp_name\n",
    "        self.age=emp_age\n",
    "        self.sal=emp_sal\n",
    "    def get(self):\n",
    "        print self.name, self.age, self.sal\n",
    "emp1=Emp()\n",
    "emp1.set_data(\"Emp1 name\",23,1234567)\n",
    "emp2=Emp()\n",
    "emp2.set_data(\"Emp1 name\",23,1234567)\n",
    "emp1.get()\n",
    "emp2.get()\n",
    "emp3=Emp()\n",
    "emp3.get()"
   ]
  },
  {
   "cell_type": "code",
   "execution_count": 33,
   "metadata": {
    "collapsed": true
   },
   "outputs": [],
   "source": [
    "class Emp:\n",
    "    def __init__(self):\n",
    "        print \"this is constructor\"\n",
    "    def get(self):\n",
    "        print \"this is self\""
   ]
  },
  {
   "cell_type": "code",
   "execution_count": 34,
   "metadata": {},
   "outputs": [
    {
     "name": "stdout",
     "output_type": "stream",
     "text": [
      "this is constructor\n"
     ]
    }
   ],
   "source": [
    "class Emp:\n",
    "    def __init__(self):\n",
    "        print \"this is constructor\"\n",
    "    def get(self):\n",
    "        print \"this is self\"\n",
    "emp1=Emp()"
   ]
  },
  {
   "cell_type": "code",
   "execution_count": 35,
   "metadata": {},
   "outputs": [
    {
     "name": "stdout",
     "output_type": "stream",
     "text": [
      "139624302261456\n",
      "this is constructor\n",
      "139624302261456\n"
     ]
    }
   ],
   "source": [
    "class Emp:\n",
    "    def __init__(self):\n",
    "        print id(self)\n",
    "        print \"this is constructor\"\n",
    "    def get(self):\n",
    "        print \"this is self\"\n",
    "emp1=Emp()\n",
    "print id(emp1)"
   ]
  },
  {
   "cell_type": "code",
   "execution_count": 37,
   "metadata": {},
   "outputs": [
    {
     "name": "stdout",
     "output_type": "stream",
     "text": [
      "this is class\n"
     ]
    }
   ],
   "source": [
    "class Emp:\n",
    "    print \"this is class\"\n",
    "    def __init__(self):\n",
    "        print id(self)\n",
    "        print \"this is constructor\"\n",
    "    def get(self):\n",
    "        print \"this is self\"\n",
    "#emp1=Emp()\n",
    "#print id(emp1)"
   ]
  },
  {
   "cell_type": "code",
   "execution_count": 38,
   "metadata": {},
   "outputs": [
    {
     "name": "stdout",
     "output_type": "stream",
     "text": [
      "this is class\n",
      "139624302262032\n",
      "this is constructor\n",
      "139624302262392\n",
      "this is constructor\n",
      "139624302654960\n",
      "this is constructor\n"
     ]
    }
   ],
   "source": [
    "class Emp:\n",
    "    print \"this is class\"\n",
    "    def __init__(self):\n",
    "        print id(self)\n",
    "        print \"this is constructor\"\n",
    "    def get(self):\n",
    "        print \"this is self\"\n",
    "emp1=Emp()\n",
    "emp2=Emp()\n",
    "emp3=Emp()"
   ]
  },
  {
   "cell_type": "code",
   "execution_count": 39,
   "metadata": {},
   "outputs": [
    {
     "name": "stdout",
     "output_type": "stream",
     "text": [
      "this is class\n",
      "('Emp1 name', 23, 234567)\n"
     ]
    }
   ],
   "source": [
    "class Emp:\n",
    "    print \"this is class\"\n",
    "    def __init__(self,e_name,e_age,e_sal):\n",
    "        self.name=e_name\n",
    "        self.age=e_age\n",
    "        self.sal=e_sal\n",
    "    def get(self):\n",
    "        return self.name, self.age, self.sal\n",
    "emp1=Emp(\"Emp1 name\",23,234567)\n",
    "emp2=Emp(\"Emp2 name\",34,765543)\n",
    "emp3=Emp(\"Emp3 name\",45,5426776)\n",
    "print emp1.get()"
   ]
  },
  {
   "cell_type": "code",
   "execution_count": 40,
   "metadata": {},
   "outputs": [
    {
     "name": "stdout",
     "output_type": "stream",
     "text": [
      "this is class\n",
      "('Emp1 name', 23, 234567)\n",
      "('Emp2 name', 34, 765543)\n",
      "('Emp3 name', 45, 5426776)\n"
     ]
    }
   ],
   "source": [
    "class Emp:\n",
    "    print \"this is class\"\n",
    "    def __init__(self,e_name,e_age,e_sal):\n",
    "        self.name=e_name\n",
    "        self.age=e_age\n",
    "        self.sal=e_sal\n",
    "    def get(self):\n",
    "        return self.name, self.age, self.sal\n",
    "emp1=Emp(\"Emp1 name\",23,234567)\n",
    "emp2=Emp(\"Emp2 name\",34,765543)\n",
    "emp3=Emp(\"Emp3 name\",45,5426776)\n",
    "print emp1.get()\n",
    "print emp2.get()\n",
    "print emp3.get()"
   ]
  },
  {
   "cell_type": "code",
   "execution_count": 41,
   "metadata": {},
   "outputs": [
    {
     "name": "stdout",
     "output_type": "stream",
     "text": [
      "this is class\n",
      "('Emp1 name', 23, 234567)\n",
      "('Emp2 name', 34, 765543)\n",
      "('Emp3 name', 45, 5426776)\n"
     ]
    },
    {
     "ename": "TypeError",
     "evalue": "__init__() takes exactly 4 arguments (1 given)",
     "output_type": "error",
     "traceback": [
      "\u001b[0;31m---------------------------------------------------------------------------\u001b[0m",
      "\u001b[0;31mTypeError\u001b[0m                                 Traceback (most recent call last)",
      "\u001b[0;32m<ipython-input-41-291b711c6ae4>\u001b[0m in \u001b[0;36m<module>\u001b[0;34m()\u001b[0m\n\u001b[1;32m     13\u001b[0m \u001b[0;32mprint\u001b[0m \u001b[0memp2\u001b[0m\u001b[0;34m.\u001b[0m\u001b[0mget\u001b[0m\u001b[0;34m(\u001b[0m\u001b[0;34m)\u001b[0m\u001b[0;34m\u001b[0m\u001b[0m\n\u001b[1;32m     14\u001b[0m \u001b[0;32mprint\u001b[0m \u001b[0memp3\u001b[0m\u001b[0;34m.\u001b[0m\u001b[0mget\u001b[0m\u001b[0;34m(\u001b[0m\u001b[0;34m)\u001b[0m\u001b[0;34m\u001b[0m\u001b[0m\n\u001b[0;32m---> 15\u001b[0;31m \u001b[0memp4\u001b[0m\u001b[0;34m=\u001b[0m\u001b[0mEmp\u001b[0m\u001b[0;34m(\u001b[0m\u001b[0;34m)\u001b[0m\u001b[0;34m\u001b[0m\u001b[0m\n\u001b[0m",
      "\u001b[0;31mTypeError\u001b[0m: __init__() takes exactly 4 arguments (1 given)"
     ]
    }
   ],
   "source": [
    "class Emp:\n",
    "    print \"this is class\"\n",
    "    def __init__(self,e_name,e_age,e_sal):\n",
    "        self.name=e_name\n",
    "        self.age=e_age\n",
    "        self.sal=e_sal\n",
    "    def get(self):\n",
    "        return self.name, self.age, self.sal\n",
    "emp1=Emp(\"Emp1 name\",23,234567)\n",
    "emp2=Emp(\"Emp2 name\",34,765543)\n",
    "emp3=Emp(\"Emp3 name\",45,5426776)\n",
    "print emp1.get()\n",
    "print emp2.get()\n",
    "print emp3.get()\n",
    "emp4=Emp()"
   ]
  },
  {
   "cell_type": "code",
   "execution_count": 42,
   "metadata": {},
   "outputs": [
    {
     "name": "stdout",
     "output_type": "stream",
     "text": [
      "this is class\n",
      "('Emp1 name', 23, 234567)\n",
      "('Emp2 name', 34, 765543)\n",
      "('Emp3 name', 45, 5426776)\n",
      "('', 26, 30000)\n"
     ]
    }
   ],
   "source": [
    "class Emp:\n",
    "    print \"this is class\"\n",
    "    def __init__(self,e_name=\"\",e_age=26,e_sal=30000):\n",
    "        self.name=e_name\n",
    "        self.age=e_age\n",
    "        self.sal=e_sal\n",
    "    def get(self):\n",
    "        return self.name, self.age, self.sal\n",
    "emp1=Emp(\"Emp1 name\",23,234567)\n",
    "emp2=Emp(\"Emp2 name\",34,765543)\n",
    "emp3=Emp(\"Emp3 name\",45,5426776)\n",
    "print emp1.get()\n",
    "print emp2.get()\n",
    "print emp3.get()\n",
    "emp4=Emp()\n",
    "print emp4.get()"
   ]
  },
  {
   "cell_type": "code",
   "execution_count": 43,
   "metadata": {},
   "outputs": [
    {
     "name": "stdout",
     "output_type": "stream",
     "text": [
      "this is class\n"
     ]
    },
    {
     "ename": "NameError",
     "evalue": "global name 'company' is not defined",
     "output_type": "error",
     "traceback": [
      "\u001b[0;31m---------------------------------------------------------------------------\u001b[0m",
      "\u001b[0;31mNameError\u001b[0m                                 Traceback (most recent call last)",
      "\u001b[0;32m<ipython-input-43-c3a50fafba7e>\u001b[0m in \u001b[0;36m<module>\u001b[0;34m()\u001b[0m\n\u001b[1;32m     11\u001b[0m \u001b[0memp2\u001b[0m\u001b[0;34m=\u001b[0m\u001b[0mEmp\u001b[0m\u001b[0;34m(\u001b[0m\u001b[0;34m\"Emp2 name\"\u001b[0m\u001b[0;34m,\u001b[0m\u001b[0;36m34\u001b[0m\u001b[0;34m,\u001b[0m\u001b[0;36m765543\u001b[0m\u001b[0;34m)\u001b[0m\u001b[0;34m\u001b[0m\u001b[0m\n\u001b[1;32m     12\u001b[0m \u001b[0memp3\u001b[0m\u001b[0;34m=\u001b[0m\u001b[0mEmp\u001b[0m\u001b[0;34m(\u001b[0m\u001b[0;34m\"Emp3 name\"\u001b[0m\u001b[0;34m,\u001b[0m\u001b[0;36m45\u001b[0m\u001b[0;34m,\u001b[0m\u001b[0;36m5426776\u001b[0m\u001b[0;34m)\u001b[0m\u001b[0;34m\u001b[0m\u001b[0m\n\u001b[0;32m---> 13\u001b[0;31m \u001b[0;32mprint\u001b[0m \u001b[0memp1\u001b[0m\u001b[0;34m.\u001b[0m\u001b[0mget\u001b[0m\u001b[0;34m(\u001b[0m\u001b[0;34m)\u001b[0m\u001b[0;34m\u001b[0m\u001b[0m\n\u001b[0m\u001b[1;32m     14\u001b[0m \u001b[0;32mprint\u001b[0m \u001b[0memp2\u001b[0m\u001b[0;34m.\u001b[0m\u001b[0mget\u001b[0m\u001b[0;34m(\u001b[0m\u001b[0;34m)\u001b[0m\u001b[0;34m\u001b[0m\u001b[0m\n\u001b[1;32m     15\u001b[0m \u001b[0;32mprint\u001b[0m \u001b[0memp3\u001b[0m\u001b[0;34m.\u001b[0m\u001b[0mget\u001b[0m\u001b[0;34m(\u001b[0m\u001b[0;34m)\u001b[0m\u001b[0;34m\u001b[0m\u001b[0m\n",
      "\u001b[0;32m<ipython-input-43-c3a50fafba7e>\u001b[0m in \u001b[0;36mget\u001b[0;34m(self)\u001b[0m\n\u001b[1;32m      7\u001b[0m         \u001b[0mself\u001b[0m\u001b[0;34m.\u001b[0m\u001b[0msal\u001b[0m\u001b[0;34m=\u001b[0m\u001b[0me_sal\u001b[0m\u001b[0;34m\u001b[0m\u001b[0m\n\u001b[1;32m      8\u001b[0m     \u001b[0;32mdef\u001b[0m \u001b[0mget\u001b[0m\u001b[0;34m(\u001b[0m\u001b[0mself\u001b[0m\u001b[0;34m)\u001b[0m\u001b[0;34m:\u001b[0m\u001b[0;34m\u001b[0m\u001b[0m\n\u001b[0;32m----> 9\u001b[0;31m         \u001b[0;32mreturn\u001b[0m \u001b[0mself\u001b[0m\u001b[0;34m.\u001b[0m\u001b[0mname\u001b[0m\u001b[0;34m,\u001b[0m \u001b[0mself\u001b[0m\u001b[0;34m.\u001b[0m\u001b[0mage\u001b[0m\u001b[0;34m,\u001b[0m \u001b[0mself\u001b[0m\u001b[0;34m.\u001b[0m\u001b[0msal\u001b[0m\u001b[0;34m,\u001b[0m\u001b[0mcompany\u001b[0m\u001b[0;34m\u001b[0m\u001b[0m\n\u001b[0m\u001b[1;32m     10\u001b[0m \u001b[0memp1\u001b[0m\u001b[0;34m=\u001b[0m\u001b[0mEmp\u001b[0m\u001b[0;34m(\u001b[0m\u001b[0;34m\"Emp1 name\"\u001b[0m\u001b[0;34m,\u001b[0m\u001b[0;36m23\u001b[0m\u001b[0;34m,\u001b[0m\u001b[0;36m234567\u001b[0m\u001b[0;34m)\u001b[0m\u001b[0;34m\u001b[0m\u001b[0m\n\u001b[1;32m     11\u001b[0m \u001b[0memp2\u001b[0m\u001b[0;34m=\u001b[0m\u001b[0mEmp\u001b[0m\u001b[0;34m(\u001b[0m\u001b[0;34m\"Emp2 name\"\u001b[0m\u001b[0;34m,\u001b[0m\u001b[0;36m34\u001b[0m\u001b[0;34m,\u001b[0m\u001b[0;36m765543\u001b[0m\u001b[0;34m)\u001b[0m\u001b[0;34m\u001b[0m\u001b[0m\n",
      "\u001b[0;31mNameError\u001b[0m: global name 'company' is not defined"
     ]
    }
   ],
   "source": [
    "class Emp:\n",
    "    print \"this is class\"\n",
    "    company=\"KHYAATHI\"\n",
    "    print company\n",
    "    def __init__(self,e_name=\"\",e_age=26,e_sal=30000):\n",
    "        self.name=e_name\n",
    "        self.age=e_age\n",
    "        self.sal=e_sal\n",
    "    def get(self):\n",
    "        return self.name, self.age, self.sal,company\n",
    "emp1=Emp(\"Emp1 name\",23,234567)\n",
    "emp2=Emp(\"Emp2 name\",34,765543)\n",
    "emp3=Emp(\"Emp3 name\",45,5426776)\n",
    "print emp1.get()\n",
    "print emp2.get()\n",
    "print emp3.get()\n",
    "emp4=Emp()\n",
    "print emp4.get()"
   ]
  },
  {
   "cell_type": "code",
   "execution_count": 45,
   "metadata": {},
   "outputs": [
    {
     "name": "stdout",
     "output_type": "stream",
     "text": [
      "this is class\n",
      "KHYAATHI\n",
      "('Emp1 name', 23, 234567, 'KHYAATHI')\n",
      "('Emp2 name', 34, 765543, 'KHYAATHI')\n",
      "('Emp3 name', 45, 5426776, 'KHYAATHI')\n",
      "('', 26, 30000, 'KHYAATHI')\n"
     ]
    }
   ],
   "source": [
    "class Emp:\n",
    "    print \"this is class\"\n",
    "    company=\"KHYAATHI\"\n",
    "    print company\n",
    "    def __init__(self,e_name=\"\",e_age=26,e_sal=30000):\n",
    "        self.name=e_name\n",
    "        self.age=e_age\n",
    "        self.sal=e_sal\n",
    "    def get(self):\n",
    "        return self.name, self.age, self.sal, self.company\n",
    "emp1=Emp(\"Emp1 name\",23,234567)\n",
    "emp2=Emp(\"Emp2 name\",34,765543)\n",
    "emp3=Emp(\"Emp3 name\",45,5426776)\n",
    "print emp1.get()\n",
    "print emp2.get()\n",
    "print emp3.get()\n",
    "emp4=Emp()\n",
    "print emp4.get()"
   ]
  },
  {
   "cell_type": "code",
   "execution_count": 47,
   "metadata": {},
   "outputs": [
    {
     "name": "stdout",
     "output_type": "stream",
     "text": [
      "this is class\n",
      "KHYAATHI\n"
     ]
    },
    {
     "ename": "NameError",
     "evalue": "global name 'cal_sal' is not defined",
     "output_type": "error",
     "traceback": [
      "\u001b[0;31m---------------------------------------------------------------------------\u001b[0m",
      "\u001b[0;31mNameError\u001b[0m                                 Traceback (most recent call last)",
      "\u001b[0;32m<ipython-input-47-e847a709bb89>\u001b[0m in \u001b[0;36m<module>\u001b[0;34m()\u001b[0m\n\u001b[1;32m     13\u001b[0m     \u001b[0;32mdef\u001b[0m \u001b[0mget\u001b[0m\u001b[0;34m(\u001b[0m\u001b[0mself\u001b[0m\u001b[0;34m)\u001b[0m\u001b[0;34m:\u001b[0m\u001b[0;34m\u001b[0m\u001b[0m\n\u001b[1;32m     14\u001b[0m         \u001b[0;32mreturn\u001b[0m \u001b[0mself\u001b[0m\u001b[0;34m.\u001b[0m\u001b[0mname\u001b[0m\u001b[0;34m,\u001b[0m \u001b[0mself\u001b[0m\u001b[0;34m.\u001b[0m\u001b[0mage\u001b[0m\u001b[0;34m,\u001b[0m \u001b[0mself\u001b[0m\u001b[0;34m.\u001b[0m\u001b[0msal\u001b[0m\u001b[0;34m,\u001b[0m \u001b[0mself\u001b[0m\u001b[0;34m.\u001b[0m\u001b[0mcompany\u001b[0m\u001b[0;34m,\u001b[0m\u001b[0mself\u001b[0m\u001b[0;34m.\u001b[0m\u001b[0mu_sal\u001b[0m\u001b[0;34m\u001b[0m\u001b[0m\n\u001b[0;32m---> 15\u001b[0;31m \u001b[0memp1\u001b[0m\u001b[0;34m=\u001b[0m\u001b[0mEmp\u001b[0m\u001b[0;34m(\u001b[0m\u001b[0;34m\"Emp1 name\"\u001b[0m\u001b[0;34m,\u001b[0m\u001b[0;36m23\u001b[0m\u001b[0;34m,\u001b[0m\u001b[0;36m234567\u001b[0m\u001b[0;34m,\u001b[0m\u001b[0;36m10\u001b[0m\u001b[0;34m)\u001b[0m\u001b[0;34m\u001b[0m\u001b[0m\n\u001b[0m\u001b[1;32m     16\u001b[0m \u001b[0memp2\u001b[0m\u001b[0;34m=\u001b[0m\u001b[0mEmp\u001b[0m\u001b[0;34m(\u001b[0m\u001b[0;34m\"Emp2 name\"\u001b[0m\u001b[0;34m,\u001b[0m\u001b[0;36m34\u001b[0m\u001b[0;34m,\u001b[0m\u001b[0;36m765543\u001b[0m\u001b[0;34m,\u001b[0m\u001b[0;36m20\u001b[0m\u001b[0;34m)\u001b[0m\u001b[0;34m\u001b[0m\u001b[0m\n\u001b[1;32m     17\u001b[0m \u001b[0memp3\u001b[0m\u001b[0;34m=\u001b[0m\u001b[0mEmp\u001b[0m\u001b[0;34m(\u001b[0m\u001b[0;34m\"Emp3 name\"\u001b[0m\u001b[0;34m,\u001b[0m\u001b[0;36m45\u001b[0m\u001b[0;34m,\u001b[0m\u001b[0;36m5426776\u001b[0m\u001b[0;34m,\u001b[0m\u001b[0;36m30\u001b[0m\u001b[0;34m)\u001b[0m\u001b[0;34m\u001b[0m\u001b[0m\n",
      "\u001b[0;32m<ipython-input-47-e847a709bb89>\u001b[0m in \u001b[0;36m__init__\u001b[0;34m(self, e_name, e_age, e_sal, incp)\u001b[0m\n\u001b[1;32m      8\u001b[0m         \u001b[0mself\u001b[0m\u001b[0;34m.\u001b[0m\u001b[0msal\u001b[0m\u001b[0;34m=\u001b[0m\u001b[0me_sal\u001b[0m\u001b[0;34m\u001b[0m\u001b[0m\n\u001b[1;32m      9\u001b[0m         \u001b[0mself\u001b[0m\u001b[0;34m.\u001b[0m\u001b[0mincp\u001b[0m\u001b[0;34m=\u001b[0m\u001b[0mincp\u001b[0m\u001b[0;34m\u001b[0m\u001b[0m\n\u001b[0;32m---> 10\u001b[0;31m         \u001b[0mself\u001b[0m\u001b[0;34m.\u001b[0m\u001b[0mu_sal\u001b[0m\u001b[0;34m=\u001b[0m\u001b[0mcal_sal\u001b[0m\u001b[0;34m(\u001b[0m\u001b[0;34m)\u001b[0m\u001b[0;34m\u001b[0m\u001b[0m\n\u001b[0m\u001b[1;32m     11\u001b[0m     \u001b[0;32mdef\u001b[0m \u001b[0mcal_sal\u001b[0m\u001b[0;34m(\u001b[0m\u001b[0mself\u001b[0m\u001b[0;34m)\u001b[0m\u001b[0;34m:\u001b[0m\u001b[0;34m\u001b[0m\u001b[0m\n\u001b[1;32m     12\u001b[0m         \u001b[0;32mreturn\u001b[0m \u001b[0mself\u001b[0m\u001b[0;34m.\u001b[0m\u001b[0msal\u001b[0m\u001b[0;34m+\u001b[0m\u001b[0;34m(\u001b[0m\u001b[0msale\u001b[0m\u001b[0;34m.\u001b[0m\u001b[0mincp\u001b[0m\u001b[0;34m/\u001b[0m\u001b[0;36m100.0\u001b[0m\u001b[0;34m)\u001b[0m\u001b[0;34m*\u001b[0m\u001b[0mself\u001b[0m\u001b[0;34m.\u001b[0m\u001b[0msal\u001b[0m\u001b[0;34m\u001b[0m\u001b[0m\n",
      "\u001b[0;31mNameError\u001b[0m: global name 'cal_sal' is not defined"
     ]
    }
   ],
   "source": [
    "class Emp:\n",
    "    print \"this is class\"\n",
    "    company=\"KHYAATHI\"\n",
    "    print company\n",
    "    def __init__(self,e_name=\"\",e_age=26,e_sal=30000,incp=0):\n",
    "        self.name=e_name\n",
    "        self.age=e_age\n",
    "        self.sal=e_sal\n",
    "        self.incp=incp\n",
    "        self.u_sal=cal_sal()\n",
    "    def cal_sal(self):\n",
    "        return self.sal+(sale.incp/100.0)*self.sal\n",
    "    def get(self):\n",
    "        return self.name, self.age, self.sal, self.company,self.u_sal\n",
    "emp1=Emp(\"Emp1 name\",23,234567,10)\n",
    "emp2=Emp(\"Emp2 name\",34,765543,20)\n",
    "emp3=Emp(\"Emp3 name\",45,5426776,30)\n",
    "print emp1.get()\n",
    "print emp2.get()\n",
    "print emp3.get()\n",
    "emp4=Emp()\n",
    "print emp4.get()"
   ]
  },
  {
   "cell_type": "code",
   "execution_count": 49,
   "metadata": {},
   "outputs": [
    {
     "name": "stdout",
     "output_type": "stream",
     "text": [
      "this is class\n",
      "KHYAATHI\n",
      "('Emp1 name', 23, 234567, 'KHYAATHI', 258023.7)\n",
      "('Emp2 name', 34, 765543, 'KHYAATHI', 918651.6)\n",
      "('Emp3 name', 45, 5426776, 'KHYAATHI', 7054808.8)\n",
      "('', 26, 30000, 'KHYAATHI', 30000.0)\n"
     ]
    }
   ],
   "source": [
    "class Emp:\n",
    "    print \"this is class\"\n",
    "    company=\"KHYAATHI\"\n",
    "    print company\n",
    "    def __init__(self,e_name=\"\",e_age=26,e_sal=30000,incp=0):\n",
    "        self.name=e_name\n",
    "        self.age=e_age\n",
    "        self.sal=e_sal\n",
    "        self.incp=incp\n",
    "        self.u_sal=self.cal_sal()\n",
    "    def cal_sal(self):\n",
    "        return self.sal+(self.incp/100.0)*self.sal\n",
    "    def get(self):\n",
    "        return self.name, self.age, self.sal, self.company,self.u_sal\n",
    "emp1=Emp(\"Emp1 name\",23,234567,10)\n",
    "emp2=Emp(\"Emp2 name\",34,765543,20)\n",
    "emp3=Emp(\"Emp3 name\",45,5426776,30)\n",
    "print emp1.get()\n",
    "print emp2.get()\n",
    "print emp3.get()\n",
    "emp4=Emp()\n",
    "print emp4.get()"
   ]
  },
  {
   "cell_type": "code",
   "execution_count": 50,
   "metadata": {},
   "outputs": [
    {
     "name": "stdout",
     "output_type": "stream",
     "text": [
      "this is class\n",
      "KHYAATHI\n",
      "('Emp1 name', 23, 234567, 100, 'KHYAATHI', 258023.7)\n",
      "('Emp2 name', 34, 765543, 20, 'KHYAATHI', 918651.6)\n",
      "('Emp3 name', 45, 5426776, 30, 'KHYAATHI', 7054808.8)\n",
      "('', 26, 30000, 0, 'KHYAATHI', 30000.0)\n"
     ]
    }
   ],
   "source": [
    "class Emp:\n",
    "    print \"this is class\"\n",
    "    company=\"KHYAATHI\"\n",
    "    print company\n",
    "    def __init__(self,e_name=\"\",e_age=26,e_sal=30000,incp=0):\n",
    "        self.name=e_name\n",
    "        self.age=e_age\n",
    "        self.sal=e_sal\n",
    "        self.incp=incp\n",
    "        self.u_sal=self.cal_sal()\n",
    "    def cal_sal(self):\n",
    "        return self.sal+(self.incp/100.0)*self.sal\n",
    "    def get(self):\n",
    "        return self.name, self.age, self.sal,self.incp,self.company,self.u_sal\n",
    "emp1=Emp(\"Emp1 name\",23,234567,10)\n",
    "emp2=Emp(\"Emp2 name\",34,765543,20)\n",
    "emp3=Emp(\"Emp3 name\",45,5426776,30)\n",
    "if emp1.name==\"Emp1 name\":\n",
    "    emp1.incp=100\n",
    "print emp1.get()\n",
    "print emp2.get()\n",
    "print emp3.get()\n",
    "emp4=Emp()\n",
    "print emp4.get()"
   ]
  },
  {
   "cell_type": "code",
   "execution_count": 52,
   "metadata": {},
   "outputs": [
    {
     "name": "stdout",
     "output_type": "stream",
     "text": [
      "this is class\n",
      "KHYAATHI\n",
      "('Emp1 name', 23, 234567, 10, 'KHYAATHI', 258023.7)\n",
      "('Emp2 name', 34, 765543, 20, 'KHYAATHI', 918651.6)\n",
      "('Emp3 name', 45, 5426776, 30, 'KHYAATHI', 7054808.8)\n",
      "('', 26, 30000, 0, 'KHYAATHI', 30000.0)\n"
     ]
    }
   ],
   "source": [
    "class Emp:\n",
    "    print \"this is class\"\n",
    "    company=\"KHYAATHI\"\n",
    "    print company\n",
    "    def __init__(self,e_name=\"\",e_age=26,e_sal=30000,incp=0):\n",
    "        self.name=e_name\n",
    "        self.age=e_age\n",
    "        self.sal=e_sal\n",
    "        self.__incp=incp\n",
    "        self.u_sal=self.cal_sal()\n",
    "    def cal_sal(self):\n",
    "        return self.sal+(self.__incp/100.0)*self.sal\n",
    "    def get(self):\n",
    "        return self.name, self.age, self.sal,self.__incp,self.company,self.u_sal\n",
    "emp1=Emp(\"Emp1 name\",23,234567,10)\n",
    "emp2=Emp(\"Emp2 name\",34,765543,20)\n",
    "emp3=Emp(\"Emp3 name\",45,5426776,30)\n",
    "if emp1.name==\"Emp1 name\":\n",
    "    emp1.__incp=100\n",
    "print emp1.get()\n",
    "print emp2.get()\n",
    "print emp3.get()\n",
    "emp4=Emp()\n",
    "print emp4.get()"
   ]
  },
  {
   "cell_type": "code",
   "execution_count": 53,
   "metadata": {},
   "outputs": [
    {
     "ename": "AttributeError",
     "evalue": "Emp instance has no attribute '__sec'",
     "output_type": "error",
     "traceback": [
      "\u001b[0;31m---------------------------------------------------------------------------\u001b[0m",
      "\u001b[0;31mAttributeError\u001b[0m                            Traceback (most recent call last)",
      "\u001b[0;32m<ipython-input-53-c17069e68347>\u001b[0m in \u001b[0;36m<module>\u001b[0;34m()\u001b[0m\n\u001b[1;32m      3\u001b[0m         \u001b[0;32mprint\u001b[0m \u001b[0;34m\"this is secured method\"\u001b[0m\u001b[0;34m\u001b[0m\u001b[0m\n\u001b[1;32m      4\u001b[0m \u001b[0me1\u001b[0m\u001b[0;34m=\u001b[0m\u001b[0mEmp\u001b[0m\u001b[0;34m(\u001b[0m\u001b[0;34m)\u001b[0m\u001b[0;34m\u001b[0m\u001b[0m\n\u001b[0;32m----> 5\u001b[0;31m \u001b[0me1\u001b[0m\u001b[0;34m.\u001b[0m\u001b[0m__sec\u001b[0m\u001b[0;34m(\u001b[0m\u001b[0;34m)\u001b[0m\u001b[0;34m\u001b[0m\u001b[0m\n\u001b[0m",
      "\u001b[0;31mAttributeError\u001b[0m: Emp instance has no attribute '__sec'"
     ]
    }
   ],
   "source": [
    "class Emp:\n",
    "    def __sec(self):\n",
    "        print \"this is secured method\"\n",
    "e1=Emp()\n",
    "e1.__sec()"
   ]
  },
  {
   "cell_type": "code",
   "execution_count": 55,
   "metadata": {},
   "outputs": [
    {
     "name": "stdout",
     "output_type": "stream",
     "text": [
      "this is secured method\n"
     ]
    }
   ],
   "source": [
    "class Emp:\n",
    "    def __sec__(self):\n",
    "        print \"this is secured method\"\n",
    "e1=Emp()\n",
    "e1.__sec__()"
   ]
  },
  {
   "cell_type": "code",
   "execution_count": 57,
   "metadata": {},
   "outputs": [
    {
     "name": "stdout",
     "output_type": "stream",
     "text": [
      "this is secured method\n"
     ]
    }
   ],
   "source": [
    "class Emp:\n",
    "    def __init__(self):\n",
    "        self.__sec()\n",
    "    def __sec(self):\n",
    "        print \"this is secured method\"\n",
    "e1=Emp()"
   ]
  },
  {
   "cell_type": "code",
   "execution_count": 1,
   "metadata": {},
   "outputs": [
    {
     "name": "stdout",
     "output_type": "stream",
     "text": [
      "this is fun1 in child\n",
      "this is funb in par\n"
     ]
    }
   ],
   "source": [
    "# what is inheritance\n",
    "class par:\n",
    "    def fun(self):\n",
    "        print \"this is funb in par\"\n",
    "class child(par):\n",
    "    def fun1(self):\n",
    "        print \"this is fun1 in child\"\n",
    "o=child()\n",
    "o.fun1()\n",
    "o.fun()"
   ]
  },
  {
   "cell_type": "code",
   "execution_count": 2,
   "metadata": {},
   "outputs": [
    {
     "name": "stdout",
     "output_type": "stream",
     "text": [
      "this is funb in par\n",
      "this is fun1 in child\n",
      "this is funb in par\n"
     ]
    }
   ],
   "source": [
    "# what is inheritance\n",
    "class par:\n",
    "    def fun(self):\n",
    "        print \"this is funb in par\"\n",
    "class child(par):\n",
    "    def fun1(self):\n",
    "        self.fun()\n",
    "        print \"this is fun1 in child\"\n",
    "o=child()\n",
    "o.fun1()\n",
    "o.fun()"
   ]
  },
  {
   "cell_type": "code",
   "execution_count": 3,
   "metadata": {},
   "outputs": [
    {
     "ename": "AttributeError",
     "evalue": "child instance has no attribute 'fun'",
     "output_type": "error",
     "traceback": [
      "\u001b[0;31m---------------------------------------------------------------------------\u001b[0m",
      "\u001b[0;31mAttributeError\u001b[0m                            Traceback (most recent call last)",
      "\u001b[0;32m<ipython-input-3-e177b3544bd0>\u001b[0m in \u001b[0;36m<module>\u001b[0;34m()\u001b[0m\n\u001b[1;32m      8\u001b[0m         \u001b[0;32mprint\u001b[0m \u001b[0;34m\"this is fun1 in child\"\u001b[0m\u001b[0;34m\u001b[0m\u001b[0m\n\u001b[1;32m      9\u001b[0m \u001b[0mo\u001b[0m\u001b[0;34m=\u001b[0m\u001b[0mchild\u001b[0m\u001b[0;34m(\u001b[0m\u001b[0;34m)\u001b[0m\u001b[0;34m\u001b[0m\u001b[0m\n\u001b[0;32m---> 10\u001b[0;31m \u001b[0mo\u001b[0m\u001b[0;34m.\u001b[0m\u001b[0mfun1\u001b[0m\u001b[0;34m(\u001b[0m\u001b[0;34m)\u001b[0m\u001b[0;34m\u001b[0m\u001b[0m\n\u001b[0m\u001b[1;32m     11\u001b[0m \u001b[0mo\u001b[0m\u001b[0;34m.\u001b[0m\u001b[0mfun\u001b[0m\u001b[0;34m(\u001b[0m\u001b[0;34m)\u001b[0m\u001b[0;34m\u001b[0m\u001b[0m\n",
      "\u001b[0;32m<ipython-input-3-e177b3544bd0>\u001b[0m in \u001b[0;36mfun1\u001b[0;34m(self)\u001b[0m\n\u001b[1;32m      5\u001b[0m \u001b[0;32mclass\u001b[0m \u001b[0mchild\u001b[0m\u001b[0;34m:\u001b[0m\u001b[0;34m\u001b[0m\u001b[0m\n\u001b[1;32m      6\u001b[0m     \u001b[0;32mdef\u001b[0m \u001b[0mfun1\u001b[0m\u001b[0;34m(\u001b[0m\u001b[0mself\u001b[0m\u001b[0;34m)\u001b[0m\u001b[0;34m:\u001b[0m\u001b[0;34m\u001b[0m\u001b[0m\n\u001b[0;32m----> 7\u001b[0;31m         \u001b[0mself\u001b[0m\u001b[0;34m.\u001b[0m\u001b[0mfun\u001b[0m\u001b[0;34m(\u001b[0m\u001b[0;34m)\u001b[0m\u001b[0;34m\u001b[0m\u001b[0m\n\u001b[0m\u001b[1;32m      8\u001b[0m         \u001b[0;32mprint\u001b[0m \u001b[0;34m\"this is fun1 in child\"\u001b[0m\u001b[0;34m\u001b[0m\u001b[0m\n\u001b[1;32m      9\u001b[0m \u001b[0mo\u001b[0m\u001b[0;34m=\u001b[0m\u001b[0mchild\u001b[0m\u001b[0;34m(\u001b[0m\u001b[0;34m)\u001b[0m\u001b[0;34m\u001b[0m\u001b[0m\n",
      "\u001b[0;31mAttributeError\u001b[0m: child instance has no attribute 'fun'"
     ]
    }
   ],
   "source": [
    "# what is inheritance\n",
    "class par:\n",
    "    def fun(self):\n",
    "        print \"this is funb in par\"\n",
    "class child:\n",
    "    def fun1(self):\n",
    "        self.fun()\n",
    "        print \"this is fun1 in child\"\n",
    "o=child()\n",
    "o.fun1()\n",
    "o.fun()"
   ]
  },
  {
   "cell_type": "code",
   "execution_count": 4,
   "metadata": {},
   "outputs": [
    {
     "name": "stdout",
     "output_type": "stream",
     "text": [
      "this is funb in par\n",
      "this is fun1 in child\n"
     ]
    }
   ],
   "source": [
    "\n",
    "class par:\n",
    "    def fun(self):\n",
    "        print \"this is funb in par\"\n",
    "        \n",
    "class child:\n",
    "    def fun1(self):\n",
    "        p=par()\n",
    "        p.fun()\n",
    "        print \"this is fun1 in child\"\n",
    "o=child()\n",
    "o.fun1()"
   ]
  },
  {
   "cell_type": "code",
   "execution_count": 5,
   "metadata": {},
   "outputs": [
    {
     "name": "stdout",
     "output_type": "stream",
     "text": [
      "this is funb in par\n",
      "this is fun1 in child\n"
     ]
    }
   ],
   "source": [
    "# single level\n",
    "class par:\n",
    "    def fun(self):\n",
    "        print \"this is funb in par\"\n",
    "        \n",
    "class child(par):\n",
    "    def fun1(self):\n",
    "        self.fun()\n",
    "        print \"this is fun1 in child\"\n",
    "o=child()\n",
    "o.fun1()"
   ]
  },
  {
   "cell_type": "code",
   "execution_count": 6,
   "metadata": {},
   "outputs": [
    {
     "name": "stdout",
     "output_type": "stream",
     "text": [
      "this is fun2 in grand child\n",
      "this is fun1 in child\n"
     ]
    }
   ],
   "source": [
    "#,ulti level\n",
    "class par:\n",
    "    def fun(self):\n",
    "        print \"this is funb in par\"\n",
    "        \n",
    "class child(par):\n",
    "    def fun1(self):\n",
    "        print \"this is fun1 in child\"\n",
    "class grandchild(child):\n",
    "    def fun2(self):\n",
    "        print \"this is fun2 in grand child\"\n",
    "o=grandchild()\n",
    "o.fun2()\n",
    "o.fun1()"
   ]
  },
  {
   "cell_type": "code",
   "execution_count": 7,
   "metadata": {},
   "outputs": [
    {
     "name": "stdout",
     "output_type": "stream",
     "text": [
      "this is fun2 in grand child\n",
      "this is fun1 in grandchild\n"
     ]
    }
   ],
   "source": [
    "#,ulti level\n",
    "class par:\n",
    "    def fun(self):\n",
    "        print \"this is funb in par\"\n",
    "        \n",
    "class child(par):\n",
    "    def fun1(self):\n",
    "        print \"this is fun1 in child\"\n",
    "class grandchild(child):\n",
    "    def fun2(self):\n",
    "        print \"this is fun2 in grand child\"\n",
    "    def fun1(self):\n",
    "        print \"this is fun1 in grandchild\"\n",
    "o=grandchild()\n",
    "o.fun2()\n",
    "o.fun1()"
   ]
  },
  {
   "cell_type": "code",
   "execution_count": 8,
   "metadata": {},
   "outputs": [
    {
     "name": "stdout",
     "output_type": "stream",
     "text": [
      "this is fun2 in grand child\n",
      "this is fun1 in grandchild\n",
      "this is funb in par\n"
     ]
    }
   ],
   "source": [
    "#,ulti level\n",
    "class par:\n",
    "    def fun(self):\n",
    "        print \"this is funb in par\"\n",
    "        \n",
    "class child(par):\n",
    "    def fun1(self):\n",
    "        print \"this is fun1 in child\"\n",
    "class grandchild(child):\n",
    "    def fun2(self):\n",
    "        print \"this is fun2 in grand child\"\n",
    "    def fun1(self):\n",
    "        print \"this is fun1 in grandchild\"\n",
    "o=grandchild()\n",
    "o.fun2()\n",
    "o.fun1()\n",
    "o.fun()"
   ]
  },
  {
   "cell_type": "code",
   "execution_count": 10,
   "metadata": {},
   "outputs": [
    {
     "name": "stdout",
     "output_type": "stream",
     "text": [
      "this is fun2 in grand child\n",
      "this is funb in par\n",
      "this is fun1 in child\n",
      "this is funb in par\n"
     ]
    }
   ],
   "source": [
    "#multi level\n",
    "class par:\n",
    "    def fun(self):\n",
    "        print \"this is funb in par\"\n",
    "        \n",
    "class child(par):\n",
    "    def fun1(self):\n",
    "        self.fun()\n",
    "        print \"this is fun1 in child\"\n",
    "class grandchild(child):\n",
    "    def fun2(self):\n",
    "        print \"this is fun2 in grand child\"\n",
    "   \n",
    "o=grandchild()\n",
    "o.fun2()\n",
    "o.fun1()\n",
    "o.fun()"
   ]
  },
  {
   "cell_type": "code",
   "execution_count": 11,
   "metadata": {},
   "outputs": [
    {
     "name": "stdout",
     "output_type": "stream",
     "text": [
      "this is fun2 in grand child\n",
      "this is fun1 in child\n",
      "this is funb in par\n",
      "this is funb in par\n"
     ]
    }
   ],
   "source": [
    "#multi level\n",
    "class par:\n",
    "    def fun(self):\n",
    "        print \"this is funb in par\"\n",
    "        \n",
    "class child(par):\n",
    "    def fun1(self):\n",
    "        print \"this is fun1 in child\"\n",
    "        self.fun()\n",
    "        \n",
    "class grandchild(child):\n",
    "    def fun2(self):\n",
    "        print \"this is fun2 in grand child\"\n",
    "    \n",
    "   \n",
    "o=grandchild()\n",
    "o.fun2()\n",
    "o.fun1()\n",
    "o.fun()"
   ]
  },
  {
   "cell_type": "code",
   "execution_count": 13,
   "metadata": {},
   "outputs": [
    {
     "name": "stdout",
     "output_type": "stream",
     "text": [
      "this is fun2 in grand child\n",
      "this is fun1 in child\n",
      "this is funb in par\n"
     ]
    }
   ],
   "source": [
    "#multiple\n",
    "class par:\n",
    "    def fun(self):\n",
    "        print \"this is funb in par\"\n",
    "        \n",
    "class child:\n",
    "    def fun1(self):\n",
    "        print \"this is fun1 in child\"\n",
    "        \n",
    "class grandchild(child,par):\n",
    "    def fun2(self):\n",
    "        print \"this is fun2 in grand child\"\n",
    "    \n",
    "   \n",
    "o=grandchild()\n",
    "o.fun2()\n",
    "o.fun1()\n",
    "o.fun()"
   ]
  },
  {
   "cell_type": "code",
   "execution_count": 14,
   "metadata": {},
   "outputs": [
    {
     "name": "stdout",
     "output_type": "stream",
     "text": [
      "(10, 20)\n"
     ]
    }
   ],
   "source": [
    "class c1:\n",
    "    def __init__(self,a,b):\n",
    "        self.a=a\n",
    "        self.b=b\n",
    "    def get(self):\n",
    "        return self.a, self.b\n",
    "o1=c1(10,20)\n",
    "print o1.get()"
   ]
  },
  {
   "cell_type": "code",
   "execution_count": 15,
   "metadata": {},
   "outputs": [
    {
     "ename": "TypeError",
     "evalue": "__init__() takes exactly 3 arguments (4 given)",
     "output_type": "error",
     "traceback": [
      "\u001b[0;31m---------------------------------------------------------------------------\u001b[0m",
      "\u001b[0;31mTypeError\u001b[0m                                 Traceback (most recent call last)",
      "\u001b[0;32m<ipython-input-15-f437202d3130>\u001b[0m in \u001b[0;36m<module>\u001b[0;34m()\u001b[0m\n\u001b[1;32m      5\u001b[0m     \u001b[0;32mdef\u001b[0m \u001b[0mget\u001b[0m\u001b[0;34m(\u001b[0m\u001b[0mself\u001b[0m\u001b[0;34m)\u001b[0m\u001b[0;34m:\u001b[0m\u001b[0;34m\u001b[0m\u001b[0m\n\u001b[1;32m      6\u001b[0m         \u001b[0;32mreturn\u001b[0m \u001b[0mself\u001b[0m\u001b[0;34m.\u001b[0m\u001b[0ma\u001b[0m\u001b[0;34m,\u001b[0m \u001b[0mself\u001b[0m\u001b[0;34m.\u001b[0m\u001b[0mb\u001b[0m\u001b[0;34m\u001b[0m\u001b[0m\n\u001b[0;32m----> 7\u001b[0;31m \u001b[0mo1\u001b[0m\u001b[0;34m=\u001b[0m\u001b[0mc1\u001b[0m\u001b[0;34m(\u001b[0m\u001b[0;36m10\u001b[0m\u001b[0;34m,\u001b[0m\u001b[0;36m20\u001b[0m\u001b[0;34m,\u001b[0m\u001b[0;36m30\u001b[0m\u001b[0;34m)\u001b[0m\u001b[0;34m\u001b[0m\u001b[0m\n\u001b[0m\u001b[1;32m      8\u001b[0m \u001b[0;32mprint\u001b[0m \u001b[0mo1\u001b[0m\u001b[0;34m.\u001b[0m\u001b[0mget\u001b[0m\u001b[0;34m(\u001b[0m\u001b[0;34m)\u001b[0m\u001b[0;34m\u001b[0m\u001b[0m\n",
      "\u001b[0;31mTypeError\u001b[0m: __init__() takes exactly 3 arguments (4 given)"
     ]
    }
   ],
   "source": [
    "class c1:\n",
    "    def __init__(self,a,b):\n",
    "        self.a=a\n",
    "        self.b=b\n",
    "    def get(self):\n",
    "        return self.a, self.b\n",
    "o1=c1(10,20,30)\n",
    "print o1.get()"
   ]
  },
  {
   "cell_type": "code",
   "execution_count": 16,
   "metadata": {},
   "outputs": [
    {
     "ename": "TypeError",
     "evalue": "__init__() takes exactly 3 arguments (2 given)",
     "output_type": "error",
     "traceback": [
      "\u001b[0;31m---------------------------------------------------------------------------\u001b[0m",
      "\u001b[0;31mTypeError\u001b[0m                                 Traceback (most recent call last)",
      "\u001b[0;32m<ipython-input-16-19fbf921da59>\u001b[0m in \u001b[0;36m<module>\u001b[0;34m()\u001b[0m\n\u001b[1;32m      5\u001b[0m     \u001b[0;32mdef\u001b[0m \u001b[0mget\u001b[0m\u001b[0;34m(\u001b[0m\u001b[0mself\u001b[0m\u001b[0;34m)\u001b[0m\u001b[0;34m:\u001b[0m\u001b[0;34m\u001b[0m\u001b[0m\n\u001b[1;32m      6\u001b[0m         \u001b[0;32mreturn\u001b[0m \u001b[0mself\u001b[0m\u001b[0;34m.\u001b[0m\u001b[0ma\u001b[0m\u001b[0;34m,\u001b[0m \u001b[0mself\u001b[0m\u001b[0;34m.\u001b[0m\u001b[0mb\u001b[0m\u001b[0;34m\u001b[0m\u001b[0m\n\u001b[0;32m----> 7\u001b[0;31m \u001b[0mo1\u001b[0m\u001b[0;34m=\u001b[0m\u001b[0mc1\u001b[0m\u001b[0;34m(\u001b[0m\u001b[0;36m10\u001b[0m\u001b[0;34m)\u001b[0m\u001b[0;34m\u001b[0m\u001b[0m\n\u001b[0m\u001b[1;32m      8\u001b[0m \u001b[0;32mprint\u001b[0m \u001b[0mo1\u001b[0m\u001b[0;34m.\u001b[0m\u001b[0mget\u001b[0m\u001b[0;34m(\u001b[0m\u001b[0;34m)\u001b[0m\u001b[0;34m\u001b[0m\u001b[0m\n",
      "\u001b[0;31mTypeError\u001b[0m: __init__() takes exactly 3 arguments (2 given)"
     ]
    }
   ],
   "source": [
    "class c1:\n",
    "    def __init__(self,a,b):\n",
    "        self.a=a\n",
    "        self.b=b\n",
    "    def get(self):\n",
    "        return self.a, self.b\n",
    "o1=c1(10)\n",
    "print o1.get()"
   ]
  },
  {
   "cell_type": "code",
   "execution_count": 17,
   "metadata": {},
   "outputs": [
    {
     "ename": "TypeError",
     "evalue": "__init__() takes exactly 3 arguments (1 given)",
     "output_type": "error",
     "traceback": [
      "\u001b[0;31m---------------------------------------------------------------------------\u001b[0m",
      "\u001b[0;31mTypeError\u001b[0m                                 Traceback (most recent call last)",
      "\u001b[0;32m<ipython-input-17-9cb34f3459ea>\u001b[0m in \u001b[0;36m<module>\u001b[0;34m()\u001b[0m\n\u001b[1;32m      8\u001b[0m     \u001b[0;32mdef\u001b[0m \u001b[0mget\u001b[0m\u001b[0;34m(\u001b[0m\u001b[0mself\u001b[0m\u001b[0;34m)\u001b[0m\u001b[0;34m:\u001b[0m\u001b[0;34m\u001b[0m\u001b[0m\n\u001b[1;32m      9\u001b[0m         \u001b[0;32mreturn\u001b[0m \u001b[0mself\u001b[0m\u001b[0;34m.\u001b[0m\u001b[0ma\u001b[0m\u001b[0;34m,\u001b[0m \u001b[0mself\u001b[0m\u001b[0;34m.\u001b[0m\u001b[0mb\u001b[0m\u001b[0;34m\u001b[0m\u001b[0m\n\u001b[0;32m---> 10\u001b[0;31m \u001b[0mo2\u001b[0m\u001b[0;34m=\u001b[0m\u001b[0mc2\u001b[0m\u001b[0;34m(\u001b[0m\u001b[0;34m)\u001b[0m\u001b[0;34m\u001b[0m\u001b[0m\n\u001b[0m",
      "\u001b[0;31mTypeError\u001b[0m: __init__() takes exactly 3 arguments (1 given)"
     ]
    }
   ],
   "source": [
    "class c1:\n",
    "    def __init__(self,a,b):\n",
    "        self.a=a\n",
    "        self.b=b\n",
    "    def get(self):\n",
    "        return self.a, self.b\n",
    "class c2(c1):\n",
    "    def get(self):\n",
    "        return self.a, self.b\n",
    "o2=c2()"
   ]
  },
  {
   "cell_type": "code",
   "execution_count": 18,
   "metadata": {},
   "outputs": [
    {
     "name": "stdout",
     "output_type": "stream",
     "text": [
      "(100, 200)\n"
     ]
    }
   ],
   "source": [
    "class c1:\n",
    "    def __init__(self,a,b):\n",
    "        self.a=a\n",
    "        self.b=b\n",
    "    def get(self):\n",
    "        return self.a, self.b\n",
    "class c2(c1):\n",
    "    def get(self):\n",
    "        return self.a, self.b\n",
    "o2=c2(100,200)\n",
    "print o2.get()"
   ]
  },
  {
   "cell_type": "code",
   "execution_count": 19,
   "metadata": {},
   "outputs": [
    {
     "name": "stdout",
     "output_type": "stream",
     "text": [
      "100\n"
     ]
    }
   ],
   "source": [
    "class c1:\n",
    "    def __init__(self,a,b):\n",
    "        self.a=a\n",
    "        self.b=b\n",
    "    def get(self):\n",
    "        return self.a, self.b\n",
    "class c2(c1):\n",
    "    def __init__(self,c):\n",
    "        self.c=c\n",
    "        \n",
    "    def get(self):\n",
    "        return self.c\n",
    "o2=c2(100)\n",
    "print o2.get()"
   ]
  },
  {
   "cell_type": "code",
   "execution_count": 20,
   "metadata": {},
   "outputs": [
    {
     "ename": "AttributeError",
     "evalue": "c2 instance has no attribute 'a'",
     "output_type": "error",
     "traceback": [
      "\u001b[0;31m---------------------------------------------------------------------------\u001b[0m",
      "\u001b[0;31mAttributeError\u001b[0m                            Traceback (most recent call last)",
      "\u001b[0;32m<ipython-input-20-204931a8a458>\u001b[0m in \u001b[0;36m<module>\u001b[0;34m()\u001b[0m\n\u001b[1;32m     12\u001b[0m         \u001b[0;32mreturn\u001b[0m \u001b[0mself\u001b[0m\u001b[0;34m.\u001b[0m\u001b[0mc\u001b[0m\u001b[0;34m,\u001b[0m\u001b[0mself\u001b[0m\u001b[0;34m.\u001b[0m\u001b[0ma\u001b[0m\u001b[0;34m,\u001b[0m\u001b[0mself\u001b[0m\u001b[0;34m.\u001b[0m\u001b[0mb\u001b[0m\u001b[0;34m\u001b[0m\u001b[0m\n\u001b[1;32m     13\u001b[0m \u001b[0mo2\u001b[0m\u001b[0;34m=\u001b[0m\u001b[0mc2\u001b[0m\u001b[0;34m(\u001b[0m\u001b[0;36m100\u001b[0m\u001b[0;34m)\u001b[0m\u001b[0;34m\u001b[0m\u001b[0m\n\u001b[0;32m---> 14\u001b[0;31m \u001b[0;32mprint\u001b[0m \u001b[0mo2\u001b[0m\u001b[0;34m.\u001b[0m\u001b[0mget\u001b[0m\u001b[0;34m(\u001b[0m\u001b[0;34m)\u001b[0m\u001b[0;34m\u001b[0m\u001b[0m\n\u001b[0m",
      "\u001b[0;32m<ipython-input-20-204931a8a458>\u001b[0m in \u001b[0;36mget\u001b[0;34m(self)\u001b[0m\n\u001b[1;32m     10\u001b[0m \u001b[0;34m\u001b[0m\u001b[0m\n\u001b[1;32m     11\u001b[0m     \u001b[0;32mdef\u001b[0m \u001b[0mget\u001b[0m\u001b[0;34m(\u001b[0m\u001b[0mself\u001b[0m\u001b[0;34m)\u001b[0m\u001b[0;34m:\u001b[0m\u001b[0;34m\u001b[0m\u001b[0m\n\u001b[0;32m---> 12\u001b[0;31m         \u001b[0;32mreturn\u001b[0m \u001b[0mself\u001b[0m\u001b[0;34m.\u001b[0m\u001b[0mc\u001b[0m\u001b[0;34m,\u001b[0m\u001b[0mself\u001b[0m\u001b[0;34m.\u001b[0m\u001b[0ma\u001b[0m\u001b[0;34m,\u001b[0m\u001b[0mself\u001b[0m\u001b[0;34m.\u001b[0m\u001b[0mb\u001b[0m\u001b[0;34m\u001b[0m\u001b[0m\n\u001b[0m\u001b[1;32m     13\u001b[0m \u001b[0mo2\u001b[0m\u001b[0;34m=\u001b[0m\u001b[0mc2\u001b[0m\u001b[0;34m(\u001b[0m\u001b[0;36m100\u001b[0m\u001b[0;34m)\u001b[0m\u001b[0;34m\u001b[0m\u001b[0m\n\u001b[1;32m     14\u001b[0m \u001b[0;32mprint\u001b[0m \u001b[0mo2\u001b[0m\u001b[0;34m.\u001b[0m\u001b[0mget\u001b[0m\u001b[0;34m(\u001b[0m\u001b[0;34m)\u001b[0m\u001b[0;34m\u001b[0m\u001b[0m\n",
      "\u001b[0;31mAttributeError\u001b[0m: c2 instance has no attribute 'a'"
     ]
    }
   ],
   "source": [
    "class c1:\n",
    "    def __init__(self,a,b):\n",
    "        self.a=a\n",
    "        self.b=b\n",
    "    def get(self):\n",
    "        return self.a, self.b\n",
    "class c2(c1):\n",
    "    def __init__(self,c):\n",
    "        self.c=c\n",
    "        \n",
    "    def get(self):\n",
    "        return self.c,self.a,self.b\n",
    "o2=c2(100)\n",
    "print o2.get()"
   ]
  },
  {
   "cell_type": "code",
   "execution_count": 21,
   "metadata": {},
   "outputs": [
    {
     "ename": "TypeError",
     "evalue": "__init__() takes exactly 4 arguments (3 given)",
     "output_type": "error",
     "traceback": [
      "\u001b[0;31m---------------------------------------------------------------------------\u001b[0m",
      "\u001b[0;31mTypeError\u001b[0m                                 Traceback (most recent call last)",
      "\u001b[0;32m<ipython-input-21-b5114a91a965>\u001b[0m in \u001b[0;36m<module>\u001b[0;34m()\u001b[0m\n\u001b[1;32m     12\u001b[0m     \u001b[0;32mdef\u001b[0m \u001b[0mget\u001b[0m\u001b[0;34m(\u001b[0m\u001b[0mself\u001b[0m\u001b[0;34m)\u001b[0m\u001b[0;34m:\u001b[0m\u001b[0;34m\u001b[0m\u001b[0m\n\u001b[1;32m     13\u001b[0m         \u001b[0;32mreturn\u001b[0m \u001b[0mself\u001b[0m\u001b[0;34m.\u001b[0m\u001b[0mc\u001b[0m\u001b[0;34m,\u001b[0m\u001b[0mself\u001b[0m\u001b[0;34m.\u001b[0m\u001b[0ma\u001b[0m\u001b[0;34m,\u001b[0m\u001b[0mself\u001b[0m\u001b[0;34m.\u001b[0m\u001b[0mb\u001b[0m\u001b[0;34m\u001b[0m\u001b[0m\n\u001b[0;32m---> 14\u001b[0;31m \u001b[0mo2\u001b[0m\u001b[0;34m=\u001b[0m\u001b[0mc2\u001b[0m\u001b[0;34m(\u001b[0m\u001b[0;36m100\u001b[0m\u001b[0;34m,\u001b[0m\u001b[0;36m200\u001b[0m\u001b[0;34m,\u001b[0m\u001b[0;36m300\u001b[0m\u001b[0;34m)\u001b[0m\u001b[0;34m\u001b[0m\u001b[0m\n\u001b[0m\u001b[1;32m     15\u001b[0m \u001b[0;32mprint\u001b[0m \u001b[0mo2\u001b[0m\u001b[0;34m.\u001b[0m\u001b[0mget\u001b[0m\u001b[0;34m(\u001b[0m\u001b[0;34m)\u001b[0m\u001b[0;34m\u001b[0m\u001b[0m\n",
      "\u001b[0;32m<ipython-input-21-b5114a91a965>\u001b[0m in \u001b[0;36m__init__\u001b[0;34m(self, c, a, b)\u001b[0m\n\u001b[1;32m      8\u001b[0m     \u001b[0;32mdef\u001b[0m \u001b[0m__init__\u001b[0m\u001b[0;34m(\u001b[0m\u001b[0mself\u001b[0m\u001b[0;34m,\u001b[0m\u001b[0mc\u001b[0m\u001b[0;34m,\u001b[0m\u001b[0ma\u001b[0m\u001b[0;34m,\u001b[0m\u001b[0mb\u001b[0m\u001b[0;34m)\u001b[0m\u001b[0;34m:\u001b[0m\u001b[0;34m\u001b[0m\u001b[0m\n\u001b[1;32m      9\u001b[0m         \u001b[0mself\u001b[0m\u001b[0;34m.\u001b[0m\u001b[0mc\u001b[0m\u001b[0;34m=\u001b[0m\u001b[0mc\u001b[0m\u001b[0;34m\u001b[0m\u001b[0m\n\u001b[0;32m---> 10\u001b[0;31m         \u001b[0mself\u001b[0m\u001b[0;34m.\u001b[0m\u001b[0m__init__\u001b[0m\u001b[0;34m(\u001b[0m\u001b[0ma\u001b[0m\u001b[0;34m,\u001b[0m\u001b[0mb\u001b[0m\u001b[0;34m)\u001b[0m\u001b[0;34m\u001b[0m\u001b[0m\n\u001b[0m\u001b[1;32m     11\u001b[0m \u001b[0;34m\u001b[0m\u001b[0m\n\u001b[1;32m     12\u001b[0m     \u001b[0;32mdef\u001b[0m \u001b[0mget\u001b[0m\u001b[0;34m(\u001b[0m\u001b[0mself\u001b[0m\u001b[0;34m)\u001b[0m\u001b[0;34m:\u001b[0m\u001b[0;34m\u001b[0m\u001b[0m\n",
      "\u001b[0;31mTypeError\u001b[0m: __init__() takes exactly 4 arguments (3 given)"
     ]
    }
   ],
   "source": [
    "class c1:\n",
    "    def __init__(self,a,b):\n",
    "        self.a=a\n",
    "        self.b=b\n",
    "    def get(self):\n",
    "        return self.a, self.b\n",
    "class c2(c1):\n",
    "    def __init__(self,c,a,b):\n",
    "        self.c=c\n",
    "        self.__init__(a,b)\n",
    "        \n",
    "    def get(self):\n",
    "        return self.c,self.a,self.b\n",
    "o2=c2(100,200,300)\n",
    "print o2.get()"
   ]
  },
  {
   "cell_type": "code",
   "execution_count": 22,
   "metadata": {},
   "outputs": [
    {
     "name": "stdout",
     "output_type": "stream",
     "text": [
      "(100, 200, 300)\n"
     ]
    }
   ],
   "source": [
    "class c1:\n",
    "    def __init__(self,a,b):\n",
    "        self.a=a\n",
    "        self.b=b\n",
    "    def get(self):\n",
    "        return self.a, self.b\n",
    "class c2(c1):\n",
    "    def __init__(self,c,a,b):\n",
    "        self.c=c\n",
    "        c1.__init__(self, a,b)\n",
    "        \n",
    "    def get(self):\n",
    "        return self.c,self.a,self.b\n",
    "o2=c2(100,200,300)\n",
    "print o2.get()"
   ]
  },
  {
   "cell_type": "code",
   "execution_count": 23,
   "metadata": {},
   "outputs": [
    {
     "name": "stdout",
     "output_type": "stream",
     "text": [
      "(100, 200, 300)\n"
     ]
    }
   ],
   "source": [
    "class c1(object):\n",
    "    def __init__(self,a,b):\n",
    "        self.a=a\n",
    "        self.b=b\n",
    "    def get(self):\n",
    "        return self.a, self.b\n",
    "class c2(c1):\n",
    "    def __init__(self,c,a,b):\n",
    "        self.c=c\n",
    "        super(c2,self).__init__(a,b)\n",
    "        \n",
    "    def get(self):\n",
    "        return self.c,self.a,self.b\n",
    "o2=c2(100,200,300)\n",
    "print o2.get()"
   ]
  },
  {
   "cell_type": "code",
   "execution_count": 24,
   "metadata": {},
   "outputs": [
    {
     "ename": "TypeError",
     "evalue": "super() argument 1 must be type, not classobj",
     "output_type": "error",
     "traceback": [
      "\u001b[0;31m---------------------------------------------------------------------------\u001b[0m",
      "\u001b[0;31mTypeError\u001b[0m                                 Traceback (most recent call last)",
      "\u001b[0;32m<ipython-input-24-37bcd5c3b882>\u001b[0m in \u001b[0;36m<module>\u001b[0;34m()\u001b[0m\n\u001b[1;32m     12\u001b[0m     \u001b[0;32mdef\u001b[0m \u001b[0mget\u001b[0m\u001b[0;34m(\u001b[0m\u001b[0mself\u001b[0m\u001b[0;34m)\u001b[0m\u001b[0;34m:\u001b[0m\u001b[0;34m\u001b[0m\u001b[0m\n\u001b[1;32m     13\u001b[0m         \u001b[0;32mreturn\u001b[0m \u001b[0mself\u001b[0m\u001b[0;34m.\u001b[0m\u001b[0mc\u001b[0m\u001b[0;34m,\u001b[0m\u001b[0mself\u001b[0m\u001b[0;34m.\u001b[0m\u001b[0ma\u001b[0m\u001b[0;34m,\u001b[0m\u001b[0mself\u001b[0m\u001b[0;34m.\u001b[0m\u001b[0mb\u001b[0m\u001b[0;34m\u001b[0m\u001b[0m\n\u001b[0;32m---> 14\u001b[0;31m \u001b[0mo2\u001b[0m\u001b[0;34m=\u001b[0m\u001b[0mc2\u001b[0m\u001b[0;34m(\u001b[0m\u001b[0;36m100\u001b[0m\u001b[0;34m,\u001b[0m\u001b[0;36m200\u001b[0m\u001b[0;34m,\u001b[0m\u001b[0;36m300\u001b[0m\u001b[0;34m)\u001b[0m\u001b[0;34m\u001b[0m\u001b[0m\n\u001b[0m\u001b[1;32m     15\u001b[0m \u001b[0;32mprint\u001b[0m \u001b[0mo2\u001b[0m\u001b[0;34m.\u001b[0m\u001b[0mget\u001b[0m\u001b[0;34m(\u001b[0m\u001b[0;34m)\u001b[0m\u001b[0;34m\u001b[0m\u001b[0m\n",
      "\u001b[0;32m<ipython-input-24-37bcd5c3b882>\u001b[0m in \u001b[0;36m__init__\u001b[0;34m(self, c, a, b)\u001b[0m\n\u001b[1;32m      8\u001b[0m     \u001b[0;32mdef\u001b[0m \u001b[0m__init__\u001b[0m\u001b[0;34m(\u001b[0m\u001b[0mself\u001b[0m\u001b[0;34m,\u001b[0m\u001b[0mc\u001b[0m\u001b[0;34m,\u001b[0m\u001b[0ma\u001b[0m\u001b[0;34m,\u001b[0m\u001b[0mb\u001b[0m\u001b[0;34m)\u001b[0m\u001b[0;34m:\u001b[0m\u001b[0;34m\u001b[0m\u001b[0m\n\u001b[1;32m      9\u001b[0m         \u001b[0mself\u001b[0m\u001b[0;34m.\u001b[0m\u001b[0mc\u001b[0m\u001b[0;34m=\u001b[0m\u001b[0mc\u001b[0m\u001b[0;34m\u001b[0m\u001b[0m\n\u001b[0;32m---> 10\u001b[0;31m         \u001b[0msuper\u001b[0m\u001b[0;34m(\u001b[0m\u001b[0mc2\u001b[0m\u001b[0;34m,\u001b[0m\u001b[0mself\u001b[0m\u001b[0;34m)\u001b[0m\u001b[0;34m.\u001b[0m\u001b[0m__init__\u001b[0m\u001b[0;34m(\u001b[0m\u001b[0ma\u001b[0m\u001b[0;34m,\u001b[0m\u001b[0mb\u001b[0m\u001b[0;34m)\u001b[0m\u001b[0;34m\u001b[0m\u001b[0m\n\u001b[0m\u001b[1;32m     11\u001b[0m \u001b[0;34m\u001b[0m\u001b[0m\n\u001b[1;32m     12\u001b[0m     \u001b[0;32mdef\u001b[0m \u001b[0mget\u001b[0m\u001b[0;34m(\u001b[0m\u001b[0mself\u001b[0m\u001b[0;34m)\u001b[0m\u001b[0;34m:\u001b[0m\u001b[0;34m\u001b[0m\u001b[0m\n",
      "\u001b[0;31mTypeError\u001b[0m: super() argument 1 must be type, not classobj"
     ]
    }
   ],
   "source": [
    "class c1:\n",
    "    def __init__(self,a,b):\n",
    "        self.a=a\n",
    "        self.b=b\n",
    "    def get(self):\n",
    "        return self.a, self.b\n",
    "class c2(c1):\n",
    "    def __init__(self,c,a,b):\n",
    "        self.c=c\n",
    "        super(c2,self).__init__(a,b)\n",
    "        \n",
    "    def get(self):\n",
    "        return self.c,self.a,self.b\n",
    "o2=c2(100,200,300)\n",
    "print o2.get()"
   ]
  },
  {
   "cell_type": "code",
   "execution_count": 25,
   "metadata": {},
   "outputs": [
    {
     "name": "stdout",
     "output_type": "stream",
     "text": [
      "30\n",
      "46.94\n",
      "(4+6j)\n",
      "str1str23\n"
     ]
    }
   ],
   "source": [
    "print 10+20\n",
    "print 12.34+34.6\n",
    "print 1+2j+3+4j\n",
    "print \"str1\"+\"str23\""
   ]
  },
  {
   "cell_type": "code",
   "execution_count": 26,
   "metadata": {},
   "outputs": [
    {
     "name": "stdout",
     "output_type": "stream",
     "text": [
      "['__abs__', '__add__', '__and__', '__class__', '__cmp__', '__coerce__', '__delattr__', '__div__', '__divmod__', '__doc__', '__float__', '__floordiv__', '__format__', '__getattribute__', '__getnewargs__', '__hash__', '__hex__', '__index__', '__init__', '__int__', '__invert__', '__long__', '__lshift__', '__mod__', '__mul__', '__neg__', '__new__', '__nonzero__', '__oct__', '__or__', '__pos__', '__pow__', '__radd__', '__rand__', '__rdiv__', '__rdivmod__', '__reduce__', '__reduce_ex__', '__repr__', '__rfloordiv__', '__rlshift__', '__rmod__', '__rmul__', '__ror__', '__rpow__', '__rrshift__', '__rshift__', '__rsub__', '__rtruediv__', '__rxor__', '__setattr__', '__sizeof__', '__str__', '__sub__', '__subclasshook__', '__truediv__', '__trunc__', '__xor__', 'bit_length', 'conjugate', 'denominator', 'imag', 'numerator', 'real']\n"
     ]
    }
   ],
   "source": [
    "class c1:\n",
    "    def __init__(self,a,b):\n",
    "        self.a=a\n",
    "        self.b=b\n",
    "    def get(self):\n",
    "        return self.a, self.b\n",
    "a=10\n",
    "print dir(a)"
   ]
  },
  {
   "cell_type": "code",
   "execution_count": 27,
   "metadata": {},
   "outputs": [
    {
     "name": "stdout",
     "output_type": "stream",
     "text": [
      "['__doc__', '__init__', '__module__', 'a', 'b', 'get']\n"
     ]
    }
   ],
   "source": [
    "class c1:\n",
    "    def __init__(self,a,b):\n",
    "        self.a=a\n",
    "        self.b=b\n",
    "    def get(self):\n",
    "        return self.a, self.b\n",
    "o=c1(10,20)\n",
    "print dir(o)"
   ]
  },
  {
   "cell_type": "code",
   "execution_count": 28,
   "metadata": {},
   "outputs": [
    {
     "name": "stdout",
     "output_type": "stream",
     "text": [
      "30\n",
      "-10\n",
      "200\n"
     ]
    }
   ],
   "source": [
    "class c1:\n",
    "    def __init__(self,a,b):\n",
    "        self.a=a\n",
    "        self.b=b\n",
    "    def get(self):\n",
    "        return self.a, self.b\n",
    "o=c1(10,20)\n",
    "a=10\n",
    "b=20\n",
    "print a+b\n",
    "print a-b\n",
    "print a*b"
   ]
  },
  {
   "cell_type": "code",
   "execution_count": 29,
   "metadata": {},
   "outputs": [
    {
     "name": "stdout",
     "output_type": "stream",
     "text": [
      "30\n",
      "-10\n",
      "200\n"
     ]
    },
    {
     "ename": "TypeError",
     "evalue": "unsupported operand type(s) for +: 'instance' and 'instance'",
     "output_type": "error",
     "traceback": [
      "\u001b[0;31m---------------------------------------------------------------------------\u001b[0m",
      "\u001b[0;31mTypeError\u001b[0m                                 Traceback (most recent call last)",
      "\u001b[0;32m<ipython-input-29-1abb5ea0611b>\u001b[0m in \u001b[0;36m<module>\u001b[0;34m()\u001b[0m\n\u001b[1;32m     12\u001b[0m \u001b[0;32mprint\u001b[0m \u001b[0ma\u001b[0m\u001b[0;34m-\u001b[0m\u001b[0mb\u001b[0m\u001b[0;34m\u001b[0m\u001b[0m\n\u001b[1;32m     13\u001b[0m \u001b[0;32mprint\u001b[0m \u001b[0ma\u001b[0m\u001b[0;34m*\u001b[0m\u001b[0mb\u001b[0m\u001b[0;34m\u001b[0m\u001b[0m\n\u001b[0;32m---> 14\u001b[0;31m \u001b[0;32mprint\u001b[0m \u001b[0mo1\u001b[0m\u001b[0;34m+\u001b[0m\u001b[0mo2\u001b[0m\u001b[0;34m\u001b[0m\u001b[0m\n\u001b[0m",
      "\u001b[0;31mTypeError\u001b[0m: unsupported operand type(s) for +: 'instance' and 'instance'"
     ]
    }
   ],
   "source": [
    "class c1:\n",
    "    def __init__(self,a,b):\n",
    "        self.a=a\n",
    "        self.b=b\n",
    "    def get(self):\n",
    "        return self.a, self.b\n",
    "o1=c1(10,20)\n",
    "o2=c1(100,200)\n",
    "a=10\n",
    "b=20\n",
    "print a+b\n",
    "print a-b\n",
    "print a*b\n",
    "print o1+o2"
   ]
  },
  {
   "cell_type": "code",
   "execution_count": 30,
   "metadata": {},
   "outputs": [
    {
     "name": "stdout",
     "output_type": "stream",
     "text": [
      "30\n",
      "-10\n",
      "200\n",
      "some value\n"
     ]
    }
   ],
   "source": [
    "class c1:\n",
    "    def __init__(self,a,b):\n",
    "        self.a=a\n",
    "        self.b=b\n",
    "    def get(self):\n",
    "        return self.a, self.b\n",
    "    def __add__(self1,self2):\n",
    "        return \"some value\"\n",
    "o1=c1(10,20)\n",
    "o2=c1(100,200)\n",
    "a=10\n",
    "b=20\n",
    "print a+b\n",
    "print a-b\n",
    "print a*b\n",
    "print o1+o2"
   ]
  },
  {
   "cell_type": "code",
   "execution_count": 31,
   "metadata": {},
   "outputs": [
    {
     "name": "stdout",
     "output_type": "stream",
     "text": [
      "30\n",
      "-10\n",
      "200\n",
      "(110, 220)\n"
     ]
    }
   ],
   "source": [
    "class c1:\n",
    "    def __init__(self,a,b):\n",
    "        self.a=a\n",
    "        self.b=b\n",
    "    def get(self):\n",
    "        return self.a, self.b\n",
    "    def __add__(self1,self2):\n",
    "        return self1.a+self2.a, self1.b+self2.b\n",
    "o1=c1(10,20)\n",
    "o2=c1(100,200)\n",
    "a=10\n",
    "b=20\n",
    "print a+b\n",
    "print a-b\n",
    "print a*b\n",
    "print o1+o2"
   ]
  },
  {
   "cell_type": "code",
   "execution_count": 32,
   "metadata": {},
   "outputs": [
    {
     "name": "stdout",
     "output_type": "stream",
     "text": [
      "(110, 220)\n",
      "e\n",
      "r\n",
      "e\n",
      "w\n",
      "r\n",
      "e\n",
      "w\n"
     ]
    }
   ],
   "source": [
    "class c1:\n",
    "    def __init__(self,a,b):\n",
    "        self.a=a\n",
    "        self.b=b\n",
    "    def get(self):\n",
    "        return self.a, self.b\n",
    "    def __add__(self1,self2):\n",
    "        return self1.a+self2.a, self1.b+self2.b\n",
    "o1=c1(10,20)\n",
    "o2=c1(100,200)\n",
    "print o1+o2\n",
    "for i in \"erewrew\":\n",
    "    print i"
   ]
  },
  {
   "cell_type": "code",
   "execution_count": 33,
   "metadata": {},
   "outputs": [
    {
     "name": "stdout",
     "output_type": "stream",
     "text": [
      "(110, 220)\n"
     ]
    },
    {
     "ename": "TypeError",
     "evalue": "'int' object is not iterable",
     "output_type": "error",
     "traceback": [
      "\u001b[0;31m---------------------------------------------------------------------------\u001b[0m",
      "\u001b[0;31mTypeError\u001b[0m                                 Traceback (most recent call last)",
      "\u001b[0;32m<ipython-input-33-4c664b056b15>\u001b[0m in \u001b[0;36m<module>\u001b[0;34m()\u001b[0m\n\u001b[1;32m     10\u001b[0m \u001b[0mo2\u001b[0m\u001b[0;34m=\u001b[0m\u001b[0mc1\u001b[0m\u001b[0;34m(\u001b[0m\u001b[0;36m100\u001b[0m\u001b[0;34m,\u001b[0m\u001b[0;36m200\u001b[0m\u001b[0;34m)\u001b[0m\u001b[0;34m\u001b[0m\u001b[0m\n\u001b[1;32m     11\u001b[0m \u001b[0;32mprint\u001b[0m \u001b[0mo1\u001b[0m\u001b[0;34m+\u001b[0m\u001b[0mo2\u001b[0m\u001b[0;34m\u001b[0m\u001b[0m\n\u001b[0;32m---> 12\u001b[0;31m \u001b[0;32mfor\u001b[0m \u001b[0mi\u001b[0m \u001b[0;32min\u001b[0m \u001b[0;36m1000\u001b[0m\u001b[0;34m:\u001b[0m\u001b[0;34m\u001b[0m\u001b[0m\n\u001b[0m\u001b[1;32m     13\u001b[0m     \u001b[0;32mprint\u001b[0m \u001b[0mi\u001b[0m\u001b[0;34m\u001b[0m\u001b[0m\n",
      "\u001b[0;31mTypeError\u001b[0m: 'int' object is not iterable"
     ]
    }
   ],
   "source": [
    "class c1:\n",
    "    def __init__(self,a,b):\n",
    "        self.a=a\n",
    "        self.b=b\n",
    "    def get(self):\n",
    "        return self.a, self.b\n",
    "    def __add__(self1,self2):\n",
    "        return self1.a+self2.a, self1.b+self2.b\n",
    "o1=c1(10,20)\n",
    "o2=c1(100,200)\n",
    "print o1+o2\n",
    "for i in 1000:\n",
    "    print i"
   ]
  },
  {
   "cell_type": "code",
   "execution_count": 34,
   "metadata": {},
   "outputs": [
    {
     "name": "stdout",
     "output_type": "stream",
     "text": [
      "(110, 220)\n"
     ]
    },
    {
     "ename": "TypeError",
     "evalue": "iteration over non-sequence",
     "output_type": "error",
     "traceback": [
      "\u001b[0;31m---------------------------------------------------------------------------\u001b[0m",
      "\u001b[0;31mTypeError\u001b[0m                                 Traceback (most recent call last)",
      "\u001b[0;32m<ipython-input-34-201c352371fd>\u001b[0m in \u001b[0;36m<module>\u001b[0;34m()\u001b[0m\n\u001b[1;32m     10\u001b[0m \u001b[0mo2\u001b[0m\u001b[0;34m=\u001b[0m\u001b[0mc1\u001b[0m\u001b[0;34m(\u001b[0m\u001b[0;36m100\u001b[0m\u001b[0;34m,\u001b[0m\u001b[0;36m200\u001b[0m\u001b[0;34m)\u001b[0m\u001b[0;34m\u001b[0m\u001b[0m\n\u001b[1;32m     11\u001b[0m \u001b[0;32mprint\u001b[0m \u001b[0mo1\u001b[0m\u001b[0;34m+\u001b[0m\u001b[0mo2\u001b[0m\u001b[0;34m\u001b[0m\u001b[0m\n\u001b[0;32m---> 12\u001b[0;31m \u001b[0;32mfor\u001b[0m \u001b[0mi\u001b[0m \u001b[0;32min\u001b[0m \u001b[0mo1\u001b[0m\u001b[0;34m:\u001b[0m\u001b[0;34m\u001b[0m\u001b[0m\n\u001b[0m\u001b[1;32m     13\u001b[0m     \u001b[0;32mprint\u001b[0m \u001b[0mi\u001b[0m\u001b[0;34m\u001b[0m\u001b[0m\n",
      "\u001b[0;31mTypeError\u001b[0m: iteration over non-sequence"
     ]
    }
   ],
   "source": [
    "class c1:\n",
    "    def __init__(self,a,b):\n",
    "        self.a=a\n",
    "        self.b=b\n",
    "    def get(self):\n",
    "        return self.a, self.b\n",
    "    def __add__(self1,self2):\n",
    "        return self1.a+self2.a, self1.b+self2.b\n",
    "o1=c1(10,20)\n",
    "o2=c1(100,200)\n",
    "print o1+o2\n",
    "for i in o1:\n",
    "    print i"
   ]
  },
  {
   "cell_type": "code",
   "execution_count": 35,
   "metadata": {},
   "outputs": [
    {
     "name": "stdout",
     "output_type": "stream",
     "text": [
      "(110, 220)\n",
      "{'a': 10, 'b': 20}\n"
     ]
    },
    {
     "ename": "TypeError",
     "evalue": "iteration over non-sequence",
     "output_type": "error",
     "traceback": [
      "\u001b[0;31m---------------------------------------------------------------------------\u001b[0m",
      "\u001b[0;31mTypeError\u001b[0m                                 Traceback (most recent call last)",
      "\u001b[0;32m<ipython-input-35-4b7a1c1d2c08>\u001b[0m in \u001b[0;36m<module>\u001b[0;34m()\u001b[0m\n\u001b[1;32m     11\u001b[0m \u001b[0;32mprint\u001b[0m \u001b[0mo1\u001b[0m\u001b[0;34m+\u001b[0m\u001b[0mo2\u001b[0m\u001b[0;34m\u001b[0m\u001b[0m\n\u001b[1;32m     12\u001b[0m \u001b[0;32mprint\u001b[0m \u001b[0mo1\u001b[0m\u001b[0;34m.\u001b[0m\u001b[0m__dict__\u001b[0m\u001b[0;34m\u001b[0m\u001b[0m\n\u001b[0;32m---> 13\u001b[0;31m \u001b[0;32mfor\u001b[0m \u001b[0mi\u001b[0m \u001b[0;32min\u001b[0m \u001b[0mo1\u001b[0m\u001b[0;34m:\u001b[0m\u001b[0;34m\u001b[0m\u001b[0m\n\u001b[0m\u001b[1;32m     14\u001b[0m     \u001b[0;32mprint\u001b[0m \u001b[0mi\u001b[0m\u001b[0;34m\u001b[0m\u001b[0m\n",
      "\u001b[0;31mTypeError\u001b[0m: iteration over non-sequence"
     ]
    }
   ],
   "source": [
    "class c1:\n",
    "    def __init__(self,a,b):\n",
    "        self.a=a\n",
    "        self.b=b\n",
    "    def get(self):\n",
    "        return self.a, self.b\n",
    "    def __add__(self1,self2):\n",
    "        return self1.a+self2.a, self1.b+self2.b\n",
    "o1=c1(10,20)\n",
    "o2=c1(100,200)\n",
    "print o1+o2\n",
    "print o1.__dict__\n",
    "for i in o1:\n",
    "    print i"
   ]
  },
  {
   "cell_type": "code",
   "execution_count": 36,
   "metadata": {},
   "outputs": [
    {
     "name": "stdout",
     "output_type": "stream",
     "text": [
      "(110, 220)\n",
      "{'a': 10, 'b': 20}\n",
      "0\n",
      "1\n",
      "2\n",
      "3\n",
      "4\n",
      "5\n",
      "6\n",
      "7\n",
      "8\n",
      "9\n"
     ]
    }
   ],
   "source": [
    "class c1:\n",
    "    def __init__(self,a,b):\n",
    "        self.a=a\n",
    "        self.b=b\n",
    "    def get(self):\n",
    "        return self.a, self.b\n",
    "    def __add__(self1,self2):\n",
    "        return self1.a+self2.a, self1.b+self2.b\n",
    "    def __iter__(self):\n",
    "        for i in range(10):\n",
    "            yield i\n",
    "o1=c1(10,20)\n",
    "o2=c1(100,200)\n",
    "print o1+o2\n",
    "print o1.__dict__\n",
    "for i in o1:\n",
    "    print i"
   ]
  },
  {
   "cell_type": "code",
   "execution_count": 38,
   "metadata": {},
   "outputs": [
    {
     "name": "stdout",
     "output_type": "stream",
     "text": [
      "(110, 220)\n",
      "{'a': 10, 'b': 20}\n",
      "('a', 10)\n",
      "('b', 20)\n"
     ]
    }
   ],
   "source": [
    "class c1:\n",
    "    def __init__(self,a,b):\n",
    "        self.a=a\n",
    "        self.b=b\n",
    "    def get(self):\n",
    "        return self.a, self.b\n",
    "    def __add__(self1,self2):\n",
    "        return self1.a+self2.a, self1.b+self2.b\n",
    "    def __iter__(self):\n",
    "        for i in self.__dict__.viewitems():\n",
    "            yield i\n",
    "o1=c1(10,20)\n",
    "o2=c1(100,200)\n",
    "print o1+o2\n",
    "print o1.__dict__\n",
    "for i in o1:\n",
    "    print i"
   ]
  },
  {
   "cell_type": "code",
   "execution_count": 39,
   "metadata": {},
   "outputs": [
    {
     "name": "stdout",
     "output_type": "stream",
     "text": [
      "(110, 220)\n",
      "{'a': 10, 'b': 20}\n",
      "10\n",
      "20\n"
     ]
    }
   ],
   "source": [
    "class c1:\n",
    "    def __init__(self,a,b):\n",
    "        self.a=a\n",
    "        self.b=b\n",
    "    def get(self):\n",
    "        return self.a, self.b\n",
    "    def __add__(self1,self2):\n",
    "        return self1.a+self2.a, self1.b+self2.b\n",
    "    def __iter__(self):\n",
    "        for k,v in self.__dict__.viewitems():\n",
    "            yield v\n",
    "o1=c1(10,20)\n",
    "o2=c1(100,200)\n",
    "print o1+o2\n",
    "print o1.__dict__\n",
    "for i in o1:\n",
    "    print i"
   ]
  },
  {
   "cell_type": "code",
   "execution_count": 40,
   "metadata": {},
   "outputs": [
    {
     "name": "stdout",
     "output_type": "stream",
     "text": [
      "(110, 220)\n",
      "{'a': 10, 'b': 20}\n",
      "10\n",
      "20\n"
     ]
    }
   ],
   "source": [
    "class c1:\n",
    "    def __init__(self,a,b):\n",
    "        self.a=a\n",
    "        self.b=b\n",
    "    def get(self):\n",
    "        return self.a, self.b\n",
    "    def __add__(self1,self2):\n",
    "        return self1.a+self2.a, self1.b+self2.b\n",
    "    def __iter__(self):\n",
    "        for k,v in self.__dict__.viewitems():\n",
    "            yield v\n",
    "o1=c1(10,20)\n",
    "o2=c1(100,200)\n",
    "print o1+o2\n",
    "print o1.__dict__\n",
    "res=o1.__iter__()\n",
    "for i in res:\n",
    "    print i"
   ]
  },
  {
   "cell_type": "code",
   "execution_count": 41,
   "metadata": {},
   "outputs": [
    {
     "name": "stdout",
     "output_type": "stream",
     "text": [
      "(110, 220)\n",
      "{'a': 10, 'b': 20}\n",
      "10\n",
      "20\n",
      "10\n",
      "20\n"
     ]
    }
   ],
   "source": [
    "class c1:\n",
    "    def __init__(self,a,b):\n",
    "        self.a=a\n",
    "        self.b=b\n",
    "    def get(self):\n",
    "        return self.a, self.b\n",
    "    def __add__(self1,self2):\n",
    "        return self1.a+self2.a, self1.b+self2.b\n",
    "    def __iter__(self):\n",
    "        for k,v in self.__dict__.viewitems():\n",
    "            yield v\n",
    "o1=c1(10,20)\n",
    "o2=c1(100,200)\n",
    "print o1+o2\n",
    "print o1.__dict__\n",
    "res=o1.__iter__()\n",
    "for i in res:\n",
    "    print i\n",
    "for i in o1:\n",
    "    print i"
   ]
  },
  {
   "cell_type": "code",
   "execution_count": 42,
   "metadata": {},
   "outputs": [
    {
     "name": "stdout",
     "output_type": "stream",
     "text": [
      "(110, 220)\n",
      "{'a': 10, 'b': 20}\n",
      "('a', 10)\n",
      "('b', 20)\n",
      "('a', 10)\n",
      "('b', 20)\n"
     ]
    }
   ],
   "source": [
    "class c1:\n",
    "    def __init__(self,a,b):\n",
    "        self.a=a\n",
    "        self.b=b\n",
    "    def get(self):\n",
    "        return self.a, self.b\n",
    "    def __add__(self1,self2):\n",
    "        return self1.a+self2.a, self1.b+self2.b\n",
    "    def __iter__(self):\n",
    "        for k,v in self.__dict__.viewitems():\n",
    "            yield k,v\n",
    "o1=c1(10,20)\n",
    "o2=c1(100,200)\n",
    "print o1+o2\n",
    "print o1.__dict__\n",
    "res=o1.__iter__()\n",
    "for i in res:\n",
    "    print i\n",
    "for i in o1:\n",
    "    print i"
   ]
  },
  {
   "cell_type": "code",
   "execution_count": 44,
   "metadata": {},
   "outputs": [
    {
     "name": "stdout",
     "output_type": "stream",
     "text": [
      "{'a': 100, 'c': 300, 'b': 200, 'e': 500, 'd': 400}\n",
      "{'a': 10, 'c': 30, 'b': 20, 'e': 50, 'd': 40}\n"
     ]
    }
   ],
   "source": [
    "class c1:\n",
    "    def __init__(self,a,b,c,d,e):\n",
    "        self.a=a\n",
    "        self.b=b\n",
    "        self.c=c\n",
    "        self.d=d\n",
    "        self.e=e\n",
    "o1=c1(100,200,300,400,500)\n",
    "o2=c1(10,20,30,40,50)\n",
    "print o1.__dict__\n",
    "print o2.__dict__"
   ]
  },
  {
   "cell_type": "code",
   "execution_count": 45,
   "metadata": {},
   "outputs": [
    {
     "name": "stdout",
     "output_type": "stream",
     "text": [
      "{'a': 100, 'c': 300, 'b': 200, 'e': 500, 'd': 400}\n",
      "{'a': 10, 'c': 30, 'b': 20, 'e': 50, 'd': 40}\n",
      "['__doc__', '__init__', '__module__', 'a', 'b', 'c', 'd', 'e']\n"
     ]
    }
   ],
   "source": [
    "class c1:\n",
    "    def __init__(self,a,b,c,d,e):\n",
    "        self.a=a\n",
    "        self.b=b\n",
    "        self.c=c\n",
    "        self.d=d\n",
    "        self.e=e\n",
    "o1=c1(100,200,300,400,500)\n",
    "o2=c1(10,20,30,40,50)\n",
    "print o1.__dict__\n",
    "print o2.__dict__\n",
    "print dir(o1)"
   ]
  },
  {
   "cell_type": "code",
   "execution_count": 48,
   "metadata": {},
   "outputs": [
    {
     "name": "stdout",
     "output_type": "stream",
     "text": [
      "{'a': 100, 'c': 300, 'b': 200, 'e': 500, 'd': 400}\n",
      "{'a': 10, 'c': 30, 'b': 20, 'e': 50, 'd': 40}\n",
      "['__doc__', '__init__', '__module__', 'a', 'b', 'c', 'd', 'e']\n"
     ]
    }
   ],
   "source": [
    "class c1:\n",
    "    def __init__(self,a,b,c,d,e):\n",
    "        self.a=a\n",
    "        self.b=b\n",
    "        self.c=c\n",
    "        self.d=d\n",
    "        self.e=e\n",
    "o1=c1(100,200,300,400,500)\n",
    "o2=c1(10,20,30,40,50)\n",
    "print o1.__dict__\n",
    "print o2.__dict__\n",
    "print dir(o1)"
   ]
  },
  {
   "cell_type": "code",
   "execution_count": 51,
   "metadata": {},
   "outputs": [
    {
     "name": "stdout",
     "output_type": "stream",
     "text": [
      "{'a': 100, 'c': 300, 'b': 200, 'e': 500, 'd': 400}\n",
      "{'a': 10, 'c': 30, 'b': 20, 'e': 50, 'd': 40}\n",
      "['__add__', '__doc__', '__init__', '__module__', 'a', 'b', 'c', 'd', 'e']\n",
      "\n",
      "    doc string of the class\n",
      "    \n"
     ]
    }
   ],
   "source": [
    "class c1:\n",
    "    \"\"\"\n",
    "    doc string of the class\n",
    "    \"\"\"\n",
    "    def __init__(self,a,b,c,d,e):\n",
    "        self.a=a\n",
    "        self.b=b\n",
    "        self.c=c\n",
    "        self.d=d\n",
    "        self.e=e\n",
    "    def __add__(self):\n",
    "        return \"sdsdf\"\n",
    "o1=c1(100,200,300,400,500)\n",
    "o2=c1(10,20,30,40,50)\n",
    "print o1.__dict__\n",
    "print o2.__dict__\n",
    "print dir(o1)\n",
    "print o1.__doc__"
   ]
  },
  {
   "cell_type": "code",
   "execution_count": 52,
   "metadata": {},
   "outputs": [
    {
     "data": {
      "text/plain": [
       "['__add__', '__doc__', '__init__', '__module__']"
      ]
     },
     "execution_count": 52,
     "metadata": {},
     "output_type": "execute_result"
    }
   ],
   "source": [
    "dir(c1)"
   ]
  },
  {
   "cell_type": "code",
   "execution_count": 53,
   "metadata": {},
   "outputs": [
    {
     "name": "stdout",
     "output_type": "stream",
     "text": [
      "fun in c2\n"
     ]
    }
   ],
   "source": [
    "class c1:\n",
    "    def fun(self):\n",
    "        print \"fun in c1\"\n",
    "class c2(c1):\n",
    "    def fun(self):\n",
    "        print \"fun in c2\"\n",
    "o2=c2()\n",
    "o2.fun()"
   ]
  },
  {
   "cell_type": "code",
   "execution_count": 54,
   "metadata": {},
   "outputs": [
    {
     "name": "stdout",
     "output_type": "stream",
     "text": [
      "insert the data\n"
     ]
    }
   ],
   "source": [
    "class c1:\n",
    "    def create(self):\n",
    "        print \"insert the data\"\n",
    "class c2(c1):\n",
    "    pass\n",
    "o2=c2()\n",
    "o2.create()"
   ]
  },
  {
   "cell_type": "code",
   "execution_count": 57,
   "metadata": {},
   "outputs": [
    {
     "name": "stdout",
     "output_type": "stream",
     "text": [
      "verift the data\n",
      "insert the data\n"
     ]
    }
   ],
   "source": [
    "class product:\n",
    "    def create(self):\n",
    "        print \"insert the data\"\n",
    "class sales(product):\n",
    "    def verify_create(self):\n",
    "        print \"verift the data\"\n",
    "        self.create()\n",
    "o2=sales()\n",
    "o2.verify_create()"
   ]
  },
  {
   "cell_type": "code",
   "execution_count": 58,
   "metadata": {},
   "outputs": [
    {
     "name": "stdout",
     "output_type": "stream",
     "text": [
      "verift the data\n",
      "insert the data\n"
     ]
    }
   ],
   "source": [
    "class product:\n",
    "    def create(self):\n",
    "        print \"insert the data\"\n",
    "class sales(product):\n",
    "    def create(self):\n",
    "        print \"verift the data\"\n",
    "        print \"insert the data\"\n",
    "o2=sales()\n",
    "o2.create()"
   ]
  },
  {
   "cell_type": "code",
   "execution_count": 60,
   "metadata": {},
   "outputs": [
    {
     "name": "stdout",
     "output_type": "stream",
     "text": [
      "verift the data\n",
      "insert the data\n"
     ]
    }
   ],
   "source": [
    "class product:\n",
    "    def create(self):\n",
    "        print \"insert the data\"\n",
    "class sales(product):\n",
    "    def create(self):\n",
    "        print \"verift the data\"\n",
    "        #self.create()\n",
    "        product.create(self)\n",
    "o2=sales()\n",
    "o2.create()"
   ]
  },
  {
   "cell_type": "code",
   "execution_count": 1,
   "metadata": {},
   "outputs": [
    {
     "name": "stdout",
     "output_type": "stream",
     "text": [
      "anil\n"
     ]
    }
   ],
   "source": [
    "# method oveloading.\n",
    "class person:\n",
    "    def __init__(self, name):\n",
    "        self.name=name\n",
    "    def get(self):\n",
    "        return self.name\n",
    "p1=person(\"anil\")\n",
    "print p1.get()"
   ]
  },
  {
   "cell_type": "code",
   "execution_count": 2,
   "metadata": {},
   "outputs": [
    {
     "name": "stdout",
     "output_type": "stream",
     "text": [
      "anil\n"
     ]
    },
    {
     "ename": "TypeError",
     "evalue": "__init__() takes exactly 2 arguments (3 given)",
     "output_type": "error",
     "traceback": [
      "\u001b[0;31m---------------------------------------------------------------------------\u001b[0m",
      "\u001b[0;31mTypeError\u001b[0m                                 Traceback (most recent call last)",
      "\u001b[0;32m<ipython-input-2-3a99d544a66f>\u001b[0m in \u001b[0;36m<module>\u001b[0;34m()\u001b[0m\n\u001b[1;32m      7\u001b[0m \u001b[0mp1\u001b[0m\u001b[0;34m=\u001b[0m\u001b[0mperson\u001b[0m\u001b[0;34m(\u001b[0m\u001b[0;34m\"anil\"\u001b[0m\u001b[0;34m)\u001b[0m\u001b[0;34m\u001b[0m\u001b[0m\n\u001b[1;32m      8\u001b[0m \u001b[0;32mprint\u001b[0m \u001b[0mp1\u001b[0m\u001b[0;34m.\u001b[0m\u001b[0mget\u001b[0m\u001b[0;34m(\u001b[0m\u001b[0;34m)\u001b[0m\u001b[0;34m\u001b[0m\u001b[0m\n\u001b[0;32m----> 9\u001b[0;31m \u001b[0mp2\u001b[0m\u001b[0;34m=\u001b[0m\u001b[0mperson\u001b[0m\u001b[0;34m(\u001b[0m\u001b[0;34m\"JAY\"\u001b[0m\u001b[0;34m,\u001b[0m\u001b[0;36m24\u001b[0m\u001b[0;34m)\u001b[0m\u001b[0;34m\u001b[0m\u001b[0m\n\u001b[0m\u001b[1;32m     10\u001b[0m \u001b[0mp2\u001b[0m\u001b[0;34m=\u001b[0m\u001b[0mperson\u001b[0m\u001b[0;34m(\u001b[0m\u001b[0;34m\"Pavan\"\u001b[0m\u001b[0;34m,\u001b[0m\u001b[0;36m25\u001b[0m\u001b[0;34m,\u001b[0m\u001b[0;36m9676622023\u001b[0m\u001b[0;34m)\u001b[0m\u001b[0;34m\u001b[0m\u001b[0m\n\u001b[1;32m     11\u001b[0m \u001b[0mp2\u001b[0m\u001b[0;34m=\u001b[0m\u001b[0mperson\u001b[0m\u001b[0;34m(\u001b[0m\u001b[0;34m\"danush\"\u001b[0m\u001b[0;34m,\u001b[0m\u001b[0;36m26\u001b[0m\u001b[0;34m,\u001b[0m\u001b[0;36m9676622024\u001b[0m\u001b[0;34m,\u001b[0m\u001b[0;34m\"adhar1\"\u001b[0m\u001b[0;34m)\u001b[0m\u001b[0;34m\u001b[0m\u001b[0m\n",
      "\u001b[0;31mTypeError\u001b[0m: __init__() takes exactly 2 arguments (3 given)"
     ]
    }
   ],
   "source": [
    "# method oveloading.\n",
    "class person:\n",
    "    def __init__(self, name):\n",
    "        self.name=name\n",
    "    def get(self):\n",
    "        return self.name\n",
    "p1=person(\"anil\")\n",
    "print p1.get()\n",
    "p2=person(\"JAY\",24)\n",
    "p2=person(\"Pavan\",25,9676622023)\n",
    "p2=person(\"danush\",26,9676622024,\"adhar1\")"
   ]
  },
  {
   "cell_type": "code",
   "execution_count": 3,
   "metadata": {},
   "outputs": [
    {
     "name": "stdout",
     "output_type": "stream",
     "text": [
      "('anil', 0, '', 0)\n"
     ]
    }
   ],
   "source": [
    "# method oveloading.\n",
    "class person:\n",
    "    def __init__(self, name,age=0,phone=0,adhar=\"\"):\n",
    "        self.name=name\n",
    "        self.age=age\n",
    "        self.phone=phone\n",
    "        self.adhar=adhar\n",
    "    def get(self):\n",
    "        return self.name, self.age,self.adhar,self.phone\n",
    "p1=person(\"anil\")\n",
    "print p1.get()\n",
    "p2=person(\"JAY\",24)\n",
    "p2=person(\"Pavan\",25,9676622023)\n",
    "p2=person(\"danush\",26,9676622024,\"adhar1\")"
   ]
  },
  {
   "cell_type": "code",
   "execution_count": 4,
   "metadata": {},
   "outputs": [
    {
     "name": "stdout",
     "output_type": "stream",
     "text": [
      "('anil',)\n",
      "('JAY', 24)\n",
      "('Pavan', 25, 9676622023)\n",
      "('danush', 26, 9676622024, 'adhar1')\n"
     ]
    }
   ],
   "source": [
    "class person:\n",
    "    def __init__(self, *args):\n",
    "        self.context=args\n",
    "    def get(self):\n",
    "        return self.context\n",
    "p1=person(\"anil\")\n",
    "p2=person(\"JAY\",24)\n",
    "p3=person(\"Pavan\",25,9676622023)\n",
    "p4=person(\"danush\",26,9676622024,\"adhar1\")\n",
    "print p1.get()\n",
    "print p2.get()\n",
    "print p3.get()\n",
    "print p4.get()"
   ]
  },
  {
   "cell_type": "code",
   "execution_count": 5,
   "metadata": {},
   "outputs": [
    {
     "name": "stdout",
     "output_type": "stream",
     "text": [
      "{'name': 'anil'}\n",
      "{'age': 24, 'name': 'JAY'}\n",
      "{'phone': 9676622023, 'age': 25, 'name': 'Pavan'}\n",
      "{'phone': 9676622024, 'age': 26, 'adhar': 'adhar1', 'name': 'danush'}\n"
     ]
    }
   ],
   "source": [
    "class person:\n",
    "    def __init__(self, **kwargs):\n",
    "        self.context=kwargs\n",
    "    def get(self):\n",
    "        return self.context\n",
    "p1=person(name=\"anil\")\n",
    "p2=person(name=\"JAY\",age=24)\n",
    "p3=person(name=\"Pavan\",age=25,phone=9676622023)\n",
    "p4=person(name=\"danush\",age=26,phone=9676622024,adhar=\"adhar1\")\n",
    "print p1.get()\n",
    "print p2.get()\n",
    "print p3.get()\n",
    "print p4.get()"
   ]
  },
  {
   "cell_type": "code",
   "execution_count": 6,
   "metadata": {},
   "outputs": [
    {
     "name": "stdout",
     "output_type": "stream",
     "text": [
      "140431059889760\n",
      "this is instance method\n",
      "140431059889760\n",
      "('e1', 23, 'Khyaathi')\n"
     ]
    }
   ],
   "source": [
    "# class method, instance method, static method\n",
    "class Emp:\n",
    "    company=\"Khyaathi\"\n",
    "    def __init__(self,name,age):\n",
    "        self.name=name\n",
    "        self.age=age\n",
    "    def get(self):\n",
    "        print \"this is instance method\"\n",
    "        print id(self)\n",
    "        return self.name, self.age, self.company\n",
    "    @classmethod\n",
    "    def clm(cls):\n",
    "        print \"this is class method\"\n",
    "        print id(cls)\n",
    "    @staticmethod\n",
    "    def sta(a,b):\n",
    "        print \"this is static method\"\n",
    "        print a\n",
    "        print b\n",
    "e1=Emp(\"e1\",23)\n",
    "print id(e1)\n",
    "print e1.get()\n",
    "        "
   ]
  },
  {
   "cell_type": "code",
   "execution_count": 7,
   "metadata": {},
   "outputs": [
    {
     "name": "stdout",
     "output_type": "stream",
     "text": [
      "140431059889544\n",
      "this is instance method\n",
      "140431059889544\n",
      "('e1', 23, 'Khyaathi')\n",
      "this is instance method\n",
      "140431059889544\n",
      "('e1', 23, 'Khyaathi')\n"
     ]
    }
   ],
   "source": [
    "# class method, instance method, static method\n",
    "class Emp:\n",
    "    company=\"Khyaathi\"\n",
    "    def __init__(self,name,age):\n",
    "        self.name=name\n",
    "        self.age=age\n",
    "    def get(self):\n",
    "        print \"this is instance method\"\n",
    "        print id(self)\n",
    "        return self.name, self.age, self.company\n",
    "    @classmethod\n",
    "    def clm(cls):\n",
    "        print \"this is class method\"\n",
    "        print id(cls)\n",
    "    @staticmethod\n",
    "    def sta(a,b):\n",
    "        print \"this is static method\"\n",
    "        print a\n",
    "        print b\n",
    "e1=Emp(\"e1\",23)\n",
    "print id(e1)\n",
    "print e1.get()\n",
    "print Emp.get(e1)\n",
    "        "
   ]
  },
  {
   "cell_type": "code",
   "execution_count": 8,
   "metadata": {},
   "outputs": [
    {
     "name": "stdout",
     "output_type": "stream",
     "text": [
      "id-e1 140431059887528\n",
      "id-Emp 140431059914936\n",
      "this is class method\n",
      "140431059914936\n"
     ]
    }
   ],
   "source": [
    "# class method, instance method, static method\n",
    "class Emp:\n",
    "    company=\"Khyaathi\"\n",
    "    def __init__(self,name,age):\n",
    "        self.name=name\n",
    "        self.age=age\n",
    "    def get(self):\n",
    "        print \"this is instance method\"\n",
    "        print id(self)\n",
    "        return self.name, self.age, self.company\n",
    "    @classmethod\n",
    "    def clm(cls):\n",
    "        print \"this is class method\"\n",
    "        print id(cls)\n",
    "    @staticmethod\n",
    "    def sta(a,b):\n",
    "        print \"this is static method\"\n",
    "        print a\n",
    "        print b\n",
    "e1=Emp(\"e1\",23)\n",
    "print \"id-e1\",id(e1)\n",
    "print \"id-Emp\",id(Emp)\n",
    "e1.clm()"
   ]
  },
  {
   "cell_type": "code",
   "execution_count": 9,
   "metadata": {},
   "outputs": [
    {
     "name": "stdout",
     "output_type": "stream",
     "text": [
      "id-e1 140431059886376\n",
      "id-Emp 140431059915352\n",
      "this is class method\n",
      "140431059915352\n",
      "this is class method\n",
      "140431059915352\n"
     ]
    }
   ],
   "source": [
    "# class method, instance method, static method\n",
    "class Emp:\n",
    "    company=\"Khyaathi\"\n",
    "    def __init__(self,name,age):\n",
    "        self.name=name\n",
    "        self.age=age\n",
    "    def get(self):\n",
    "        print \"this is instance method\"\n",
    "        print id(self)\n",
    "        return self.name, self.age, self.company\n",
    "    @classmethod\n",
    "    def clm(cls):\n",
    "        print \"this is class method\"\n",
    "        print id(cls)\n",
    "    @staticmethod\n",
    "    def sta(a,b):\n",
    "        print \"this is static method\"\n",
    "        print a\n",
    "        print b\n",
    "e1=Emp(\"e1\",23)\n",
    "print \"id-e1\",id(e1)\n",
    "print \"id-Emp\",id(Emp)\n",
    "e1.clm()\n",
    "Emp.clm()"
   ]
  },
  {
   "cell_type": "code",
   "execution_count": 10,
   "metadata": {},
   "outputs": [
    {
     "name": "stdout",
     "output_type": "stream",
     "text": [
      "this is class method\n",
      "140431059915144\n"
     ]
    }
   ],
   "source": [
    "# class method, instance method, static method\n",
    "class Emp:\n",
    "    company=\"Khyaathi\"\n",
    "    def __init__(self,name,age):\n",
    "        self.name=name\n",
    "        self.age=age\n",
    "    def get(self):\n",
    "        print \"this is instance method\"\n",
    "        print id(self)\n",
    "        return self.name, self.age, self.company\n",
    "    @classmethod\n",
    "    def clm(cls):\n",
    "        print \"this is class method\"\n",
    "        print id(cls)\n",
    "    @staticmethod\n",
    "    def sta(a,b):\n",
    "        print \"this is static method\"\n",
    "        print a\n",
    "        print b\n",
    "Emp.clm()"
   ]
  },
  {
   "cell_type": "code",
   "execution_count": 11,
   "metadata": {},
   "outputs": [
    {
     "ename": "TypeError",
     "evalue": "sta() takes exactly 2 arguments (1 given)",
     "output_type": "error",
     "traceback": [
      "\u001b[0;31m---------------------------------------------------------------------------\u001b[0m",
      "\u001b[0;31mTypeError\u001b[0m                                 Traceback (most recent call last)",
      "\u001b[0;32m<ipython-input-11-a936de4feec4>\u001b[0m in \u001b[0;36m<module>\u001b[0;34m()\u001b[0m\n\u001b[1;32m     18\u001b[0m         \u001b[0;32mprint\u001b[0m \u001b[0ma\u001b[0m\u001b[0;34m\u001b[0m\u001b[0m\n\u001b[1;32m     19\u001b[0m         \u001b[0;32mprint\u001b[0m \u001b[0mb\u001b[0m\u001b[0;34m\u001b[0m\u001b[0m\n\u001b[0;32m---> 20\u001b[0;31m \u001b[0mEmp\u001b[0m\u001b[0;34m.\u001b[0m\u001b[0msta\u001b[0m\u001b[0;34m(\u001b[0m\u001b[0;36m10\u001b[0m\u001b[0;34m)\u001b[0m\u001b[0;34m\u001b[0m\u001b[0m\n\u001b[0m",
      "\u001b[0;31mTypeError\u001b[0m: sta() takes exactly 2 arguments (1 given)"
     ]
    }
   ],
   "source": [
    "# class method, instance method, static method\n",
    "class Emp:\n",
    "    company=\"Khyaathi\"\n",
    "    def __init__(self,name,age):\n",
    "        self.name=name\n",
    "        self.age=age\n",
    "    def get(self):\n",
    "        print \"this is instance method\"\n",
    "        print id(self)\n",
    "        return self.name, self.age, self.company\n",
    "    @classmethod\n",
    "    def clm(cls):\n",
    "        print \"this is class method\"\n",
    "        print id(cls)\n",
    "    @staticmethod\n",
    "    def sta(a,b):\n",
    "        print \"this is static method\"\n",
    "        print a\n",
    "        print b\n",
    "Emp.sta(10)"
   ]
  },
  {
   "cell_type": "code",
   "execution_count": 12,
   "metadata": {},
   "outputs": [
    {
     "name": "stdout",
     "output_type": "stream",
     "text": [
      "this is static method\n",
      "10\n",
      "29\n"
     ]
    }
   ],
   "source": [
    "# class method, instance method, static method\n",
    "class Emp:\n",
    "    company=\"Khyaathi\"\n",
    "    def __init__(self,name,age):\n",
    "        self.name=name\n",
    "        self.age=age\n",
    "    def get(self):\n",
    "        print \"this is instance method\"\n",
    "        print id(self)\n",
    "        return self.name, self.age, self.company\n",
    "    @classmethod\n",
    "    def clm(cls):\n",
    "        print \"this is class method\"\n",
    "        print id(cls)\n",
    "    @staticmethod\n",
    "    def sta(a,b):\n",
    "        print \"this is static method\"\n",
    "        print a\n",
    "        print b\n",
    "Emp.sta(10,29)"
   ]
  },
  {
   "cell_type": "code",
   "execution_count": 14,
   "metadata": {},
   "outputs": [
    {
     "name": "stdout",
     "output_type": "stream",
     "text": [
      "this is static method\n",
      "10\n",
      "29\n",
      "this is static method\n",
      "100\n",
      "200\n"
     ]
    }
   ],
   "source": [
    "# class method, instance method, static method\n",
    "class Emp:\n",
    "    company=\"Khyaathi\"\n",
    "    def __init__(self,name,age):\n",
    "        self.name=name\n",
    "        self.age=age\n",
    "    def get(self):\n",
    "        print \"this is instance method\"\n",
    "        print id(self)\n",
    "        return self.name, self.age, self.company\n",
    "    @classmethod\n",
    "    def clm(cls):\n",
    "        print \"this is class method\"\n",
    "        print id(cls)\n",
    "    @staticmethod\n",
    "    def sta(a,b):\n",
    "        print \"this is static method\"\n",
    "        print a\n",
    "        print b\n",
    "e1=Emp(\"e1\",23)\n",
    "Emp.sta(10,29)\n",
    "e1.sta(100,200)"
   ]
  },
  {
   "cell_type": "code",
   "execution_count": 15,
   "metadata": {},
   "outputs": [
    {
     "name": "stdout",
     "output_type": "stream",
     "text": [
      "this is static method\n",
      "10\n",
      "29\n"
     ]
    },
    {
     "ename": "NameError",
     "evalue": "global name 'company' is not defined",
     "output_type": "error",
     "traceback": [
      "\u001b[0;31m---------------------------------------------------------------------------\u001b[0m",
      "\u001b[0;31mNameError\u001b[0m                                 Traceback (most recent call last)",
      "\u001b[0;32m<ipython-input-15-3a6f85ca22a4>\u001b[0m in \u001b[0;36m<module>\u001b[0;34m()\u001b[0m\n\u001b[1;32m     20\u001b[0m         \u001b[0;32mprint\u001b[0m \u001b[0mcompany\u001b[0m\u001b[0;34m\u001b[0m\u001b[0m\n\u001b[1;32m     21\u001b[0m \u001b[0me1\u001b[0m\u001b[0;34m=\u001b[0m\u001b[0mEmp\u001b[0m\u001b[0;34m(\u001b[0m\u001b[0;34m\"e1\"\u001b[0m\u001b[0;34m,\u001b[0m\u001b[0;36m23\u001b[0m\u001b[0;34m)\u001b[0m\u001b[0;34m\u001b[0m\u001b[0m\n\u001b[0;32m---> 22\u001b[0;31m \u001b[0mEmp\u001b[0m\u001b[0;34m.\u001b[0m\u001b[0msta\u001b[0m\u001b[0;34m(\u001b[0m\u001b[0;36m10\u001b[0m\u001b[0;34m,\u001b[0m\u001b[0;36m29\u001b[0m\u001b[0;34m)\u001b[0m\u001b[0;34m\u001b[0m\u001b[0m\n\u001b[0m\u001b[1;32m     23\u001b[0m \u001b[0me1\u001b[0m\u001b[0;34m.\u001b[0m\u001b[0msta\u001b[0m\u001b[0;34m(\u001b[0m\u001b[0;36m100\u001b[0m\u001b[0;34m,\u001b[0m\u001b[0;36m200\u001b[0m\u001b[0;34m)\u001b[0m\u001b[0;34m\u001b[0m\u001b[0m\n",
      "\u001b[0;32m<ipython-input-15-3a6f85ca22a4>\u001b[0m in \u001b[0;36msta\u001b[0;34m(a, b)\u001b[0m\n\u001b[1;32m     18\u001b[0m         \u001b[0;32mprint\u001b[0m \u001b[0ma\u001b[0m\u001b[0;34m\u001b[0m\u001b[0m\n\u001b[1;32m     19\u001b[0m         \u001b[0;32mprint\u001b[0m \u001b[0mb\u001b[0m\u001b[0;34m\u001b[0m\u001b[0m\n\u001b[0;32m---> 20\u001b[0;31m         \u001b[0;32mprint\u001b[0m \u001b[0mcompany\u001b[0m\u001b[0;34m\u001b[0m\u001b[0m\n\u001b[0m\u001b[1;32m     21\u001b[0m \u001b[0me1\u001b[0m\u001b[0;34m=\u001b[0m\u001b[0mEmp\u001b[0m\u001b[0;34m(\u001b[0m\u001b[0;34m\"e1\"\u001b[0m\u001b[0;34m,\u001b[0m\u001b[0;36m23\u001b[0m\u001b[0;34m)\u001b[0m\u001b[0;34m\u001b[0m\u001b[0m\n\u001b[1;32m     22\u001b[0m \u001b[0mEmp\u001b[0m\u001b[0;34m.\u001b[0m\u001b[0msta\u001b[0m\u001b[0;34m(\u001b[0m\u001b[0;36m10\u001b[0m\u001b[0;34m,\u001b[0m\u001b[0;36m29\u001b[0m\u001b[0;34m)\u001b[0m\u001b[0;34m\u001b[0m\u001b[0m\n",
      "\u001b[0;31mNameError\u001b[0m: global name 'company' is not defined"
     ]
    }
   ],
   "source": [
    "# class method, instance method, static method\n",
    "class Emp:\n",
    "    company=\"Khyaathi\"\n",
    "    def __init__(self,name,age):\n",
    "        self.name=name\n",
    "        self.age=age\n",
    "    def get(self):\n",
    "        print \"this is instance method\"\n",
    "        print id(self)\n",
    "        return self.name, self.age, self.company\n",
    "    @classmethod\n",
    "    def clm(cls):\n",
    "        print \"this is class method\"\n",
    "        print id(cls)\n",
    "    @staticmethod\n",
    "    def sta(a,b):\n",
    "        print \"this is static method\"\n",
    "        print a\n",
    "        print b\n",
    "        print company\n",
    "e1=Emp(\"e1\",23)\n",
    "Emp.sta(10,29)\n",
    "e1.sta(100,200)"
   ]
  },
  {
   "cell_type": "code",
   "execution_count": 16,
   "metadata": {},
   "outputs": [
    {
     "name": "stdout",
     "output_type": "stream",
     "text": [
      "this is static method\n",
      "10\n",
      "29\n",
      "Khyaathi\n",
      "this is static method\n",
      "100\n",
      "200\n",
      "Khyaathi\n"
     ]
    }
   ],
   "source": [
    "# class method, instance method, static method\n",
    "class Emp:\n",
    "    company=\"Khyaathi\"\n",
    "    def __init__(self,name,age):\n",
    "        self.name=name\n",
    "        self.age=age\n",
    "    def get(self):\n",
    "        print \"this is instance method\"\n",
    "        print id(self)\n",
    "        return self.name, self.age, self.company\n",
    "    @classmethod\n",
    "    def clm(cls):\n",
    "        print \"this is class method\"\n",
    "        print id(cls)\n",
    "    @staticmethod\n",
    "    def sta(a,b):\n",
    "        print \"this is static method\"\n",
    "        print a\n",
    "        print b\n",
    "        \n",
    "e1=Emp(\"e1\",23)\n",
    "Emp.sta(10,29)\n",
    "e1.sta(100,200)"
   ]
  },
  {
   "cell_type": "code",
   "execution_count": 17,
   "metadata": {},
   "outputs": [
    {
     "name": "stdout",
     "output_type": "stream",
     "text": [
      "this is static method\n",
      "10\n",
      "29\n",
      "this is static method\n",
      "100\n",
      "200\n"
     ]
    }
   ],
   "source": [
    "# class method, instance method, static method\n",
    "class Emp:\n",
    "    company=\"Khyaathi\"\n",
    "    def __init__(self,name,age):\n",
    "        self.name=name\n",
    "        self.age=age\n",
    "    def get(self):\n",
    "        print \"this is instance method\"\n",
    "        print id(self)\n",
    "        return self.name, self.age, self.company\n",
    "    @classmethod\n",
    "    def clm(cls):\n",
    "        print \"this is class method\"\n",
    "        print id(cls)\n",
    "        #Emp.get()\n",
    "    @staticmethod\n",
    "    def sta(a,b):\n",
    "        print \"this is static method\"\n",
    "        print a\n",
    "        print b\n",
    "        \n",
    "e1=Emp(\"e1\",23)\n",
    "Emp.sta(10,29)\n",
    "e1.sta(100,200)"
   ]
  },
  {
   "cell_type": "code",
   "execution_count": 18,
   "metadata": {},
   "outputs": [
    {
     "name": "stdout",
     "output_type": "stream",
     "text": [
      "this is instance method\n",
      "140431059982168\n",
      "('Anil', 23, 'Khyaathi')\n"
     ]
    }
   ],
   "source": [
    "class Emp:\n",
    "    company=\"Khyaathi\"\n",
    "    def __init__(self,name,age):\n",
    "        self.name=name\n",
    "        self.age=age\n",
    "    def get(self):\n",
    "        print \"this is instance method\"\n",
    "        print id(self)\n",
    "        return self.name, self.age, self.company\n",
    "anil=Emp(\"Anil\",23)\n",
    "print anil.get()"
   ]
  },
  {
   "cell_type": "code",
   "execution_count": 19,
   "metadata": {},
   "outputs": [
    {
     "name": "stdout",
     "output_type": "stream",
     "text": [
      "this is instance method\n",
      "140431059982816\n",
      "('Anil', 23, 'Khyaathi')\n"
     ]
    }
   ],
   "source": [
    "class Emp:\n",
    "    company=\"Khyaathi\"\n",
    "    def __init__(self,name,age):\n",
    "        self.name=name\n",
    "        self.age=age\n",
    "    def get(self):\n",
    "        print \"this is instance method\"\n",
    "        print id(self)\n",
    "        return self.name, self.age, self.company\n",
    "\"\"\"\n",
    "while it is executing Emp(\"Anil\",23). Internally it will do some process\n",
    "1. it will call __new__ method first. This new method creates data object and return the data object\n",
    "2. By using the dataobject return by new method, it will call the construtor.\n",
    "3. Later the data object reffer by anil reference\n",
    "\"\"\"\n",
    "anil=Emp(\"Anil\",23)\n",
    "print anil.get()"
   ]
  },
  {
   "cell_type": "code",
   "execution_count": 21,
   "metadata": {},
   "outputs": [
    {
     "name": "stdout",
     "output_type": "stream",
     "text": [
      "None\n",
      "<type 'NoneType'>\n"
     ]
    },
    {
     "ename": "AttributeError",
     "evalue": "'NoneType' object has no attribute 'get'",
     "output_type": "error",
     "traceback": [
      "\u001b[0;31m---------------------------------------------------------------------------\u001b[0m",
      "\u001b[0;31mAttributeError\u001b[0m                            Traceback (most recent call last)",
      "\u001b[0;32m<ipython-input-21-b8dfc00fc91e>\u001b[0m in \u001b[0;36m<module>\u001b[0;34m()\u001b[0m\n\u001b[1;32m     20\u001b[0m \u001b[0;32mprint\u001b[0m \u001b[0manil\u001b[0m\u001b[0;34m\u001b[0m\u001b[0m\n\u001b[1;32m     21\u001b[0m \u001b[0;32mprint\u001b[0m \u001b[0mtype\u001b[0m\u001b[0;34m(\u001b[0m\u001b[0manil\u001b[0m\u001b[0;34m)\u001b[0m\u001b[0;34m\u001b[0m\u001b[0m\n\u001b[0;32m---> 22\u001b[0;31m \u001b[0;32mprint\u001b[0m \u001b[0manil\u001b[0m\u001b[0;34m.\u001b[0m\u001b[0mget\u001b[0m\u001b[0;34m(\u001b[0m\u001b[0;34m)\u001b[0m\u001b[0;34m\u001b[0m\u001b[0m\n\u001b[0m",
      "\u001b[0;31mAttributeError\u001b[0m: 'NoneType' object has no attribute 'get'"
     ]
    }
   ],
   "source": [
    "class Emp(object):\n",
    "    company=\"Khyaathi\"\n",
    "    def __new__(cls,*args):\n",
    "        return None\n",
    "    \n",
    "    def __init__(self,name,age):\n",
    "        self.name=name\n",
    "        self.age=age\n",
    "    def get(self):\n",
    "        print \"this is instance method\"\n",
    "        print id(self)\n",
    "        return self.name, self.age, self.company\n",
    "\"\"\"\n",
    "while it is executing Emp(\"Anil\",23). Internally it will do some process\n",
    "1. it will call __new__ method first. This new method creates data object and return the data object\n",
    "2. By using the dataobject return by new method, it will call the construtor.\n",
    "3. Later the data object reffer by anil reference\n",
    "\"\"\"\n",
    "anil=Emp(\"Anil\",23)\n",
    "print anil\n",
    "print type(anil)\n",
    "print anil.get()"
   ]
  },
  {
   "cell_type": "code",
   "execution_count": 22,
   "metadata": {},
   "outputs": [
    {
     "name": "stdout",
     "output_type": "stream",
     "text": [
      "<__main__.Emp object at 0x7fb8bc07c5d0>\n",
      "<class '__main__.Emp'>\n",
      "this is instance method\n",
      "140431405336016\n",
      "('Anil', 23, 'Khyaathi')\n"
     ]
    },
    {
     "name": "stderr",
     "output_type": "stream",
     "text": [
      "/home/khyaathi-python/anaconda2/lib/python2.7/site-packages/ipykernel_launcher.py:5: DeprecationWarning: object() takes no parameters\n",
      "  \"\"\"\n"
     ]
    }
   ],
   "source": [
    "class Emp(object):\n",
    "    company=\"Khyaathi\"\n",
    "    def __new__(cls,*args):\n",
    "        \"\"\" create data object here\"\"\"\n",
    "        return object.__new__(cls,*args)\n",
    "    \n",
    "    def __init__(self,name,age):\n",
    "        self.name=name\n",
    "        self.age=age\n",
    "    def get(self):\n",
    "        print \"this is instance method\"\n",
    "        print id(self)\n",
    "        return self.name, self.age, self.company\n",
    "\"\"\"\n",
    "while it is executing Emp(\"Anil\",23). Internally it will do some process\n",
    "1. it will call __new__ method first. This new method creates data object and return the data object\n",
    "2. By using the dataobject return by new method, it will call the construtor.\n",
    "3. Later the data object reffer by anil reference\n",
    "\"\"\"\n",
    "anil=Emp(\"Anil\",23)\n",
    "print anil\n",
    "print type(anil)\n",
    "print anil.get()"
   ]
  },
  {
   "cell_type": "code",
   "execution_count": 24,
   "metadata": {},
   "outputs": [
    {
     "name": "stdout",
     "output_type": "stream",
     "text": [
      "<__main__.Emp object at 0x7fb8bc07c650>\n",
      "<class '__main__.Emp'>\n",
      "this is instance method\n",
      "140431405336144\n",
      "('Anil', 23, 'Khyaathi')\n"
     ]
    },
    {
     "name": "stderr",
     "output_type": "stream",
     "text": [
      "/home/khyaathi-python/anaconda2/lib/python2.7/site-packages/ipykernel_launcher.py:5: DeprecationWarning: object() takes no parameters\n",
      "  \"\"\"\n"
     ]
    }
   ],
   "source": [
    "class Emp(object):\n",
    "    company=\"Khyaathi\"\n",
    "    def __new__(cls,*args):\n",
    "        \"\"\" create data object here\"\"\"\n",
    "        return object.__new__(cls,*args)\n",
    "    \n",
    "    def __init__(self,name,age):\n",
    "        self.name=name\n",
    "        self.age=age\n",
    "    def get(self):\n",
    "        print \"this is instance method\"\n",
    "        print id(self)\n",
    "        return self.name, self.age, self.company\n",
    "\"\"\"\n",
    "while it is executing Emp(\"Anil\",23). Internally it will do some process\n",
    "1. it will call __new__ method first. This new method creates data object and return the data object\n",
    "2. By using the dataobject return by new method, it will call the construtor.\n",
    "3. Later the data object reffer by anil reference\n",
    "\"\"\"\n",
    "anil=Emp(\"Anil\",23)\n",
    "print anil\n",
    "print type(anil)\n",
    "print anil.get()\n",
    "anil=Emp(\"Anil\",23)\n",
    "anil=Emp(\"Anil\",23)\n",
    "anil=Emp(\"Anil\",23)\n",
    "anil=Emp(\"Anil\",23)\n",
    "anil=Emp(\"Anil\",23)\n",
    "anil=Emp(\"Anil\",23)\n",
    "anil=Emp(\"Anil\",23)\n",
    "anil=Emp(\"Anil\",23)\n",
    "anil=Emp(\"Anil\",23)"
   ]
  },
  {
   "cell_type": "code",
   "execution_count": 25,
   "metadata": {},
   "outputs": [
    {
     "name": "stdout",
     "output_type": "stream",
     "text": [
      "<__main__.Emp object at 0x7fb8a7725850>\n",
      "<class '__main__.Emp'>\n",
      "this is instance method\n",
      "140431059998800\n",
      "('Anil', 23, 'Khyaathi')\n"
     ]
    },
    {
     "name": "stderr",
     "output_type": "stream",
     "text": [
      "/home/khyaathi-python/anaconda2/lib/python2.7/site-packages/ipykernel_launcher.py:8: DeprecationWarning: object() takes no parameters\n",
      "  \n"
     ]
    },
    {
     "ename": "Exception",
     "evalue": "Can create ob=nly one object",
     "output_type": "error",
     "traceback": [
      "\u001b[0;31m---------------------------------------------------------------------------\u001b[0m",
      "\u001b[0;31mException\u001b[0m                                 Traceback (most recent call last)",
      "\u001b[0;32m<ipython-input-25-623340d6b67a>\u001b[0m in \u001b[0;36m<module>\u001b[0;34m()\u001b[0m\n\u001b[1;32m     27\u001b[0m \u001b[0;32mprint\u001b[0m \u001b[0mtype\u001b[0m\u001b[0;34m(\u001b[0m\u001b[0manil\u001b[0m\u001b[0;34m)\u001b[0m\u001b[0;34m\u001b[0m\u001b[0m\n\u001b[1;32m     28\u001b[0m \u001b[0;32mprint\u001b[0m \u001b[0manil\u001b[0m\u001b[0;34m.\u001b[0m\u001b[0mget\u001b[0m\u001b[0;34m(\u001b[0m\u001b[0;34m)\u001b[0m\u001b[0;34m\u001b[0m\u001b[0m\n\u001b[0;32m---> 29\u001b[0;31m \u001b[0manil\u001b[0m\u001b[0;34m=\u001b[0m\u001b[0mEmp\u001b[0m\u001b[0;34m(\u001b[0m\u001b[0;34m\"Anil\"\u001b[0m\u001b[0;34m,\u001b[0m\u001b[0;36m23\u001b[0m\u001b[0;34m)\u001b[0m\u001b[0;34m\u001b[0m\u001b[0m\n\u001b[0m\u001b[1;32m     30\u001b[0m \u001b[0manil\u001b[0m\u001b[0;34m=\u001b[0m\u001b[0mEmp\u001b[0m\u001b[0;34m(\u001b[0m\u001b[0;34m\"Anil\"\u001b[0m\u001b[0;34m,\u001b[0m\u001b[0;36m23\u001b[0m\u001b[0;34m)\u001b[0m\u001b[0;34m\u001b[0m\u001b[0m\n\u001b[1;32m     31\u001b[0m \u001b[0manil\u001b[0m\u001b[0;34m=\u001b[0m\u001b[0mEmp\u001b[0m\u001b[0;34m(\u001b[0m\u001b[0;34m\"Anil\"\u001b[0m\u001b[0;34m,\u001b[0m\u001b[0;36m23\u001b[0m\u001b[0;34m)\u001b[0m\u001b[0;34m\u001b[0m\u001b[0m\n",
      "\u001b[0;32m<ipython-input-25-623340d6b67a>\u001b[0m in \u001b[0;36m__new__\u001b[0;34m(cls, *args)\u001b[0m\n\u001b[1;32m      8\u001b[0m             \u001b[0;32mreturn\u001b[0m \u001b[0mobject\u001b[0m\u001b[0;34m.\u001b[0m\u001b[0m__new__\u001b[0m\u001b[0;34m(\u001b[0m\u001b[0mcls\u001b[0m\u001b[0;34m,\u001b[0m\u001b[0;34m*\u001b[0m\u001b[0margs\u001b[0m\u001b[0;34m)\u001b[0m\u001b[0;34m\u001b[0m\u001b[0m\n\u001b[1;32m      9\u001b[0m         \u001b[0;32melse\u001b[0m\u001b[0;34m:\u001b[0m\u001b[0;34m\u001b[0m\u001b[0m\n\u001b[0;32m---> 10\u001b[0;31m             \u001b[0;32mraise\u001b[0m \u001b[0mException\u001b[0m\u001b[0;34m(\u001b[0m\u001b[0;34m\"Can create ob=nly one object\"\u001b[0m\u001b[0;34m)\u001b[0m\u001b[0;34m\u001b[0m\u001b[0m\n\u001b[0m\u001b[1;32m     11\u001b[0m \u001b[0;34m\u001b[0m\u001b[0m\n\u001b[1;32m     12\u001b[0m     \u001b[0;32mdef\u001b[0m \u001b[0m__init__\u001b[0m\u001b[0;34m(\u001b[0m\u001b[0mself\u001b[0m\u001b[0;34m,\u001b[0m\u001b[0mname\u001b[0m\u001b[0;34m,\u001b[0m\u001b[0mage\u001b[0m\u001b[0;34m)\u001b[0m\u001b[0;34m:\u001b[0m\u001b[0;34m\u001b[0m\u001b[0m\n",
      "\u001b[0;31mException\u001b[0m: Can create ob=nly one object"
     ]
    }
   ],
   "source": [
    "class Emp(object):\n",
    "    company=\"Khyaathi\"\n",
    "    count=0\n",
    "    def __new__(cls,*args):\n",
    "        \"\"\" create data object here\"\"\"\n",
    "        if cls.count==0:\n",
    "            cls.count=cls.count+1\n",
    "            return object.__new__(cls,*args)\n",
    "        else:\n",
    "            raise Exception(\"Can create only one object\")\n",
    "    \n",
    "    def __init__(self,name,age):\n",
    "        self.name=name\n",
    "        self.age=age\n",
    "    def get(self):\n",
    "        print \"this is instance method\"\n",
    "        print id(self)\n",
    "        return self.name, self.age, self.company\n",
    "\"\"\"\n",
    "while it is executing Emp(\"Anil\",23). Internally it will do some process\n",
    "1. it will call __new__ method first. This new method creates data object and return the data object\n",
    "2. By using the dataobject return by new method, it will call the construtor.\n",
    "3. Later the data object reffer by anil reference\n",
    "\"\"\"\n",
    "anil=Emp(\"Anil\",23)\n",
    "print anil\n",
    "print type(anil)\n",
    "print anil.get()\n",
    "anil=Emp(\"Anil\",23)\n",
    "anil=Emp(\"Anil\",23)\n",
    "anil=Emp(\"Anil\",23)\n",
    "anil=Emp(\"Anil\",23)\n",
    "anil=Emp(\"Anil\",23)\n",
    "anil=Emp(\"Anil\",23)\n",
    "anil=Emp(\"Anil\",23)\n",
    "anil=Emp(\"Anil\",23)\n",
    "anil=Emp(\"Anil\",23)"
   ]
  },
  {
   "cell_type": "code",
   "execution_count": 26,
   "metadata": {},
   "outputs": [
    {
     "name": "stderr",
     "output_type": "stream",
     "text": [
      "/home/khyaathi-python/anaconda2/lib/python2.7/site-packages/ipykernel_launcher.py:7: DeprecationWarning: object() takes no parameters\n",
      "  import sys\n"
     ]
    }
   ],
   "source": [
    "class Emp(object):\n",
    "    count=0\n",
    "    def __new__(cls,*args):\n",
    "        \"\"\" create data object here\"\"\"\n",
    "        if cls.count==0:\n",
    "            cls.count=cls.count+1\n",
    "            return object.__new__(cls,*args)\n",
    "        else:\n",
    "            raise Exception(\"Can create only one object\")\n",
    "    \n",
    "    def __init__(self,name,age):\n",
    "        self.name=name\n",
    "        self.age=age\n",
    "anil=Emp(\"Anil\",23)\n",
    "\n"
   ]
  },
  {
   "cell_type": "code",
   "execution_count": 27,
   "metadata": {},
   "outputs": [
    {
     "name": "stderr",
     "output_type": "stream",
     "text": [
      "/home/khyaathi-python/anaconda2/lib/python2.7/site-packages/ipykernel_launcher.py:7: DeprecationWarning: object() takes no parameters\n",
      "  import sys\n"
     ]
    },
    {
     "ename": "Exception",
     "evalue": "Can create only one object",
     "output_type": "error",
     "traceback": [
      "\u001b[0;31m---------------------------------------------------------------------------\u001b[0m",
      "\u001b[0;31mException\u001b[0m                                 Traceback (most recent call last)",
      "\u001b[0;32m<ipython-input-27-11932ad4eacd>\u001b[0m in \u001b[0;36m<module>\u001b[0;34m()\u001b[0m\n\u001b[1;32m     13\u001b[0m         \u001b[0mself\u001b[0m\u001b[0;34m.\u001b[0m\u001b[0mage\u001b[0m\u001b[0;34m=\u001b[0m\u001b[0mage\u001b[0m\u001b[0;34m\u001b[0m\u001b[0m\n\u001b[1;32m     14\u001b[0m \u001b[0manil\u001b[0m\u001b[0;34m=\u001b[0m\u001b[0mEmp\u001b[0m\u001b[0;34m(\u001b[0m\u001b[0;34m\"Anil\"\u001b[0m\u001b[0;34m,\u001b[0m\u001b[0;36m23\u001b[0m\u001b[0;34m)\u001b[0m\u001b[0;34m\u001b[0m\u001b[0m\n\u001b[0;32m---> 15\u001b[0;31m \u001b[0manil2\u001b[0m\u001b[0;34m=\u001b[0m\u001b[0mEmp\u001b[0m\u001b[0;34m(\u001b[0m\u001b[0;34m\"Anil\"\u001b[0m\u001b[0;34m,\u001b[0m\u001b[0;36m23\u001b[0m\u001b[0;34m)\u001b[0m\u001b[0;34m\u001b[0m\u001b[0m\n\u001b[0m",
      "\u001b[0;32m<ipython-input-27-11932ad4eacd>\u001b[0m in \u001b[0;36m__new__\u001b[0;34m(cls, *args)\u001b[0m\n\u001b[1;32m      7\u001b[0m             \u001b[0;32mreturn\u001b[0m \u001b[0mobject\u001b[0m\u001b[0;34m.\u001b[0m\u001b[0m__new__\u001b[0m\u001b[0;34m(\u001b[0m\u001b[0mcls\u001b[0m\u001b[0;34m,\u001b[0m\u001b[0;34m*\u001b[0m\u001b[0margs\u001b[0m\u001b[0;34m)\u001b[0m\u001b[0;34m\u001b[0m\u001b[0m\n\u001b[1;32m      8\u001b[0m         \u001b[0;32melse\u001b[0m\u001b[0;34m:\u001b[0m\u001b[0;34m\u001b[0m\u001b[0m\n\u001b[0;32m----> 9\u001b[0;31m             \u001b[0;32mraise\u001b[0m \u001b[0mException\u001b[0m\u001b[0;34m(\u001b[0m\u001b[0;34m\"Can create only one object\"\u001b[0m\u001b[0;34m)\u001b[0m\u001b[0;34m\u001b[0m\u001b[0m\n\u001b[0m\u001b[1;32m     10\u001b[0m \u001b[0;34m\u001b[0m\u001b[0m\n\u001b[1;32m     11\u001b[0m     \u001b[0;32mdef\u001b[0m \u001b[0m__init__\u001b[0m\u001b[0;34m(\u001b[0m\u001b[0mself\u001b[0m\u001b[0;34m,\u001b[0m\u001b[0mname\u001b[0m\u001b[0;34m,\u001b[0m\u001b[0mage\u001b[0m\u001b[0;34m)\u001b[0m\u001b[0;34m:\u001b[0m\u001b[0;34m\u001b[0m\u001b[0m\n",
      "\u001b[0;31mException\u001b[0m: Can create only one object"
     ]
    }
   ],
   "source": [
    "# singleton\n",
    "class Emp(object):\n",
    "    count=0\n",
    "    def __new__(cls,*args):\n",
    "        \"\"\" create data object here\"\"\"\n",
    "        if cls.count==0:\n",
    "            cls.count=cls.count+1\n",
    "            return object.__new__(cls,*args)\n",
    "        else:\n",
    "            raise Exception(\"Can create only one object\")\n",
    "    \n",
    "    def __init__(self,name,age):\n",
    "        self.name=name\n",
    "        self.age=age\n",
    "anil=Emp(\"Anil\",23)\n",
    "anil2=Emp(\"Anil\",23)\n"
   ]
  },
  {
   "cell_type": "code",
   "execution_count": null,
   "metadata": {
    "collapsed": true
   },
   "outputs": [],
   "source": []
  }
 ],
 "metadata": {
  "kernelspec": {
   "display_name": "Python 2",
   "language": "python",
   "name": "python2"
  },
  "language_info": {
   "codemirror_mode": {
    "name": "ipython",
    "version": 2
   },
   "file_extension": ".py",
   "mimetype": "text/x-python",
   "name": "python",
   "nbconvert_exporter": "python",
   "pygments_lexer": "ipython2",
   "version": "2.7.14"
  }
 },
 "nbformat": 4,
 "nbformat_minor": 2
}
