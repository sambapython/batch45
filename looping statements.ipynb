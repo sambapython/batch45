{
 "cells": [
  {
   "cell_type": "code",
   "execution_count": 2,
   "metadata": {},
   "outputs": [
    {
     "name": "stdout",
     "output_type": "stream",
     "text": [
      "program started\n",
      "enter s value:abcd\n",
      "a\n",
      "b\n",
      "c\n",
      "d\n",
      "program ended\n"
     ]
    }
   ],
   "source": [
    "print \"program started\"\n",
    "s=raw_input(\"enter s value:\")\n",
    "for i in s:\n",
    "    if i==\" \":\n",
    "        break\n",
    "    print i\n",
    "print \"program ended\""
   ]
  },
  {
   "cell_type": "code",
   "execution_count": 3,
   "metadata": {},
   "outputs": [
    {
     "name": "stdout",
     "output_type": "stream",
     "text": [
      "program started\n",
      "enter s value:a b c\n",
      "a\n",
      "program ended\n"
     ]
    }
   ],
   "source": [
    "print \"program started\"\n",
    "s=raw_input(\"enter s value:\")\n",
    "for i in s:\n",
    "    if i==\" \":\n",
    "        break\n",
    "    print i\n",
    "print \"program ended\""
   ]
  },
  {
   "cell_type": "code",
   "execution_count": 4,
   "metadata": {},
   "outputs": [
    {
     "name": "stdout",
     "output_type": "stream",
     "text": [
      "program started\n",
      "enter s value:a b c\n",
      "a\n",
      "program ended\n"
     ]
    }
   ],
   "source": [
    "print \"program started\"\n",
    "s=raw_input(\"enter s value:\")\n",
    "for i in s:\n",
    "    if i==\" \":\n",
    "        break\n",
    "    print i\n",
    "else:\n",
    "    print \"this is else block\"\n",
    "print \"program ended\""
   ]
  },
  {
   "cell_type": "code",
   "execution_count": 5,
   "metadata": {},
   "outputs": [
    {
     "name": "stdout",
     "output_type": "stream",
     "text": [
      "program started\n",
      "enter s value:abcd\n",
      "a\n",
      "b\n",
      "c\n",
      "d\n",
      "this is else block\n",
      "program ended\n"
     ]
    }
   ],
   "source": [
    "print \"program started\"\n",
    "s=raw_input(\"enter s value:\")\n",
    "for i in s:\n",
    "    if i==\" \":\n",
    "        break\n",
    "    print i\n",
    "else:\n",
    "    print \"this is else block\"\n",
    "print \"program ended\""
   ]
  },
  {
   "cell_type": "code",
   "execution_count": null,
   "metadata": {
    "collapsed": true
   },
   "outputs": [],
   "source": [
    "# take a number from the user and decide whether it is prime or not?\n",
    "'''\n",
    "7\n",
    "1,7\n",
    "2,3,4,5,6\n",
    "\n",
    "15\n",
    "1,15\n",
    "2-14\n",
    "'''\n",
    "print \"program started\"\n",
    "num=int(raw_input(\"enter a number:\"))\n",
    "print \"other statements in program\"\n",
    "print \"program ended\""
   ]
  },
  {
   "cell_type": "code",
   "execution_count": 6,
   "metadata": {},
   "outputs": [
    {
     "name": "stdout",
     "output_type": "stream",
     "text": [
      "[1, 2, 3, 4, 5]\n",
      "['a', 'b', 'c', 'd', 'e', 'f', 'g', 'h', 'i', 'j', 'k', 'l']\n"
     ]
    }
   ],
   "source": [
    "l=[1,2,3,4,5]\n",
    "l1=list(\"abcdefghijkl\")\n",
    "print l\n",
    "print l1"
   ]
  },
  {
   "cell_type": "code",
   "execution_count": 7,
   "metadata": {},
   "outputs": [
    {
     "data": {
      "text/plain": [
       "[0, 1, 2, 3, 4, 5, 6, 7, 8, 9]"
      ]
     },
     "execution_count": 7,
     "metadata": {},
     "output_type": "execute_result"
    }
   ],
   "source": [
    "range(10)"
   ]
  },
  {
   "cell_type": "code",
   "execution_count": 8,
   "metadata": {},
   "outputs": [
    {
     "data": {
      "text/plain": [
       "[5, 6, 7, 8, 9]"
      ]
     },
     "execution_count": 8,
     "metadata": {},
     "output_type": "execute_result"
    }
   ],
   "source": [
    "range(5,10)"
   ]
  },
  {
   "cell_type": "code",
   "execution_count": 9,
   "metadata": {},
   "outputs": [
    {
     "data": {
      "text/plain": [
       "[1, 4, 7, 10, 13, 16, 19]"
      ]
     },
     "execution_count": 9,
     "metadata": {},
     "output_type": "execute_result"
    }
   ],
   "source": [
    "range(1,20,3)"
   ]
  },
  {
   "cell_type": "code",
   "execution_count": 10,
   "metadata": {},
   "outputs": [
    {
     "data": {
      "text/plain": [
       "[1, 5, 9, 13, 17]"
      ]
     },
     "execution_count": 10,
     "metadata": {},
     "output_type": "execute_result"
    }
   ],
   "source": [
    "range(1,20,4)"
   ]
  },
  {
   "cell_type": "code",
   "execution_count": 11,
   "metadata": {},
   "outputs": [
    {
     "ename": "MemoryError",
     "evalue": "",
     "output_type": "error",
     "traceback": [
      "\u001b[0;31m---------------------------------------------------------------------------\u001b[0m",
      "\u001b[0;31mMemoryError\u001b[0m                               Traceback (most recent call last)",
      "\u001b[0;32m<ipython-input-11-8950dd157c1a>\u001b[0m in \u001b[0;36m<module>\u001b[0;34m()\u001b[0m\n\u001b[0;32m----> 1\u001b[0;31m \u001b[0mrange\u001b[0m\u001b[0;34m(\u001b[0m\u001b[0;36m1323456789\u001b[0m\u001b[0;34m)\u001b[0m\u001b[0;34m\u001b[0m\u001b[0m\n\u001b[0m",
      "\u001b[0;31mMemoryError\u001b[0m: "
     ]
    }
   ],
   "source": [
    "range(1323456789)"
   ]
  },
  {
   "cell_type": "code",
   "execution_count": 12,
   "metadata": {},
   "outputs": [
    {
     "data": {
      "text/plain": [
       "xrange(1323456789)"
      ]
     },
     "execution_count": 12,
     "metadata": {},
     "output_type": "execute_result"
    }
   ],
   "source": [
    "xrange(1323456789)"
   ]
  },
  {
   "cell_type": "code",
   "execution_count": 13,
   "metadata": {},
   "outputs": [
    {
     "name": "stdout",
     "output_type": "stream",
     "text": [
      "0\n",
      "1\n",
      "2\n",
      "3\n",
      "4\n",
      "5\n",
      "6\n",
      "7\n",
      "8\n",
      "9\n"
     ]
    }
   ],
   "source": [
    "for i in xrange(10):\n",
    "    print i"
   ]
  },
  {
   "cell_type": "code",
   "execution_count": 14,
   "metadata": {},
   "outputs": [
    {
     "name": "stdout",
     "output_type": "stream",
     "text": [
      "5\n",
      "6\n",
      "7\n",
      "8\n",
      "9\n",
      "10\n",
      "11\n",
      "12\n",
      "13\n",
      "14\n",
      "15\n",
      "16\n",
      "17\n",
      "18\n",
      "19\n"
     ]
    }
   ],
   "source": [
    "for i in xrange(5,20):\n",
    "    print i"
   ]
  },
  {
   "cell_type": "code",
   "execution_count": 15,
   "metadata": {},
   "outputs": [
    {
     "name": "stdout",
     "output_type": "stream",
     "text": [
      "5\n",
      "8\n",
      "11\n",
      "14\n",
      "17\n"
     ]
    }
   ],
   "source": [
    "for i in xrange(5,20,3):\n",
    "    print i"
   ]
  },
  {
   "cell_type": "code",
   "execution_count": 16,
   "metadata": {},
   "outputs": [
    {
     "name": "stdout",
     "output_type": "stream",
     "text": [
      "program started\n",
      "enter a number:7\n",
      "0\n",
      "1\n",
      "2\n",
      "3\n",
      "4\n",
      "5\n",
      "6\n",
      "other statements in program\n",
      "program ended\n"
     ]
    }
   ],
   "source": [
    "# take a number from the user and decide whether it is prime or not?\n",
    "'''\n",
    "7\n",
    "1,7\n",
    "2,3,4,5,6\n",
    "\n",
    "15\n",
    "1,15\n",
    "2-14\n",
    "'''\n",
    "print \"program started\"\n",
    "num=int(raw_input(\"enter a number:\"))\n",
    "for i in range(num):\n",
    "    print i\n",
    "print \"other statements in program\"\n",
    "print \"program ended\""
   ]
  },
  {
   "cell_type": "code",
   "execution_count": 17,
   "metadata": {},
   "outputs": [
    {
     "name": "stdout",
     "output_type": "stream",
     "text": [
      "program started\n",
      "enter a number:15\n",
      "2\n",
      "3\n",
      "4\n",
      "5\n",
      "6\n",
      "7\n",
      "8\n",
      "9\n",
      "10\n",
      "11\n",
      "12\n",
      "13\n",
      "14\n",
      "other statements in program\n",
      "program ended\n"
     ]
    }
   ],
   "source": [
    "# take a number from the user and decide whether it is prime or not?\n",
    "'''\n",
    "7\n",
    "1,7\n",
    "2,3,4,5,6\n",
    "\n",
    "15\n",
    "1,15\n",
    "2-14\n",
    "'''\n",
    "print \"program started\"\n",
    "num=int(raw_input(\"enter a number:\"))\n",
    "for i in xrange(2,num):\n",
    "    print i\n",
    "print \"other statements in program\"\n",
    "print \"program ended\""
   ]
  },
  {
   "cell_type": "code",
   "execution_count": 18,
   "metadata": {},
   "outputs": [
    {
     "name": "stdout",
     "output_type": "stream",
     "text": [
      "program started\n",
      "enter a number:7\n",
      "2\n",
      "3\n",
      "4\n",
      "5\n",
      "6\n",
      "other statements in program\n",
      "program ended\n"
     ]
    }
   ],
   "source": [
    "# take a number from the user and decide whether it is prime or not?\n",
    "'''\n",
    "7\n",
    "1,7\n",
    "2,3,4,5,6\n",
    "\n",
    "15\n",
    "1,15\n",
    "2-14\n",
    "'''\n",
    "print \"program started\"\n",
    "num=int(raw_input(\"enter a number:\"))\n",
    "for i in xrange(2,num):\n",
    "    print i\n",
    "    if num%i==0:\n",
    "        print \"%s, can divide by %s\"%(num,i)\n",
    "print \"other statements in program\"\n",
    "print \"program ended\""
   ]
  },
  {
   "cell_type": "code",
   "execution_count": 19,
   "metadata": {},
   "outputs": [
    {
     "name": "stdout",
     "output_type": "stream",
     "text": [
      "program started\n",
      "enter a number:15\n",
      "2\n",
      "3\n",
      "15, can divide by 3\n",
      "4\n",
      "5\n",
      "15, can divide by 5\n",
      "6\n",
      "7\n",
      "8\n",
      "9\n",
      "10\n",
      "11\n",
      "12\n",
      "13\n",
      "14\n",
      "other statements in program\n",
      "program ended\n"
     ]
    }
   ],
   "source": [
    "# take a number from the user and decide whether it is prime or not?\n",
    "'''\n",
    "7\n",
    "1,7\n",
    "2,3,4,5,6\n",
    "\n",
    "15\n",
    "1,15\n",
    "2-14\n",
    "'''\n",
    "print \"program started\"\n",
    "num=int(raw_input(\"enter a number:\"))\n",
    "for i in xrange(2,num):\n",
    "    print i\n",
    "    if num%i==0:\n",
    "        print \"%s, can divide by %s\"%(num,i)\n",
    "print \"other statements in program\"\n",
    "print \"program ended\""
   ]
  },
  {
   "cell_type": "code",
   "execution_count": 20,
   "metadata": {},
   "outputs": [
    {
     "name": "stdout",
     "output_type": "stream",
     "text": [
      "program started\n",
      "enter a number:7\n",
      "it's a prime number\n",
      "it's a prime number\n",
      "it's a prime number\n",
      "it's a prime number\n",
      "it's a prime number\n",
      "other statements in program\n",
      "program ended\n"
     ]
    }
   ],
   "source": [
    "# take a number from the user and decide whether it is prime or not?\n",
    "'''\n",
    "7\n",
    "1,7\n",
    "2,3,4,5,6\n",
    "\n",
    "15\n",
    "1,15\n",
    "2-14\n",
    "\n",
    "it's a primenumber\n",
    "it's not a prime number\n",
    "'''\n",
    "print \"program started\"\n",
    "num=int(raw_input(\"enter a number:\"))\n",
    "for i in xrange(2,num):\n",
    "    if num%i==0:\n",
    "        print \"%s, can divide by %s\"%(num,i)\n",
    "        print \"it's not a primenumber\"\n",
    "    else:\n",
    "        print \"it's a prime number\"\n",
    "print \"other statements in program\"\n",
    "print \"program ended\""
   ]
  },
  {
   "cell_type": "code",
   "execution_count": 21,
   "metadata": {},
   "outputs": [
    {
     "name": "stdout",
     "output_type": "stream",
     "text": [
      "program started\n",
      "enter a number:20\n",
      "20, can divide by 2\n",
      "it's not a primenumber\n",
      "it's a prime number\n",
      "20, can divide by 4\n",
      "it's not a primenumber\n",
      "20, can divide by 5\n",
      "it's not a primenumber\n",
      "it's a prime number\n",
      "it's a prime number\n",
      "it's a prime number\n",
      "it's a prime number\n",
      "20, can divide by 10\n",
      "it's not a primenumber\n",
      "it's a prime number\n",
      "it's a prime number\n",
      "it's a prime number\n",
      "it's a prime number\n",
      "it's a prime number\n",
      "it's a prime number\n",
      "it's a prime number\n",
      "it's a prime number\n",
      "it's a prime number\n",
      "other statements in program\n",
      "program ended\n"
     ]
    }
   ],
   "source": [
    "# take a number from the user and decide whether it is prime or not?\n",
    "'''\n",
    "7\n",
    "1,7\n",
    "2,3,4,5,6\n",
    "\n",
    "15\n",
    "1,15\n",
    "2-14\n",
    "\n",
    "it's a primenumber\n",
    "it's not a prime number\n",
    "'''\n",
    "print \"program started\"\n",
    "num=int(raw_input(\"enter a number:\"))\n",
    "for i in xrange(2,num):\n",
    "    if num%i==0:\n",
    "        print \"%s, can divide by %s\"%(num,i)\n",
    "        print \"it's not a primenumber\"\n",
    "    else:\n",
    "        print \"it's a prime number\"\n",
    "print \"other statements in program\"\n",
    "print \"program ended\""
   ]
  },
  {
   "cell_type": "code",
   "execution_count": 22,
   "metadata": {},
   "outputs": [
    {
     "name": "stdout",
     "output_type": "stream",
     "text": [
      "program started\n",
      "enter a number:15\n",
      "2\n",
      "other statements in program\n",
      "program ended\n"
     ]
    }
   ],
   "source": [
    "# take a number from the user and decide whether it is prime or not?\n",
    "print \"program started\"\n",
    "num=int(raw_input(\"enter a number:\"))\n",
    "num_factors=0\n",
    "for i in xrange(2,num):\n",
    "    if num%i==0:\n",
    "        num_factors=num_factors+1\n",
    "print num_factors\n",
    "print \"other statements in program\"\n",
    "print \"program ended\""
   ]
  },
  {
   "cell_type": "code",
   "execution_count": 23,
   "metadata": {},
   "outputs": [
    {
     "name": "stdout",
     "output_type": "stream",
     "text": [
      "program started\n",
      "enter a number:7\n",
      "0\n",
      "other statements in program\n",
      "program ended\n"
     ]
    }
   ],
   "source": [
    "# take a number from the user and decide whether it is prime or not?\n",
    "print \"program started\"\n",
    "num=int(raw_input(\"enter a number:\"))\n",
    "num_factors=0\n",
    "for i in xrange(2,num):\n",
    "    if num%i==0:\n",
    "        num_factors=num_factors+1\n",
    "print num_factors\n",
    "print \"other statements in program\"\n",
    "print \"program ended\""
   ]
  },
  {
   "cell_type": "code",
   "execution_count": 24,
   "metadata": {},
   "outputs": [
    {
     "name": "stdout",
     "output_type": "stream",
     "text": [
      "program started\n",
      "enter a number:15\n",
      "it's not a prime number\n",
      "other statements in program\n",
      "program ended\n"
     ]
    }
   ],
   "source": [
    "# take a number from the user and decide whether it is prime or not?\n",
    "print \"program started\"\n",
    "num=int(raw_input(\"enter a number:\"))\n",
    "num_factors=0\n",
    "for i in xrange(2,num):\n",
    "    if num%i==0:\n",
    "        num_factors=num_factors+1\n",
    "if num_factors==0:\n",
    "    print \"it's a prime number\"\n",
    "else:\n",
    "    print \"it's not a prime number\"\n",
    "print \"other statements in program\"\n",
    "print \"program ended\""
   ]
  },
  {
   "cell_type": "code",
   "execution_count": 25,
   "metadata": {},
   "outputs": [
    {
     "name": "stdout",
     "output_type": "stream",
     "text": [
      "program started\n",
      "enter a number:7\n",
      "it's a prime number\n",
      "other statements in program\n",
      "program ended\n"
     ]
    }
   ],
   "source": [
    "# take a number from the user and decide whether it is prime or not?\n",
    "print \"program started\"\n",
    "num=int(raw_input(\"enter a number:\"))\n",
    "num_factors=0\n",
    "for i in xrange(2,num):\n",
    "    if num%i==0:\n",
    "        num_factors=num_factors+1\n",
    "if num_factors==0:\n",
    "    print \"it's a prime number\"\n",
    "else:\n",
    "    print \"it's not a prime number\"\n",
    "print \"other statements in program\"\n",
    "print \"program ended\""
   ]
  },
  {
   "cell_type": "code",
   "execution_count": 26,
   "metadata": {},
   "outputs": [
    {
     "name": "stdout",
     "output_type": "stream",
     "text": [
      "program started\n",
      "enter a number:234567898\n",
      "it's not a prime number\n",
      "other statements in program\n",
      "program ended\n"
     ]
    }
   ],
   "source": [
    "# take a number from the user and decide whether it is prime or not?\n",
    "print \"program started\"\n",
    "num=int(raw_input(\"enter a number:\"))\n",
    "num_factors=0\n",
    "for i in xrange(2,num):\n",
    "    if num%i==0:\n",
    "        num_factors=num_factors+1\n",
    "if num_factors==0:\n",
    "    print \"it's a prime number\"\n",
    "else:\n",
    "    print \"it's not a prime number\"\n",
    "print \"other statements in program\"\n",
    "print \"program ended\""
   ]
  },
  {
   "cell_type": "code",
   "execution_count": 28,
   "metadata": {},
   "outputs": [
    {
     "name": "stdout",
     "output_type": "stream",
     "text": [
      "program started\n",
      "enter a number:12\n",
      "2\n",
      "3\n",
      "4\n",
      "5\n",
      "6\n",
      "7\n",
      "8\n",
      "9\n",
      "10\n",
      "11\n",
      "it's not a prime number\n",
      "other statements in program\n",
      "program ended\n"
     ]
    }
   ],
   "source": [
    "# take a number from the user and decide whether it is prime or not?\n",
    "print \"program started\"\n",
    "num=int(raw_input(\"enter a number:\"))\n",
    "num_factors=0\n",
    "for i in xrange(2,num):\n",
    "    print i\n",
    "    if num%i==0:\n",
    "        num_factors=num_factors+1\n",
    "if num_factors==0:\n",
    "    print \"it's a prime number\"\n",
    "else:\n",
    "    print \"it's not a prime number\"\n",
    "print \"other statements in program\"\n",
    "print \"program ended\""
   ]
  },
  {
   "cell_type": "code",
   "execution_count": 29,
   "metadata": {},
   "outputs": [
    {
     "name": "stdout",
     "output_type": "stream",
     "text": [
      "program started\n",
      "enter a number:12\n",
      "2\n",
      "it's not a prime number\n",
      "other statements in program\n",
      "program ended\n"
     ]
    }
   ],
   "source": [
    "# take a number from the user and decide whether it is prime or not?\n",
    "print \"program started\"\n",
    "num=int(raw_input(\"enter a number:\"))\n",
    "num_factors=0\n",
    "for i in xrange(2,num):\n",
    "    print i\n",
    "    if num%i==0:\n",
    "        num_factors=num_factors+1\n",
    "        break\n",
    "if num_factors==0:\n",
    "    print \"it's a prime number\"\n",
    "else:\n",
    "    print \"it's not a prime number\"\n",
    "print \"other statements in program\"\n",
    "print \"program ended\""
   ]
  },
  {
   "cell_type": "code",
   "execution_count": 30,
   "metadata": {},
   "outputs": [
    {
     "name": "stdout",
     "output_type": "stream",
     "text": [
      "program started\n",
      "enter a number:234567898\n",
      "2\n",
      "it's not a prime number\n",
      "other statements in program\n",
      "program ended\n"
     ]
    }
   ],
   "source": [
    "# take a number from the user and decide whether it is prime or not?\n",
    "print \"program started\"\n",
    "num=int(raw_input(\"enter a number:\"))\n",
    "num_factors=0\n",
    "for i in xrange(2,num):\n",
    "    print i\n",
    "    if num%i==0:\n",
    "        num_factors=num_factors+1\n",
    "        break\n",
    "if num_factors==0:\n",
    "    print \"it's a prime number\"\n",
    "else:\n",
    "    print \"it's not a prime number\"\n",
    "print \"other statements in program\"\n",
    "print \"program ended\""
   ]
  },
  {
   "cell_type": "code",
   "execution_count": 31,
   "metadata": {},
   "outputs": [
    {
     "name": "stdout",
     "output_type": "stream",
     "text": [
      "program started\n",
      "enter a number:1377777777\n",
      "2\n",
      "3\n",
      "it's not a prime number\n",
      "other statements in program\n",
      "program ended\n"
     ]
    }
   ],
   "source": [
    "# take a number from the user and decide whether it is prime or not?\n",
    "print \"program started\"\n",
    "num=int(raw_input(\"enter a number:\"))\n",
    "num_factors=0\n",
    "for i in xrange(2,num):\n",
    "    print i\n",
    "    if num%i==0:\n",
    "        num_factors=num_factors+1\n",
    "        break\n",
    "if num_factors==0:\n",
    "    print \"it's a prime number\"\n",
    "else:\n",
    "    print \"it's not a prime number\"\n",
    "print \"other statements in program\"\n",
    "print \"program ended\""
   ]
  },
  {
   "cell_type": "code",
   "execution_count": 32,
   "metadata": {},
   "outputs": [
    {
     "name": "stdout",
     "output_type": "stream",
     "text": [
      "program started\n",
      "enter a number:1000001\n",
      "2\n",
      "3\n",
      "4\n",
      "5\n",
      "6\n",
      "7\n",
      "8\n",
      "9\n",
      "10\n",
      "11\n",
      "12\n",
      "13\n",
      "14\n",
      "15\n",
      "16\n",
      "17\n",
      "18\n",
      "19\n",
      "20\n",
      "21\n",
      "22\n",
      "23\n",
      "24\n",
      "25\n",
      "26\n",
      "27\n",
      "28\n",
      "29\n",
      "30\n",
      "31\n",
      "32\n",
      "33\n",
      "34\n",
      "35\n",
      "36\n",
      "37\n",
      "38\n",
      "39\n",
      "40\n",
      "41\n",
      "42\n",
      "43\n",
      "44\n",
      "45\n",
      "46\n",
      "47\n",
      "48\n",
      "49\n",
      "50\n",
      "51\n",
      "52\n",
      "53\n",
      "54\n",
      "55\n",
      "56\n",
      "57\n",
      "58\n",
      "59\n",
      "60\n",
      "61\n",
      "62\n",
      "63\n",
      "64\n",
      "65\n",
      "66\n",
      "67\n",
      "68\n",
      "69\n",
      "70\n",
      "71\n",
      "72\n",
      "73\n",
      "74\n",
      "75\n",
      "76\n",
      "77\n",
      "78\n",
      "79\n",
      "80\n",
      "81\n",
      "82\n",
      "83\n",
      "84\n",
      "85\n",
      "86\n",
      "87\n",
      "88\n",
      "89\n",
      "90\n",
      "91\n",
      "92\n",
      "93\n",
      "94\n",
      "95\n",
      "96\n",
      "97\n",
      "98\n",
      "99\n",
      "100\n",
      "101\n",
      "it's not a prime number\n",
      "other statements in program\n",
      "program ended\n"
     ]
    }
   ],
   "source": [
    "# take a number from the user and decide whether it is prime or not?\n",
    "print \"program started\"\n",
    "num=int(raw_input(\"enter a number:\"))\n",
    "num_factors=0\n",
    "for i in xrange(2,num):\n",
    "    print i\n",
    "    if num%i==0:\n",
    "        num_factors=num_factors+1\n",
    "        break\n",
    "if num_factors==0:\n",
    "    print \"it's a prime number\"\n",
    "else:\n",
    "    print \"it's not a prime number\"\n",
    "print \"other statements in program\"\n",
    "print \"program ended\""
   ]
  },
  {
   "cell_type": "code",
   "execution_count": 33,
   "metadata": {},
   "outputs": [
    {
     "name": "stdout",
     "output_type": "stream",
     "text": [
      "program started\n",
      "enter a number:23\n",
      "2\n",
      "3\n",
      "4\n",
      "5\n",
      "6\n",
      "7\n",
      "8\n",
      "9\n",
      "10\n",
      "it's a prime number\n",
      "other statements in program\n",
      "program ended\n"
     ]
    }
   ],
   "source": [
    "# take a number from the user and decide whether it is prime or not?\n",
    "print \"program started\"\n",
    "num=int(raw_input(\"enter a number:\"))\n",
    "num_factors=0\n",
    "for i in xrange(2,num/2):\n",
    "    print i\n",
    "    if num%i==0:\n",
    "        num_factors=num_factors+1\n",
    "        break\n",
    "if num_factors==0:\n",
    "    print \"it's a prime number\"\n",
    "else:\n",
    "    print \"it's not a prime number\"\n",
    "print \"other statements in program\"\n",
    "print \"program ended\""
   ]
  },
  {
   "cell_type": "code",
   "execution_count": 34,
   "metadata": {},
   "outputs": [
    {
     "data": {
      "text/plain": [
       "[1, 2, 3, 4, 5, 6, 7, 8, 9]"
      ]
     },
     "execution_count": 34,
     "metadata": {},
     "output_type": "execute_result"
    }
   ],
   "source": [
    "range(1,10)"
   ]
  },
  {
   "cell_type": "code",
   "execution_count": 35,
   "metadata": {},
   "outputs": [
    {
     "data": {
      "text/plain": [
       "[2, 6, 10, 14, 18]"
      ]
     },
     "execution_count": 35,
     "metadata": {},
     "output_type": "execute_result"
    }
   ],
   "source": [
    "range(2,20,4)"
   ]
  },
  {
   "cell_type": "code",
   "execution_count": 37,
   "metadata": {},
   "outputs": [
    {
     "ename": "TypeError",
     "evalue": "range() integer step argument expected, got float.",
     "output_type": "error",
     "traceback": [
      "\u001b[0;31m---------------------------------------------------------------------------\u001b[0m",
      "\u001b[0;31mTypeError\u001b[0m                                 Traceback (most recent call last)",
      "\u001b[0;32m<ipython-input-37-5f90256b81d9>\u001b[0m in \u001b[0;36m<module>\u001b[0;34m()\u001b[0m\n\u001b[0;32m----> 1\u001b[0;31m \u001b[0mrange\u001b[0m\u001b[0;34m(\u001b[0m\u001b[0;36m0\u001b[0m\u001b[0;34m,\u001b[0m\u001b[0;36m1\u001b[0m\u001b[0;34m,\u001b[0m\u001b[0;36m0.1\u001b[0m\u001b[0;34m)\u001b[0m\u001b[0;34m\u001b[0m\u001b[0m\n\u001b[0m",
      "\u001b[0;31mTypeError\u001b[0m: range() integer step argument expected, got float."
     ]
    }
   ],
   "source": [
    "range(0,1,0.1)"
   ]
  },
  {
   "cell_type": "code",
   "execution_count": 38,
   "metadata": {},
   "outputs": [
    {
     "ename": "TypeError",
     "evalue": "range() integer end argument expected, got str.",
     "output_type": "error",
     "traceback": [
      "\u001b[0;31m---------------------------------------------------------------------------\u001b[0m",
      "\u001b[0;31mTypeError\u001b[0m                                 Traceback (most recent call last)",
      "\u001b[0;32m<ipython-input-38-1be13b9a583f>\u001b[0m in \u001b[0;36m<module>\u001b[0;34m()\u001b[0m\n\u001b[0;32m----> 1\u001b[0;31m \u001b[0mrange\u001b[0m\u001b[0;34m(\u001b[0m\u001b[0;34m\"a\"\u001b[0m\u001b[0;34m,\u001b[0m\u001b[0;34m\"z\"\u001b[0m\u001b[0;34m)\u001b[0m\u001b[0;34m\u001b[0m\u001b[0m\n\u001b[0m",
      "\u001b[0;31mTypeError\u001b[0m: range() integer end argument expected, got str."
     ]
    }
   ],
   "source": [
    "range(\"a\",\"z\")"
   ]
  },
  {
   "cell_type": "code",
   "execution_count": 40,
   "metadata": {},
   "outputs": [
    {
     "name": "stdout",
     "output_type": "stream",
     "text": [
      "97\n",
      "122\n"
     ]
    }
   ],
   "source": [
    "print ord(\"a\")\n",
    "print ord(\"z\")"
   ]
  },
  {
   "cell_type": "code",
   "execution_count": 41,
   "metadata": {},
   "outputs": [
    {
     "name": "stdout",
     "output_type": "stream",
     "text": [
      "a\n",
      "b\n",
      "c\n",
      "d\n",
      "e\n",
      "f\n",
      "g\n",
      "h\n",
      "i\n",
      "j\n",
      "k\n",
      "l\n",
      "m\n",
      "n\n",
      "o\n",
      "p\n",
      "q\n",
      "r\n",
      "s\n",
      "t\n",
      "u\n",
      "v\n",
      "w\n",
      "x\n",
      "y\n",
      "z\n"
     ]
    }
   ],
   "source": [
    "for i in xrange(97,123):\n",
    "    print chr(i)"
   ]
  },
  {
   "cell_type": "code",
   "execution_count": 42,
   "metadata": {},
   "outputs": [
    {
     "name": "stdout",
     "output_type": "stream",
     "text": [
      "program started\n",
      "enter a number:1\n",
      "it's a prime number\n",
      "other statements in program\n",
      "program ended\n"
     ]
    }
   ],
   "source": [
    "# take a number from the user and decide whether it is prime or not?\n",
    "print \"program started\"\n",
    "num=int(raw_input(\"enter a number:\"))\n",
    "\n",
    "for i in xrange(2,num/2):\n",
    "    print i\n",
    "    if num%i==0:\n",
    "        print \"it's not a prime number\"\n",
    "        break\n",
    "else:\n",
    "    print \"it's a prime number\"\n",
    "print \"other statements in program\"\n",
    "print \"program ended\""
   ]
  },
  {
   "cell_type": "code",
   "execution_count": 43,
   "metadata": {},
   "outputs": [
    {
     "name": "stdout",
     "output_type": "stream",
     "text": [
      "program started\n",
      "enter a number:2\n",
      "Enter number >2\n",
      "other statements in program\n",
      "program ended\n"
     ]
    }
   ],
   "source": [
    "# take a number from the user and decide whether it is prime or not?\n",
    "print \"program started\"\n",
    "num=int(raw_input(\"enter a number:\"))\n",
    "if num>2:\n",
    "    for i in xrange(2,num/2):\n",
    "        print i\n",
    "        if num%i==0:\n",
    "            print \"it's not a prime number\"\n",
    "            break\n",
    "    else:\n",
    "        print \"it's a prime number\"\n",
    "else:\n",
    "    print \"Enter number >2\"\n",
    "print \"other statements in program\"\n",
    "print \"program ended\""
   ]
  },
  {
   "cell_type": "code",
   "execution_count": 44,
   "metadata": {},
   "outputs": [
    {
     "name": "stdout",
     "output_type": "stream",
     "text": [
      "program started\n",
      "enter a number:1\n",
      "Enter number >2\n",
      "other statements in program\n",
      "program ended\n"
     ]
    }
   ],
   "source": [
    "# take a number from the user and decide whether it is prime or not?\n",
    "print \"program started\"\n",
    "num=int(raw_input(\"enter a number:\"))\n",
    "if num>2:\n",
    "    for i in xrange(2,num/2):\n",
    "        print i\n",
    "        if num%i==0:\n",
    "            print \"it's not a prime number\"\n",
    "            break\n",
    "    else:\n",
    "        print \"it's a prime number\"\n",
    "else:\n",
    "    print \"Enter number >2\"\n",
    "print \"other statements in program\"\n",
    "print \"program ended\""
   ]
  },
  {
   "cell_type": "code",
   "execution_count": 46,
   "metadata": {},
   "outputs": [
    {
     "name": "stdout",
     "output_type": "stream",
     "text": [
      "program started\n",
      "enter a number:7\n",
      "it's a prime number\n",
      "other statements in program\n",
      "program ended\n"
     ]
    }
   ],
   "source": [
    "# take a number from the user and decide whether it is prime or not?\n",
    "print \"program started\"\n",
    "num=int(raw_input(\"enter a number:\"))\n",
    "if num>2:\n",
    "    for i in xrange(2,num/2):\n",
    "    \n",
    "        if num%i==0:\n",
    "            print \"it's not a prime number\"\n",
    "            break\n",
    "    else:\n",
    "        print \"it's a prime number\"\n",
    "else:\n",
    "    print \"Enter number >2\"\n",
    "print \"other statements in program\"\n",
    "print \"program ended\""
   ]
  },
  {
   "cell_type": "code",
   "execution_count": 47,
   "metadata": {},
   "outputs": [
    {
     "name": "stdout",
     "output_type": "stream",
     "text": [
      "program started\n",
      "enter a number:2\n",
      "Enter number >2\n",
      "other statements in program\n",
      "program ended\n"
     ]
    }
   ],
   "source": [
    "# take a number from the user and decide whether it is prime or not?\n",
    "print \"program started\"\n",
    "num=int(raw_input(\"enter a number:\"))\n",
    "if num>2:\n",
    "    for i in xrange(2,num/2):\n",
    "    \n",
    "        if num%i==0:\n",
    "            print \"it's not a prime number\"\n",
    "            break\n",
    "    else:\n",
    "        print \"it's a prime number\"\n",
    "else:\n",
    "    print \"Enter number >2\"\n",
    "print \"other statements in program\"\n",
    "print \"program ended\""
   ]
  },
  {
   "cell_type": "code",
   "execution_count": 48,
   "metadata": {},
   "outputs": [
    {
     "name": "stdout",
     "output_type": "stream",
     "text": [
      "program started\n",
      "enter a number:2\n",
      "it's a prime number\n",
      "other statements in program\n",
      "program ended\n"
     ]
    }
   ],
   "source": [
    "# take a number from the user and decide whether it is prime or not?\n",
    "print \"program started\"\n",
    "num=int(raw_input(\"enter a number:\"))\n",
    "if num>=2:\n",
    "    for i in xrange(2,num/2):\n",
    "        if num%i==0:\n",
    "            print \"it's not a prime number\"\n",
    "            break\n",
    "    else:\n",
    "        print \"it's a prime number\"\n",
    "else:\n",
    "    print \"Enter number >2\"\n",
    "print \"other statements in program\"\n",
    "print \"program ended\""
   ]
  },
  {
   "cell_type": "code",
   "execution_count": 49,
   "metadata": {},
   "outputs": [
    {
     "name": "stdout",
     "output_type": "stream",
     "text": [
      "program started\n",
      "enter a number:1\n",
      "Enter number >2\n",
      "other statements in program\n",
      "program ended\n"
     ]
    }
   ],
   "source": [
    "# take a number from the user and decide whether it is prime or not?\n",
    "print \"program started\"\n",
    "num=int(raw_input(\"enter a number:\"))\n",
    "if num>=2:\n",
    "    for i in xrange(2,num/2):\n",
    "        if num%i==0:\n",
    "            print \"it's not a prime number\"\n",
    "            break\n",
    "    else:\n",
    "        print \"it's a prime number\"\n",
    "else:\n",
    "    print \"Enter number >2\"\n",
    "print \"other statements in program\"\n",
    "print \"program ended\""
   ]
  },
  {
   "cell_type": "code",
   "execution_count": 50,
   "metadata": {},
   "outputs": [
    {
     "name": "stdout",
     "output_type": "stream",
     "text": [
      "program started\n",
      "other statements in program\n",
      "program ended\n"
     ]
    }
   ],
   "source": [
    "print \"program started\"\n",
    "def fun():\n",
    "    print \"this is function\"\n",
    "print \"other statements in program\"\n",
    "print \"program ended\""
   ]
  },
  {
   "cell_type": "code",
   "execution_count": null,
   "metadata": {
    "collapsed": true
   },
   "outputs": [],
   "source": [
    "print \"program started\"\n",
    "def fun():\n",
    "    print \"this is function\"\n",
    "    \n",
    "print \"other statements in program\"\n",
    "fun()\n",
    "print \"program ended\"\n",
    "\"\"\"\n",
    "program started\n",
    "\n",
    "program ended\n",
    "\"\"\""
   ]
  },
  {
   "cell_type": "code",
   "execution_count": 51,
   "metadata": {},
   "outputs": [
    {
     "name": "stdout",
     "output_type": "stream",
     "text": [
      "st1\n",
      "st2\n",
      "a=10, b=20\n",
      "program ended\n"
     ]
    }
   ],
   "source": [
    "print \"st1\"\n",
    "a=10\n",
    "b=20\n",
    "print \"st2\"\n",
    "print \"a=%s, b=%s\"%(a,b)\n",
    "print \"program ended\"\n"
   ]
  },
  {
   "cell_type": "code",
   "execution_count": 53,
   "metadata": {},
   "outputs": [
    {
     "name": "stdout",
     "output_type": "stream",
     "text": [
      "program started\n",
      "other statements in program\n",
      "this is function\n",
      "program ended\n"
     ]
    }
   ],
   "source": [
    "print \"program started\"\n",
    "def fun():\n",
    "    print \"this is function\"\n",
    "print \"other statements in program\"\n",
    "fun()\n",
    "print \"program ended\"\n"
   ]
  },
  {
   "cell_type": "code",
   "execution_count": null,
   "metadata": {
    "collapsed": true
   },
   "outputs": [],
   "source": [
    "print \"program started\"\n",
    "def fun():\n",
    "    print \"function started\"\n",
    "    print \"this is function\"\n",
    "    print \"function ended\"\n",
    "print \"other statements in program\"\n",
    "fun()\n",
    "fun()\n",
    "print \"program ended\"\n",
    "fun()\n"
   ]
  },
  {
   "cell_type": "code",
   "execution_count": 54,
   "metadata": {
    "collapsed": true
   },
   "outputs": [],
   "source": [
    "def fun():\n",
    "    print \"function started\"\n",
    "    print \"this is function\"\n",
    "    print \"function ended\""
   ]
  },
  {
   "cell_type": "code",
   "execution_count": 55,
   "metadata": {},
   "outputs": [
    {
     "name": "stdout",
     "output_type": "stream",
     "text": [
      "function started\n",
      "this is function\n",
      "function ended\n"
     ]
    }
   ],
   "source": [
    "fun()"
   ]
  },
  {
   "cell_type": "code",
   "execution_count": 56,
   "metadata": {},
   "outputs": [
    {
     "name": "stdout",
     "output_type": "stream",
     "text": [
      "program started\n",
      "other statements in program\n"
     ]
    }
   ],
   "source": [
    "print \"program started\"\n",
    "def fun():\n",
    "    print \"function started\"\n",
    "    print \"this is function\"\n",
    "    print \"function ended\"\n",
    "print \"other statements in program\""
   ]
  },
  {
   "cell_type": "code",
   "execution_count": 57,
   "metadata": {},
   "outputs": [
    {
     "name": "stdout",
     "output_type": "stream",
     "text": [
      "program started\n",
      "other statements in program\n",
      "function started\n",
      "this is function\n",
      "function ended\n"
     ]
    }
   ],
   "source": [
    "print \"program started\"\n",
    "def fun():\n",
    "    print \"function started\"\n",
    "    print \"this is function\"\n",
    "    print \"function ended\"\n",
    "print \"other statements in program\"\n",
    "fun()"
   ]
  },
  {
   "cell_type": "code",
   "execution_count": 58,
   "metadata": {},
   "outputs": [
    {
     "name": "stdout",
     "output_type": "stream",
     "text": [
      "program started\n",
      "other statements in program\n",
      "function started\n",
      "this is function\n",
      "function ended\n",
      "program ended\n",
      "function started\n",
      "this is function\n",
      "function ended\n"
     ]
    }
   ],
   "source": [
    "print \"program started\"\n",
    "def fun():\n",
    "    print \"function started\"\n",
    "    print \"this is function\"\n",
    "    print \"function ended\"\n",
    "print \"other statements in program\"\n",
    "fun()\n",
    "print \"program ended\"\n",
    "fun()"
   ]
  },
  {
   "cell_type": "code",
   "execution_count": 59,
   "metadata": {},
   "outputs": [
    {
     "name": "stdout",
     "output_type": "stream",
     "text": [
      "program started\n",
      "other statements in program\n",
      "this is function\n",
      "program ended\n",
      "this is function\n"
     ]
    }
   ],
   "source": [
    "print \"program started\"\n",
    "def fun():\n",
    "    \n",
    "    print \"this is function\"\n",
    "  \n",
    "print \"other statements in program\"\n",
    "fun()\n",
    "print \"program ended\"\n",
    "fun()"
   ]
  },
  {
   "cell_type": "code",
   "execution_count": 60,
   "metadata": {},
   "outputs": [
    {
     "name": "stdout",
     "output_type": "stream",
     "text": [
      "\n",
      "1.enter instaock\n",
      "2. Enter out stock\n",
      "3. reports\n",
      "\n"
     ]
    }
   ],
   "source": [
    "print \"\"\"\n",
    "1.enter instaock\n",
    "2. Enter out stock\n",
    "3. reports\n",
    "\"\"\""
   ]
  },
  {
   "cell_type": "code",
   "execution_count": null,
   "metadata": {
    "collapsed": true
   },
   "outputs": [],
   "source": []
  }
 ],
 "metadata": {
  "kernelspec": {
   "display_name": "Python 2",
   "language": "python",
   "name": "python2"
  },
  "language_info": {
   "codemirror_mode": {
    "name": "ipython",
    "version": 2
   },
   "file_extension": ".py",
   "mimetype": "text/x-python",
   "name": "python",
   "nbconvert_exporter": "python",
   "pygments_lexer": "ipython2",
   "version": "2.7.14"
  }
 },
 "nbformat": 4,
 "nbformat_minor": 2
}
