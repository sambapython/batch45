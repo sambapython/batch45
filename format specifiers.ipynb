{
 "cells": [
  {
   "cell_type": "code",
   "execution_count": 1,
   "metadata": {},
   "outputs": [
    {
     "name": "stdout",
     "output_type": "stream",
     "text": [
      "line1\n",
      "line2\n"
     ]
    }
   ],
   "source": [
    "print \"line1\\nline2\""
   ]
  },
  {
   "cell_type": "code",
   "execution_count": 2,
   "metadata": {},
   "outputs": [
    {
     "name": "stdout",
     "output_type": "stream",
     "text": [
      "line1\tline2\n"
     ]
    }
   ],
   "source": [
    "print \"line1\\tline2\""
   ]
  },
  {
   "cell_type": "code",
   "execution_count": 3,
   "metadata": {},
   "outputs": [
    {
     "name": "stdout",
     "output_type": "stream",
     "text": [
      "\n",
      "\n"
     ]
    }
   ],
   "source": [
    "print \"\\n\""
   ]
  },
  {
   "cell_type": "code",
   "execution_count": 4,
   "metadata": {},
   "outputs": [
    {
     "name": "stdout",
     "output_type": "stream",
     "text": [
      "'\n",
      "'\n"
     ]
    }
   ],
   "source": [
    "print \"'\\n'\""
   ]
  },
  {
   "cell_type": "code",
   "execution_count": 5,
   "metadata": {},
   "outputs": [
    {
     "name": "stdout",
     "output_type": "stream",
     "text": [
      "\\n\n"
     ]
    }
   ],
   "source": [
    "print \"\\\\n\""
   ]
  },
  {
   "cell_type": "code",
   "execution_count": 6,
   "metadata": {},
   "outputs": [
    {
     "name": "stdout",
     "output_type": "stream",
     "text": [
      "line1\\nline2\n"
     ]
    }
   ],
   "source": [
    "print \"line1\\\\nline2\""
   ]
  },
  {
   "cell_type": "code",
   "execution_count": 7,
   "metadata": {},
   "outputs": [
    {
     "name": "stdout",
     "output_type": "stream",
     "text": [
      "line1\\tline2\n"
     ]
    }
   ],
   "source": [
    "print \"line1\\\\tline2\""
   ]
  },
  {
   "cell_type": "code",
   "execution_count": 8,
   "metadata": {},
   "outputs": [
    {
     "name": "stdout",
     "output_type": "stream",
     "text": [
      "It's very hot in hyd.\n"
     ]
    }
   ],
   "source": [
    "# It's very hot in hyd.\n",
    "print \"It's very hot in hyd.\""
   ]
  },
  {
   "cell_type": "code",
   "execution_count": 9,
   "metadata": {},
   "outputs": [
    {
     "ename": "SyntaxError",
     "evalue": "invalid syntax (<ipython-input-9-4626463b4071>, line 2)",
     "output_type": "error",
     "traceback": [
      "\u001b[0;36m  File \u001b[0;32m\"<ipython-input-9-4626463b4071>\"\u001b[0;36m, line \u001b[0;32m2\u001b[0m\n\u001b[0;31m    print 'It's very hot in hyd.'\u001b[0m\n\u001b[0m              ^\u001b[0m\n\u001b[0;31mSyntaxError\u001b[0m\u001b[0;31m:\u001b[0m invalid syntax\n"
     ]
    }
   ],
   "source": [
    "# It's very hot in hyd.\n",
    "print 'It's very hot in hyd.'"
   ]
  },
  {
   "cell_type": "code",
   "execution_count": 10,
   "metadata": {},
   "outputs": [
    {
     "name": "stdout",
     "output_type": "stream",
     "text": [
      "It s very hot in hyd.\n"
     ]
    }
   ],
   "source": [
    "# It's very hot in hyd.\n",
    "print 'It','s very hot in hyd.'"
   ]
  },
  {
   "cell_type": "code",
   "execution_count": 11,
   "metadata": {},
   "outputs": [
    {
     "ename": "SyntaxError",
     "evalue": "invalid syntax (<ipython-input-11-4626463b4071>, line 2)",
     "output_type": "error",
     "traceback": [
      "\u001b[0;36m  File \u001b[0;32m\"<ipython-input-11-4626463b4071>\"\u001b[0;36m, line \u001b[0;32m2\u001b[0m\n\u001b[0;31m    print 'It's very hot in hyd.'\u001b[0m\n\u001b[0m              ^\u001b[0m\n\u001b[0;31mSyntaxError\u001b[0m\u001b[0;31m:\u001b[0m invalid syntax\n"
     ]
    }
   ],
   "source": [
    "# It's very hot in hyd.\n",
    "print 'It's very hot in hyd.'"
   ]
  },
  {
   "cell_type": "code",
   "execution_count": 12,
   "metadata": {},
   "outputs": [
    {
     "name": "stdout",
     "output_type": "stream",
     "text": [
      "It's very hot in hyd.\n"
     ]
    }
   ],
   "source": [
    "# It's very hot in hyd.\n",
    "print 'It\\'s very hot in hyd.'"
   ]
  },
  {
   "cell_type": "code",
   "execution_count": 13,
   "metadata": {},
   "outputs": [
    {
     "ename": "SyntaxError",
     "evalue": "EOL while scanning string literal (<ipython-input-13-331057e36fef>, line 2)",
     "output_type": "error",
     "traceback": [
      "\u001b[0;36m  File \u001b[0;32m\"<ipython-input-13-331057e36fef>\"\u001b[0;36m, line \u001b[0;32m2\u001b[0m\n\u001b[0;31m    print 'It\\'s very hot in hyd.\\'\u001b[0m\n\u001b[0m                                  ^\u001b[0m\n\u001b[0;31mSyntaxError\u001b[0m\u001b[0;31m:\u001b[0m EOL while scanning string literal\n"
     ]
    }
   ],
   "source": [
    "# It's very hot in hyd.\n",
    "print 'It\\'s very hot in hyd.\\'"
   ]
  },
  {
   "cell_type": "code",
   "execution_count": 14,
   "metadata": {},
   "outputs": [
    {
     "name": "stdout",
     "output_type": "stream",
     "text": [
      "It's very \"hot\" in hyd.\n"
     ]
    }
   ],
   "source": [
    "# It's very \"hot\" in hyd.\n",
    "print 'It\\'s very \"hot\" in hyd.'"
   ]
  },
  {
   "cell_type": "code",
   "execution_count": 15,
   "metadata": {},
   "outputs": [
    {
     "name": "stdout",
     "output_type": "stream",
     "text": [
      "It's very \"hot\" in hyd.\n"
     ]
    }
   ],
   "source": [
    "# It's very \"hot\" in hyd.\n",
    "print \"It's very \\\"hot\\\" in hyd.\""
   ]
  },
  {
   "cell_type": "code",
   "execution_count": 16,
   "metadata": {},
   "outputs": [
    {
     "ename": "SyntaxError",
     "evalue": "invalid syntax (<ipython-input-16-d90aa9263914>, line 2)",
     "output_type": "error",
     "traceback": [
      "\u001b[0;36m  File \u001b[0;32m\"<ipython-input-16-d90aa9263914>\"\u001b[0;36m, line \u001b[0;32m2\u001b[0m\n\u001b[0;31m    print \"It\\'s very \"hot\" in hyd.\"\u001b[0m\n\u001b[0m                         ^\u001b[0m\n\u001b[0;31mSyntaxError\u001b[0m\u001b[0;31m:\u001b[0m invalid syntax\n"
     ]
    }
   ],
   "source": [
    "# It's very \"hot\" in hyd.\n",
    "print \"It\\'s very \"hot\" in hyd.\""
   ]
  },
  {
   "cell_type": "code",
   "execution_count": 17,
   "metadata": {},
   "outputs": [
    {
     "name": "stdout",
     "output_type": "stream",
     "text": [
      "It's very \"hot\" in hyd.\n"
     ]
    }
   ],
   "source": [
    "# It's very \"hot\" in hyd.\n",
    "print \"It\\'s very \\\"hot\\\" in hyd.\""
   ]
  },
  {
   "cell_type": "code",
   "execution_count": 18,
   "metadata": {},
   "outputs": [
    {
     "ename": "SyntaxError",
     "evalue": "EOL while scanning string literal (<ipython-input-18-b052ae02719b>, line 2)",
     "output_type": "error",
     "traceback": [
      "\u001b[0;36m  File \u001b[0;32m\"<ipython-input-18-b052ae02719b>\"\u001b[0;36m, line \u001b[0;32m2\u001b[0m\n\u001b[0;31m    print \"It\\'s very \"\"hot\" in hyd.\"\u001b[0m\n\u001b[0m                                    ^\u001b[0m\n\u001b[0;31mSyntaxError\u001b[0m\u001b[0;31m:\u001b[0m EOL while scanning string literal\n"
     ]
    }
   ],
   "source": [
    "# It's very \"hot\" in hyd.\n",
    "print \"It\\'s very \"\"hot\" in hyd.\""
   ]
  },
  {
   "cell_type": "code",
   "execution_count": 19,
   "metadata": {},
   "outputs": [
    {
     "name": "stdout",
     "output_type": "stream",
     "text": [
      "hydbang\n"
     ]
    }
   ],
   "source": [
    "print \"hyd\"\"bang\""
   ]
  },
  {
   "cell_type": "code",
   "execution_count": 20,
   "metadata": {},
   "outputs": [
    {
     "ename": "SyntaxError",
     "evalue": "invalid syntax (<ipython-input-20-07d84fca0cad>, line 2)",
     "output_type": "error",
     "traceback": [
      "\u001b[0;36m  File \u001b[0;32m\"<ipython-input-20-07d84fca0cad>\"\u001b[0;36m, line \u001b[0;32m2\u001b[0m\n\u001b[0;31m    print \"hyd\"name\u001b[0m\n\u001b[0m                  ^\u001b[0m\n\u001b[0;31mSyntaxError\u001b[0m\u001b[0;31m:\u001b[0m invalid syntax\n"
     ]
    }
   ],
   "source": [
    "name=\"bang\"\n",
    "print \"hyd\"name"
   ]
  },
  {
   "cell_type": "code",
   "execution_count": 28,
   "metadata": {},
   "outputs": [
    {
     "name": "stdout",
     "output_type": "stream",
     "text": [
      "hydbang\n"
     ]
    }
   ],
   "source": [
    "print \"hyd\"\"bang\""
   ]
  },
  {
   "cell_type": "code",
   "execution_count": 22,
   "metadata": {},
   "outputs": [
    {
     "ename": "SyntaxError",
     "evalue": "invalid syntax (<ipython-input-22-bab8baf86038>, line 1)",
     "output_type": "error",
     "traceback": [
      "\u001b[0;36m  File \u001b[0;32m\"<ipython-input-22-bab8baf86038>\"\u001b[0;36m, line \u001b[0;32m1\u001b[0m\n\u001b[0;31m    print 23 45\u001b[0m\n\u001b[0m              ^\u001b[0m\n\u001b[0;31mSyntaxError\u001b[0m\u001b[0;31m:\u001b[0m invalid syntax\n"
     ]
    }
   ],
   "source": [
    "print 23 45"
   ]
  },
  {
   "cell_type": "code",
   "execution_count": 23,
   "metadata": {},
   "outputs": [
    {
     "name": "stdout",
     "output_type": "stream",
     "text": [
      "2345\n"
     ]
    }
   ],
   "source": [
    "print 2345"
   ]
  },
  {
   "cell_type": "code",
   "execution_count": 24,
   "metadata": {},
   "outputs": [
    {
     "ename": "TypeError",
     "evalue": "list indices must be integers, not tuple",
     "output_type": "error",
     "traceback": [
      "\u001b[0;31m---------------------------------------------------------------------------\u001b[0m",
      "\u001b[0;31mTypeError\u001b[0m                                 Traceback (most recent call last)",
      "\u001b[0;32m<ipython-input-24-0c422ba58b78>\u001b[0m in \u001b[0;36m<module>\u001b[0;34m()\u001b[0m\n\u001b[0;32m----> 1\u001b[0;31m \u001b[0;32mprint\u001b[0m \u001b[0;34m[\u001b[0m\u001b[0;36m1\u001b[0m\u001b[0;34m,\u001b[0m\u001b[0;36m2\u001b[0m\u001b[0;34m,\u001b[0m\u001b[0;36m3\u001b[0m\u001b[0;34m,\u001b[0m\u001b[0;36m45\u001b[0m\u001b[0;34m]\u001b[0m\u001b[0;34m[\u001b[0m\u001b[0;36m1\u001b[0m\u001b[0;34m,\u001b[0m\u001b[0;36m2\u001b[0m\u001b[0;34m,\u001b[0m\u001b[0;36m3\u001b[0m\u001b[0;34m,\u001b[0m\u001b[0;36m45\u001b[0m\u001b[0;34m]\u001b[0m\u001b[0;34m\u001b[0m\u001b[0m\n\u001b[0m",
      "\u001b[0;31mTypeError\u001b[0m: list indices must be integers, not tuple"
     ]
    }
   ],
   "source": [
    "print [1,2,3,45][1,2,3,45]"
   ]
  },
  {
   "cell_type": "code",
   "execution_count": 25,
   "metadata": {},
   "outputs": [
    {
     "ename": "TypeError",
     "evalue": "'tuple' object is not callable",
     "output_type": "error",
     "traceback": [
      "\u001b[0;31m---------------------------------------------------------------------------\u001b[0m",
      "\u001b[0;31mTypeError\u001b[0m                                 Traceback (most recent call last)",
      "\u001b[0;32m<ipython-input-25-153c852aac8a>\u001b[0m in \u001b[0;36m<module>\u001b[0;34m()\u001b[0m\n\u001b[0;32m----> 1\u001b[0;31m \u001b[0;32mprint\u001b[0m \u001b[0;34m(\u001b[0m\u001b[0;36m1\u001b[0m\u001b[0;34m,\u001b[0m\u001b[0;36m2\u001b[0m\u001b[0;34m,\u001b[0m\u001b[0;36m3\u001b[0m\u001b[0;34m)\u001b[0m\u001b[0;34m(\u001b[0m\u001b[0;36m1\u001b[0m\u001b[0;34m,\u001b[0m\u001b[0;36m2\u001b[0m\u001b[0;34m,\u001b[0m\u001b[0;36m3\u001b[0m\u001b[0;34m,\u001b[0m\u001b[0;36m4\u001b[0m\u001b[0;34m)\u001b[0m\u001b[0;34m\u001b[0m\u001b[0m\n\u001b[0m",
      "\u001b[0;31mTypeError\u001b[0m: 'tuple' object is not callable"
     ]
    }
   ],
   "source": [
    "print (1,2,3)(1,2,3,4)"
   ]
  },
  {
   "cell_type": "code",
   "execution_count": 26,
   "metadata": {},
   "outputs": [
    {
     "ename": "SyntaxError",
     "evalue": "invalid syntax (<ipython-input-26-d8b05170ae97>, line 1)",
     "output_type": "error",
     "traceback": [
      "\u001b[0;36m  File \u001b[0;32m\"<ipython-input-26-d8b05170ae97>\"\u001b[0;36m, line \u001b[0;32m1\u001b[0m\n\u001b[0;31m    print {1:2}{2:3}\u001b[0m\n\u001b[0m               ^\u001b[0m\n\u001b[0;31mSyntaxError\u001b[0m\u001b[0;31m:\u001b[0m invalid syntax\n"
     ]
    }
   ],
   "source": [
    "print {1:2}{2:3}"
   ]
  },
  {
   "cell_type": "code",
   "execution_count": 29,
   "metadata": {},
   "outputs": [
    {
     "ename": "SyntaxError",
     "evalue": "invalid syntax (<ipython-input-29-53bf56ce8807>, line 1)",
     "output_type": "error",
     "traceback": [
      "\u001b[0;36m  File \u001b[0;32m\"<ipython-input-29-53bf56ce8807>\"\u001b[0;36m, line \u001b[0;32m1\u001b[0m\n\u001b[0;31m    print {1,2,3}{4,5,6}\u001b[0m\n\u001b[0m                 ^\u001b[0m\n\u001b[0;31mSyntaxError\u001b[0m\u001b[0;31m:\u001b[0m invalid syntax\n"
     ]
    }
   ],
   "source": [
    "print {1,2,3}{4,5,6}"
   ]
  },
  {
   "cell_type": "code",
   "execution_count": 30,
   "metadata": {},
   "outputs": [
    {
     "name": "stdout",
     "output_type": "stream",
     "text": [
      "2345\n",
      "<type 'int'>\n"
     ]
    }
   ],
   "source": [
    "print 2345\n",
    "print type(2345)"
   ]
  },
  {
   "cell_type": "code",
   "execution_count": 31,
   "metadata": {},
   "outputs": [
    {
     "name": "stdout",
     "output_type": "stream",
     "text": [
      "Name:Anil, Age:23, Height:5.6\n"
     ]
    }
   ],
   "source": [
    "\n",
    "name=\"Anil\"\n",
    "age=23\n",
    "height=5.6\n",
    "print \"Name:\"+name+\", Age:\"+str(age)+\", Height:\"+str(height)"
   ]
  },
  {
   "cell_type": "code",
   "execution_count": 32,
   "metadata": {},
   "outputs": [
    {
     "name": "stdout",
     "output_type": "stream",
     "text": [
      "Name: Anil\n"
     ]
    }
   ],
   "source": [
    "# format specifiers\n",
    "name=\"Anil\"\n",
    "print \"Name:\",name"
   ]
  },
  {
   "cell_type": "code",
   "execution_count": 33,
   "metadata": {},
   "outputs": [
    {
     "ename": "SyntaxError",
     "evalue": "invalid syntax (<ipython-input-33-7e40d2fd44a2>, line 3)",
     "output_type": "error",
     "traceback": [
      "\u001b[0;36m  File \u001b[0;32m\"<ipython-input-33-7e40d2fd44a2>\"\u001b[0;36m, line \u001b[0;32m3\u001b[0m\n\u001b[0;31m    print \"Name:\"name\u001b[0m\n\u001b[0m                    ^\u001b[0m\n\u001b[0;31mSyntaxError\u001b[0m\u001b[0;31m:\u001b[0m invalid syntax\n"
     ]
    }
   ],
   "source": [
    "# format specifiers\n",
    "name=\"Anil\"\n",
    "print \"Name:\"name"
   ]
  },
  {
   "cell_type": "code",
   "execution_count": 34,
   "metadata": {},
   "outputs": [
    {
     "name": "stdout",
     "output_type": "stream",
     "text": [
      "Name:Anil\n"
     ]
    }
   ],
   "source": [
    "# format specifiers\n",
    "name=\"Anil\"\n",
    "print \"Name:\"+name"
   ]
  },
  {
   "cell_type": "code",
   "execution_count": 35,
   "metadata": {},
   "outputs": [
    {
     "name": "stdout",
     "output_type": "stream",
     "text": [
      "Age:23\n"
     ]
    }
   ],
   "source": [
    "age=23\n",
    "print \"Age:\"+str(age)"
   ]
  },
  {
   "cell_type": "code",
   "execution_count": 36,
   "metadata": {},
   "outputs": [
    {
     "name": "stdout",
     "output_type": "stream",
     "text": [
      "Age:23\n",
      "Age:%s 23\n"
     ]
    }
   ],
   "source": [
    "age=23\n",
    "print \"Age:\"+str(age)\n",
    "print \"Age:%s\",age"
   ]
  },
  {
   "cell_type": "code",
   "execution_count": 37,
   "metadata": {},
   "outputs": [
    {
     "name": "stdout",
     "output_type": "stream",
     "text": [
      "Age:23\n",
      "Age:23\n"
     ]
    }
   ],
   "source": [
    "age=23\n",
    "print \"Age:\"+str(age)\n",
    "print \"Age:%s\"%age"
   ]
  },
  {
   "cell_type": "code",
   "execution_count": 38,
   "metadata": {},
   "outputs": [
    {
     "name": "stdout",
     "output_type": "stream",
     "text": [
      "Age:23\n",
      "Age:23.000000\n"
     ]
    }
   ],
   "source": [
    "age=23\n",
    "print \"Age:\"+str(age)\n",
    "print \"Age:%f\"%age"
   ]
  },
  {
   "cell_type": "code",
   "execution_count": 39,
   "metadata": {},
   "outputs": [
    {
     "name": "stdout",
     "output_type": "stream",
     "text": [
      "2345\n",
      "2345.000000\n",
      "4451\n",
      "929\n"
     ]
    }
   ],
   "source": [
    "a=2345\n",
    "print \"%s\"%a\n",
    "print \"%f\"%a\n",
    "print \"%o\"%a\n",
    "print \"%x\"%a"
   ]
  },
  {
   "cell_type": "code",
   "execution_count": 41,
   "metadata": {},
   "outputs": [
    {
     "name": "stdout",
     "output_type": "stream",
     "text": [
      "2345\n",
      "4451\n",
      "<type 'str'>\n"
     ]
    }
   ],
   "source": [
    "print a\n",
    "res=\"%o\"%a\n",
    "print res\n",
    "print type(res)"
   ]
  },
  {
   "cell_type": "code",
   "execution_count": 42,
   "metadata": {},
   "outputs": [
    {
     "name": "stdout",
     "output_type": "stream",
     "text": [
      "12.3456783457\n",
      "12.345678\n"
     ]
    }
   ],
   "source": [
    "cost_price=12.34567834567890\n",
    "print \"%s\"%cost_price\n",
    "print \"%f\"%cost_price\n"
   ]
  },
  {
   "cell_type": "code",
   "execution_count": 43,
   "metadata": {},
   "outputs": [
    {
     "name": "stdout",
     "output_type": "stream",
     "text": [
      "cost price of the proiduct:12.3456783457\n",
      "cost price of the proiduct:12.345678\n"
     ]
    }
   ],
   "source": [
    "cost_price=12.34567834567890\n",
    "print \"cost price of the proiduct:%s\"%cost_price\n",
    "print \"cost price of the proiduct:%f\"%cost_price\n"
   ]
  },
  {
   "cell_type": "code",
   "execution_count": 44,
   "metadata": {},
   "outputs": [
    {
     "name": "stdout",
     "output_type": "stream",
     "text": [
      "Name:Anil, Age:23, Height:5.6\n",
      "Name:Anil, Age:23, Height:5.6\n"
     ]
    }
   ],
   "source": [
    "\n",
    "name=\"Anil\"\n",
    "age=23\n",
    "height=5.6\n",
    "print \"Name:\"+name+\", Age:\"+str(age)+\", Height:\"+str(height)\n",
    "print \"Name:%s, Age:%s, Height:%s\"%(name, age, height)"
   ]
  },
  {
   "cell_type": "code",
   "execution_count": 47,
   "metadata": {},
   "outputs": [
    {
     "name": "stdout",
     "output_type": "stream",
     "text": [
      "cost price of the proiduct:12.345678345678913\n",
      "cost price of the proiduct:12.3456783457\n",
      "cost price of the proiduct:12.345678\n"
     ]
    }
   ],
   "source": [
    "cost_price=12.345678345678912385678\n",
    "print \"cost price of the proiduct:%r\"%cost_price\n",
    "print \"cost price of the proiduct:%s\"%cost_price\n",
    "print \"cost price of the proiduct:%f\"%cost_price\n"
   ]
  },
  {
   "cell_type": "code",
   "execution_count": 48,
   "metadata": {},
   "outputs": [
    {
     "name": "stdout",
     "output_type": "stream",
     "text": [
      "cost price of the proiduct:12.345678345678913\n",
      "cost price of the proiduct:12.3456783457\n",
      "cost price of the proiduct:12.345678\n",
      "cost price of the proiduct:12\n"
     ]
    }
   ],
   "source": [
    "cost_price=12.345678345678912385678\n",
    "print \"cost price of the proiduct:%r\"%cost_price\n",
    "print \"cost price of the proiduct:%s\"%cost_price\n",
    "print \"cost price of the proiduct:%f\"%cost_price\n",
    "print \"cost price of the proiduct:%d\"%cost_price"
   ]
  },
  {
   "cell_type": "code",
   "execution_count": 49,
   "metadata": {},
   "outputs": [
    {
     "name": "stdout",
     "output_type": "stream",
     "text": [
      "cost price of the proiduct:12.345678345678913\n",
      "cost price of the proiduct:12.3456783457\n",
      "cost price of the proiduct:12.345678\n",
      "cost price of the proiduct:12.3456783457\n"
     ]
    }
   ],
   "source": [
    "cost_price=12.345678345678912385678\n",
    "print \"cost price of the proiduct:%r\"%cost_price\n",
    "print \"cost price of the proiduct:%s\"%cost_price\n",
    "print \"cost price of the proiduct:%f\"%cost_price\n",
    "print \"cost price of the proiduct:\"+str(cost_price)\n"
   ]
  },
  {
   "cell_type": "code",
   "execution_count": 50,
   "metadata": {},
   "outputs": [
    {
     "name": "stdout",
     "output_type": "stream",
     "text": [
      "cost price of the proiduct:12.345678345678913\n",
      "cost price of the proiduct:12.3456783457\n",
      "cost price of the proiduct:12.345678\n",
      "cost price of the proiduct: 12.3456783457\n"
     ]
    }
   ],
   "source": [
    "cost_price=12.345678345678912385678\n",
    "print \"cost price of the proiduct:%r\"%cost_price\n",
    "print \"cost price of the proiduct:%s\"%cost_price\n",
    "print \"cost price of the proiduct:%f\"%cost_price\n",
    "print \"cost price of the proiduct:\",cost_price\n"
   ]
  },
  {
   "cell_type": "code",
   "execution_count": 51,
   "metadata": {},
   "outputs": [
    {
     "name": "stdout",
     "output_type": "stream",
     "text": [
      "12.3456783457\n"
     ]
    }
   ],
   "source": [
    "cost_price=12.345678345678912385678\n",
    "print cost_price"
   ]
  },
  {
   "cell_type": "code",
   "execution_count": 52,
   "metadata": {},
   "outputs": [
    {
     "name": "stdout",
     "output_type": "stream",
     "text": [
      "cvsfsdfsd\\nsdfsdfsdf\\ndsfsdfsd\\tysdfsdfdsf\\nsdfdsfds\\ndsfsdfsd\\nsdfdsfsd\\ndsfdsf\n"
     ]
    }
   ],
   "source": [
    "# %r, %s\n",
    "s=r\"cvsfsdfsd\\nsdfsdfsdf\\ndsfsdfsd\\tysdfsdfdsf\\nsdfdsfds\\ndsfsdfsd\\nsdfdsfsd\\ndsfdsf\"\n",
    "print s\n"
   ]
  },
  {
   "cell_type": "code",
   "execution_count": 53,
   "metadata": {},
   "outputs": [
    {
     "ename": "SyntaxError",
     "evalue": "invalid syntax (<ipython-input-53-4df4175b821e>, line 2)",
     "output_type": "error",
     "traceback": [
      "\u001b[0;36m  File \u001b[0;32m\"<ipython-input-53-4df4175b821e>\"\u001b[0;36m, line \u001b[0;32m2\u001b[0m\n\u001b[0;31m    s=r\"cvsfsdfsd\\nsdfsdfsdf\\ndsfsdfsd\\tysdfsdf\"dsf\\nsdfdsfds\\ndsfsdfsd\\nsdfdsfsd\\ndsfdsf\"\u001b[0m\n\u001b[0m                                                  ^\u001b[0m\n\u001b[0;31mSyntaxError\u001b[0m\u001b[0;31m:\u001b[0m invalid syntax\n"
     ]
    }
   ],
   "source": [
    "# %r, %s\n",
    "s=r\"cvsfsdfsd\\nsdfsdfsdf\\ndsfsdfsd\\tysdfsdf\"dsf\\nsdfdsfds\\ndsfsdfsd\\nsdfdsfsd\\ndsfdsf\"\n",
    "print s\n"
   ]
  },
  {
   "cell_type": "code",
   "execution_count": 54,
   "metadata": {},
   "outputs": [
    {
     "name": "stdout",
     "output_type": "stream",
     "text": [
      "cvsfsdfsd\\nsdfsdfsdf\\ndsfsdfsd\\tysdfsdf\\\"dsf\\nsdfdsfds\\ndsfsdfsd\\nsdfdsfsd\\ndsfdsf\n"
     ]
    }
   ],
   "source": [
    "# %r, %s\n",
    "s=r\"cvsfsdfsd\\nsdfsdfsdf\\ndsfsdfsd\\tysdfsdf\\\"dsf\\nsdfdsfds\\ndsfsdfsd\\nsdfdsfsd\\ndsfdsf\"\n",
    "print s\n"
   ]
  },
  {
   "cell_type": "code",
   "execution_count": 55,
   "metadata": {},
   "outputs": [
    {
     "ename": "SyntaxError",
     "evalue": "EOL while scanning string literal (<ipython-input-55-a1215e6571ba>, line 3)",
     "output_type": "error",
     "traceback": [
      "\u001b[0;36m  File \u001b[0;32m\"<ipython-input-55-a1215e6571ba>\"\u001b[0;36m, line \u001b[0;32m3\u001b[0m\n\u001b[0;31m    print r's\u001b[0m\n\u001b[0m            ^\u001b[0m\n\u001b[0;31mSyntaxError\u001b[0m\u001b[0;31m:\u001b[0m EOL while scanning string literal\n"
     ]
    }
   ],
   "source": [
    "# %r, %s\n",
    "s=\"cvsfsdfsd\\nsdfsdfsdf\\ndsfsdfsd\\tysdfsdf\\\"dsf\\nsdfdsfds\\ndsfsdfsd\\nsdfdsfsd\\ndsfdsf\"\n",
    "print r's\n"
   ]
  },
  {
   "cell_type": "code",
   "execution_count": 56,
   "metadata": {},
   "outputs": [
    {
     "name": "stdout",
     "output_type": "stream",
     "text": [
      "'cvsfsdfsd\\nsdfsdfsdf\\ndsfsdfsd\\tysdfsdf\"dsf\\nsdfdsfds\\ndsfsdfsd\\nsdfdsfsd\\ndsfdsf'\n",
      "cvsfsdfsd\n",
      "sdfsdfsdf\n",
      "dsfsdfsd\tysdfsdf\"dsf\n",
      "sdfdsfds\n",
      "dsfsdfsd\n",
      "sdfdsfsd\n",
      "dsfdsf\n"
     ]
    }
   ],
   "source": [
    "# %r, %s\n",
    "s=\"cvsfsdfsd\\nsdfsdfsdf\\ndsfsdfsd\\tysdfsdf\\\"dsf\\nsdfdsfds\\ndsfsdfsd\\nsdfdsfsd\\ndsfdsf\"\n",
    "print \"%r\"%s\n",
    "print \"%s\"%s"
   ]
  },
  {
   "cell_type": "code",
   "execution_count": 57,
   "metadata": {},
   "outputs": [
    {
     "ename": "ValueError",
     "evalue": "unsupported format character 'b' (0x62) at index 1",
     "output_type": "error",
     "traceback": [
      "\u001b[0;31m---------------------------------------------------------------------------\u001b[0m",
      "\u001b[0;31mValueError\u001b[0m                                Traceback (most recent call last)",
      "\u001b[0;32m<ipython-input-57-6fac35492f64>\u001b[0m in \u001b[0;36m<module>\u001b[0;34m()\u001b[0m\n\u001b[0;32m----> 1\u001b[0;31m \u001b[0;32mprint\u001b[0m \u001b[0;34m\"%b\"\u001b[0m\u001b[0;34m%\u001b[0m\u001b[0;36m12345\u001b[0m\u001b[0;34m\u001b[0m\u001b[0m\n\u001b[0m",
      "\u001b[0;31mValueError\u001b[0m: unsupported format character 'b' (0x62) at index 1"
     ]
    }
   ],
   "source": [
    "print \"%b\"%12345"
   ]
  },
  {
   "cell_type": "code",
   "execution_count": 58,
   "metadata": {},
   "outputs": [
    {
     "ename": "ValueError",
     "evalue": "incomplete format",
     "output_type": "error",
     "traceback": [
      "\u001b[0;31m---------------------------------------------------------------------------\u001b[0m",
      "\u001b[0;31mValueError\u001b[0m                                Traceback (most recent call last)",
      "\u001b[0;32m<ipython-input-58-c198f8975067>\u001b[0m in \u001b[0;36m<module>\u001b[0;34m()\u001b[0m\n\u001b[0;32m----> 1\u001b[0;31m \u001b[0;32mprint\u001b[0m \u001b[0;34m\"%h\"\u001b[0m\u001b[0;34m%\u001b[0m\u001b[0;36m12345\u001b[0m\u001b[0;34m\u001b[0m\u001b[0m\n\u001b[0m",
      "\u001b[0;31mValueError\u001b[0m: incomplete format"
     ]
    }
   ],
   "source": [
    "print \"%h\"%12345"
   ]
  },
  {
   "cell_type": "code",
   "execution_count": 60,
   "metadata": {},
   "outputs": [
    {
     "name": "stdout",
     "output_type": "stream",
     "text": [
      "2dfd7068e\n",
      "2DFD7068E\n"
     ]
    }
   ],
   "source": [
    "print \"%x\"%12345345678\n",
    "print \"%X\"%12345345678"
   ]
  },
  {
   "cell_type": "code",
   "execution_count": 61,
   "metadata": {},
   "outputs": [
    {
     "name": "stdout",
     "output_type": "stream",
     "text": [
      "6\n"
     ]
    }
   ],
   "source": [
    "s=\"cvsfsdfsd\\nsdfsdfsdf\\ndsfsdfsd\\tysdfsdf\\\"dsf\\nsdfdsfds\\ndsfsdfsd\\nsdfdsfsd\\ndsfdsf\"\n",
    "print s.count('\\n')\n"
   ]
  },
  {
   "cell_type": "code",
   "execution_count": 62,
   "metadata": {},
   "outputs": [
    {
     "name": "stdout",
     "output_type": "stream",
     "text": [
      "19\n"
     ]
    }
   ],
   "source": [
    "s=\"cvsfsdfsd\\nsdfsdfsdf\\ndsfsdfsd\\tysdfsdf\\\"dsf\\nsdfdsfds\\ndsfsdfsd\\nsdfdsfsd\\ndsfdsf\"\n",
    "print s.index('\\n',s.index(\"\\n\")+1)\n"
   ]
  },
  {
   "cell_type": "code",
   "execution_count": 64,
   "metadata": {},
   "outputs": [
    {
     "name": "stdout",
     "output_type": "stream",
     "text": [
      "'cvsfsdfsd\\nsdfsdfsdf\\\\\\ndsfsdfsd\\tysdfsdf\"dsf\\nsdfdsfds\\ndsfsdfsd\\nsdfdsfsd\\ndsfdsf'\n"
     ]
    }
   ],
   "source": [
    "s=\"cvsfsdfsd\\nsdfsdfsdf\\ndsfsdfsd\\tysdfsdf\\\"dsf\\nsdfdsfds\\ndsfsdfsd\\nsdfdsfsd\\ndsfdsf\"\n",
    "ind = s.index('\\n',s.index(\"\\n\")+1)\n",
    "res = s[:19]+\"\\\\\"+s[19:]\n",
    "print \"%r\"%res\n"
   ]
  },
  {
   "cell_type": "code",
   "execution_count": 65,
   "metadata": {},
   "outputs": [
    {
     "ename": "SyntaxError",
     "evalue": "EOL while scanning string literal (<ipython-input-65-f5c665e5aae1>, line 3)",
     "output_type": "error",
     "traceback": [
      "\u001b[0;36m  File \u001b[0;32m\"<ipython-input-65-f5c665e5aae1>\"\u001b[0;36m, line \u001b[0;32m3\u001b[0m\n\u001b[0;31m    res = s[:19]+\"\\\"+s[19:]\u001b[0m\n\u001b[0m                          ^\u001b[0m\n\u001b[0;31mSyntaxError\u001b[0m\u001b[0;31m:\u001b[0m EOL while scanning string literal\n"
     ]
    }
   ],
   "source": [
    "s=\"cvsfsdfsd\\nsdfsdfsdf\\ndsfsdfsd\\tysdfsdf\\\"dsf\\nsdfdsfds\\ndsfsdfsd\\nsdfdsfsd\\ndsfdsf\"\n",
    "ind = s.index('\\n',s.index(\"\\n\")+1)\n",
    "res = s[:19]+\"\\\"+s[19:]\n",
    "print \"%r\"%res\n"
   ]
  },
  {
   "cell_type": "code",
   "execution_count": 67,
   "metadata": {},
   "outputs": [
    {
     "name": "stdout",
     "output_type": "stream",
     "text": [
      "'cvsfsdfsd\\nsdfsdfsdf\\\\\\ndsfsdfsd\\tysdfsdf\"dsf\\nsdfdsfds\\ndsfsdfsd\\nsdfdsfsd\\ndsfdsf'\n",
      "cvsfsdfsd\n",
      "sdfsdfsdf\\\n",
      "dsfsdfsd\tysdfsdf\"dsf\n",
      "sdfdsfds\n",
      "dsfsdfsd\n",
      "sdfdsfsd\n",
      "dsfdsf\n"
     ]
    }
   ],
   "source": [
    "s=\"cvsfsdfsd\\nsdfsdfsdf\\ndsfsdfsd\\tysdfsdf\\\"dsf\\nsdfdsfds\\ndsfsdfsd\\nsdfdsfsd\\ndsfdsf\"\n",
    "ind = s.index('\\n',s.index(\"\\n\")+1)\n",
    "res = s[:19]+\"\\\\\"+s[19:]\n",
    "print \"%r\"%res\n",
    "print \"%s\"%res\n"
   ]
  },
  {
   "cell_type": "code",
   "execution_count": 68,
   "metadata": {},
   "outputs": [
    {
     "name": "stdout",
     "output_type": "stream",
     "text": [
      "'cvsfsdfsd\\nsdfsdfsdf\\'\\\\\\\\\\'\\ndsfsdfsd\\tysdfsdf\"dsf\\nsdfdsfds\\ndsfsdfsd\\nsdfdsfsd\\ndsfdsf'\n",
      "cvsfsdfsd\n",
      "sdfsdfsdf'\\\\'\n",
      "dsfsdfsd\tysdfsdf\"dsf\n",
      "sdfdsfds\n",
      "dsfsdfsd\n",
      "sdfdsfsd\n",
      "dsfdsf\n"
     ]
    }
   ],
   "source": [
    "s=\"cvsfsdfsd\\nsdfsdfsdf\\ndsfsdfsd\\tysdfsdf\\\"dsf\\nsdfdsfds\\ndsfsdfsd\\nsdfdsfsd\\ndsfdsf\"\n",
    "ind = s.index('\\n',s.index(\"\\n\")+1)\n",
    "a=\"\\\\\"\n",
    "res = s[:19]+\"%r\"%a+s[19:]\n",
    "print \"%r\"%res\n",
    "print \"%s\"%res\n"
   ]
  },
  {
   "cell_type": "code",
   "execution_count": 70,
   "metadata": {},
   "outputs": [
    {
     "name": "stdout",
     "output_type": "stream",
     "text": [
      "'cvsfsdfsd\\nsdfsdfsdf\\'\\\\nd\\'\\ndsfsdfsd\\tysdfsdf\"dsf\\nsdfdsfds\\ndsfsdfsd\\nsdfdsfsd\\ndsfdsf'\n"
     ]
    }
   ],
   "source": [
    "s=\"cvsfsdfsd\\nsdfsdfsdf\\ndsfsdfsd\\tysdfsdf\\\"dsf\\nsdfdsfds\\ndsfsdfsd\\nsdfdsfsd\\ndsfdsf\"\n",
    "ind = s.index('\\n',s.index(\"\\n\")+1)\n",
    "a=\"\\\\\"\n",
    "res = s[:19]+\"%r\"%s[19:21]+s[19:]\n",
    "print \"%r\"%res"
   ]
  },
  {
   "cell_type": "code",
   "execution_count": 74,
   "metadata": {},
   "outputs": [
    {
     "name": "stdout",
     "output_type": "stream",
     "text": [
      "17\n"
     ]
    }
   ],
   "source": [
    "s=5+10+2\n",
    "print s"
   ]
  },
  {
   "cell_type": "code",
   "execution_count": 75,
   "metadata": {},
   "outputs": [
    {
     "name": "stdout",
     "output_type": "stream",
     "text": [
      "10\n"
     ]
    }
   ],
   "source": [
    "s=5+10/2\n",
    "print s"
   ]
  },
  {
   "cell_type": "code",
   "execution_count": 76,
   "metadata": {},
   "outputs": [
    {
     "name": "stdout",
     "output_type": "stream",
     "text": [
      "7\n"
     ]
    }
   ],
   "source": [
    "s=(5+10)/2\n",
    "print s"
   ]
  },
  {
   "cell_type": "code",
   "execution_count": 77,
   "metadata": {},
   "outputs": [
    {
     "name": "stdout",
     "output_type": "stream",
     "text": [
      "7.5\n"
     ]
    }
   ],
   "source": [
    "s=(5+10)/2.0\n",
    "print s"
   ]
  },
  {
   "cell_type": "code",
   "execution_count": 78,
   "metadata": {},
   "outputs": [
    {
     "name": "stdout",
     "output_type": "stream",
     "text": [
      "0.25\n"
     ]
    }
   ],
   "source": [
    "s=5.0/10.0/2.0\n",
    "print s"
   ]
  },
  {
   "cell_type": "code",
   "execution_count": 79,
   "metadata": {},
   "outputs": [
    {
     "name": "stdout",
     "output_type": "stream",
     "text": [
      "35.5\n"
     ]
    }
   ],
   "source": [
    "s=5.0/10.0+20+30/2.0\n",
    "print s"
   ]
  },
  {
   "cell_type": "code",
   "execution_count": 80,
   "metadata": {},
   "outputs": [
    {
     "name": "stdout",
     "output_type": "stream",
     "text": [
      "8010\n",
      "27000\n",
      "15020\n",
      "27000\n",
      "27000\n"
     ]
    }
   ],
   "source": [
    "a=10\n",
    "b=20\n",
    "print a+b**3\n",
    "print (a+b)**3\n",
    "print a**3+b**3+3*a*b*a+b\n",
    "print a**3+b**3+3*a*b*(a+b)\n",
    "print a**3+b**3+3*a**2*b+3*a*b**2"
   ]
  },
  {
   "cell_type": "code",
   "execution_count": 81,
   "metadata": {},
   "outputs": [
    {
     "name": "stdout",
     "output_type": "stream",
     "text": [
      "12.345679\n",
      "12.35\n"
     ]
    }
   ],
   "source": [
    "a=12.3456789876789\n",
    "print \"%f\"%a\n",
    "print \"%.2f\"%a"
   ]
  },
  {
   "cell_type": "code",
   "execution_count": 82,
   "metadata": {},
   "outputs": [
    {
     "name": "stdout",
     "output_type": "stream",
     "text": [
      "12.345679\n",
      "12.35\n",
      "12.3457\n"
     ]
    }
   ],
   "source": [
    "a=12.3456789876789\n",
    "print \"%f\"%a\n",
    "print \"%.2f\"%a\n",
    "print \"%.4f\"%a"
   ]
  },
  {
   "cell_type": "code",
   "execution_count": 85,
   "metadata": {},
   "outputs": [
    {
     "name": "stdout",
     "output_type": "stream",
     "text": [
      "['12', '3456789877']\n",
      "34\n"
     ]
    }
   ],
   "source": [
    "a=12.3456789876789\n",
    "a1=str(a)\n",
    "a2=a1.split(\".\")\n",
    "print a2\n",
    "a3=a2[1][:2]\n",
    "print a3\n"
   ]
  },
  {
   "cell_type": "code",
   "execution_count": 86,
   "metadata": {},
   "outputs": [
    {
     "name": "stdout",
     "output_type": "stream",
     "text": [
      "['12', '3456789877']\n",
      "34\n",
      "12.34\n"
     ]
    }
   ],
   "source": [
    "a=12.3456789876789\n",
    "a1=str(a)\n",
    "a2=a1.split(\".\")\n",
    "print a2\n",
    "a3=a2[1][:2]\n",
    "print a3\n",
    "print \"%s.%s\"%(a2[0],a3)"
   ]
  },
  {
   "cell_type": "code",
   "execution_count": null,
   "metadata": {
    "collapsed": true
   },
   "outputs": [],
   "source": []
  }
 ],
 "metadata": {
  "kernelspec": {
   "display_name": "Python 2",
   "language": "python",
   "name": "python2"
  },
  "language_info": {
   "codemirror_mode": {
    "name": "ipython",
    "version": 2
   },
   "file_extension": ".py",
   "mimetype": "text/x-python",
   "name": "python",
   "nbconvert_exporter": "python",
   "pygments_lexer": "ipython2",
   "version": "2.7.14"
  }
 },
 "nbformat": 4,
 "nbformat_minor": 2
}
