{
 "cells": [
  {
   "cell_type": "code",
   "execution_count": 1,
   "metadata": {},
   "outputs": [
    {
     "name": "stdout",
     "output_type": "stream",
     "text": [
      "program started\n",
      "other statements in program\n",
      "program ended\n"
     ]
    }
   ],
   "source": [
    "print \"program started\"\n",
    "def fun():\n",
    "    print \"this is function\"\n",
    "print \"other statements in program\"\n",
    "print \"program ended\""
   ]
  },
  {
   "cell_type": "code",
   "execution_count": 2,
   "metadata": {},
   "outputs": [
    {
     "name": "stdout",
     "output_type": "stream",
     "text": [
      "program started\n",
      "other statements in program\n",
      "program ended\n",
      "this is function\n"
     ]
    }
   ],
   "source": [
    "print \"program started\"\n",
    "def fun():\n",
    "    print \"this is function\"\n",
    "print \"other statements in program\"\n",
    "print \"program ended\"\n",
    "fun()"
   ]
  },
  {
   "cell_type": "code",
   "execution_count": 3,
   "metadata": {},
   "outputs": [
    {
     "name": "stdout",
     "output_type": "stream",
     "text": [
      "program started\n",
      "this is function\n",
      "other statements in program\n",
      "this is function\n",
      "program ended\n",
      "this is function\n"
     ]
    }
   ],
   "source": [
    "print \"program started\"\n",
    "def fun():\n",
    "    print \"this is function\"\n",
    "fun()\n",
    "print \"other statements in program\"\n",
    "fun()\n",
    "print \"program ended\"\n",
    "fun()"
   ]
  },
  {
   "cell_type": "code",
   "execution_count": 4,
   "metadata": {},
   "outputs": [
    {
     "name": "stdout",
     "output_type": "stream",
     "text": [
      "program started\n"
     ]
    },
    {
     "ename": "NameError",
     "evalue": "name 'fun123' is not defined",
     "output_type": "error",
     "traceback": [
      "\u001b[0;31m---------------------------------------------------------------------------\u001b[0m",
      "\u001b[0;31mNameError\u001b[0m                                 Traceback (most recent call last)",
      "\u001b[0;32m<ipython-input-4-51061cab5989>\u001b[0m in \u001b[0;36m<module>\u001b[0;34m()\u001b[0m\n\u001b[1;32m      1\u001b[0m \u001b[0;32mprint\u001b[0m \u001b[0;34m\"program started\"\u001b[0m\u001b[0;34m\u001b[0m\u001b[0m\n\u001b[0;32m----> 2\u001b[0;31m \u001b[0mfun123\u001b[0m\u001b[0;34m(\u001b[0m\u001b[0;34m)\u001b[0m\u001b[0;34m\u001b[0m\u001b[0m\n\u001b[0m\u001b[1;32m      3\u001b[0m \u001b[0;32mdef\u001b[0m \u001b[0mfun123\u001b[0m\u001b[0;34m(\u001b[0m\u001b[0;34m)\u001b[0m\u001b[0;34m:\u001b[0m\u001b[0;34m\u001b[0m\u001b[0m\n\u001b[1;32m      4\u001b[0m     \u001b[0;32mprint\u001b[0m \u001b[0;34m\"this is function\"\u001b[0m\u001b[0;34m\u001b[0m\u001b[0m\n\u001b[1;32m      5\u001b[0m \u001b[0mfun123\u001b[0m\u001b[0;34m(\u001b[0m\u001b[0;34m)\u001b[0m\u001b[0;34m\u001b[0m\u001b[0m\n",
      "\u001b[0;31mNameError\u001b[0m: name 'fun123' is not defined"
     ]
    }
   ],
   "source": [
    "print \"program started\"\n",
    "fun123()\n",
    "def fun123():\n",
    "    print \"this is function\"\n",
    "fun123()\n",
    "print \"other statements in program\"\n",
    "fun123()\n",
    "print \"program ended\"\n",
    "fun123()"
   ]
  },
  {
   "cell_type": "code",
   "execution_count": 5,
   "metadata": {
    "collapsed": true
   },
   "outputs": [],
   "source": [
    "a=10\n",
    "b=20\n",
    "def fun(c,d):\n",
    "    e=c+d\n",
    "    print \"e=\",e"
   ]
  },
  {
   "cell_type": "code",
   "execution_count": 6,
   "metadata": {},
   "outputs": [
    {
     "ename": "TypeError",
     "evalue": "fun() takes exactly 2 arguments (0 given)",
     "output_type": "error",
     "traceback": [
      "\u001b[0;31m---------------------------------------------------------------------------\u001b[0m",
      "\u001b[0;31mTypeError\u001b[0m                                 Traceback (most recent call last)",
      "\u001b[0;32m<ipython-input-6-37331e7c8a35>\u001b[0m in \u001b[0;36m<module>\u001b[0;34m()\u001b[0m\n\u001b[1;32m      4\u001b[0m     \u001b[0me\u001b[0m\u001b[0;34m=\u001b[0m\u001b[0mc\u001b[0m\u001b[0;34m+\u001b[0m\u001b[0md\u001b[0m\u001b[0;34m\u001b[0m\u001b[0m\n\u001b[1;32m      5\u001b[0m     \u001b[0;32mprint\u001b[0m \u001b[0;34m\"e=\"\u001b[0m\u001b[0;34m,\u001b[0m\u001b[0me\u001b[0m\u001b[0;34m\u001b[0m\u001b[0m\n\u001b[0;32m----> 6\u001b[0;31m \u001b[0mfun\u001b[0m\u001b[0;34m(\u001b[0m\u001b[0;34m)\u001b[0m\u001b[0;34m\u001b[0m\u001b[0m\n\u001b[0m",
      "\u001b[0;31mTypeError\u001b[0m: fun() takes exactly 2 arguments (0 given)"
     ]
    }
   ],
   "source": [
    "a=10\n",
    "b=20\n",
    "def fun(c,d):\n",
    "    e=c+d\n",
    "    print \"e=\",e\n",
    "fun()"
   ]
  },
  {
   "cell_type": "code",
   "execution_count": 7,
   "metadata": {},
   "outputs": [
    {
     "name": "stdout",
     "output_type": "stream",
     "text": [
      "c=10, d=20\n",
      "e= 30\n"
     ]
    }
   ],
   "source": [
    "a=10\n",
    "b=20\n",
    "def fun(c,d):\n",
    "    print \"c=%s, d=%s\"%(c,d)\n",
    "    e=c+d\n",
    "    print \"e=\",e\n",
    "fun(10,20)"
   ]
  },
  {
   "cell_type": "code",
   "execution_count": 8,
   "metadata": {},
   "outputs": [
    {
     "name": "stdout",
     "output_type": "stream",
     "text": [
      "c=10, d=20\n",
      "e= 30\n",
      "c=100, d=200\n",
      "e= 300\n",
      "c=10000, d=20000\n",
      "e= 30000\n"
     ]
    }
   ],
   "source": [
    "a=10\n",
    "b=20\n",
    "def fun(c,d):\n",
    "    print \"c=%s, d=%s\"%(c,d)\n",
    "    e=c+d\n",
    "    print \"e=\",e\n",
    "fun(10,20)\n",
    "fun(100,200)\n",
    "fun(10000,20000)\n"
   ]
  },
  {
   "cell_type": "code",
   "execution_count": 9,
   "metadata": {},
   "outputs": [
    {
     "name": "stdout",
     "output_type": "stream",
     "text": [
      "c=10, d=20\n",
      "e= 30\n",
      "c=100, d=200\n",
      "e= 300\n",
      "c=10000, d=20000\n",
      "e= 30000\n"
     ]
    }
   ],
   "source": [
    "a=10\n",
    "b=20\n",
    "def fun(c,d):\n",
    "    \"\"\"\n",
    "    To add two numbers\n",
    "    params: c->int\n",
    "            d->int\n",
    "        return -> int, sumation of c,d\n",
    "    \"\"\"\n",
    "    print \"c=%s, d=%s\"%(c,d)\n",
    "    e=c+d\n",
    "    print \"e=\",e\n",
    "fun(10,20)\n",
    "fun(100,200)\n",
    "fun(10000,20000)\n"
   ]
  },
  {
   "cell_type": "code",
   "execution_count": 10,
   "metadata": {
    "collapsed": true
   },
   "outputs": [],
   "source": [
    "fun?"
   ]
  },
  {
   "cell_type": "code",
   "execution_count": 11,
   "metadata": {},
   "outputs": [
    {
     "name": "stdout",
     "output_type": "stream",
     "text": [
      "a=10, b=20\n",
      "c=10, d=20\n",
      "e= 30\n",
      "a=10, b=20\n",
      "c=100, d=200\n",
      "e= 300\n",
      "a=10, b=20\n",
      "c=10000, d=20000\n",
      "e= 30000\n"
     ]
    }
   ],
   "source": [
    "a=10\n",
    "b=20\n",
    "def fun(c,d):\n",
    "    print \"a=%s, b=%s\"%(a,b)\n",
    "    print \"c=%s, d=%s\"%(c,d)\n",
    "    e=c+d\n",
    "    print \"e=\",e\n",
    "fun(10,20)\n",
    "fun(100,200)\n",
    "fun(10000,20000)\n"
   ]
  },
  {
   "cell_type": "code",
   "execution_count": 13,
   "metadata": {},
   "outputs": [
    {
     "name": "stdout",
     "output_type": "stream",
     "text": [
      "inside function\n",
      "a=10, b=20\n",
      "c=10, d=20\n",
      "e= 30\n",
      " function ended\n"
     ]
    },
    {
     "ename": "NameError",
     "evalue": "name 'c' is not defined",
     "output_type": "error",
     "traceback": [
      "\u001b[0;31m---------------------------------------------------------------------------\u001b[0m",
      "\u001b[0;31mNameError\u001b[0m                                 Traceback (most recent call last)",
      "\u001b[0;32m<ipython-input-13-3a05e21e507a>\u001b[0m in \u001b[0;36m<module>\u001b[0;34m()\u001b[0m\n\u001b[1;32m      9\u001b[0m     \u001b[0;32mprint\u001b[0m \u001b[0;34m\" function ended\"\u001b[0m\u001b[0;34m\u001b[0m\u001b[0m\n\u001b[1;32m     10\u001b[0m \u001b[0mfun\u001b[0m\u001b[0;34m(\u001b[0m\u001b[0;36m10\u001b[0m\u001b[0;34m,\u001b[0m\u001b[0;36m20\u001b[0m\u001b[0;34m)\u001b[0m\u001b[0;34m\u001b[0m\u001b[0m\n\u001b[0;32m---> 11\u001b[0;31m \u001b[0;32mprint\u001b[0m \u001b[0;34m\"out side function, c=%s, d=%s\"\u001b[0m\u001b[0;34m%\u001b[0m\u001b[0;34m(\u001b[0m\u001b[0mc\u001b[0m\u001b[0;34m,\u001b[0m\u001b[0md\u001b[0m\u001b[0;34m)\u001b[0m\u001b[0;34m\u001b[0m\u001b[0m\n\u001b[0m\u001b[1;32m     12\u001b[0m \u001b[0mfun\u001b[0m\u001b[0;34m(\u001b[0m\u001b[0;36m100\u001b[0m\u001b[0;34m,\u001b[0m\u001b[0;36m200\u001b[0m\u001b[0;34m)\u001b[0m\u001b[0;34m\u001b[0m\u001b[0m\n\u001b[1;32m     13\u001b[0m \u001b[0mfun\u001b[0m\u001b[0;34m(\u001b[0m\u001b[0;36m10000\u001b[0m\u001b[0;34m,\u001b[0m\u001b[0;36m20000\u001b[0m\u001b[0;34m)\u001b[0m\u001b[0;34m\u001b[0m\u001b[0m\n",
      "\u001b[0;31mNameError\u001b[0m: name 'c' is not defined"
     ]
    }
   ],
   "source": [
    "a=10\n",
    "b=20\n",
    "def fun(c,d):\n",
    "    print \"inside function\"\n",
    "    print \"a=%s, b=%s\"%(a,b)\n",
    "    print \"c=%s, d=%s\"%(c,d)\n",
    "    e=c+d\n",
    "    print \"e=\",e\n",
    "    print \" function ended\"\n",
    "fun(10,20)\n",
    "print \"out side function, c=%s, d=%s\"%(c,d)\n",
    "fun(100,200)\n",
    "fun(10000,20000)\n"
   ]
  },
  {
   "cell_type": "code",
   "execution_count": 14,
   "metadata": {},
   "outputs": [
    {
     "name": "stdout",
     "output_type": "stream",
     "text": [
      "inside function\n",
      "a=10, b=20\n",
      "c=10, d=20\n",
      "e= 30\n",
      " function ended\n",
      "out side function e="
     ]
    },
    {
     "ename": "NameError",
     "evalue": "name 'e' is not defined",
     "output_type": "error",
     "traceback": [
      "\u001b[0;31m---------------------------------------------------------------------------\u001b[0m",
      "\u001b[0;31mNameError\u001b[0m                                 Traceback (most recent call last)",
      "\u001b[0;32m<ipython-input-14-55c03e4225b4>\u001b[0m in \u001b[0;36m<module>\u001b[0;34m()\u001b[0m\n\u001b[1;32m      9\u001b[0m     \u001b[0;32mprint\u001b[0m \u001b[0;34m\" function ended\"\u001b[0m\u001b[0;34m\u001b[0m\u001b[0m\n\u001b[1;32m     10\u001b[0m \u001b[0mfun\u001b[0m\u001b[0;34m(\u001b[0m\u001b[0;36m10\u001b[0m\u001b[0;34m,\u001b[0m\u001b[0;36m20\u001b[0m\u001b[0;34m)\u001b[0m\u001b[0;34m\u001b[0m\u001b[0m\n\u001b[0;32m---> 11\u001b[0;31m \u001b[0;32mprint\u001b[0m \u001b[0;34m\"out side function e=\"\u001b[0m\u001b[0;34m,\u001b[0m\u001b[0me\u001b[0m\u001b[0;34m\u001b[0m\u001b[0m\n\u001b[0m\u001b[1;32m     12\u001b[0m \u001b[0;32mprint\u001b[0m \u001b[0;34m\"out side function, c=%s, d=%s\"\u001b[0m\u001b[0;34m%\u001b[0m\u001b[0;34m(\u001b[0m\u001b[0mc\u001b[0m\u001b[0;34m,\u001b[0m\u001b[0md\u001b[0m\u001b[0;34m)\u001b[0m\u001b[0;34m\u001b[0m\u001b[0m\n\u001b[1;32m     13\u001b[0m \u001b[0mfun\u001b[0m\u001b[0;34m(\u001b[0m\u001b[0;36m100\u001b[0m\u001b[0;34m,\u001b[0m\u001b[0;36m200\u001b[0m\u001b[0;34m)\u001b[0m\u001b[0;34m\u001b[0m\u001b[0m\n",
      "\u001b[0;31mNameError\u001b[0m: name 'e' is not defined"
     ]
    }
   ],
   "source": [
    "a=1000\n",
    "b=2000\n",
    "def fun(c,d):\n",
    "    print \"inside function\"\n",
    "    print \"a=%s, b=%s\"%(a,b)\n",
    "    print \"c=%s, d=%s\"%(c,d)\n",
    "    e=c+d\n",
    "    print \"e=\",e\n",
    "    print \" function ended\"\n",
    "fun(10,20)\n",
    "print \"out side function e=\",e\n",
    "print \"out side function, c=%s, d=%s\"%(c,d)\n",
    "fun(100,200)\n",
    "fun(10000,20000)\n"
   ]
  },
  {
   "cell_type": "code",
   "execution_count": 15,
   "metadata": {},
   "outputs": [
    {
     "name": "stdout",
     "output_type": "stream",
     "text": [
      " e= 30\n",
      "e= 300\n",
      "e= 30000\n"
     ]
    }
   ],
   "source": [
    "a=1000\n",
    "b=2000\n",
    "def fun(c,d):\n",
    "    e=c+d\n",
    "    print \"e=\",e\n",
    "    \n",
    "fun(10,20)\n",
    "\n",
    "fun(100,200)\n",
    "fun(10000,20000)\n"
   ]
  },
  {
   "cell_type": "code",
   "execution_count": null,
   "metadata": {
    "collapsed": true
   },
   "outputs": [],
   "source": [
    "a=1000\n",
    "b=2000\n",
    "def add(c,d):\n",
    "    e=c+d\n",
    "    print \"e=\",e\n",
    "fun(10,20)\n",
    "fun(100,200)\n",
    "fun(10000,20000)\n"
   ]
  },
  {
   "cell_type": "code",
   "execution_count": 2,
   "metadata": {},
   "outputs": [
    {
     "name": "stdout",
     "output_type": "stream",
     "text": [
      "f= 3000\n",
      "e= 30\n",
      "f= 3000\n",
      "e= 300\n",
      "f= 3000\n",
      "e= 30000\n"
     ]
    }
   ],
   "source": [
    "a=1000\n",
    "b=2000\n",
    "def add(c,d):\n",
    "    f=a+b\n",
    "    print \"f=\",f\n",
    "    e=c+d\n",
    "    print \"e=\",e\n",
    "add(10,20)\n",
    "add(100,200)\n",
    "add(10000,20000)\n"
   ]
  },
  {
   "cell_type": "code",
   "execution_count": 4,
   "metadata": {},
   "outputs": [
    {
     "name": "stdout",
     "output_type": "stream",
     "text": [
      "before  call\n",
      "Outside function:a=1000, b=2000\n",
      "inside function:a=1, b=2\n",
      "f= 3\n",
      "e= 30\n",
      "inside function:a=1, b=2\n",
      "f= 3\n",
      "e= 300\n",
      "inside function:a=1, b=2\n",
      "f= 3\n",
      "e= 30000\n",
      "After call\n",
      "Outside function:a=1000, b=2000\n"
     ]
    }
   ],
   "source": [
    "a=1000\n",
    "b=2000\n",
    "print \"before  call\"\n",
    "print \"Outside function:a=%s, b=%s\"%(a,b)\n",
    "def add(c,d):\n",
    "    a=1\n",
    "    b=2\n",
    "    print \"inside function:a=%s, b=%s\"%(a,b)\n",
    "    f=a+b\n",
    "    print \"f=\",f\n",
    "    e=c+d\n",
    "    print \"e=\",e\n",
    "add(10,20)\n",
    "add(100,200)\n",
    "add(10000,20000)\n",
    "print \"After call\"\n",
    "print \"Outside function:a=%s, b=%s\"%(a,b)\n"
   ]
  },
  {
   "cell_type": "code",
   "execution_count": 5,
   "metadata": {},
   "outputs": [
    {
     "name": "stdout",
     "output_type": "stream",
     "text": [
      "ouside function before call\n",
      "id(a)=94724052607152, id(b)=94724052606912\n",
      "inside function before call\n",
      "id(a)=94724052606672, id(b)=94724052608424\n",
      "f= 70\n",
      "ouside function before call\n",
      "id(a)=94724052607152, id(b)=94724052606912\n"
     ]
    }
   ],
   "source": [
    "a=10\n",
    "b=20\n",
    "print \"ouside function before call\"\n",
    "print \"id(a)=%s, id(b)=%s\"%(id(a),id(b))\n",
    "def fun(c,d):\n",
    "    e=c+d\n",
    "    a=30\n",
    "    b=40\n",
    "    print \"inside function before call\"\n",
    "    print \"id(a)=%s, id(b)=%s\"%(id(a),id(b))\n",
    "    f=a+b\n",
    "    print \"f=\",f\n",
    "fun(100,200)\n",
    "print \"ouside function before call\"\n",
    "print \"id(a)=%s, id(b)=%s\"%(id(a),id(b))"
   ]
  },
  {
   "cell_type": "code",
   "execution_count": 7,
   "metadata": {},
   "outputs": [
    {
     "name": "stdout",
     "output_type": "stream",
     "text": [
      "a=100, b=200\n",
      "a=2000, b=3000\n",
      "a=1000, b=2000\n",
      "a=2000, b=3000\n"
     ]
    }
   ],
   "source": [
    "a=10\n",
    "b=20\n",
    "def fun(a,b):\n",
    "    print \"a=%s, b=%s\"%(a,b)\n",
    "    a=2000\n",
    "    b=3000\n",
    "    print \"a=%s, b=%s\"%(a,b)\n",
    "fun(100,200)\n",
    "fun(1000,2000)"
   ]
  },
  {
   "cell_type": "code",
   "execution_count": 8,
   "metadata": {},
   "outputs": [
    {
     "name": "stdout",
     "output_type": "stream",
     "text": [
      "a=100, b=200\n",
      "a=2000, b=3000\n"
     ]
    },
    {
     "ename": "UnboundLocalError",
     "evalue": "local variable 'a' referenced before assignment",
     "output_type": "error",
     "traceback": [
      "\u001b[0;31m---------------------------------------------------------------------------\u001b[0m",
      "\u001b[0;31mUnboundLocalError\u001b[0m                         Traceback (most recent call last)",
      "\u001b[0;32m<ipython-input-8-d1f9f8d86fdb>\u001b[0m in \u001b[0;36m<module>\u001b[0;34m()\u001b[0m\n\u001b[1;32m      9\u001b[0m     \u001b[0;32mdel\u001b[0m \u001b[0mb\u001b[0m\u001b[0;34m\u001b[0m\u001b[0m\n\u001b[1;32m     10\u001b[0m     \u001b[0;32mprint\u001b[0m \u001b[0;34m\"a=%s, b=%s\"\u001b[0m\u001b[0;34m%\u001b[0m\u001b[0;34m(\u001b[0m\u001b[0ma\u001b[0m\u001b[0;34m,\u001b[0m\u001b[0mb\u001b[0m\u001b[0;34m)\u001b[0m\u001b[0;34m\u001b[0m\u001b[0m\n\u001b[0;32m---> 11\u001b[0;31m \u001b[0mfun\u001b[0m\u001b[0;34m(\u001b[0m\u001b[0;36m100\u001b[0m\u001b[0;34m,\u001b[0m\u001b[0;36m200\u001b[0m\u001b[0;34m)\u001b[0m\u001b[0;34m\u001b[0m\u001b[0m\n\u001b[0m\u001b[1;32m     12\u001b[0m \u001b[0mfun\u001b[0m\u001b[0;34m(\u001b[0m\u001b[0;36m1000\u001b[0m\u001b[0;34m,\u001b[0m\u001b[0;36m2000\u001b[0m\u001b[0;34m)\u001b[0m\u001b[0;34m\u001b[0m\u001b[0m\n",
      "\u001b[0;32m<ipython-input-8-d1f9f8d86fdb>\u001b[0m in \u001b[0;36mfun\u001b[0;34m(***failed resolving arguments***)\u001b[0m\n\u001b[1;32m      8\u001b[0m     \u001b[0;32mdel\u001b[0m \u001b[0ma\u001b[0m\u001b[0;34m\u001b[0m\u001b[0m\n\u001b[1;32m      9\u001b[0m     \u001b[0;32mdel\u001b[0m \u001b[0mb\u001b[0m\u001b[0;34m\u001b[0m\u001b[0m\n\u001b[0;32m---> 10\u001b[0;31m     \u001b[0;32mprint\u001b[0m \u001b[0;34m\"a=%s, b=%s\"\u001b[0m\u001b[0;34m%\u001b[0m\u001b[0;34m(\u001b[0m\u001b[0ma\u001b[0m\u001b[0;34m,\u001b[0m\u001b[0mb\u001b[0m\u001b[0;34m)\u001b[0m\u001b[0;34m\u001b[0m\u001b[0m\n\u001b[0m\u001b[1;32m     11\u001b[0m \u001b[0mfun\u001b[0m\u001b[0;34m(\u001b[0m\u001b[0;36m100\u001b[0m\u001b[0;34m,\u001b[0m\u001b[0;36m200\u001b[0m\u001b[0;34m)\u001b[0m\u001b[0;34m\u001b[0m\u001b[0m\n\u001b[1;32m     12\u001b[0m \u001b[0mfun\u001b[0m\u001b[0;34m(\u001b[0m\u001b[0;36m1000\u001b[0m\u001b[0;34m,\u001b[0m\u001b[0;36m2000\u001b[0m\u001b[0;34m)\u001b[0m\u001b[0;34m\u001b[0m\u001b[0m\n",
      "\u001b[0;31mUnboundLocalError\u001b[0m: local variable 'a' referenced before assignment"
     ]
    }
   ],
   "source": [
    "a=10\n",
    "b=20\n",
    "def fun(a,b):\n",
    "    print \"a=%s, b=%s\"%(a,b)\n",
    "    a=2000\n",
    "    b=3000\n",
    "    print \"a=%s, b=%s\"%(a,b)\n",
    "    del a\n",
    "    del b\n",
    "    print \"a=%s, b=%s\"%(a,b)\n",
    "fun(100,200)\n",
    "fun(1000,2000)"
   ]
  },
  {
   "cell_type": "code",
   "execution_count": 9,
   "metadata": {},
   "outputs": [
    {
     "name": "stdout",
     "output_type": "stream",
     "text": [
      "10 20\n"
     ]
    }
   ],
   "source": [
    "a=10\n",
    "b=20\n",
    "def fun():\n",
    "    print a,b\n",
    "fun()"
   ]
  },
  {
   "cell_type": "code",
   "execution_count": 10,
   "metadata": {},
   "outputs": [
    {
     "name": "stdout",
     "output_type": "stream",
     "text": [
      "100 200\n"
     ]
    }
   ],
   "source": [
    "a=10\n",
    "b=20\n",
    "def fun():\n",
    "    a=100\n",
    "    b=200\n",
    "    print a,b\n",
    "fun()"
   ]
  },
  {
   "cell_type": "code",
   "execution_count": 11,
   "metadata": {},
   "outputs": [
    {
     "name": "stdout",
     "output_type": "stream",
     "text": [
      "in\n",
      "100 200\n",
      "out\n",
      "10 20\n"
     ]
    }
   ],
   "source": [
    "a=10\n",
    "b=20\n",
    "def fun():\n",
    "    a=100\n",
    "    b=200\n",
    "    print \"in\"\n",
    "    print a,b\n",
    "fun()\n",
    "print \"out\"\n",
    "print a,b"
   ]
  },
  {
   "cell_type": "code",
   "execution_count": 12,
   "metadata": {},
   "outputs": [
    {
     "name": "stdout",
     "output_type": "stream",
     "text": [
      "1000 2000\n"
     ]
    }
   ],
   "source": [
    "a=1000\n",
    "b=2000\n",
    "def fun(c,d):\n",
    "    print c,d\n",
    "fun(a,b)"
   ]
  },
  {
   "cell_type": "code",
   "execution_count": null,
   "metadata": {
    "collapsed": true
   },
   "outputs": [],
   "source": [
    "a=1000\n",
    "b=2000\n",
    "def fun(c,d):\n",
    "    print c,d\n",
    "fun(a,b)\n",
    "#c=a, d=b\n",
    "# c=1000, d=2000\n"
   ]
  },
  {
   "cell_type": "code",
   "execution_count": 15,
   "metadata": {},
   "outputs": [
    {
     "name": "stdout",
     "output_type": "stream",
     "text": [
      "1000 2000\n"
     ]
    }
   ],
   "source": [
    "a=1000\n",
    "b=2000\n",
    "c=1000\n",
    "d=2000\n",
    "print c,d"
   ]
  },
  {
   "cell_type": "code",
   "execution_count": 16,
   "metadata": {},
   "outputs": [
    {
     "name": "stdout",
     "output_type": "stream",
     "text": [
      "1000 2000\n"
     ]
    }
   ],
   "source": [
    "a=1000\n",
    "b=2000\n",
    "c=a\n",
    "d=b\n",
    "print c,d"
   ]
  },
  {
   "cell_type": "code",
   "execution_count": null,
   "metadata": {
    "collapsed": true
   },
   "outputs": [],
   "source": []
  }
 ],
 "metadata": {
  "kernelspec": {
   "display_name": "Python 2",
   "language": "python",
   "name": "python2"
  },
  "language_info": {
   "codemirror_mode": {
    "name": "ipython",
    "version": 2
   },
   "file_extension": ".py",
   "mimetype": "text/x-python",
   "name": "python",
   "nbconvert_exporter": "python",
   "pygments_lexer": "ipython2",
   "version": "2.7.14"
  }
 },
 "nbformat": 4,
 "nbformat_minor": 2
}
